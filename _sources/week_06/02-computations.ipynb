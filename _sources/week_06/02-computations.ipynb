{
 "cells": [
  {
   "cell_type": "markdown",
   "id": "73c75f51-4382-4334-97c6-194d765fd552",
   "metadata": {
    "pycharm": {
     "name": "#%% md\n"
    }
   },
   "source": [
    "# Computations with numpy"
   ]
  },
  {
   "cell_type": "markdown",
   "id": "3fe95d40-e7da-494f-a384-9e0836c1520e",
   "metadata": {},
   "source": [
    "This week, we will continue to work with `numpy` as a scientific tool and calculator. You will learn about tools and strategies which are used very often in scientific applications, in particular in geosciences."
   ]
  },
  {
   "cell_type": "code",
   "execution_count": 1,
   "id": "a94607fc-012e-4a3b-bc8e-31a55440ead0",
   "metadata": {},
   "outputs": [],
   "source": [
    "import numpy as np"
   ]
  },
  {
   "cell_type": "markdown",
   "id": "879891c9-0da9-4596-91e5-2eac0dd6340e",
   "metadata": {},
   "source": [
    "## Element-wise operations "
   ]
  },
  {
   "cell_type": "markdown",
   "id": "6d624ff2-2c3e-45dd-a483-9913cac219a8",
   "metadata": {},
   "source": [
    "This is a reminder from last week. Arithmetic and comparison operators act on numpy arrays in an element-by-element fashion. When the array sizes don't match, broadcasting is used to make it work where possible. Make sure you understand what each of the examples below are doing:"
   ]
  },
  {
   "cell_type": "code",
   "execution_count": 6,
   "id": "2ab7b3e6-83d3-4c76-9ed0-787b33ff36da",
   "metadata": {},
   "outputs": [
    {
     "data": {
      "text/plain": [
       "array([1, 3, 5, 7, 9])"
      ]
     },
     "execution_count": 6,
     "metadata": {},
     "output_type": "execute_result"
    }
   ],
   "source": [
    "a = np.arange(1, 10, 2)\n",
    "a"
   ]
  },
  {
   "cell_type": "code",
   "execution_count": 7,
   "id": "07fb7337-0903-4197-b725-a35ff8a9f4fd",
   "metadata": {},
   "outputs": [
    {
     "data": {
      "text/plain": [
       "array([ 2,  6, 10, 14, 18])"
      ]
     },
     "execution_count": 7,
     "metadata": {},
     "output_type": "execute_result"
    }
   ],
   "source": [
    "a + a"
   ]
  },
  {
   "cell_type": "code",
   "execution_count": 11,
   "id": "553bee52-6fe7-48e6-812f-b392a2597fbc",
   "metadata": {},
   "outputs": [
    {
     "data": {
      "text/plain": [
       "array([ 2,  6, 10, 14, 18])"
      ]
     },
     "execution_count": 11,
     "metadata": {},
     "output_type": "execute_result"
    }
   ],
   "source": [
    "a * 2"
   ]
  },
  {
   "cell_type": "code",
   "execution_count": 12,
   "id": "46b2aeb1-7654-4239-9cb7-56263cbd5ac9",
   "metadata": {},
   "outputs": [
    {
     "data": {
      "text/plain": [
       "array([ 1,  9, 25, 49, 81])"
      ]
     },
     "execution_count": 12,
     "metadata": {},
     "output_type": "execute_result"
    }
   ],
   "source": [
    "a**2"
   ]
  },
  {
   "cell_type": "code",
   "execution_count": 13,
   "id": "6ae21dc8-5228-4efd-84a5-633b3bc4af32",
   "metadata": {},
   "outputs": [
    {
     "data": {
      "text/plain": [
       "array([False, False,  True,  True,  True])"
      ]
     },
     "execution_count": 13,
     "metadata": {},
     "output_type": "execute_result"
    }
   ],
   "source": [
    "a >= 5"
   ]
  },
  {
   "cell_type": "code",
   "execution_count": 14,
   "id": "647bb0a7-0286-4897-853c-dcb32e0035b1",
   "metadata": {},
   "outputs": [
    {
     "data": {
      "text/plain": [
       "array([False, False,  True,  True, False])"
      ]
     },
     "execution_count": 14,
     "metadata": {},
     "output_type": "execute_result"
    }
   ],
   "source": [
    "(a >= 5) & (a <= 7)"
   ]
  },
  {
   "cell_type": "markdown",
   "id": "810f18d3-5e6c-4eaa-8789-fe32d1afefb3",
   "metadata": {},
   "source": [
    "## Element-wise mathematical functions  "
   ]
  },
  {
   "cell_type": "markdown",
   "id": "9afd41b1-289e-4974-af91-b3c30e8b2050",
   "metadata": {},
   "source": [
    "There are [plenty](https://numpy.org/doc/stable/reference/routines.math.html) of functions applying operations on numpy arrays in an element-by-element fashion. Let's pick some examples:"
   ]
  },
  {
   "cell_type": "code",
   "execution_count": 18,
   "id": "d9927d8f-e23a-4ea8-a30a-c6ef87b2d150",
   "metadata": {},
   "outputs": [
    {
     "data": {
      "text/plain": [
       "array([ 1.00000000e+00,  7.07106781e-01,  6.12323400e-17, -7.07106781e-01,\n",
       "       -1.00000000e+00])"
      ]
     },
     "execution_count": 18,
     "metadata": {},
     "output_type": "execute_result"
    }
   ],
   "source": [
    "angle = np.array([0, 45, 90, 135, 180])\n",
    "rads = np.deg2rad(angle)\n",
    "np.cos(rads)"
   ]
  },
  {
   "cell_type": "code",
   "execution_count": 40,
   "id": "4748f797-218a-4ee2-a7e7-3260ea0c135f",
   "metadata": {},
   "outputs": [
    {
     "data": {
      "text/plain": [
       "array([2., 4., 6.])"
      ]
     },
     "execution_count": 40,
     "metadata": {},
     "output_type": "execute_result"
    }
   ],
   "source": [
    "np.sqrt([4, 16, 36])"
   ]
  },
  {
   "cell_type": "markdown",
   "id": "07d8a002-e566-45fe-b9c1-d0096e7fe523",
   "metadata": {},
   "source": [
    "*Note: many numpy functions accepts python lists as input. The reason is that they assume you want to manipulate arrays, and they are converting them to arrays for you. It the same when doing additions: the lists are converted to `ndarrays` when necessary. For example:*"
   ]
  },
  {
   "cell_type": "code",
   "execution_count": 42,
   "id": "6b1a77ca-2430-4bde-9b16-cb7d5fa9cbf2",
   "metadata": {},
   "outputs": [
    {
     "data": {
      "text/plain": [
       "array([  0,  90, 180, 270, 360])"
      ]
     },
     "execution_count": 42,
     "metadata": {},
     "output_type": "execute_result"
    }
   ],
   "source": [
    "angle + [0, 45, 90, 135, 180]"
   ]
  },
  {
   "cell_type": "markdown",
   "id": "cf11a0f5-8200-4643-aab8-82d3cd711f4d",
   "metadata": {},
   "source": [
    "## Statistical functions  "
   ]
  },
  {
   "cell_type": "markdown",
   "id": "fb7f3d1d-d2b8-4fa8-8368-c531b81b163d",
   "metadata": {},
   "source": [
    "There are also [a lot of numpy functions](https://numpy.org/doc/stable/reference/routines.statistics.html) which take an array as input and compute various statistics on them, often used for \"data reduction\" (summarizing the data in less numbers). Let's highlight some of them:"
   ]
  },
  {
   "cell_type": "code",
   "execution_count": 43,
   "id": "9422729c-818c-4b9d-8ce9-a114dbfdf46c",
   "metadata": {},
   "outputs": [
    {
     "data": {
      "text/plain": [
       "array([ 0,  1,  2,  3,  4,  5,  6,  7,  8,  9, 10, 11])"
      ]
     },
     "execution_count": 43,
     "metadata": {},
     "output_type": "execute_result"
    }
   ],
   "source": [
    "a = np.arange(12)\n",
    "a"
   ]
  },
  {
   "cell_type": "code",
   "execution_count": 44,
   "id": "b7e0a6c8-bf83-4ea5-b0f0-2e51cf6bcb41",
   "metadata": {},
   "outputs": [
    {
     "data": {
      "text/plain": [
       "66"
      ]
     },
     "execution_count": 44,
     "metadata": {},
     "output_type": "execute_result"
    }
   ],
   "source": [
    "np.sum(a)"
   ]
  },
  {
   "cell_type": "code",
   "execution_count": 45,
   "id": "ab77e55d-3152-457e-884a-2b5d7114bbc0",
   "metadata": {},
   "outputs": [
    {
     "data": {
      "text/plain": [
       "5.5"
      ]
     },
     "execution_count": 45,
     "metadata": {},
     "output_type": "execute_result"
    }
   ],
   "source": [
    "np.mean(a)"
   ]
  },
  {
   "cell_type": "markdown",
   "id": "4b30c82b-b7fa-4992-91e3-9a0a43e7f312",
   "metadata": {},
   "source": [
    "In the one dimensional case, `np.mean` is the equivalent of:"
   ]
  },
  {
   "cell_type": "code",
   "execution_count": 46,
   "id": "5a357d4f-6c18-438b-9245-3c44c78e1aa1",
   "metadata": {},
   "outputs": [
    {
     "data": {
      "text/plain": [
       "5.5"
      ]
     },
     "execution_count": 46,
     "metadata": {},
     "output_type": "execute_result"
    }
   ],
   "source": [
    "np.sum(a) / a.size"
   ]
  },
  {
   "cell_type": "code",
   "execution_count": 48,
   "id": "0c5d3bbd-0a08-43df-acfb-a38c559a9be0",
   "metadata": {},
   "outputs": [
    {
     "data": {
      "text/plain": [
       "3.452052529534663"
      ]
     },
     "execution_count": 48,
     "metadata": {},
     "output_type": "execute_result"
    }
   ],
   "source": [
    "np.std(a)"
   ]
  },
  {
   "cell_type": "markdown",
   "id": "ea0bf7cf-f51f-4e83-9152-68d363cd5b80",
   "metadata": {},
   "source": [
    "[np.std](https://numpy.org/doc/stable/reference/generated/numpy.std.html) computes the standard deviation of an array. "
   ]
  },
  {
   "cell_type": "markdown",
   "id": "6fbf109a-40fc-455b-8a7c-e6c193da8dc5",
   "metadata": {},
   "source": [
    "Some statistical functions are also \"attached\" to arrays for convenience. For example, the two calls below are equivalent (with one difference: if you are curious, ask me in class!):"
   ]
  },
  {
   "cell_type": "code",
   "execution_count": 62,
   "id": "e624a9d8-d493-4e70-acb2-700a8431bef7",
   "metadata": {},
   "outputs": [
    {
     "data": {
      "text/plain": [
       "(4, 4)"
      ]
     },
     "execution_count": 62,
     "metadata": {},
     "output_type": "execute_result"
    }
   ],
   "source": [
    "a.sum(), np.sum(a)"
   ]
  },
  {
   "cell_type": "code",
   "execution_count": 63,
   "id": "48ac82a5-1810-4371-9db9-8cbe4780d6d4",
   "metadata": {},
   "outputs": [
    {
     "data": {
      "text/plain": [
       "(1.247219128924647, 1.247219128924647)"
      ]
     },
     "execution_count": 63,
     "metadata": {},
     "output_type": "execute_result"
    }
   ],
   "source": [
    "a.std(), np.std(a)"
   ]
  },
  {
   "cell_type": "markdown",
   "id": "4473f86f-5287-4312-b328-f2ef56698af4",
   "metadata": {},
   "source": [
    "## Working with missing data"
   ]
  },
  {
   "cell_type": "markdown",
   "id": "07c5525d-454b-4690-9dc0-20bade2e6da8",
   "metadata": {},
   "source": [
    "Unfortunately, sometimes the data delivered from the stations is missing. In this case, the data provider may decide to replace missing values with a special number, for example -9.9, -999.9, etc...\n",
    "\n",
    "This practice is vary common (for reasons I'm happy to explain in class), but it also have one main problem: numpy or matplotlib do not know that these are wrong or missing. More problematically, the value is often even a valid one in theory: -99.9 for example is a valid temperature value in °C (even if very rare at the surface). \n",
    "\n",
    "Here is what happens when this occurs in these (fake) temperature measurements for example:"
   ]
  },
  {
   "cell_type": "code",
   "execution_count": 79,
   "id": "ffe5cf00-dc86-4846-9732-add332ee3b74",
   "metadata": {},
   "outputs": [],
   "source": [
    "# Create some data\n",
    "x = np.linspace(0, 2 * np.pi, 200)\n",
    "y = np.sin(x) * 12\n",
    "\n",
    "# Some is missing\n",
    "y[30:70] = -99.9"
   ]
  },
  {
   "cell_type": "code",
   "execution_count": 80,
   "id": "0df13ea9-8390-4ce9-aa0a-34b561230691",
   "metadata": {},
   "outputs": [
    {
     "data": {
      "image/png": "[encoded data removed]",
      "text/plain": [
       "<Figure size 432x288 with 1 Axes>"
      ]
     },
     "metadata": {
      "needs_background": "light"
     },
     "output_type": "display_data"
    }
   ],
   "source": [
    "import matplotlib.pyplot as plt\n",
    "fig, ax = plt.subplots()\n",
    "ax.plot(x, y);"
   ]
  },
  {
   "cell_type": "markdown",
   "id": "1fac1faa-1e9f-4699-9217-e43d8ad8bc07",
   "metadata": {},
   "source": [
    "Depending on your use case, you two main options available to you:\n",
    "- replacing missing values with NaNs\n",
    "- filtering the missing values\n",
    "\n",
    "Each of these two options have pros and cons."
   ]
  },
  {
   "cell_type": "markdown",
   "id": "730331f6-5792-4ed8-a959-7cd7aa566df7",
   "metadata": {},
   "source": [
    "### Working with NaNs "
   ]
  },
  {
   "cell_type": "markdown",
   "id": "76a70c06-a448-41ce-aa2c-490102d60bfa",
   "metadata": {},
   "source": [
    "\"Not A Number\" (`NaN`) is a special floating point number in numpy. **It works ONLY with floats, not with ints.** You can replace float values in arrays with NaNs very easily:"
   ]
  },
  {
   "cell_type": "code",
   "execution_count": 81,
   "id": "f076c38d-616d-462c-bda6-e16a88821319",
   "metadata": {},
   "outputs": [],
   "source": [
    "y[y == -99.9] = np.nan"
   ]
  },
  {
   "cell_type": "markdown",
   "id": "0b8c9a05-1584-4ac4-8161-6ddb50e99696",
   "metadata": {},
   "source": [
    "The advantage of this method is that the time axis does not change, and that matplotlib knows not to display this data: "
   ]
  },
  {
   "cell_type": "code",
   "execution_count": 82,
   "id": "a8b98d74-ec15-4676-b03c-b20810a59770",
   "metadata": {},
   "outputs": [
    {
     "data": {
      "image/png": "[encoded data removed]",
      "text/plain": [
       "<Figure size 432x288 with 1 Axes>"
      ]
     },
     "metadata": {
      "needs_background": "light"
     },
     "output_type": "display_data"
    }
   ],
   "source": [
    "fig, ax = plt.subplots()\n",
    "ax.plot(x, y);"
   ]
  },
  {
   "cell_type": "markdown",
   "id": "7a779bee-20bd-4930-8469-911b2e8f6f5c",
   "metadata": {},
   "source": [
    "NaNs can actually happen after invalid mathematical operations. They are also propagating through operations, which is a very useful feature and prevents unexpected errors: "
   ]
  },
  {
   "cell_type": "code",
   "execution_count": 83,
   "id": "ecfb6f05-d050-4e8c-bc6b-0592833a0d41",
   "metadata": {},
   "outputs": [
    {
     "name": "stderr",
     "output_type": "stream",
     "text": [
      "/tmp/ipykernel_5205/4230832818.py:3: RuntimeWarning: invalid value encountered in true_divide\n",
      "  c = a / b\n"
     ]
    },
    {
     "data": {
      "text/plain": [
       "array([-0.5,  nan,  1.5])"
      ]
     },
     "execution_count": 83,
     "metadata": {},
     "output_type": "execute_result"
    }
   ],
   "source": [
    "a = np.array([1, 0, 3])\n",
    "b = np.array([-2, 0, 2])\n",
    "c = a / b\n",
    "c"
   ]
  },
  {
   "cell_type": "code",
   "execution_count": 84,
   "id": "d742aa8a-3841-49d7-a7cc-91590d1801c4",
   "metadata": {},
   "outputs": [
    {
     "data": {
      "text/plain": [
       "array([2.5, nan, 4.5])"
      ]
     },
     "execution_count": 84,
     "metadata": {},
     "output_type": "execute_result"
    }
   ],
   "source": [
    "d = c + 3\n",
    "d"
   ]
  },
  {
   "cell_type": "markdown",
   "id": "136eef1a-e719-4d11-aa0c-27b9a427918f",
   "metadata": {},
   "source": [
    "This propagation also happens in numpy statistical functions (this is a feature, not a bug):"
   ]
  },
  {
   "cell_type": "code",
   "execution_count": 85,
   "id": "239a521a-d554-4973-9740-e308e2cc077c",
   "metadata": {},
   "outputs": [
    {
     "data": {
      "text/plain": [
       "nan"
      ]
     },
     "execution_count": 85,
     "metadata": {},
     "output_type": "execute_result"
    }
   ],
   "source": [
    "np.mean(d)"
   ]
  },
  {
   "cell_type": "markdown",
   "id": "edfd6f18-0b53-495d-8117-01aa77ed3a58",
   "metadata": {},
   "source": [
    "This happens because it's not clear in this example whether you want the average of `[2.5, 4.5]` or whether you actually want the average of three values without knowing that one is invalid. Numpy here is conservative and makes sure there is no ambiguity.\n",
    "\n",
    "If you know what you are doing and are happy to compute statistics even if some numbers are missing, you can use:"
   ]
  },
  {
   "cell_type": "code",
   "execution_count": 86,
   "id": "8f580ae2-d7e5-43c5-a5e0-dfd0c8bb097a",
   "metadata": {},
   "outputs": [
    {
     "data": {
      "text/plain": [
       "3.5"
      ]
     },
     "execution_count": 86,
     "metadata": {},
     "output_type": "execute_result"
    }
   ],
   "source": [
    "np.nanmean(d)"
   ]
  },
  {
   "cell_type": "markdown",
   "id": "acf2a85e-ebe1-42bc-8cd9-097b0b7f6312",
   "metadata": {},
   "source": [
    "Many functions are available in their \"`nan` equivalent\":"
   ]
  },
  {
   "cell_type": "code",
   "execution_count": 87,
   "id": "b94ce6c4-beec-43ac-afde-e17f1bb3c8e1",
   "metadata": {},
   "outputs": [
    {
     "data": {
      "text/plain": [
       "(4.5, 1.0)"
      ]
     },
     "execution_count": 87,
     "metadata": {},
     "output_type": "execute_result"
    }
   ],
   "source": [
    "np.nanmax(d), np.nanstd(d)"
   ]
  },
  {
   "cell_type": "markdown",
   "id": "8e6fe246-ba02-44cd-8ff5-f4832cb0d128",
   "metadata": {},
   "source": [
    "### Filtering the data "
   ]
  },
  {
   "cell_type": "markdown",
   "id": "63876e16-e96c-482d-94b0-eeaa2a0ae254",
   "metadata": {},
   "source": [
    "Another way to deal with NaNs is to remove them (filter them) from the data. This can be achieved with boolean indexing:"
   ]
  },
  {
   "cell_type": "code",
   "execution_count": 88,
   "id": "8939376c-8f53-40d8-b755-26daabe535ce",
   "metadata": {},
   "outputs": [
    {
     "data": {
      "text/plain": [
       "array([2.5, nan, 4.5])"
      ]
     },
     "execution_count": 88,
     "metadata": {},
     "output_type": "execute_result"
    }
   ],
   "source": [
    "d"
   ]
  },
  {
   "cell_type": "code",
   "execution_count": 89,
   "id": "2a99887f-f211-4030-9839-521d9131333a",
   "metadata": {},
   "outputs": [
    {
     "data": {
      "text/plain": [
       "array([ True, False,  True])"
      ]
     },
     "execution_count": 89,
     "metadata": {},
     "output_type": "execute_result"
    }
   ],
   "source": [
    "np.isfinite(d)"
   ]
  },
  {
   "cell_type": "code",
   "execution_count": 90,
   "id": "c1bac4e6-f957-43ca-98ce-b69c78ea18c3",
   "metadata": {},
   "outputs": [
    {
     "data": {
      "text/plain": [
       "array([2.5, 4.5])"
      ]
     },
     "execution_count": 90,
     "metadata": {},
     "output_type": "execute_result"
    }
   ],
   "source": [
    "d[np.isfinite(d)]"
   ]
  },
  {
   "cell_type": "markdown",
   "id": "341e3891-b217-472d-8566-9c930f442ad1",
   "metadata": {},
   "source": [
    "**If you apply this strategy to real world data with coordinates (e.g. time), don't forget to select also the correct coordinate.** For example, let's get back to our previous use case:"
   ]
  },
  {
   "cell_type": "code",
   "execution_count": 91,
   "id": "de9e92b9-2c15-4793-8bc7-12c12b8d6485",
   "metadata": {},
   "outputs": [],
   "source": [
    "# Create some data\n",
    "x = np.linspace(0, 2 * np.pi, 200)\n",
    "y = np.sin(x) * 12\n",
    "\n",
    "# Some is missing\n",
    "y[30:70] = -99.9"
   ]
  },
  {
   "cell_type": "markdown",
   "id": "600e269d-a277-48fa-8712-47390b756d53",
   "metadata": {},
   "source": [
    "The correct way to select both the coorinates and the values is:"
   ]
  },
  {
   "cell_type": "code",
   "execution_count": 92,
   "id": "f20ac660-1432-4b55-a53b-3d94493e602b",
   "metadata": {},
   "outputs": [
    {
     "data": {
      "text/plain": [
       "-2.8045859518297673"
      ]
     },
     "execution_count": 92,
     "metadata": {},
     "output_type": "execute_result"
    }
   ],
   "source": [
    "# Valid positions\n",
    "is_valid = y != -99.9\n",
    "\n",
    "# Boolean indexing\n",
    "x_filtered = x[is_valid]\n",
    "y_filtered = y[is_valid]\n",
    "\n",
    "# Usual statistics\n",
    "np.mean(y_filtered)"
   ]
  },
  {
   "cell_type": "markdown",
   "id": "58440ba6-7873-4e20-b5c0-346107005d5c",
   "metadata": {},
   "source": [
    "The drawback of this approach is that the coordinates are not monotonously increasing anymore. There is a \"gap\", that matplotlib fills with a line when asked to plot the data:"
   ]
  },
  {
   "cell_type": "code",
   "execution_count": 94,
   "id": "33cdf7fd-a832-4de2-ad70-82d99c791aba",
   "metadata": {},
   "outputs": [
    {
     "data": {
      "image/png": "[encoded data removed]",
      "text/plain": [
       "<Figure size 432x288 with 1 Axes>"
      ]
     },
     "metadata": {
      "needs_background": "light"
     },
     "output_type": "display_data"
    }
   ],
   "source": [
    "fig, ax = plt.subplots()\n",
    "ax.plot(x_filtered, y_filtered);"
   ]
  },
  {
   "cell_type": "markdown",
   "id": "29c684b0-0c1e-4eac-b852-4d426e4996b0",
   "metadata": {},
   "source": [
    "Depending on the situation, this can be misleading."
   ]
  },
  {
   "cell_type": "markdown",
   "id": "c8b53117-fab7-4a75-8727-cb9bec6c0a22",
   "metadata": {},
   "source": [
    "## Learning checklist "
   ]
  },
  {
   "cell_type": "markdown",
   "id": "b6aa99f0-7479-4810-85b8-1a1f16e26172",
   "metadata": {},
   "source": [
    "<label><input type=\"checkbox\" id=\"week05_01\" class=\"box\"> I understand what element-wise operations are. I am aware of basic numpy operations (e.g. \"+\") and functions (e.g. `np.sin`) operating element-wise.</input></label><br>\n",
    "<label><input type=\"checkbox\" id=\"week05_01\" class=\"box\"> I understand that numpy also offers many statistical functions, often summarizing the data in seful statistics (e.g. the mean, standard deviation, etc.).</input></label><br>\n",
    "<label><input type=\"checkbox\" id=\"week05_01\" class=\"box\"> I am aware of the existence of the special number \"Not A Number\" in numpy.</input></label><br>\n",
    "<label><input type=\"checkbox\" id=\"week05_01\" class=\"box\"> I have learned some strategies to deal with missing data in numpy.</input></label><br>"
   ]
  }
 ],
 "metadata": {
  "kernelspec": {
   "display_name": "Python 3 (ipykernel)",
   "language": "python",
   "name": "python3"
  },
  "language_info": {
   "codemirror_mode": {
    "name": "ipython",
    "version": 3
   },
   "file_extension": ".py",
   "mimetype": "text/x-python",
   "name": "python",
   "nbconvert_exporter": "python",
   "pygments_lexer": "ipython3",
   "version": "3.8.5"
  }
 },
 "nbformat": 4,
 "nbformat_minor": 5
}
