{
 "cells": [
  {
   "cell_type": "markdown",
   "id": "989af075",
   "metadata": {},
   "source": [
    "# Assignment 06\n",
    "\n",
    "*Due date: 10.05.2023*\n",
    "\n",
    "This week's assignment has to be returned **in the form a jupyter notebook**. \n",
    "\n",
    "Don't forget the [instructions](../assignments)!"
   ]
  },
  {
   "cell_type": "markdown",
   "id": "3ceb805b-b099-4774-9625-0137c119dc4e",
   "metadata": {},
   "source": [
    "## 01 - Linear regression function"
   ]
  },
  {
   "cell_type": "markdown",
   "id": "8219487a-6c0d-4e3d-a8b1-49452999fd78",
   "metadata": {},
   "source": [
    "**Write a function that computes the parameters $a$ und $b$ from the [simple linear regression](https://en.wikipedia.org/wiki/Simple_linear_regression) $\\hat{y} = a + bx$**, where $x$ is the explanatory variable and $y$ the variable to approximate: \n",
    "\n",
    "$$\n",
    "\\begin{eqnarray}\n",
    "  b & = & \\frac{n\\sum_{i=1}^n x_iy_i - \\sum_{i=1}^n x_i \\sum_{i=1}^ny_i}\n",
    "               {n\\sum_{i=1}^n (x_i)^2 - (\\sum_{i=1}^n x_i)^2} \\\\\n",
    "  a & = & \\overline{y} - b\\overline{x}\n",
    "\\end{eqnarray}\n",
    "$$\n",
    "\n",
    "In the equation above, $x_i$ is the i-th element of the vector $x$, $n$ is the length (size) of the vectors $x$ and $y$, and $\\overline{x}$ is the average of $x$.\n",
    "\n",
    "The signature of the function you have to write is given below:\n",
    "\n",
    "```python\n",
    "def linear_regression(x, y):\n",
    "    \"\"\"Calculate a linear least-squares regression for two sets of measurements.\n",
    "\n",
    "    Parameters\n",
    "    ----------\n",
    "    x, y: ndarray-like\n",
    "        Two sets of measurements. Both arrays should be 1-dimensional \n",
    "        and have the same length. They should not contain any missing data!\n",
    "\n",
    "    Returns\n",
    "    -------\n",
    "    (a, b): floats\n",
    "       Parameters a and b of the linear approximation y^ = a + b x\n",
    "\n",
    "    Examples\n",
    "    --------\n",
    "    >>> x = np.array([1, 2, 3, 4, 5])\n",
    "    >>> y = np.array([-5.3, -2.6,  0.1,  2.8,  5.5])\n",
    "    >>> a, b = linear_regression(x, y)\n",
    "    >>> np.isclose(a, -8)\n",
    "    True\n",
    "    >>> np.isclose(b, 2.7)\n",
    "    True\n",
    "    \"\"\"\n",
    "    # Make sure we manipulate ndarrays\n",
    "    x = np.asarray(x)\n",
    "    y = np.asarray(y)\n",
    "\n",
    "    # Least squares equations\n",
    "    < your code here >\n",
    "    return a, b\n",
    "```\n"
   ]
  },
  {
   "cell_type": "code",
   "execution_count": 1,
   "id": "c4e46eec-febd-4c08-9ede-231bb05cbfd4",
   "metadata": {},
   "outputs": [],
   "source": [
    "# Your answer here"
   ]
  },
  {
   "cell_type": "markdown",
   "id": "9afb1b1d-d763-4057-ba0e-2f2439df2dd4",
   "metadata": {},
   "source": [
    "If you have written the function correctly, the tests should pass with `TestResults(failed=0, attempted=5)`:"
   ]
  },
  {
   "cell_type": "code",
   "execution_count": 2,
   "id": "7d87f9a7-2474-4bb0-a163-6b1fcfae7f3d",
   "metadata": {},
   "outputs": [
    {
     "data": {
      "text/plain": [
       "TestResults(failed=0, attempted=0)"
      ]
     },
     "execution_count": 2,
     "metadata": {},
     "output_type": "execute_result"
    }
   ],
   "source": [
    "# Testing\n",
    "import doctest\n",
    "doctest.testmod()"
   ]
  },
  {
   "cell_type": "markdown",
   "id": "9e54f409-3a84-487d-a170-0dbe8cbc3046",
   "metadata": {},
   "source": [
    "## 02 - Instrument calibration "
   ]
  },
  {
   "cell_type": "markdown",
   "id": "bfeb84e4-781f-4676-b3d9-e7ecad35aae0",
   "metadata": {},
   "source": [
    "A temperature sensor was calibrated in a precise temperature chamber. The instrument provides an analog output signal of varying voltage in Volts (V) on a single pin that can be measured. The temperature in the chamber T is increased from -20°C to 40°C  in 2°C increments, and the sensor voltage is measured after the temperature in the chamber is stabilized.\n",
    "\n",
    "The data is stored in a comma-separated file [calibration.csv](https://raw.githubusercontent.com/fmaussion/intro_to_programming/master/book/week_06/calibration.csv). Download the data file (right click + \"Save as...\") and put the file in the same folder as this notebook. **Explore the csv file by opening it in JupyterLab**."
   ]
  },
  {
   "cell_type": "markdown",
   "id": "131c0fc5-fff9-4433-850b-fe05dd71a83d",
   "metadata": {},
   "source": [
    "A few weeks ago, you wrote your own text file reader. This time, let me read the data for you using numpy:"
   ]
  },
  {
   "cell_type": "code",
   "execution_count": 3,
   "id": "b9ed34e0-fc1f-4eb8-b3d9-f1d8ae6550e3",
   "metadata": {},
   "outputs": [],
   "source": [
    "import numpy as np\n",
    "t, v = np.genfromtxt('calibration.csv', delimiter=',', skip_header=1, unpack=True)"
   ]
  },
  {
   "cell_type": "markdown",
   "id": "5dbe670b-6270-46f0-ab40-07d39fdd295a",
   "metadata": {},
   "source": [
    "**Something happened during the experiment, and unfortunately some of the values are invalid with the missing value indicator -999. Filter the data series so that both `t` and `v` are of the same length and still represent the correct value pairs, without missing data.** "
   ]
  },
  {
   "cell_type": "code",
   "execution_count": 4,
   "id": "d8d41fd5-7827-421f-8476-7272e45df463",
   "metadata": {},
   "outputs": [],
   "source": [
    "# Your answer here"
   ]
  },
  {
   "cell_type": "markdown",
   "id": "1e988be6-bbee-4162-bef3-5bbe15973127",
   "metadata": {},
   "source": [
    "**Plot the voltage values `v` as a function of the temparature chamber `t` on a scatter plot. Label the x and y axis accordingly.**"
   ]
  },
  {
   "cell_type": "code",
   "execution_count": 5,
   "id": "6c53b1a9-cdd7-4706-9501-b3d51affaf3e",
   "metadata": {},
   "outputs": [],
   "source": [
    "# Your answer here"
   ]
  },
  {
   "cell_type": "markdown",
   "id": "ec7e8cf9-0c72-48de-af8e-9203e91eb044",
   "metadata": {},
   "source": [
    "**Using your linear regression function, find the sensor calibration parameters a and b, so that the temperature t can be reconstructed from the voltage measurements with $\\hat{t} = a + b v$.**"
   ]
  },
  {
   "cell_type": "code",
   "execution_count": 6,
   "id": "ed9797c4-783f-445c-81a7-33b5a3bac400",
   "metadata": {},
   "outputs": [],
   "source": [
    "# Your answer here"
   ]
  },
  {
   "cell_type": "markdown",
   "id": "129dfed2-ef22-4bed-95ed-4084ac12e508",
   "metadata": {},
   "source": [
    "**The sensor and associated voltmeter are designed to output a voltage going from 0V to 12V. Based on your calibration values, what is the sensor's valid temperature range?**"
   ]
  },
  {
   "cell_type": "code",
   "execution_count": 7,
   "id": "8912f94b-6a04-4b58-94e3-79033e899dfd",
   "metadata": {},
   "outputs": [],
   "source": [
    "# Your answer here"
   ]
  },
  {
   "cell_type": "markdown",
   "id": "e25fb558-6af5-4692-9714-3b093aaa3d88",
   "metadata": {},
   "source": [
    "**Compute the reconstructed temperature `tr`** (volts converted to temperature)."
   ]
  },
  {
   "cell_type": "code",
   "execution_count": 8,
   "id": "79bfbf72-7115-4914-9108-f587af411236",
   "metadata": {},
   "outputs": [],
   "source": [
    "# Your answer here"
   ]
  },
  {
   "cell_type": "markdown",
   "id": "f059c9cc-b54c-4477-add9-7dd540b0e380",
   "metadata": {},
   "source": [
    "**Plot the chamber temperature, the reconstructed temperature (volts converted to temperature) and the valid range in one plot.** The plot should look somewhat similar to [this example](https://raw.githubusercontent.com/fmaussion/intro_to_programming/master/book/week_06/temp_calib_example.png)."
   ]
  },
  {
   "cell_type": "code",
   "execution_count": 9,
   "id": "a99d049d-b1d7-466f-9f7f-e3911ec5b5b5",
   "metadata": {},
   "outputs": [],
   "source": [
    "# Your answer here"
   ]
  },
  {
   "cell_type": "markdown",
   "id": "62701afa-1acc-4292-851f-8ab337813683",
   "metadata": {},
   "source": [
    "**Compute the accuracy of the sensor assuming that the chamber temperature is truly exact. To evaluate the accuracy, compute the [root mean square deviation](https://en.wikipedia.org/wiki/Root-mean-square_deviation) as:**\n",
    "\n",
    "$$\n",
    "RMSD = \\sqrt{\\overline{(\\hat{t} - t)^2}}\n",
    "$$\n",
    "\n",
    "Where $\\hat{t}$ is the reconstructed temperature, and the overline represents the average (mean) of the squared deviation $(\\hat{t} - t)^2$."
   ]
  },
  {
   "cell_type": "code",
   "execution_count": 10,
   "id": "dae8d55d-6421-4225-952a-3e6eb05e6ce3",
   "metadata": {},
   "outputs": [],
   "source": [
    "# Your answer here"
   ]
  }
 ],
 "metadata": {
  "kernelspec": {
   "display_name": "Python 3 (ipykernel)",
   "language": "python",
   "name": "python3"
  },
  "language_info": {
   "codemirror_mode": {
    "name": "ipython",
    "version": 3
   },
   "file_extension": ".py",
   "mimetype": "text/x-python",
   "name": "python",
   "nbconvert_exporter": "python",
   "pygments_lexer": "ipython3",
   "version": "3.10.8"
  }
 },
 "nbformat": 4,
 "nbformat_minor": 5
}
