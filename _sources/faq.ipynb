{
 "cells": [
  {
   "cell_type": "markdown",
   "id": "d019656f-db69-4875-a8d9-d4a679ee8ad8",
   "metadata": {},
   "source": [
    "# Frequently asked questions "
   ]
  },
  {
   "cell_type": "markdown",
   "id": "a3a34d53-f784-48af-9529-0c54f1123692",
   "metadata": {},
   "source": [
    "This page offers some explanations to frequent questions and common problems encountered by beginners in programming. This page is here to help!"
   ]
  },
  {
   "cell_type": "code",
   "execution_count": null,
   "id": "62000e7a-500e-4909-9897-6f71f8b17552",
   "metadata": {},
   "outputs": [],
   "source": []
  }
 ],
 "metadata": {
  "kernelspec": {
   "display_name": "Python 3 (ipykernel)",
   "language": "python",
   "name": "python3"
  },
  "language_info": {
   "codemirror_mode": {
    "name": "ipython",
    "version": 3
   },
   "file_extension": ".py",
   "mimetype": "text/x-python",
   "name": "python",
   "nbconvert_exporter": "python",
   "pygments_lexer": "ipython3",
   "version": "3.10.8"
  }
 },
 "nbformat": 4,
 "nbformat_minor": 5
}
