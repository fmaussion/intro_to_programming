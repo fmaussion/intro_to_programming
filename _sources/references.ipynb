{
 "cells": [
  {
   "cell_type": "markdown",
   "metadata": {},
   "source": [
    "# External resources "
   ]
  },
  {
   "cell_type": "markdown",
   "metadata": {},
   "source": [
    "Resources used (and linked) in these lecture notes:\n",
    "\n",
    "\n",
    "**Fundamentals:**\n",
    "- [Programming for Everybody (Getting Started with Python)](https://www.py4e.com). We will follow this textbook for roughly the first half of the lecture.\n",
    "\n",
    "**Linux and bash scripting:**\n",
    "- [Ryan's Tutorials](https://ryanstutorials.net/) for the linux command line and bash scripting are entertaining and well designed.\n",
    "\n",
    "**Python tutorials:**\n",
    "- the [official tutorial](https://docs.python.org/3/tutorial/index.html), always a good place to start if you are coming from another language (not so good for beginners in programming though).\n",
    "- the [scipy lecture notes](http://scipy-lectures.org), a good overview of the scientific python stack for scientists with previous programming experience.\n",
    "\n",
    "**Python reference:**\n",
    "- the [python documentation](https://docs.python.org) is your best reference for any question related to the language and the standard library.\n",
    "\n",
    "*(this list will be updated when the notes get written further)*"
   ]
  }
 ],
 "metadata": {
  "kernelspec": {
   "display_name": "Python 3 (ipykernel)",
   "language": "python",
   "name": "python3"
  },
  "language_info": {
   "codemirror_mode": {
    "name": "ipython",
    "version": 3
   },
   "file_extension": ".py",
   "mimetype": "text/x-python",
   "name": "python",
   "nbconvert_exporter": "python",
   "pygments_lexer": "ipython3",
   "version": "3.8.5"
  }
 },
 "nbformat": 4,
 "nbformat_minor": 4
}
