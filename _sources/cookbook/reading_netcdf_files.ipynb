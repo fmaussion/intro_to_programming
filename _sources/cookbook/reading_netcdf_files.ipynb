{
 "cells": [
  {
   "cell_type": "markdown",
   "id": "9656c7be-8548-4143-95b6-18d4967e7a94",
   "metadata": {},
   "source": [
    "# Reading geotiff files with rasterio"
   ]
  },
  {
   "cell_type": "markdown",
   "id": "ba7dd2b5-dc98-4b4a-8c11-4439971476b9",
   "metadata": {},
   "source": [
    "TODO: rasterio recipe"
   ]
  },
  {
   "cell_type": "code",
   "execution_count": null,
   "id": "253dfdef-4209-471f-bfec-06d61724e483",
   "metadata": {},
   "outputs": [],
   "source": []
  }
 ],
 "metadata": {
  "kernelspec": {
   "display_name": "Python 3 (ipykernel)",
   "language": "python",
   "name": "python3"
  },
  "language_info": {
   "codemirror_mode": {
    "name": "ipython",
    "version": 3
   },
   "file_extension": ".py",
   "mimetype": "text/x-python",
   "name": "python",
   "nbconvert_exporter": "python",
   "pygments_lexer": "ipython3",
   "version": "3.8.5"
  }
 },
 "nbformat": 4,
 "nbformat_minor": 5
}
