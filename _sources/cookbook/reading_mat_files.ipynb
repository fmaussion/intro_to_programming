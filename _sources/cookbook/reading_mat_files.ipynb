{
 "cells": [
  {
   "cell_type": "markdown",
   "id": "9656c7be-8548-4143-95b6-18d4967e7a94",
   "metadata": {},
   "source": [
    "# Reading MATLAB `.mat` files"
   ]
  },
  {
   "cell_type": "markdown",
   "id": "828f76bd-9b47-4da6-b1d2-57db39ced372",
   "metadata": {},
   "source": [
    "In one of the radiation lecture, you are asked to read files in the MATLAB `.mat` files (one file per day with vectors of `I` measured at\n",
    "the surface at 450 nm, along with the sun elevation angle for each measurement `SNH`). There seem to be no time attached to these measurements. Here is an example of how to read one of the file into a pandas dataframe with help of the [scipy](https://docs.scipy.org) library:"
   ]
  },
  {
   "cell_type": "markdown",
   "id": "a3cb1622-feea-4aab-94c7-57bbe865ea19",
   "metadata": {},
   "source": [
    "## Reading mat files "
   ]
  },
  {
   "cell_type": "code",
   "execution_count": 1,
   "id": "7d2bbba7-ec92-4403-84d5-12226067e13e",
   "metadata": {},
   "outputs": [
    {
     "data": {
      "text/html": [
       "<div>\n",
       "<style scoped>\n",
       "    .dataframe tbody tr th:only-of-type {\n",
       "        vertical-align: middle;\n",
       "    }\n",
       "\n",
       "    .dataframe tbody tr th {\n",
       "        vertical-align: top;\n",
       "    }\n",
       "\n",
       "    .dataframe thead th {\n",
       "        text-align: right;\n",
       "    }\n",
       "</style>\n",
       "<table border=\"1\" class=\"dataframe\">\n",
       "  <thead>\n",
       "    <tr style=\"text-align: right;\">\n",
       "      <th></th>\n",
       "      <th>SNH</th>\n",
       "      <th>I_450</th>\n",
       "    </tr>\n",
       "  </thead>\n",
       "  <tbody>\n",
       "    <tr>\n",
       "      <th>0</th>\n",
       "      <td>10.028338</td>\n",
       "      <td>0.238662</td>\n",
       "    </tr>\n",
       "    <tr>\n",
       "      <th>1</th>\n",
       "      <td>10.838524</td>\n",
       "      <td>0.282054</td>\n",
       "    </tr>\n",
       "    <tr>\n",
       "      <th>2</th>\n",
       "      <td>11.646388</td>\n",
       "      <td>0.321627</td>\n",
       "    </tr>\n",
       "    <tr>\n",
       "      <th>3</th>\n",
       "      <td>12.446173</td>\n",
       "      <td>0.361128</td>\n",
       "    </tr>\n",
       "    <tr>\n",
       "      <th>4</th>\n",
       "      <td>13.246367</td>\n",
       "      <td>0.398293</td>\n",
       "    </tr>\n",
       "    <tr>\n",
       "      <th>...</th>\n",
       "      <td>...</td>\n",
       "      <td>...</td>\n",
       "    </tr>\n",
       "    <tr>\n",
       "      <th>109</th>\n",
       "      <td>13.503050</td>\n",
       "      <td>0.485676</td>\n",
       "    </tr>\n",
       "    <tr>\n",
       "      <th>110</th>\n",
       "      <td>12.684507</td>\n",
       "      <td>0.442991</td>\n",
       "    </tr>\n",
       "    <tr>\n",
       "      <th>111</th>\n",
       "      <td>11.890372</td>\n",
       "      <td>0.395319</td>\n",
       "    </tr>\n",
       "    <tr>\n",
       "      <th>112</th>\n",
       "      <td>11.071531</td>\n",
       "      <td>0.343366</td>\n",
       "    </tr>\n",
       "    <tr>\n",
       "      <th>113</th>\n",
       "      <td>10.293703</td>\n",
       "      <td>0.302224</td>\n",
       "    </tr>\n",
       "  </tbody>\n",
       "</table>\n",
       "<p>114 rows × 2 columns</p>\n",
       "</div>"
      ],
      "text/plain": [
       "           SNH     I_450\n",
       "0    10.028338  0.238662\n",
       "1    10.838524  0.282054\n",
       "2    11.646388  0.321627\n",
       "3    12.446173  0.361128\n",
       "4    13.246367  0.398293\n",
       "..         ...       ...\n",
       "109  13.503050  0.485676\n",
       "110  12.684507  0.442991\n",
       "111  11.890372  0.395319\n",
       "112  11.071531  0.343366\n",
       "113  10.293703  0.302224\n",
       "\n",
       "[114 rows x 2 columns]"
      ]
     },
     "execution_count": 1,
     "metadata": {},
     "output_type": "execute_result"
    }
   ],
   "source": [
    "from scipy.io import loadmat  # this is the SciPy module that loads mat-files\n",
    "import pandas as pd\n",
    "import matplotlib.pyplot as plt\n",
    "\n",
    "mat = loadmat('I_and_SNH_20111003.mat')\n",
    "\n",
    "# Put all columns which are not weird MATLAB ones into a dataframe\n",
    "df = pd.DataFrame()\n",
    "for k in mat:\n",
    "    if '__' in k:\n",
    "        continue\n",
    "    df[k] = mat[k].flatten()\n",
    "\n",
    "# Name it \"day1\" for clarity\n",
    "df_day1 = df\n",
    "df_day1"
   ]
  },
  {
   "cell_type": "markdown",
   "id": "1304cc83-b8c0-469f-b08c-a60c4ca5b992",
   "metadata": {},
   "source": [
    "## Plots "
   ]
  },
  {
   "cell_type": "code",
   "execution_count": 2,
   "id": "3c118803-20bf-4621-a209-026b7f5aa357",
   "metadata": {},
   "outputs": [
    {
     "data": {
      "image/png": "[encoded data removed]",
      "text/plain": [
       "<Figure size 432x288 with 1 Axes>"
      ]
     },
     "metadata": {
      "needs_background": "light"
     },
     "output_type": "display_data"
    }
   ],
   "source": [
    "df_day1.plot();"
   ]
  },
  {
   "cell_type": "code",
   "execution_count": 3,
   "id": "0e73f98b-0ce3-46a2-9d04-fe42fe2c3f4d",
   "metadata": {},
   "outputs": [
    {
     "data": {
      "image/png": "[encoded data removed]",
      "text/plain": [
       "<Figure size 432x288 with 1 Axes>"
      ]
     },
     "metadata": {
      "needs_background": "light"
     },
     "output_type": "display_data"
    }
   ],
   "source": [
    "df_day1.plot(x='SNH', y='I_450');"
   ]
  },
  {
   "cell_type": "code",
   "execution_count": 4,
   "id": "c47e7d8e-ad8d-40b3-9d0c-81dc85258b43",
   "metadata": {},
   "outputs": [
    {
     "data": {
      "image/png": "[encoded data removed]",
      "text/plain": [
       "<Figure size 432x288 with 1 Axes>"
      ]
     },
     "metadata": {
      "needs_background": "light"
     },
     "output_type": "display_data"
    }
   ],
   "source": [
    "df_day1_morning = df_day1.loc[:df_day1['SNH'].argmax()]\n",
    "df_day1_afternoon = df_day1.loc[df_day1['SNH'].argmax()+1:]\n",
    "\n",
    "f, ax = plt.subplots()\n",
    "df_day1_morning.plot(x='SNH', y='I_450', ax=ax, label='Morning');\n",
    "df_day1_afternoon.plot(x='SNH', y='I_450', ax=ax, label='Afternoon');"
   ]
  },
  {
   "cell_type": "markdown",
   "id": "1ac91885-4b89-4224-9b62-eab50121df27",
   "metadata": {},
   "source": [
    "## Merge several days into one dataframe "
   ]
  },
  {
   "cell_type": "code",
   "execution_count": 11,
   "id": "cbb8e734-3160-438e-9bee-c3f863aeef81",
   "metadata": {},
   "outputs": [
    {
     "data": {
      "text/html": [
       "<div>\n",
       "<style scoped>\n",
       "    .dataframe tbody tr th:only-of-type {\n",
       "        vertical-align: middle;\n",
       "    }\n",
       "\n",
       "    .dataframe tbody tr th {\n",
       "        vertical-align: top;\n",
       "    }\n",
       "\n",
       "    .dataframe thead th {\n",
       "        text-align: right;\n",
       "    }\n",
       "</style>\n",
       "<table border=\"1\" class=\"dataframe\">\n",
       "  <thead>\n",
       "    <tr style=\"text-align: right;\">\n",
       "      <th></th>\n",
       "      <th>SNH</th>\n",
       "      <th>I_450</th>\n",
       "      <th>date</th>\n",
       "    </tr>\n",
       "  </thead>\n",
       "  <tbody>\n",
       "    <tr>\n",
       "      <th>0</th>\n",
       "      <td>10.028338</td>\n",
       "      <td>0.238662</td>\n",
       "      <td>20111003</td>\n",
       "    </tr>\n",
       "    <tr>\n",
       "      <th>1</th>\n",
       "      <td>10.838524</td>\n",
       "      <td>0.282054</td>\n",
       "      <td>20111003</td>\n",
       "    </tr>\n",
       "    <tr>\n",
       "      <th>2</th>\n",
       "      <td>11.646388</td>\n",
       "      <td>0.321627</td>\n",
       "      <td>20111003</td>\n",
       "    </tr>\n",
       "    <tr>\n",
       "      <th>3</th>\n",
       "      <td>12.446173</td>\n",
       "      <td>0.361128</td>\n",
       "      <td>20111003</td>\n",
       "    </tr>\n",
       "    <tr>\n",
       "      <th>4</th>\n",
       "      <td>13.246367</td>\n",
       "      <td>0.398293</td>\n",
       "      <td>20111003</td>\n",
       "    </tr>\n",
       "    <tr>\n",
       "      <th>...</th>\n",
       "      <td>...</td>\n",
       "      <td>...</td>\n",
       "      <td>...</td>\n",
       "    </tr>\n",
       "    <tr>\n",
       "      <th>450</th>\n",
       "      <td>16.725457</td>\n",
       "      <td>0.630984</td>\n",
       "      <td>20120514</td>\n",
       "    </tr>\n",
       "    <tr>\n",
       "      <th>451</th>\n",
       "      <td>15.535872</td>\n",
       "      <td>0.577296</td>\n",
       "      <td>20120514</td>\n",
       "    </tr>\n",
       "    <tr>\n",
       "      <th>452</th>\n",
       "      <td>14.617152</td>\n",
       "      <td>0.532635</td>\n",
       "      <td>20120514</td>\n",
       "    </tr>\n",
       "    <tr>\n",
       "      <th>453</th>\n",
       "      <td>13.705881</td>\n",
       "      <td>0.487820</td>\n",
       "      <td>20120514</td>\n",
       "    </tr>\n",
       "    <tr>\n",
       "      <th>454</th>\n",
       "      <td>12.807493</td>\n",
       "      <td>0.449735</td>\n",
       "      <td>20120514</td>\n",
       "    </tr>\n",
       "  </tbody>\n",
       "</table>\n",
       "<p>455 rows × 3 columns</p>\n",
       "</div>"
      ],
      "text/plain": [
       "           SNH     I_450      date\n",
       "0    10.028338  0.238662  20111003\n",
       "1    10.838524  0.282054  20111003\n",
       "2    11.646388  0.321627  20111003\n",
       "3    12.446173  0.361128  20111003\n",
       "4    13.246367  0.398293  20111003\n",
       "..         ...       ...       ...\n",
       "450  16.725457  0.630984  20120514\n",
       "451  15.535872  0.577296  20120514\n",
       "452  14.617152  0.532635  20120514\n",
       "453  13.705881  0.487820  20120514\n",
       "454  12.807493  0.449735  20120514\n",
       "\n",
       "[455 rows x 3 columns]"
      ]
     },
     "execution_count": 11,
     "metadata": {},
     "output_type": "execute_result"
    }
   ],
   "source": [
    "import glob\n",
    "\n",
    "all_df = []\n",
    "for f in sorted(glob.glob('*.mat')):\n",
    "\n",
    "    mat = loadmat(f)\n",
    "\n",
    "    # Put all columns which are not weird MATLAB ones into a dataframe\n",
    "    df = pd.DataFrame()\n",
    "    for k in mat:\n",
    "        if '__' in k:\n",
    "            continue\n",
    "        df[k] = mat[k].flatten()\n",
    "    df['date'] = f.split('_')[-1].split('.')[0]\n",
    "\n",
    "    all_df.append(df)\n",
    "\n",
    "all_df = pd.concat(all_df, ignore_index=True)\n",
    "all_df"
   ]
  },
  {
   "cell_type": "code",
   "execution_count": 9,
   "id": "42d98013-83a4-4b54-8883-64c6f7e62b69",
   "metadata": {},
   "outputs": [
    {
     "data": {
      "image/png": "[encoded data removed]",
      "text/plain": [
       "<Figure size 432x288 with 1 Axes>"
      ]
     },
     "metadata": {
      "needs_background": "light"
     },
     "output_type": "display_data"
    }
   ],
   "source": [
    "all_df.plot(x='SNH', y='I_450', style='.');"
   ]
  },
  {
   "cell_type": "code",
   "execution_count": null,
   "id": "755b4ba5-3d2e-4cf7-bf71-01123e952f34",
   "metadata": {},
   "outputs": [],
   "source": []
  }
 ],
 "metadata": {
  "kernelspec": {
   "display_name": "Python 3 (ipykernel)",
   "language": "python",
   "name": "python3"
  },
  "language_info": {
   "codemirror_mode": {
    "name": "ipython",
    "version": 3
   },
   "file_extension": ".py",
   "mimetype": "text/x-python",
   "name": "python",
   "nbconvert_exporter": "python",
   "pygments_lexer": "ipython3",
   "version": "3.8.5"
  }
 },
 "nbformat": 4,
 "nbformat_minor": 5
}
