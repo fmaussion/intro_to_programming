{
 "cells": [
  {
   "cell_type": "markdown",
   "id": "989af075",
   "metadata": {},
   "source": [
    "# Assignment 10\n",
    "\n",
    "*Due date: 22.06.2022*\n",
    "\n",
    "This week's assignment has to be returned **in the form a jupyter notebook**. \n",
    "\n",
    "Don't forget the [instructions](../assignments)!"
   ]
  },
  {
   "cell_type": "markdown",
   "id": "c7357904-e2a7-4303-aa77-72a0d8217c32",
   "metadata": {},
   "source": [
    "## 01 - Maps with cartopy"
   ]
  },
  {
   "cell_type": "markdown",
   "id": "44089503-e66d-41ca-a3dc-5b828a8e3a19",
   "metadata": {},
   "source": [
    "For this assignment, you'll need to install [cartopy](https://scitools.org.uk/cartopy/docs/latest/index.html) first.\n",
    "\n",
    "Your task is to make a map as close as possible to [this one](https://github.com/fmaussion/intro_to_programming/blob/master/book/week_10/station_map.png). It displays the location and elevation of all ZAMG weather stations in Austria. Some pointers to get you on track:\n",
    "- the location and elevation of all stations is read from the `ZEHNMIN Stations-Metadaten.csv` file that you can download [here](https://github.com/fmaussion/intro_to_programming/raw/master/book/project/ZEHNMIN%20Stations-Metadaten.csv). `pandas` can read it without any problems.\n",
    "- the map is done with matplotlib and cartopy. I build my map based on elements from the following tutorials from the [official documentation](https://scitools.org.uk/cartopy/docs/latest/gallery/index.html):\n",
    "    - [map tile aquisition](https://scitools.org.uk/cartopy/docs/latest/gallery/scalar_data/eyja_volcano.html#sphx-glr-gallery-scalar-data-eyja-volcano-py) for the map background\n",
    "    - [features](https://scitools.org.uk/cartopy/docs/latest/gallery/lines_and_polygons/features.html#sphx-glr-gallery-lines-and-polygons-features-py) for the country borders\n",
    "    - [grid lines and tick labels](https://scitools.org.uk/cartopy/docs/latest/gallery/gridlines_and_labels/gridliner.html#sphx-glr-gallery-gridlines-and-labels-gridliner-py) for the lat lon grid \n",
    "    - matplotlib's `ax.scatterplot` (or `ax.plot` as in the [Iceland example](https://scitools.org.uk/cartopy/docs/latest/gallery/scalar_data/eyja_volcano.html#sphx-glr-gallery-scalar-data-eyja-volcano-py)) for the station markers, and `ax.legend` for the legend.\n",
    "    \n",
    "It is fine for me if you don't manage to do the exact same map as mine. You can be creative as well! Any step towards completion is a good step. To help you further, here are all the imports I used for this task:"
   ]
  },
  {
   "cell_type": "code",
   "execution_count": 1,
   "id": "2899943c-c3d3-4609-a170-a9c878136d35",
   "metadata": {},
   "outputs": [],
   "source": [
    "import pandas as pd\n",
    "\n",
    "import matplotlib.pyplot as plt\n",
    "\n",
    "import cartopy.crs as ccrs\n",
    "import cartopy.feature as cfeature\n",
    "import cartopy.io.img_tiles as cimgt"
   ]
  },
  {
   "cell_type": "code",
   "execution_count": 1,
   "id": "41196a24-df4d-4b4f-a2e9-0e722d3360c6",
   "metadata": {},
   "outputs": [],
   "source": [
    "# your code here"
   ]
  },
  {
   "cell_type": "code",
   "execution_count": null,
   "id": "02917682-ec98-4e49-b367-f894f989fb07",
   "metadata": {},
   "outputs": [],
   "source": []
  }
 ],
 "metadata": {
  "kernelspec": {
   "display_name": "Python 3 (ipykernel)",
   "language": "python",
   "name": "python3"
  },
  "language_info": {
   "codemirror_mode": {
    "name": "ipython",
    "version": 3
   },
   "file_extension": ".py",
   "mimetype": "text/x-python",
   "name": "python",
   "nbconvert_exporter": "python",
   "pygments_lexer": "ipython3",
   "version": "3.9.7"
  }
 },
 "nbformat": 4,
 "nbformat_minor": 5
}
