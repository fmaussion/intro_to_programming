{
 "cells": [
  {
   "cell_type": "markdown",
   "id": "73c75f51-4382-4334-97c6-194d765fd552",
   "metadata": {},
   "source": [
    "# Assignment 04\n",
    "\n",
    "*Due date: 19.04.2023*\n",
    "\n",
    "This week's assignment has to be returned in the form of one python script OR one jupyter notebook. Don't forget the [instructions](../assignments)!"
   ]
  },
  {
   "cell_type": "markdown",
   "id": "e1bf4f72-a416-4602-8696-e5cabc9804cf",
   "metadata": {},
   "source": [
    "## Exercise 1: write a list filtering function"
   ]
  },
  {
   "cell_type": "markdown",
   "id": "bee627e5-4456-4581-8b77-667aca3304d0",
   "metadata": {},
   "source": [
    "Write a function corresponding to the following signature. After writing the function, running the tests with `doctest.testmod()` should work!"
   ]
  },
  {
   "cell_type": "markdown",
   "id": "89a7d0cd-d439-4485-a130-11b657e80519",
   "metadata": {},
   "source": [
    "```python\n",
    "def filter_list(values, min_value=None, max_value=None):\n",
    "    \"\"\"Filters a list of numbers to keep only the ones between one or two thresholds.\n",
    "\n",
    "    You need to set at least one of min_value or max_value!\n",
    "\n",
    "    Parameters\n",
    "    ----------\n",
    "    values : list\n",
    "        a list of numbers (floats or ints)\n",
    "    min_value : float or int, optional\n",
    "        the minimum threshold to filter the data (inclusive)\n",
    "    max_value : float or int, optional\n",
    "        the maximum threshold to filter the data (inclusive)\n",
    "\n",
    "    Examples\n",
    "    --------\n",
    "    >>> a = [1, 3, 4, 2.2]\n",
    "    >>> filter_list(a, min_value=2)\n",
    "    [3, 4, 2.2]\n",
    "    >>> a  # a is unchanged\n",
    "    [1, 3, 4, 2.2]\n",
    "    >>> filter_list(a, max_value=3)\n",
    "    [1, 3, 2.2]\n",
    "    >>> filter_list(a, min_value=2, max_value=3)\n",
    "    [3, 2.2]\n",
    "    >>> filter_list([1, 2, 3, 4])\n",
    "    Traceback (most recent call last):\n",
    "     ...\n",
    "    ValueError: Need to set at least one of min_value or max_value!\n",
    "    \"\"\"\n",
    "\n",
    "    if min_value is None and max_value is None:\n",
    "        raise ValueError('Need to set at least one of min_value or max_value!')\n",
    "\n",
    "    output = []\n",
    "    \n",
    "    <your own code here>\n",
    "    \n",
    "    return output\n",
    "```"
   ]
  },
  {
   "cell_type": "markdown",
   "id": "46c672a2-b743-4eee-a01b-9a4e00bb94be",
   "metadata": {},
   "source": [
    "## Exercise 2: read Austrian weather station locations"
   ]
  },
  {
   "cell_type": "markdown",
   "id": "160fa22c-73d5-4a2f-83f5-13c687de9f80",
   "metadata": {},
   "source": [
    "Download a text file containing a list of all Austrian weather stations [here](https://www.zamg.ac.at/cms/de/dokumente/klima/dok_messnetze/Stationsliste_20230101.csv) (`Stationsliste_20230101.csv`). Put the file in the same folder as your script. If you want, you can see a map of all stations on [this website](https://www.zamg.ac.at/cms/de/klima/messnetze/wetterstationen) from the ZAMG.\n",
    "\n",
    "Here is a bit of code showing the first lines of the file:"
   ]
  },
  {
   "cell_type": "code",
   "execution_count": 1,
   "id": "5e176797-84bf-43c1-811b-cc595460d912",
   "metadata": {},
   "outputs": [
    {
     "name": "stdout",
     "output_type": "stream",
     "text": [
      "SYNNR;NAME;BUNDESLAND;LÄNGE;BREITE;STATIONSHÖHE;BEGINNDATUM;ORDNUNG;LÄNGE DEZI;BREITE DEZI\n",
      "11395;ANDAU ;BGL;170208;474612;117;20210616;TAWES/VAMES;17,0355554;47,77\n",
      "11193;BAD TATZMANNSDORF ;BGL;161330;472017;347;20040917;Ö3;16,22499847;47,33805466\n",
      "11197;BERNSTEIN;BGL;161541;472430;631;20070701;TAWES;16,26138878;47,40833282\n",
      "11394;BRUCKNEUDORF;BGL;165042;480046;166;20071127;TAWES;16,84499931;48,01277924\n",
      "11190;EISENSTADT-NORDOST;BGL;163218;475115;184;19890101;TAWES/VAMES;16,53833389;47,85416794\n"
     ]
    }
   ],
   "source": [
    "with open('Stationsliste_20230101.csv', encoding='latin-1') as fhand:\n",
    "    count = 0\n",
    "    for line in fhand:\n",
    "        count += 1\n",
    "        line = line.rstrip()\n",
    "        print(line)\n",
    "        if count > 5:\n",
    "            break"
   ]
  },
  {
   "cell_type": "markdown",
   "id": "f412d91c-91bf-4fe4-a573-afc543f2f44e",
   "metadata": {},
   "source": [
    "Your task is to extend this code to ignore the first line, and then populate five lists with data: `names`, `years`, `longitudes`, `latitudes`, `elevations`. The lists contain the data converted to int and floats where appropriate. Here is the expected output for the first 5 lines:\n",
    "\n",
    "```none\n",
    ">>> years\n",
    "[2021, 2004, 2007, 2007, 1989]\n",
    ">>> latitudes\n",
    "[47.77, 47.33805466, 47.40833282, 48.01277924, 47.85416794]\n",
    ">>> names\n",
    "['ANDAU',  'BAD TATZMANNSDORF', 'BERNSTEIN', 'BRUCKNEUDORF', 'EISENSTADT-NORDOST']\n",
    "````\n",
    "\n",
    "You should have lists of length 278.\n",
    "\n",
    "```{tip}\n",
    "I used the string methods `.split()` and `.replace()` in my code, as well as string slicing like in the book.\n",
    "```"
   ]
  },
  {
   "cell_type": "markdown",
   "id": "886c6b02-8015-49f1-b6ef-43ec12ee8ab2",
   "metadata": {},
   "source": [
    "## Exercise 3: Austrian weather station location statistics"
   ]
  },
  {
   "cell_type": "markdown",
   "id": "8a516153-9b9c-4ea9-aa98-d1420961f495",
   "metadata": {},
   "source": [
    "Now, use these lists and the function `filter_list` you created above as well as the python functions [max()](https://docs.python.org/3/library/functions.html#max) and [list.index()](https://www.w3schools.com/python/ref_list_index.asp) to answer the following questions:\n",
    "- how many stations are located above 2000m?\n",
    "- Tirol is located (very) roughly between 10.2°E and 12.6°E. How many stations are there in Tirol? *(this is a rough estimate of course)*\n",
    "- what it the longitude, latitude and elevation of the station `'INNSBRUCK-UNIV.'`?\n",
    "- what it the highest station elevation, and what is the station's name?"
   ]
  }
 ],
 "metadata": {
  "kernelspec": {
   "display_name": "Python 3 (ipykernel)",
   "language": "python",
   "name": "python3"
  },
  "language_info": {
   "codemirror_mode": {
    "name": "ipython",
    "version": 3
   },
   "file_extension": ".py",
   "mimetype": "text/x-python",
   "name": "python",
   "nbconvert_exporter": "python",
   "pygments_lexer": "ipython3",
   "version": "3.10.8"
  }
 },
 "nbformat": 4,
 "nbformat_minor": 5
}
