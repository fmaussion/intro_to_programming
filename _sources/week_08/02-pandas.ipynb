{
 "cells": [
  {
   "cell_type": "markdown",
   "id": "73c75f51-4382-4334-97c6-194d765fd552",
   "metadata": {
    "pycharm": {
     "name": "#%% md\n"
    }
   },
   "source": [
    "# Pandas: working with tabular data"
   ]
  },
  {
   "cell_type": "markdown",
   "id": "1bc44d99-ea9e-42ae-88a0-a0cc335586ae",
   "metadata": {},
   "source": [
    "[Pandas](https://pandas.pydata.org/docs/index.html) is one of the most famous python libraries for science, data science, and machine learning. It excels at manipulating tabular data, i.e. the kind of data you would have in a spreadsheet, a csv file, or weather station data. "
   ]
  },
  {
   "cell_type": "markdown",
   "id": "1bf6cdb8-dd13-4a9b-abda-b4d8ef66c911",
   "metadata": {},
   "source": [
    "## Installing pandas "
   ]
  },
  {
   "cell_type": "markdown",
   "id": "2998e1ec-28ac-4da0-a7e5-5218d67774be",
   "metadata": {},
   "source": [
    "If you need to refresh your memory about installing python packages, revisit the [unit on the subject](../week_05/01-install-packages).\n",
    "\n",
    "To install pandas, open the condaforge prompt, activate the environment you want to install pandas into, and type:\n",
    "\n",
    "```\n",
    "mamba install pandas\n",
    "```"
   ]
  },
  {
   "cell_type": "markdown",
   "id": "5b3c0406-0d17-47b8-a06c-74a82ffc9e07",
   "metadata": {},
   "source": [
    "## Importing pandas"
   ]
  },
  {
   "cell_type": "markdown",
   "id": "559bbee2-b2b0-4657-8bfe-72a054aaf0e7",
   "metadata": {},
   "source": [
    "Like numpy, we can access all of pandas functionalities with a simple `import` command. The convention is to `import pandas as pd`:"
   ]
  },
  {
   "cell_type": "code",
   "execution_count": 3,
   "id": "1f389d56-3bff-41fc-b9f6-8c2692d6807e",
   "metadata": {},
   "outputs": [],
   "source": [
    "import pandas as pd"
   ]
  },
  {
   "cell_type": "markdown",
   "id": "5f6ccf30-250d-4117-b599-1f419a4fc362",
   "metadata": {},
   "source": [
    "## Getting started with pandas "
   ]
  },
  {
   "cell_type": "markdown",
   "id": "abb2d4a2-c739-4bd5-8480-3ba98eb36c8c",
   "metadata": {},
   "source": [
    "Pandas is a fantastic library: it will take you minutes to grasp the fundamentals, and years to master it: this is what I like most about it ;-).\n",
    "\n",
    "For today, I strongly recommend to follow the various tutorials on the [getting started](https://pandas.pydata.org/docs/getting_started/intro_tutorials/index.html) page of the pandas documentation. If you are short on time, focus on:\n",
    "- [What kind of data does pandas handle?](https://pandas.pydata.org/docs/getting_started/intro_tutorials/01_table_oriented.html)\n",
    "- [How to create new columns derived from existing columns?](https://pandas.pydata.org/docs/getting_started/intro_tutorials/05_add_columns.html)\n",
    "- [How to create plots in pandas?](https://pandas.pydata.org/docs/getting_started/intro_tutorials/04_plotting.html)\n",
    "- [How to calculate summary statistics?](https://pandas.pydata.org/docs/getting_started/intro_tutorials/06_calculate_statistics.html)\n",
    "\n",
    "The other tutorials are very useful as well and should be read sooner or later for the end of semester project. Start now if you have time!"
   ]
  },
  {
   "cell_type": "markdown",
   "id": "c8b53117-fab7-4a75-8727-cb9bec6c0a22",
   "metadata": {},
   "source": [
    "## Learning checklist "
   ]
  },
  {
   "cell_type": "markdown",
   "id": "b6aa99f0-7479-4810-85b8-1a1f16e26172",
   "metadata": {},
   "source": [
    "<label><input type=\"checkbox\" id=\"week05_01\" class=\"box\"> I am able to install and use pandas in the notebook.</input></label><br>\n",
    "<label><input type=\"checkbox\" id=\"week05_01\" class=\"box\"> I have followed the \"getting started\" tutorials listed above.</input></label><br>"
   ]
  }
 ],
 "metadata": {
  "kernelspec": {
   "display_name": "Python 3 (ipykernel)",
   "language": "python",
   "name": "python3"
  },
  "language_info": {
   "codemirror_mode": {
    "name": "ipython",
    "version": 3
   },
   "file_extension": ".py",
   "mimetype": "text/x-python",
   "name": "python",
   "nbconvert_exporter": "python",
   "pygments_lexer": "ipython3",
   "version": "3.8.5"
  }
 },
 "nbformat": 4,
 "nbformat_minor": 5
}
