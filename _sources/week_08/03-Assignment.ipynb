{
 "cells": [
  {
   "cell_type": "markdown",
   "id": "989af075",
   "metadata": {},
   "source": [
    "# Assignment 08\n",
    "\n",
    "*Due date: 18.05.2022*\n",
    "\n",
    "This week's assignment has to be returned **in the form a jupyter notebook**. \n",
    "\n",
    "Don't forget the [instructions](../assignments)!"
   ]
  },
  {
   "cell_type": "markdown",
   "id": "c7357904-e2a7-4303-aa77-72a0d8217c32",
   "metadata": {},
   "source": [
    "## 01 - Data preparation"
   ]
  },
  {
   "cell_type": "markdown",
   "id": "3a8f9c3b-8f31-415d-b799-58faebc7897a",
   "metadata": {},
   "source": [
    "Rewrite the `acinn_meteo_data` function we used in [week 05](../week_05/04-Assignment) to return a pandas dataframe instead of individual arrays. When creating the dataframe, rename the column as follows:\n",
    "- \"rr\" -> \"rainfall\" (invalid: < 0)\n",
    "- \"dd\" -> \"wind_dir\" (invalid: < 0)\n",
    "- \"ff\" -> \"wind_speed\" (invalid: < 0)\n",
    "- \"tp\" -> \"dewpoint\" (invalid: < -50)\n",
    "- \"p\" -> \"pressure\" (invalid: < 500)\n",
    "- \"tl\" -> \"temperature\" (invalid: < -50)\n",
    "- \"so\" -> \"sunshine_min\" (invalid: < 0)\n",
    "- \"rf\" -> \"relative_humidity\" (invalid: < 0)\n",
    "\n",
    "You should ignore the `datumsec` key and instead use the converted time as `index` for the dataframe you'll create. Not all stations have all the variables! Your algorithm should work regardless of if the variable is available or not.\n",
    "\n",
    "Filter for missing data before placing the data in the pandas dafaframe: replace **all values which are below the invalid threshold in the list above with `np.nan`**.\n",
    "\n",
    "\n",
    "```python\n",
    "def acinn_meteo_data(station=\"innsbruck\", ndays=3):\n",
    "    \"\"\"Parse live meteorological data from the ACINN servers.\n",
    "\n",
    "    Requires an internet connection and the pandas library!\n",
    "\n",
    "    Parameters\n",
    "    ----------\n",
    "    station : str\n",
    "        one of \"innsbruck\", \"obergurgl\"\n",
    "    ndays : int\n",
    "        either 3 or 7 days\n",
    "\n",
    "    Returns\n",
    "    -------\n",
    "    df : pd.DataFrame\n",
    "        the meteorological data in a pandas dataframe\n",
    "\n",
    "    Examples\n",
    "    --------\n",
    "    >>> df = acinn_meteo_data()\n",
    "    >>> type(df)\n",
    "    <class 'pandas.core.frame.DataFrame'>\n",
    "    >>> type(df.index)\n",
    "    <class 'pandas.core.indexes.datetimes.DatetimeIndex'>\n",
    "    >>> len(df.columns)\n",
    "    7\n",
    "    >>> df['temperature'].dtype\n",
    "    dtype('float64')\n",
    "    \"\"\"\n",
    "    from urllib.request import Request, urlopen\n",
    "    from datetime import datetime, timedelta\n",
    "    import json\n",
    "\n",
    "    url = f'https://acinn-data.uibk.ac.at/{station}/{ndays}'\n",
    "    req = urlopen(Request(url)).read()\n",
    "    # Read the data\n",
    "    data = json.loads(req.decode('utf-8'))\n",
    "\n",
    "    # Convert the time\n",
    "    time = [datetime(1970, 1, 1) + timedelta(milliseconds=ds) for ds in data['datumsec']]\n",
    "    \n",
    "    <your code here>\n",
    "```"
   ]
  },
  {
   "cell_type": "code",
   "execution_count": 1,
   "id": "d3d307bf-f3c4-4587-8726-71e446cf97f3",
   "metadata": {},
   "outputs": [],
   "source": [
    "import numpy as np\n",
    "import pandas as pd\n",
    "import matplotlib.pyplot as plt"
   ]
  },
  {
   "cell_type": "code",
   "execution_count": 1,
   "id": "f2606c9d-2319-49d3-b0aa-78ce77447564",
   "metadata": {},
   "outputs": [],
   "source": [
    "# Your code here"
   ]
  },
  {
   "cell_type": "code",
   "execution_count": 2,
   "id": "c2a8abf0-d58c-4146-b558-342c697d14d0",
   "metadata": {},
   "outputs": [
    {
     "data": {
      "text/plain": [
       "TestResults(failed=0, attempted=0)"
      ]
     },
     "execution_count": 2,
     "metadata": {},
     "output_type": "execute_result"
    }
   ],
   "source": [
    "import doctest\n",
    "doctest.testmod()"
   ]
  },
  {
   "cell_type": "markdown",
   "id": "d4a3284f-4732-4d13-9111-b6aa55f61411",
   "metadata": {},
   "source": [
    "## 02 - Wind"
   ]
  },
  {
   "cell_type": "markdown",
   "id": "44d7ae79-386f-4656-91b7-7faed5d9b9ac",
   "metadata": {},
   "source": [
    "**1. write a new function called `sd_to_uv` which accept two arrays as input (or equivalent): wind speed and wind direction, and which converts the values into u and v, the vector components of the wind**.\n",
    "\n",
    "```python\n",
    "def sd_to_uv(speed, direction):\n",
    "    \"\"\"Converts wind speed and direction to (u, v) vector components.\n",
    "\n",
    "    Parameters\n",
    "    ----------\n",
    "    speed : ndarray-like\n",
    "        wind speed in m/s\n",
    "    direction : ndarray-like\n",
    "        wind direction in degrees, meteorological convention (0° = North)\n",
    "\n",
    "    Returns\n",
    "    -------\n",
    "    (u, v) : wind u and v vector components (unit: m/s)\n",
    "\n",
    "    Examples\n",
    "    --------\n",
    "    >>> sd_to_uv(1, 90)\n",
    "    (-1.0, 1.2246467991473532e-16)\n",
    "    >>> sd_to_uv(0, 234)\n",
    "    (0.0, 0.0)\n",
    "    >>> u, v = sd_to_uv([1, 1], [0, 90])\n",
    "    >>> u\n",
    "    array([-1.8369702e-16, -1.0000000e+00])\n",
    "    >>> v\n",
    "    array([-1.0000000e+00,  1.2246468e-16])\n",
    "    \"\"\"\n",
    "    <your code here>\n",
    "```\n",
    "\n",
    "\n",
    "**2. write another function called `uv_to_sd` which does the conversion in the other direction**.\n",
    "\n",
    "\n",
    "```python\n",
    "def uv_to_sd(u, v):\n",
    "    \"\"\"Converts (u, v) wind vector components to wind speed and direction.\n",
    "\n",
    "    Parameters\n",
    "    ----------\n",
    "    u : ndarray-like\n",
    "        u-component of the wind speed in m/s\n",
    "    v : ndarray-like\n",
    "        v-component of the wind speed in m/s\n",
    "\n",
    "    Returns\n",
    "    -------\n",
    "    (speed, direction) : wind speed (unit: m/s) and direction (° in the meterological convention)\n",
    "\n",
    "    Examples\n",
    "    --------\n",
    "    >>> uv_to_sd(1, 1)\n",
    "    (1.4142135623730951, 225.0)\n",
    "    >>> uv_to_sd(-1, -1)\n",
    "    (1.4142135623730951, 45.0)\n",
    "    >>> uv_to_sd(0, 0)\n",
    "    (0.0, 270.0)\n",
    "    >>> u, v = sd_to_uv([1, 2], [90, 235])\n",
    "    >>> uv_to_sd(u, v)\n",
    "    (array([1., 2.]), array([ 90., 235.]))\n",
    "    \"\"\"\n",
    "    <your code here>\n",
    "```\n",
    "\n",
    "[This webpage](http://colaweb.gmu.edu/dev/clim301/lectures/wind/wind-uv) contains all the info you need to compute this conversion. Don't forget to run the tests!\n",
    "\n",
    "In order to help you out with one particular aspect, here is a useful function that I recommend to apply in your code:"
   ]
  },
  {
   "cell_type": "code",
   "execution_count": null,
   "id": "131812ad-4069-45af-9979-abeb984752ee",
   "metadata": {},
   "outputs": [],
   "source": [
    "def check_wind_dir(direction):\n",
    "    \"\"\"Makes sure that a wind direction value is comprised between 0 and 360°.\n",
    "\n",
    "    Parameters\n",
    "    ----------\n",
    "    direction : ndarray-like\n",
    "        wind direction in degrees, between [-360; +720]\n",
    "\n",
    "    Returns\n",
    "    -------\n",
    "    direction : the direction, mapped to the [0; 360[ range.\n",
    "\n",
    "    Examples\n",
    "    --------\n",
    "    >>> check_wind_dir(0)\n",
    "    0\n",
    "    >>> check_wind_dir(360)\n",
    "    0\n",
    "    >>> check_wind_dir([-180, 90, 420])\n",
    "    array([180,  90,  60])\n",
    "    \"\"\"\n",
    "    direction = np.asanyarray(direction)\n",
    "    if np.any(direction < -360):\n",
    "        raise ValueError(\"Invalid wind direction value\")\n",
    "    return np.fmod(direction + 360, 360)\n",
    "\n",
    "\n",
    "import doctest\n",
    "doctest.testmod()"
   ]
  },
  {
   "cell_type": "code",
   "execution_count": 5,
   "id": "d27ce199-5ba5-4140-9f5c-9ee7376189d4",
   "metadata": {},
   "outputs": [],
   "source": [
    "# Your code here"
   ]
  },
  {
   "cell_type": "markdown",
   "id": "0ad5bfb4-dae8-4336-bda9-8b3c4aefea70",
   "metadata": {},
   "source": [
    "**3. use the `sd_to_uv` functions to add two columns to the Innsbruck dataframe: `u_wind` and `v_wind`**.\n",
    "\n",
    "**4. now compute the average statistics of wind for the 3 days period (average speed, average direction), by noting that wind speed is best averaged from the original data, and that wind direction is best averaged in vector space and converted back to trigonometry space. Compare the differences between the \"naive\" average and the \"more correct\" one.**"
   ]
  },
  {
   "cell_type": "code",
   "execution_count": 6,
   "id": "701d41d7-be3f-420a-b1c6-a43e6ee0dc2d",
   "metadata": {},
   "outputs": [],
   "source": [
    "# Your code here"
   ]
  },
  {
   "cell_type": "markdown",
   "id": "401ec3a3-bbc0-4f2f-b4f4-3379b35a2200",
   "metadata": {},
   "source": [
    "## 03 - Station comparison"
   ]
  },
  {
   "cell_type": "markdown",
   "id": "62517b7d-2f54-45b5-a3e5-e216be502909",
   "metadata": {},
   "source": [
    "**For the three stations `'innsbruck', 'ellboegen', 'sattelberg'`, parse the data and put all temperature variables in a single merged dataframe looking like this**:\n",
    "\n",
    "```\n",
    "                     innsbruck  ellboegen  sattelberg\n",
    "2022-05-05 15:00:00       19.7      15.00        4.90\n",
    "2022-05-05 15:10:00       19.6      14.93        4.90\n",
    "2022-05-05 15:20:00       19.4      14.88        4.82\n",
    "2022-05-05 15:30:00       19.2      14.84        4.54\n",
    "2022-05-05 15:40:00       19.1      14.79        4.32\n",
    "```\n",
    "\n",
    "Then, **plot them all together in a single plot with legend**.\n",
    "\n",
    "Which station recorded the warmest temperature over the period? How do their standard deviations compare with each other? "
   ]
  },
  {
   "cell_type": "code",
   "execution_count": 7,
   "id": "4b8ee310-8263-46d7-aac3-c803502b4b3a",
   "metadata": {},
   "outputs": [],
   "source": [
    "# Your code here"
   ]
  },
  {
   "cell_type": "code",
   "execution_count": null,
   "id": "466375f2-8b0b-4c1f-ba9e-3e9ffce3cfea",
   "metadata": {},
   "outputs": [],
   "source": []
  }
 ],
 "metadata": {
  "kernelspec": {
   "display_name": "Python 3 (ipykernel)",
   "language": "python",
   "name": "python3"
  },
  "language_info": {
   "codemirror_mode": {
    "name": "ipython",
    "version": 3
   },
   "file_extension": ".py",
   "mimetype": "text/x-python",
   "name": "python",
   "nbconvert_exporter": "python",
   "pygments_lexer": "ipython3",
   "version": "3.8.5"
  }
 },
 "nbformat": 4,
 "nbformat_minor": 5
}
