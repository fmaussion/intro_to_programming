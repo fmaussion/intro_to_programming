{
 "cells": [
  {
   "cell_type": "markdown",
   "id": "73c75f51-4382-4334-97c6-194d765fd552",
   "metadata": {
    "pycharm": {
     "name": "#%% md\n"
    }
   },
   "source": [
    "# Python dictionaries"
   ]
  },
  {
   "cell_type": "markdown",
   "id": "826b6b43-fa72-437e-8be9-e400196f555f",
   "metadata": {},
   "source": [
    "You've already learned about a few important datatypes which are built into the python language: `float` and `int` (for numbers), `str` (for text), `list` (for mutable sequences), `tuple` (for immutable sequences), `func` (for functions)...\n",
    "\n",
    "Today, you will learn about the a further important built-in datatype in the python language: dictionaries (`dict`)\n",
    "\n",
    "*Copyright notice: this lecture is inspired from the [py4e lecture on dictionaries](https://www.py4e.com/html3/09-dictionaries) (CC-BY - Charles R. Severance).*"
   ]
  },
  {
   "cell_type": "markdown",
   "id": "4ed29687-b774-4f2a-b70d-a602060530f3",
   "metadata": {},
   "source": [
    "## What is a dictionary? "
   ]
  },
  {
   "cell_type": "markdown",
   "id": "06029714-f4a7-4018-ab9e-a64b5002e6a8",
   "metadata": {},
   "source": [
    "You can think of a **dictionary** as a *mapping* between a set of indices (which are called **keys**) and a set of **values**. Each key maps to a value. The association of a key and a value is called a **key-value pair** or sometimes an item.\n",
    "\n",
    "As an example, we’ll build a dictionary that maps from English to German words, so the keys and the values are all strings.\n",
    "\n",
    "The function `dict` creates a new dictionary with no items. Because `dict` is the name of a built-in function, you should avoid using it as a variable name:"
   ]
  },
  {
   "cell_type": "code",
   "execution_count": 1,
   "id": "358d5086-bbf8-4d5a-ba44-cb0fdc82a826",
   "metadata": {},
   "outputs": [
    {
     "name": "stdout",
     "output_type": "stream",
     "text": [
      "{}\n"
     ]
    }
   ],
   "source": [
    "en2de = dict()\n",
    "print(en2de)"
   ]
  },
  {
   "cell_type": "markdown",
   "id": "782ae31d-730f-4f33-995f-b8a27348042c",
   "metadata": {},
   "source": [
    "The curly brackets, `{}`, represent an empty dictionary. To add items to the dictionary, you can use square brackets:"
   ]
  },
  {
   "cell_type": "code",
   "execution_count": 2,
   "id": "4a0adec1-e520-4711-a30f-bd00f3fe43b7",
   "metadata": {},
   "outputs": [
    {
     "data": {
      "text/plain": [
       "{'one': 'eins'}"
      ]
     },
     "execution_count": 2,
     "metadata": {},
     "output_type": "execute_result"
    }
   ],
   "source": [
    "en2de['one'] = 'eins'\n",
    "en2de"
   ]
  },
  {
   "cell_type": "markdown",
   "id": "e72ab0d2-b20a-446b-9268-85a33ce84fe6",
   "metadata": {},
   "source": [
    "This output format is also an input format. For example, you can create a new dictionary with three items:"
   ]
  },
  {
   "cell_type": "code",
   "execution_count": 3,
   "id": "bc6ae2f8-9f74-4285-9f72-59d73846f173",
   "metadata": {},
   "outputs": [
    {
     "data": {
      "text/plain": [
       "{'one': 'eins', 'two': 'zwei', 'three': 'drei'}"
      ]
     },
     "execution_count": 3,
     "metadata": {},
     "output_type": "execute_result"
    }
   ],
   "source": [
    "en2de = {'one': 'eins', 'two': 'zwei', 'three': 'drei'}\n",
    "en2de"
   ]
  },
  {
   "cell_type": "markdown",
   "id": "26a1885f-d394-45b3-b6e2-b0fc1bdac8c1",
   "metadata": {},
   "source": [
    "```{important}\n",
    "In earlier versions of Python (pre 3.7, i.e. pre 2018), dictionaries where not guaranteed to be \"ordered\", i.e. the order at which the key-value pairs are entered were not guaranteed to be preserved when printing the `dict`. As of now, this has become a feature of the language; but you will find many tutorials online (including PY4E) who warn you about this behavior. They are not \"wrong\", they are just a little outdated.\n",
    "```\n",
    "\n",
    "In any case, the strength of dictionaries does not reside in their order (the previous behavior was OK in a large majority of the cases), but in the way one can access the values in them:"
   ]
  },
  {
   "cell_type": "code",
   "execution_count": 4,
   "id": "8874a85d-e2e7-436f-af34-f1916b62c427",
   "metadata": {},
   "outputs": [
    {
     "data": {
      "text/plain": [
       "'drei'"
      ]
     },
     "execution_count": 4,
     "metadata": {},
     "output_type": "execute_result"
    }
   ],
   "source": [
    "en2de['three']  # Acces the value stored at the key \"three\""
   ]
  },
  {
   "cell_type": "markdown",
   "id": "3cff2231-4c1c-4ec2-9b93-54b5d9eb242e",
   "metadata": {},
   "source": [
    "This is what dictionaries are *very* good at: finding stuff, quickly (we'll get back to that). \n",
    "\n",
    "If the key isn’t in the dictionary, you get an exception:"
   ]
  },
  {
   "cell_type": "code",
   "execution_count": 5,
   "id": "1b3912d0-232a-4793-9a93-0710b9acf620",
   "metadata": {},
   "outputs": [
    {
     "ename": "KeyError",
     "evalue": "'four'",
     "output_type": "error",
     "traceback": [
      "\u001b[0;31m---------------------------------------------------------------------------\u001b[0m",
      "\u001b[0;31mKeyError\u001b[0m                                  Traceback (most recent call last)",
      "\u001b[0;32m/tmp/ipykernel_12703/90977062.py\u001b[0m in \u001b[0;36m<cell line: 1>\u001b[0;34m()\u001b[0m\n\u001b[0;32m----> 1\u001b[0;31m \u001b[0men2de\u001b[0m\u001b[0;34m[\u001b[0m\u001b[0;34m'four'\u001b[0m\u001b[0;34m]\u001b[0m\u001b[0;34m\u001b[0m\u001b[0;34m\u001b[0m\u001b[0m\n\u001b[0m",
      "\u001b[0;31mKeyError\u001b[0m: 'four'"
     ]
    }
   ],
   "source": [
    "en2de['four']"
   ]
  },
  {
   "cell_type": "markdown",
   "id": "671bf599-5d58-41c7-9fef-70164fc45e89",
   "metadata": {},
   "source": [
    "The `len` function works on dictionaries; it returns the number of key-value pairs:"
   ]
  },
  {
   "cell_type": "code",
   "execution_count": 6,
   "id": "97eeb5dc-7e4b-4c4d-959f-e4fdce341ed8",
   "metadata": {},
   "outputs": [
    {
     "data": {
      "text/plain": [
       "3"
      ]
     },
     "execution_count": 6,
     "metadata": {},
     "output_type": "execute_result"
    }
   ],
   "source": [
    "len(en2de)"
   ]
  },
  {
   "cell_type": "markdown",
   "id": "b11cc9bf-1cc7-41e6-9196-3a68aa292b3c",
   "metadata": {},
   "source": [
    "The `in` operator works on dictionaries; it tells you whether something appears as a key in the dictionary (**appearing as a value is not good enough**):"
   ]
  },
  {
   "cell_type": "code",
   "execution_count": 7,
   "id": "5cf98374-034a-40e3-836e-a4789ead7f2b",
   "metadata": {},
   "outputs": [
    {
     "data": {
      "text/plain": [
       "True"
      ]
     },
     "execution_count": 7,
     "metadata": {},
     "output_type": "execute_result"
    }
   ],
   "source": [
    "'one' in en2de"
   ]
  },
  {
   "cell_type": "code",
   "execution_count": 8,
   "id": "97a2dea9-553f-4187-ad38-26e1d8343367",
   "metadata": {},
   "outputs": [
    {
     "data": {
      "text/plain": [
       "False"
      ]
     },
     "execution_count": 8,
     "metadata": {},
     "output_type": "execute_result"
    }
   ],
   "source": [
    "'eins' in en2de"
   ]
  },
  {
   "cell_type": "markdown",
   "id": "21bcd8b9-da3c-4955-8c18-4c9383117973",
   "metadata": {},
   "source": [
    "To see whether something appears as a value in a dictionary, you can use the method `.values()`, which returns the values as a type that can be converted to a `list`, and then use the in operator:"
   ]
  },
  {
   "cell_type": "code",
   "execution_count": 9,
   "id": "0f0fce32-c793-4a7d-85b7-5ba4b4e90f71",
   "metadata": {},
   "outputs": [
    {
     "data": {
      "text/plain": [
       "True"
      ]
     },
     "execution_count": 9,
     "metadata": {},
     "output_type": "execute_result"
    }
   ],
   "source": [
    "values = list(en2de.values())\n",
    "'eins' in values"
   ]
  },
  {
   "cell_type": "markdown",
   "id": "f92487bf-597f-42f6-9047-18ca297dc91b",
   "metadata": {},
   "source": [
    "This type of usage is rare for dictionaries though."
   ]
  },
  {
   "cell_type": "markdown",
   "id": "da4c0c4d-8c4d-4569-a1aa-2a99d95f863c",
   "metadata": {},
   "source": [
    "## Why dictionaries? "
   ]
  },
  {
   "cell_type": "markdown",
   "id": "15b96e3a-1a01-4f17-9811-3f166c9b043f",
   "metadata": {},
   "source": [
    "`dict` is the last built-in (\"standard\") python datatype you will learn from me in this class. But is is not any less important than the other ones. Dictionaries are used in plenty of situations! Let me show you a few \"real world\" examples."
   ]
  },
  {
   "cell_type": "markdown",
   "id": "3878fd35-3af5-4b4f-9cb4-cd0b4f024f56",
   "metadata": {},
   "source": [
    "### Dictionary as \"translators\" "
   ]
  },
  {
   "cell_type": "markdown",
   "id": "731cba0f-8bc9-4e88-b7f2-22f3ea846e40",
   "metadata": {},
   "source": [
    "Similar to the example above, dictionaries are good to store data (values) sorted by entries (keys). We use this feature to provide several language on our [world glacier explorer app](https://edu.oggm.org/en/latest/explorer.html). The translation algorithm looks a lot like this simplified code: "
   ]
  },
  {
   "cell_type": "code",
   "execution_count": 10,
   "id": "dba512a5-c182-4e81-ab04-08b9ba93c2af",
   "metadata": {},
   "outputs": [
    {
     "name": "stdout",
     "output_type": "stream",
     "text": [
      "Hello Émilie! How are you?\n",
      "Bonjour Émilie! Comment ça va?\n",
      "Hallo Émilie! Wie geht es dir?\n"
     ]
    }
   ],
   "source": [
    "s1 = {\n",
    "    'en': 'Hello {}! ',\n",
    "    'fr': 'Bonjour {}! ',\n",
    "    'de': 'Hallo {}! ',\n",
    "}\n",
    "\n",
    "s2 = {\n",
    "    'en': 'How are you?',\n",
    "    'fr': 'Comment ça va?',\n",
    "    'de': 'Wie geht es dir?',\n",
    "}\n",
    "\n",
    "# Pick a language and print the sentence\n",
    "# Note that we are looping over the keys with this simple syntax\n",
    "for lan in s1:\n",
    "    # Print the sentence\n",
    "    print(s1[lan].format('Émilie') + s2[lan])"
   ]
  },
  {
   "cell_type": "markdown",
   "id": "eb685999-32ff-47f6-8f84-44b3fcea2a80",
   "metadata": {},
   "source": [
    "[Here](https://github.com/OGGM/world-glacier-explorer/blob/master/international.py) is the translation file for the glacier explorer app if you are interested."
   ]
  },
  {
   "cell_type": "markdown",
   "id": "7e833441-2f3e-4cf5-a7db-452c9462c09f",
   "metadata": {},
   "source": [
    "### Dictionary as a set of counters"
   ]
  },
  {
   "cell_type": "markdown",
   "id": "ed3ceffb-18c2-42e5-8e53-fc88ebf82c8c",
   "metadata": {},
   "source": [
    "Suppose you are given a string and you want to count how many times each letter appears. There are several ways you could do it, but one good way is to use a `dict`:"
   ]
  },
  {
   "cell_type": "code",
   "execution_count": 11,
   "id": "84731bf3-110c-4159-898d-94c3b43a57c9",
   "metadata": {},
   "outputs": [
    {
     "data": {
      "text/plain": [
       "{'b': 1, 'r': 2, 'o': 2, 'n': 1, 't': 1, 's': 2, 'a': 1, 'u': 2}"
      ]
     },
     "execution_count": 11,
     "metadata": {},
     "output_type": "execute_result"
    }
   ],
   "source": [
    "word = 'brontosaurus'\n",
    "d = dict()\n",
    "for c in word:\n",
    "    if c not in d:\n",
    "        d[c] = 1\n",
    "    else:\n",
    "        d[c] = d[c] + 1\n",
    "d"
   ]
  },
  {
   "cell_type": "markdown",
   "id": "5536a066-5806-46a7-803a-e5b1edd67081",
   "metadata": {},
   "source": [
    "We are effectively computing a **histogram**, which is a statistical term for a set of counters (or frequencies).\n",
    "\n",
    "The for loop traverses the string. Each time through the loop, if the character `c` is not in the dictionary, we create a new item with key `c` and the initial value `1` \n",
    "(since we have seen this letter once). If `c` is already in the dictionary we increment `d[c]` by 1."
   ]
  },
  {
   "cell_type": "markdown",
   "id": "e2c566f0-0390-486d-9943-46360fa70d36",
   "metadata": {},
   "source": [
    "Dictionaries have a method called `.get()` that takes a key and a default value. If the key appears in the dictionary, get returns the corresponding value; otherwise it returns the default value. For example:"
   ]
  },
  {
   "cell_type": "code",
   "execution_count": 12,
   "id": "22fdd298-36ad-4f28-a2d2-d9fbe057ac56",
   "metadata": {},
   "outputs": [
    {
     "name": "stdout",
     "output_type": "stream",
     "text": [
      "100\n",
      "0\n"
     ]
    }
   ],
   "source": [
    "counts = {'chuck': 1, 'annie': 42, 'jan': 100}\n",
    "print(counts.get('jan', 0))\n",
    "print(counts.get('tim', 0))"
   ]
  },
  {
   "cell_type": "markdown",
   "id": "f9a4556a-5620-4f7f-b95f-cbe646246d29",
   "metadata": {},
   "source": [
    "We can use `.get()` to write our histogram loop more concisely. Because the get method automatically handles the case where a key is not in a dictionary, we can reduce four lines down to one and eliminate the `if` statement:"
   ]
  },
  {
   "cell_type": "code",
   "execution_count": 13,
   "id": "b2431d9c-1f81-4ebc-8bcc-e4281adbdc9d",
   "metadata": {},
   "outputs": [
    {
     "data": {
      "text/plain": [
       "{'b': 1, 'r': 2, 'o': 2, 'n': 1, 't': 1, 's': 2, 'a': 1, 'u': 2}"
      ]
     },
     "execution_count": 13,
     "metadata": {},
     "output_type": "execute_result"
    }
   ],
   "source": [
    "word = 'brontosaurus'\n",
    "d = dict()\n",
    "for c in word:\n",
    "    d[c] = d.get(c, 0) + 1\n",
    "d"
   ]
  },
  {
   "cell_type": "markdown",
   "id": "ebb1c586-b2e0-4ecc-9415-bf1114184f19",
   "metadata": {},
   "source": [
    "The use of the `.get()` method to simplify this counting loop ends up being a very commonly used \"idiom\" (strategy) in Python. So you should take a moment and compare the loop using the if statement and in operator with the loop using the get method. They do exactly the same thing, but one is more succinct."
   ]
  },
  {
   "cell_type": "markdown",
   "id": "9fd267ed-88ef-41ee-8acb-41537fd0e7f7",
   "metadata": {},
   "source": [
    "### Dictionaries as very efficient \"search\" tools"
   ]
  },
  {
   "cell_type": "markdown",
   "id": "e48a279f-9771-4211-80b2-ef85b2cc6114",
   "metadata": {},
   "source": [
    "Lists and dictionaries have a few things in common:\n",
    "- they both contain data (they are \"containers\")\n",
    "- they have a length\n",
    "- they can be indexed\n",
    "- ...\n",
    "\n",
    "Lists are indexed by integer (location), while dicts are indexed by key. This makes the reading and structuring of data much easier (see \"Dictionary as containers\" section below).\n",
    "\n",
    "One of the things that dictionaries excel at is to check whether or not a key is available or not. Check the following examples"
   ]
  },
  {
   "cell_type": "code",
   "execution_count": 14,
   "id": "65dcb8d4-e127-44c4-a0cc-33868dee6682",
   "metadata": {},
   "outputs": [],
   "source": [
    "l = list(range(1000))"
   ]
  },
  {
   "cell_type": "markdown",
   "id": "bbf9d8a1-14e1-488c-b7fa-da9013b18551",
   "metadata": {},
   "source": [
    "`l` is a list of 1000 numbers (from 0 to 999). You can check if a value is in the list with:"
   ]
  },
  {
   "cell_type": "code",
   "execution_count": 15,
   "id": "b9211bea-083c-4748-9263-14d17bb8afc8",
   "metadata": {},
   "outputs": [
    {
     "data": {
      "text/plain": [
       "True"
      ]
     },
     "execution_count": 15,
     "metadata": {},
     "output_type": "execute_result"
    }
   ],
   "source": [
    "2 in l"
   ]
  },
  {
   "cell_type": "markdown",
   "id": "e46c0fce-e638-488d-9e7e-fa865879710c",
   "metadata": {},
   "source": [
    "It turns out that the time needed for this check is much longer if the value is at the end of the list or at the beginning:"
   ]
  },
  {
   "cell_type": "code",
   "execution_count": 16,
   "id": "cdcb9c9d-d712-4b96-b9fc-83fde93f7723",
   "metadata": {},
   "outputs": [
    {
     "name": "stdout",
     "output_type": "stream",
     "text": [
      "54.2 ns ± 2.04 ns per loop (mean ± std. dev. of 7 runs, 10000000 loops each)\n"
     ]
    }
   ],
   "source": [
    "%timeit 2 in l"
   ]
  },
  {
   "cell_type": "code",
   "execution_count": 17,
   "id": "97620c4d-cb60-4c25-92f3-406a22509dc4",
   "metadata": {},
   "outputs": [
    {
     "name": "stdout",
     "output_type": "stream",
     "text": [
      "11.6 µs ± 258 ns per loop (mean ± std. dev. of 7 runs, 100000 loops each)\n"
     ]
    }
   ],
   "source": [
    "%timeit 998 in l"
   ]
  },
  {
   "cell_type": "markdown",
   "id": "3b6100ff-43b8-48ba-bb7c-778673b19f61",
   "metadata": {},
   "source": [
    "So almost a factor 200 slower!!! \n",
    "\n",
    "**Exercise: can you explain why this is the case?**\n",
    "\n",
    "Now lets repeat this exercise with a dict:"
   ]
  },
  {
   "cell_type": "code",
   "execution_count": 18,
   "id": "45832ce1-4622-4eaf-a5a4-4231767f14d6",
   "metadata": {},
   "outputs": [],
   "source": [
    "d = dict(zip(l, l))  # you can forget about this command for now"
   ]
  },
  {
   "cell_type": "markdown",
   "id": "55afba7b-7cc6-4ceb-82d5-6c46ba869aea",
   "metadata": {},
   "source": [
    "`d` is now a dict with 999 key-value pairs:"
   ]
  },
  {
   "cell_type": "code",
   "execution_count": 19,
   "id": "4f13b55a-b25d-4a56-92ab-deb776dcac78",
   "metadata": {},
   "outputs": [
    {
     "name": "stdout",
     "output_type": "stream",
     "text": [
      "0 1 999\n",
      "True\n"
     ]
    }
   ],
   "source": [
    "print(d[0], d[1], d[999])\n",
    "print(2 in d)"
   ]
  },
  {
   "cell_type": "markdown",
   "id": "c420135d-7229-4eff-bb61-6585ca25cb1d",
   "metadata": {},
   "source": [
    "Let's see the performance of our search:"
   ]
  },
  {
   "cell_type": "code",
   "execution_count": 20,
   "id": "041a54c8-3aef-458d-ae30-edc1cff9629c",
   "metadata": {},
   "outputs": [
    {
     "name": "stdout",
     "output_type": "stream",
     "text": [
      "36.3 ns ± 2.36 ns per loop (mean ± std. dev. of 7 runs, 10000000 loops each)\n"
     ]
    }
   ],
   "source": [
    "%timeit 2 in d"
   ]
  },
  {
   "cell_type": "markdown",
   "id": "012908a2-10e9-488c-abf9-ecf25f878339",
   "metadata": {},
   "source": [
    "So more or less the performance of a list search when the value is at the beginning. What about the end?"
   ]
  },
  {
   "cell_type": "code",
   "execution_count": 21,
   "id": "d50831e7-9558-4019-93bc-6b13a61664ca",
   "metadata": {},
   "outputs": [
    {
     "name": "stdout",
     "output_type": "stream",
     "text": [
      "46.7 ns ± 1.71 ns per loop (mean ± std. dev. of 7 runs, 10000000 loops each)\n"
     ]
    }
   ],
   "source": [
    "%timeit 998 in d"
   ]
  },
  {
   "cell_type": "markdown",
   "id": "673c128f-6d9c-4d7f-a92d-6251c50a89e6",
   "metadata": {},
   "source": [
    "So almost the same performance!!! This feature is possible thanks to a very clever algorithm (hash-tables) which is not part of this lecture. \n",
    "\n",
    "OK, so why is this useful? See for example this [list of English words I downloaded from the internet](https://raw.githubusercontent.com/dwyl/english-words/master/words_dictionary.json). If you click on the link you will see that the author decided to store it as a `json` file (a dictionary) with the words as keys and only ones as values. But why? Let's find out:"
   ]
  },
  {
   "cell_type": "code",
   "execution_count": 22,
   "id": "a3345c60-0ad0-4e6c-9983-4b1df085b298",
   "metadata": {},
   "outputs": [],
   "source": [
    "import json\n",
    "with open('words_dictionary.json') as wf:\n",
    "    words = json.load(wf)"
   ]
  },
  {
   "cell_type": "code",
   "execution_count": 23,
   "id": "da772232-f387-4432-bc38-0e60dc8e5a35",
   "metadata": {},
   "outputs": [
    {
     "data": {
      "text/plain": [
       "370101"
      ]
     },
     "execution_count": 23,
     "metadata": {},
     "output_type": "execute_result"
    }
   ],
   "source": [
    "len(words)"
   ]
  },
  {
   "cell_type": "code",
   "execution_count": 24,
   "id": "622ddd06-c9e9-4f1b-a719-cbfcf4f819fe",
   "metadata": {},
   "outputs": [
    {
     "data": {
      "text/plain": [
       "1"
      ]
     },
     "execution_count": 24,
     "metadata": {},
     "output_type": "execute_result"
    }
   ],
   "source": [
    "words['computer']"
   ]
  },
  {
   "cell_type": "markdown",
   "id": "204072d4-99b2-4e2a-a4a2-cd2e5058422e",
   "metadata": {},
   "source": [
    "This looks a bit silly (the \"1s\" are truly useless), but with this we can take advantage of the dictionaries efficient hash-table search algorithm. Checking if \"ambivalent\" exists is as fast as checking for \"zoo\":"
   ]
  },
  {
   "cell_type": "code",
   "execution_count": 26,
   "id": "e8453e3d-8e5f-4a6d-a27b-961adf41d735",
   "metadata": {},
   "outputs": [
    {
     "name": "stdout",
     "output_type": "stream",
     "text": [
      "zoo is an english word\n",
      "bird is an english word\n",
      "spätzle is not an english word\n"
     ]
    }
   ],
   "source": [
    "for w in ['zoo', 'bird', 'spätzle']:\n",
    "    if w in words:\n",
    "        print(f'{w} is an english word')\n",
    "    else:\n",
    "        print(f'{w} is not an english word')"
   ]
  },
  {
   "cell_type": "markdown",
   "id": "63ea6b46-e272-492b-96f1-800fb42bf232",
   "metadata": {},
   "source": [
    "```{note}\n",
    "Another python datatype ([sets](https://docs.python.org/3/tutorial/datastructures.html#sets)) would be even better than dicts (same speed, no need for \"1s\"), but we won't talk about is today.\n",
    "```"
   ]
  },
  {
   "cell_type": "markdown",
   "id": "72e7badc-7b38-4089-aae2-c64b22a1846e",
   "metadata": {},
   "source": [
    "### Dictionaries as structured containers"
   ]
  },
  {
   "cell_type": "markdown",
   "id": "36302bd2-4f1b-4268-b771-9a36acf767f9",
   "metadata": {},
   "source": [
    "This is probably the main use of dictionaries. They allow to share information in a structured and human readable form. For example, the [ACINN weather data](https://acinn-data.uibk.ac.at/innsbruck/3) shared online comes in the [JSON](https://en.wikipedia.org/wiki/JSON#Syntax) format (which is read as a dictionary in python): the keys are the variable names and the values are the timeseries. \n",
    "\n",
    "The dictionary syntax (`d['key'] = value`) is also used extensively by high-level data structures such as [pandas](https://pandas.pydata.org) dataframes. This will be the topic of our next unit."
   ]
  },
  {
   "cell_type": "markdown",
   "id": "c8b53117-fab7-4a75-8727-cb9bec6c0a22",
   "metadata": {},
   "source": [
    "## Learning checklist "
   ]
  },
  {
   "cell_type": "markdown",
   "id": "b6aa99f0-7479-4810-85b8-1a1f16e26172",
   "metadata": {},
   "source": [
    "<label><input type=\"checkbox\" id=\"week05_01\" class=\"box\"> I understand the differences between a dictionary and a list.</input></label><br>\n",
    "<label><input type=\"checkbox\" id=\"week05_01\" class=\"box\"> I know what a \"key-value pair\" is.</input></label><br>\n",
    "<label><input type=\"checkbox\" id=\"week05_01\" class=\"box\"> I know how to check if a dictionary contains a key, and if not return a default value.</input></label><br>\n",
    "<label><input type=\"checkbox\" id=\"week05_01\" class=\"box\"> I am aware that dictionaries are very fast at searching for keys.</input></label><br>\n",
    "<label><input type=\"checkbox\" id=\"week05_01\" class=\"box\"> I am aware of the potential of dictionaries as structured data containers.</input></label><br>"
   ]
  }
 ],
 "metadata": {
  "kernelspec": {
   "display_name": "Python 3 (ipykernel)",
   "language": "python",
   "name": "python3"
  },
  "language_info": {
   "codemirror_mode": {
    "name": "ipython",
    "version": 3
   },
   "file_extension": ".py",
   "mimetype": "text/x-python",
   "name": "python",
   "nbconvert_exporter": "python",
   "pygments_lexer": "ipython3",
   "version": "3.10.8"
  }
 },
 "nbformat": 4,
 "nbformat_minor": 5
}
