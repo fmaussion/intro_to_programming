{
 "cells": [
  {
   "cell_type": "markdown",
   "id": "8e92e4e2-961b-42bc-b83d-836ab230a103",
   "metadata": {},
   "source": [
    "# Programming project "
   ]
  },
  {
   "cell_type": "markdown",
   "id": "dc8c3778-ac59-48f7-8cd4-e7a837305bc7",
   "metadata": {},
   "source": [
    "## Instructions "
   ]
  },
  {
   "cell_type": "markdown",
   "id": "87b388aa-7011-4714-b5e0-1662f993669b",
   "metadata": {},
   "source": [
    "The programming tasks described below have to be done **in groups of two**. It's totally okay to ask for help or advice to others (also to me!), but copy-pasting from your classmates is strictly forbidden. You will see that some tasks require internet searches that go beyond what you've learned in my class notes. This is expected: my goal is for you to be able to solve new problems more or less independently.\n",
    "\n",
    "Project due date: **Sunday 11.06.2023, 23:59** (the return folders on OLAT will close at precisely this time - no exceptions!)\n",
    "\n",
    "Please return two files:\n",
    "- the full notebook as `.ipynb`, executed with all outputs (I recommend to execute \"*Restart kernel and run all cells*\" one last time before submission)\n",
    "- any additional file you may have downloaded for your project (as zip or tar file containing several files if too large).\n",
    "\n",
    "Please return only one project per group (one of the two has to upload the files).\n",
    "\n",
    "**Grading** (30% of the final VU grade) will be based on the following criteria:\n",
    "- correctness of the code (the notebook should theoretically run on my laptop as well, assuming that the data files are in the folder)\n",
    "- correctness of the solutions (correct plot, correct values, etc.)\n",
    "- for the plots: correct use of title, axis labels, units, etc.\n",
    "- clarity of the code (no unused lines of code, presence of inline comments, etc.)\n",
    "- clarity and layout of the overall document (correct use of the Jupyter Notebook markdown format)\n",
    "- originality (for the open project)\n",
    "\n",
    "You can download this notebook to get started. Delete this \"Instructions\" section, add your name and Matrikelnummer and start coding! For the tasks that ask for a written answer (e.g. some values, answers, etc.), please **use the notebook's markdown format to write them down**!"
   ]
  },
  {
   "cell_type": "markdown",
   "id": "259f434f-2fee-46ee-a379-3224f25115d9",
   "metadata": {},
   "source": [
    "## Preamble"
   ]
  },
  {
   "cell_type": "markdown",
   "id": "6d9e7e35-c475-42f5-b101-ce94ad8c045d",
   "metadata": {},
   "source": [
    "- **Names**: \n",
    "- **Matrikelnummer**: "
   ]
  },
  {
   "cell_type": "markdown",
   "id": "7c230d34-4ade-47c0-932f-93d7c06321a1",
   "metadata": {},
   "source": [
    "## 01 - An energy balance model with hysteresis "
   ]
  },
  {
   "cell_type": "markdown",
   "id": "63c88b4d-dc68-4f61-b6e7-77eb86b7bf6e",
   "metadata": {},
   "source": [
    "Based on the code we wrote in [week 07](../week_07/02-Assignment), code the following extension. For this exercise it's OK to copy-paste my solutions and start from there. Only copy the necessary (no useless code)!\n",
    " \n",
    "The planetary albedo $\\alpha$ is in fact changing with climate change. As the temperature drops, sea-ice and ice sheets are extending (increasing the albedo). Inversely, the albedo decreases as temperature rises. The planetary albedo of our simple energy balance model follows the following equation:\n",
    "\n",
    "$$\n",
    "\\alpha = \n",
    "\\begin{cases}\n",
    "    0.3,& \\text{if } T \\gt 280\\\\\n",
    "    0.7,& \\text{if } T \\lt 250\\\\\n",
    "    a T + b,  & \\text{otherwise}\n",
    "\\end{cases}\n",
    "$$\n",
    "\n",
    "**01-01**: Compute the parameters $a$ and $b$ so that the equation is continuous at T=250K and T=280K.\n",
    "\n",
    "**01-02**: Now write a function called `alpha_from_temperature` which accepts a single positional parameter `T` as input (a scalar) and returns the corresponding albedo. Test your function using doctests to make sure that it complies to the instructions above.\n",
    "\n",
    "**01-03**: Adapt the existing code from week 07 to write a function called `temperature_change_with_hysteresis` which accepts `t0` (the starting temperature in K), `n_years` (the number of simulation years) as positional arguments and `tau` (the atmosphere transmissivity) as keyword argument (default value 0.611). Verify that:\n",
    "- the stabilization temperature with `t0 = 292` and default tau is approximately 288K \n",
    "- the stabilization temperature with `t0 = 265` and default tau is approximately 233K\n",
    "\n",
    "**01-04**: Realize a total of N simulations with starting temperatures regularly spaced between `t0`=206K, and `t0`=318K and plot them on a single plot for `n_years`=50. The plot should look somewhat similar to [this example](https://github.com/fmaussion/intro_to_programming/blob/master/book/project/hysteresis_bw.png) for `N=21`.\n",
    "\n",
    "**Bonus**: only if you want (and if time permits), you can try to increase N and add colors to your plot to create a graph similar to [this one](https://github.com/fmaussion/intro_to_programming/blob/master/book/project/hysteresis_bonus.png). "
   ]
  },
  {
   "cell_type": "markdown",
   "id": "e5911ddc-8073-4e9a-b189-c725f51e324e",
   "metadata": {},
   "source": [
    "## 02 - Weather station data files"
   ]
  },
  {
   "cell_type": "markdown",
   "id": "ffb0648b-4484-449a-91e7-63c60715f13e",
   "metadata": {},
   "source": [
    "I downloaded 10 min data from the recently launched [ZAMG data hub](https://data.hub.zamg.ac.at/dataset/klima-v1-10min). The data file contains selected parameters from the \"INNSBRUCK-FLUGPLATZ (ID: 11804)\" weather station.\n",
    "\n",
    "You can download the data from the following links (right-click + \"Save as...\"):\n",
    "- [station data](https://github.com/fmaussion/intro_to_programming/raw/master/book/project/INNSBRUCK-FLUGPLATZ_Datensatz_20150101_20211231.csv)\n",
    "- [parameter metadata](https://github.com/fmaussion/intro_to_programming/raw/master/book/project/ZEHNMIN%20Parameter-Metadaten.csv)\n",
    "- [station list from the ZAMG](https://github.com/fmaussion/intro_to_programming/raw/master/book/project/ZEHNMIN%20Stations-Metadaten.csv) (in a better format than last time)\n",
    "\n",
    "Let me open the data for you and display its content:"
   ]
  },
  {
   "cell_type": "code",
   "execution_count": 1,
   "id": "7d2d50d4-df8d-4606-a07d-f4f18bcd1ff6",
   "metadata": {},
   "outputs": [],
   "source": [
    "import pandas as pd\n",
    "import numpy as np\n",
    "import matplotlib.pyplot as plt"
   ]
  },
  {
   "cell_type": "code",
   "execution_count": 2,
   "id": "b69f3029-a1c6-4cb3-b616-c7029ecb4994",
   "metadata": {},
   "outputs": [],
   "source": [
    "df = pd.read_csv('INNSBRUCK-FLUGPLATZ_Datensatz_20150101_20211231.csv', index_col=1, parse_dates=True)\n",
    "df = df.drop('station', axis=1)"
   ]
  },
  {
   "cell_type": "markdown",
   "id": "22b0941c-2f61-4344-9a06-fcfb517c0a86",
   "metadata": {},
   "source": [
    "**02-01**: after reading the documentation of the respective functions (and maybe try a few things yourself), explain in plain sentences:\n",
    "- what am I asking pandas to do with the `index_col=1, parse_dates=True` keyword arguments? Why am I doing this?\n",
    "- what am I asking pandas to do with `.drop()`? Why `axis=1`?"
   ]
  },
  {
   "cell_type": "markdown",
   "id": "796ff10f-8c0d-494a-b17e-f8ccf724b731",
   "metadata": {},
   "source": [
    "Now let me do something else from you:"
   ]
  },
  {
   "cell_type": "code",
   "execution_count": 3,
   "id": "02e567c2-318c-4112-9718-e76d884c8f7c",
   "metadata": {},
   "outputs": [
    {
     "data": {
      "text/html": [
       "<div>\n",
       "<style scoped>\n",
       "    .dataframe tbody tr th:only-of-type {\n",
       "        vertical-align: middle;\n",
       "    }\n",
       "\n",
       "    .dataframe tbody tr th {\n",
       "        vertical-align: top;\n",
       "    }\n",
       "\n",
       "    .dataframe thead th {\n",
       "        text-align: right;\n",
       "    }\n",
       "</style>\n",
       "<table border=\"1\" class=\"dataframe\">\n",
       "  <thead>\n",
       "    <tr style=\"text-align: right;\">\n",
       "      <th></th>\n",
       "      <th>Kurzbeschreibung</th>\n",
       "      <th>Beschreibung</th>\n",
       "      <th>Einheit</th>\n",
       "    </tr>\n",
       "  </thead>\n",
       "  <tbody>\n",
       "    <tr>\n",
       "      <th>DD</th>\n",
       "      <td>Windrichtung</td>\n",
       "      <td>Windrichtung, vektorielles Mittel über 10 Minuten</td>\n",
       "      <td>°</td>\n",
       "    </tr>\n",
       "    <tr>\n",
       "      <th>FF</th>\n",
       "      <td>vektorielle Windgeschwindigkeit</td>\n",
       "      <td>Windgeschwindigkeit, vektorielles Mittel über ...</td>\n",
       "      <td>m/s</td>\n",
       "    </tr>\n",
       "    <tr>\n",
       "      <th>GSX</th>\n",
       "      <td>Globalstrahlung</td>\n",
       "      <td>Globalstrahlung, arithmetisches Mittel über 10...</td>\n",
       "      <td>W/m²</td>\n",
       "    </tr>\n",
       "    <tr>\n",
       "      <th>P</th>\n",
       "      <td>Luftdruck</td>\n",
       "      <td>Luftdruck, Basiswert zur Minute10</td>\n",
       "      <td>hPa</td>\n",
       "    </tr>\n",
       "    <tr>\n",
       "      <th>RF</th>\n",
       "      <td>Relative Feuchte</td>\n",
       "      <td>Relative Luftfeuchte, Basiswert zur Minute10</td>\n",
       "      <td>%</td>\n",
       "    </tr>\n",
       "    <tr>\n",
       "      <th>RR</th>\n",
       "      <td>Niederschlag</td>\n",
       "      <td>10 Minuten Summe des Niederschlags, Summe der ...</td>\n",
       "      <td>mm</td>\n",
       "    </tr>\n",
       "    <tr>\n",
       "      <th>SO</th>\n",
       "      <td>Sonnenscheindauer</td>\n",
       "      <td>Sonnenscheindauer, Sekundensumme über 10 Minuten</td>\n",
       "      <td>s</td>\n",
       "    </tr>\n",
       "    <tr>\n",
       "      <th>TB1</th>\n",
       "      <td>Erdbodentemperatur in 10cm Tiefe</td>\n",
       "      <td>Erdbodentemperatur in 10cm Tiefe, Basiswert zu...</td>\n",
       "      <td>°C</td>\n",
       "    </tr>\n",
       "    <tr>\n",
       "      <th>TB2</th>\n",
       "      <td>Erdbodentemperatur in 20cm Tiefe</td>\n",
       "      <td>Erdbodentemperatur in 20cm Tiefe, Basiswert zu...</td>\n",
       "      <td>°C</td>\n",
       "    </tr>\n",
       "    <tr>\n",
       "      <th>TB3</th>\n",
       "      <td>Erdbodentemperatur in 50cm Tiefe</td>\n",
       "      <td>Erdbodentemperatur in 50cm Tiefe, Basiswert zu...</td>\n",
       "      <td>°C</td>\n",
       "    </tr>\n",
       "    <tr>\n",
       "      <th>TL</th>\n",
       "      <td>Lufttemperatur in 2m</td>\n",
       "      <td>Lufttemperatur in 2m Höhe, Basiswert zur Minute10</td>\n",
       "      <td>°C</td>\n",
       "    </tr>\n",
       "    <tr>\n",
       "      <th>TP</th>\n",
       "      <td>Taupunkt</td>\n",
       "      <td>Taupunktstemperatur,  Basiswert zur Minute10</td>\n",
       "      <td>°C</td>\n",
       "    </tr>\n",
       "  </tbody>\n",
       "</table>\n",
       "</div>"
      ],
      "text/plain": [
       "                     Kurzbeschreibung  \\\n",
       "DD                       Windrichtung   \n",
       "FF    vektorielle Windgeschwindigkeit   \n",
       "GSX                   Globalstrahlung   \n",
       "P                           Luftdruck   \n",
       "RF                   Relative Feuchte   \n",
       "RR                       Niederschlag   \n",
       "SO                  Sonnenscheindauer   \n",
       "TB1  Erdbodentemperatur in 10cm Tiefe   \n",
       "TB2  Erdbodentemperatur in 20cm Tiefe   \n",
       "TB3  Erdbodentemperatur in 50cm Tiefe   \n",
       "TL               Lufttemperatur in 2m   \n",
       "TP                           Taupunkt   \n",
       "\n",
       "                                          Beschreibung Einheit  \n",
       "DD   Windrichtung, vektorielles Mittel über 10 Minuten       °  \n",
       "FF   Windgeschwindigkeit, vektorielles Mittel über ...     m/s  \n",
       "GSX  Globalstrahlung, arithmetisches Mittel über 10...    W/m²  \n",
       "P                    Luftdruck, Basiswert zur Minute10     hPa  \n",
       "RF        Relative Luftfeuchte, Basiswert zur Minute10       %  \n",
       "RR   10 Minuten Summe des Niederschlags, Summe der ...      mm  \n",
       "SO    Sonnenscheindauer, Sekundensumme über 10 Minuten       s  \n",
       "TB1  Erdbodentemperatur in 10cm Tiefe, Basiswert zu...      °C  \n",
       "TB2  Erdbodentemperatur in 20cm Tiefe, Basiswert zu...      °C  \n",
       "TB3  Erdbodentemperatur in 50cm Tiefe, Basiswert zu...      °C  \n",
       "TL   Lufttemperatur in 2m Höhe, Basiswert zur Minute10      °C  \n",
       "TP        Taupunktstemperatur,  Basiswert zur Minute10      °C  "
      ]
     },
     "execution_count": 3,
     "metadata": {},
     "output_type": "execute_result"
    }
   ],
   "source": [
    "dfmeta = pd.read_csv('ZEHNMIN Parameter-Metadaten.csv', index_col=0)\n",
    "dfmeta.loc[df.columns]"
   ]
  },
  {
   "cell_type": "markdown",
   "id": "7525a142-e970-48c4-8925-aea814e961d5",
   "metadata": {},
   "source": [
    "**02-02**: again, explain in plain sentences what the `dfmeta.loc[df.columns]` is doing, and why it works that way."
   ]
  },
  {
   "cell_type": "markdown",
   "id": "3d6186e1-fd30-4ede-9ac6-cd0d798e251a",
   "metadata": {},
   "source": [
    "Finally, let me do a last step for you before you start coding: "
   ]
  },
  {
   "cell_type": "code",
   "execution_count": 4,
   "id": "45938a77-5f79-47ec-b2ba-37bb123a44e1",
   "metadata": {},
   "outputs": [],
   "source": [
    "dfh = df.resample('H').mean()"
   ]
  },
  {
   "cell_type": "markdown",
   "id": "ea9eba0b-2dfa-47f0-93d3-bdf5191b4fc2",
   "metadata": {},
   "source": [
    "**02-03**: explore the `dfh` dataframe. Explain, in plain words, what the purpose of `.resample('H')` followed by `mean()` is. Explain what `.resample('H').max()` and `.resample('H').sum()` would do. \n",
    "\n",
    "**02-04**: Using `np.allclose`, make sure that the average of the first hour (that you'll compute yourself from `df`) is indeed equal to the first row of `dfh`. Now, two variables in the dataframe have units that aren't suitable for averaging. Please convert the following variables to the correct units:\n",
    "- `RR` needs to be converted from the average of 10 min sums to mm/h\n",
    "- `SO` needs to be converted from the average of 10 min sums to s/h"
   ]
  },
  {
   "cell_type": "markdown",
   "id": "f38093a9-26f6-40b8-a51f-c04b860664f8",
   "metadata": {},
   "source": [
    "**From now on, we will use the hourly data only** (and further aggregations when necessary). The 10 mins data are great but require a little bit more of pandas kung fu (the chinese term, not the sport) to be used efficiently. \n",
    "\n",
    "Spend some time exploring the `dfh` dataframe we just created. What time period does it cover? What variables does it contain?\n",
    "\n",
    "**Note on pandas:** all the exercises below can be done with or without pandas. Each question can be answered with very few lines of code (often one or two) with pandas, and I recommend to use it as much as possible. If you want, you can always use numpy in case of doubt: you can access the data as a numpy array with: `df[column_name].values`."
   ]
  },
  {
   "cell_type": "markdown",
   "id": "f9e33d3e-f6ae-496a-8db7-5b9d197131ab",
   "metadata": {},
   "source": [
    "## 03 - Precipitation "
   ]
  },
  {
   "cell_type": "markdown",
   "id": "eb387278-fb5b-48a1-b951-4c6eb2232536",
   "metadata": {},
   "source": [
    "In this section, we will focus on precipitation only.\n",
    "\n",
    "**03-01**: Compute the average annual precipitation (m/year) over the 7-year period.\n",
    "\n",
    "**03-02**: What is the smallest non-zero precipitation measured at the station? What is the maximum hourly precipitation measured at the station? When did this occur?\n",
    "\n",
    "**03-03**: Plot a [histogram](https://pandas.pydata.org/docs/reference/api/pandas.DataFrame.plot.hist.html) of hourly precipitation, with bins of size 0.2 mm/h, starting at 0.1 mm/h and ending at 25 mm/h. Plot the same data, but this time with a logarithmic y-axis. Compute the 99th [percentile](https://en.wikipedia.org/wiki/Percentile) (or quantile) of hourly precipitation.\n",
    "\n",
    "**03-04**: Compute daily sums (mm/d) of precipitation (tip: use `.resample` again). Compute the average number or rain days per year in Innsbruck (a \"rain day\" is a day with at least 0.1 mm / d of measured precipitation).\n",
    "\n",
    "**03-05**: Now select (subset) the *daily* dataframe to keep only only daily data in the months of December, January, February (DFJ). To do this, note that `dfh.index.month` exists and can be used to subset the data efficiently. Compute the average precipitation in DJF (mm / d), and the average number of rainy days in DJF. Repeat with the months of June, July, August (JJA).\n",
    "\n",
    "**03-06**: Repeat the DJF and JJA subsetting, but this time with hourly data. Count the total number of times that hourly precipitation in DJF is above the 99th percentile computed in exercise 03-03. Repeat with JJA.\n",
    "\n",
    "**03-07**: Compute and plot the average daily cycle of hourly precipitation in DFJ and JJA. I expect a plot similar to [this example](https://github.com/fmaussion/intro_to_programming/blob/master/book/project/precip_dailycycle.png). To compute the daily cycle, I recommend to combine two very useful tools. First, start by noticing that `ds.index.hour` exists and can be used to categorize data. Then, note that `df.groupby` exists and can be used exactly for that ([documentation](https://pandas.pydata.org/docs/user_guide/groupby.html#aggregation))."
   ]
  },
  {
   "cell_type": "markdown",
   "id": "c9216eca-2046-4c21-b71e-fa30ffa48f0a",
   "metadata": {},
   "source": [
    "## 04 - A few other variables"
   ]
  },
  {
   "cell_type": "markdown",
   "id": "692c16ce-1ed6-4bc2-b881-120df0dccc8a",
   "metadata": {},
   "source": [
    "In this section, we will continue to analyze the weather station data.\n",
    "\n",
    "**04-01**: Verify that the three soil temperatures have approximately the same average value over the entire period. Now plot the three soil temperature timeseries in hourly resolution over the course of the year of 2020 ([example](https://github.com/fmaussion/intro_to_programming/blob/master/book/project/tsoil.png)). Repeat the plot with the month of may 2020.\n",
    "\n",
    "**04-02**: Plot the average daily cycle of all three soil temperatures.\n",
    "\n",
    "**04-03**: Compute the difference (in °C) between the air temperature and the dewpoint temperature. Now plot this difference on a scatter plot (x-axis: relative humidity, y-axis: temperature difference)."
   ]
  },
  {
   "cell_type": "markdown",
   "id": "e29bc2b1-d0a4-46c0-9ec8-292d12ca4448",
   "metadata": {},
   "source": [
    "## 05 - Free coding project "
   ]
  },
  {
   "cell_type": "markdown",
   "id": "598d78eb-877b-4f55-87d0-423c22eecfea",
   "metadata": {},
   "source": [
    "The last part of this semester project is up to you! You are free to explore whatever interests you. **I however add three requirements**:\n",
    "1. This section should have at least 5 original plots in it. They are the output of your analysis.\n",
    "2. This section should also use additional data that you downloaded yourself. The easiest way would probably be to download another station(s) from the ZAMG database, or data from the same station but for another time period (e.g. for trend or change analysis). You can, however, decide to do something completely different if you prefer (as long as you download and read one more file).\n",
    "3. this section should contain at least one regression or correlation analysis between two parameters. Examples: \n",
    "    - between two different variables at the same station (like we did with the dewpoint above)\n",
    "    - between different stations (for example, average temperature as a function of station elevation)\n",
    "    - between average temperature and time (trends analysis)\n",
    "    - etc.\n",
    "\n",
    "That's it! Here are a few ideas:\n",
    "- detection of trends and changes at the station Innsbruck for 1993-2021\n",
    "- comparison of 5-yr climatologies at various stations in Tirol, taking elevation or location into account\n",
    "- compute the theoretical day length from the station's longitude and latitude (you can find solutions for this online, just let me know the source if you used a solution online), and use these computations to compare the measured sunshine duration to the maximum day length. This can be used to classify \"sunshine days\" for example.\n",
    "- use the python \"windrose\" library to plot a windrose at different locations and time of day.\n",
    "- etc.\n",
    "\n",
    "If you have your own idea but are unsure about whether this is too much or not enough, come to see me in class! In general, the three requirements above should be enough.\n",
    "\n",
    "**My goal with this section is to let you formulate a programming goal and implement it.**"
   ]
  }
 ],
 "metadata": {
  "kernelspec": {
   "display_name": "Python 3 (ipykernel)",
   "language": "python",
   "name": "python3"
  },
  "language_info": {
   "codemirror_mode": {
    "name": "ipython",
    "version": 3
   },
   "file_extension": ".py",
   "mimetype": "text/x-python",
   "name": "python",
   "nbconvert_exporter": "python",
   "pygments_lexer": "ipython3",
   "version": "3.10.8"
  }
 },
 "nbformat": 4,
 "nbformat_minor": 5
}
