{
 "cells": [
  {
   "cell_type": "markdown",
   "id": "0",
   "metadata": {
    "pycharm": {
     "name": "#%% md\n"
    }
   },
   "source": [
    "# Python dictionaries"
   ]
  },
  {
   "cell_type": "markdown",
   "id": "1",
   "metadata": {},
   "source": [
    "You've already learned about a few important datatypes which are built into the python language: `float` and `int` (for numbers), `str` (for text), `list` (for mutable sequences), `tuple` (for immutable sequences), `func` (for functions)...\n",
    "\n",
    "Today, you will learn about the a further important built-in datatype in the python language: dictionaries (`dict`)\n",
    "\n",
    "*Copyright notice: this lecture is inspired from the [py4e lecture on dictionaries](https://www.py4e.com/html3/09-dictionaries) (CC-BY - Charles R. Severance).*"
   ]
  },
  {
   "cell_type": "markdown",
   "id": "2",
   "metadata": {},
   "source": [
    "## What is a dictionary? "
   ]
  },
  {
   "cell_type": "markdown",
   "id": "3",
   "metadata": {},
   "source": [
    "You can think of a **dictionary** as a *mapping* between a set of indices (which are called **keys**) and a set of **values**. Each key maps to a value. The association of a key and a value is called a **key-value pair** or sometimes an item.\n",
    "\n",
    "As an example, we’ll build a dictionary that maps from English to German words, so the keys and the values are all strings.\n",
    "\n",
    "The function `dict` creates a new dictionary with no items. Because `dict` is the name of a built-in function, you should avoid using it as a variable name:"
   ]
  },
  {
   "cell_type": "code",
   "execution_count": null,
   "id": "4",
   "metadata": {},
   "outputs": [],
   "source": [
    "en2de = dict()\n",
    "print(en2de)"
   ]
  },
  {
   "cell_type": "markdown",
   "id": "5",
   "metadata": {},
   "source": [
    "The curly brackets, `{}`, represent an empty dictionary. To add items to the dictionary, you can use square brackets:"
   ]
  },
  {
   "cell_type": "code",
   "execution_count": null,
   "id": "6",
   "metadata": {},
   "outputs": [],
   "source": [
    "en2de['one'] = 'eins'\n",
    "en2de"
   ]
  },
  {
   "cell_type": "markdown",
   "id": "7",
   "metadata": {},
   "source": [
    "This output format is also an input format. For example, you can create a new dictionary with three items:"
   ]
  },
  {
   "cell_type": "code",
   "execution_count": null,
   "id": "8",
   "metadata": {},
   "outputs": [],
   "source": [
    "en2de = {'one': 'eins', 'two': 'zwei', 'three': 'drei'}\n",
    "en2de"
   ]
  },
  {
   "cell_type": "markdown",
   "id": "9",
   "metadata": {},
   "source": [
    "```{important}\n",
    "In earlier versions of Python (pre 3.7, i.e. pre 2018), dictionaries where not guaranteed to be \"ordered\", i.e. the order at which the key-value pairs are entered were not guaranteed to be preserved when printing the `dict`. As of now, this has become a feature of the language; but you will find many tutorials online (including PY4E) who warn you about this behavior. They are not \"wrong\", they are just a little outdated.\n",
    "```\n",
    "\n",
    "In any case, the strength of dictionaries does not reside in their order (the previous behavior was OK in a large majority of the cases), but in the way one can access the values in them:"
   ]
  },
  {
   "cell_type": "code",
   "execution_count": null,
   "id": "10",
   "metadata": {},
   "outputs": [],
   "source": [
    "en2de['three']  # Acces the value stored at the key \"three\""
   ]
  },
  {
   "cell_type": "markdown",
   "id": "11",
   "metadata": {},
   "source": [
    "This is what dictionaries are *very* good at: finding stuff, quickly (we'll get back to that). \n",
    "\n",
    "If the key isn’t in the dictionary, you get an exception:"
   ]
  },
  {
   "cell_type": "code",
   "execution_count": null,
   "id": "12",
   "metadata": {},
   "outputs": [],
   "source": [
    "en2de['four']"
   ]
  },
  {
   "cell_type": "markdown",
   "id": "13",
   "metadata": {},
   "source": [
    "The `len` function works on dictionaries; it returns the number of key-value pairs:"
   ]
  },
  {
   "cell_type": "code",
   "execution_count": null,
   "id": "14",
   "metadata": {},
   "outputs": [],
   "source": [
    "len(en2de)"
   ]
  },
  {
   "cell_type": "markdown",
   "id": "15",
   "metadata": {},
   "source": [
    "The `in` operator works on dictionaries; it tells you whether something appears as a key in the dictionary (**appearing as a value is not good enough**):"
   ]
  },
  {
   "cell_type": "code",
   "execution_count": null,
   "id": "16",
   "metadata": {},
   "outputs": [],
   "source": [
    "'one' in en2de"
   ]
  },
  {
   "cell_type": "code",
   "execution_count": null,
   "id": "17",
   "metadata": {},
   "outputs": [],
   "source": [
    "'eins' in en2de"
   ]
  },
  {
   "cell_type": "markdown",
   "id": "18",
   "metadata": {},
   "source": [
    "To see whether something appears as a value in a dictionary, you can use the method `.values()`, which returns the values as a type that can be converted to a `list`, and then use the in operator:"
   ]
  },
  {
   "cell_type": "code",
   "execution_count": null,
   "id": "19",
   "metadata": {},
   "outputs": [],
   "source": [
    "values = list(en2de.values())\n",
    "'eins' in values"
   ]
  },
  {
   "cell_type": "markdown",
   "id": "20",
   "metadata": {},
   "source": [
    "This type of usage is rare for dictionaries though."
   ]
  },
  {
   "cell_type": "markdown",
   "id": "21",
   "metadata": {},
   "source": [
    "## Why dictionaries? "
   ]
  },
  {
   "cell_type": "markdown",
   "id": "22",
   "metadata": {},
   "source": [
    "`dict` is the last built-in (\"standard\") python datatype you will learn from me in this class. But is is not any less important than the other ones. Dictionaries are used in plenty of situations! Let me show you a few \"real world\" examples."
   ]
  },
  {
   "cell_type": "markdown",
   "id": "23",
   "metadata": {},
   "source": [
    "### Dictionary as \"translators\" "
   ]
  },
  {
   "cell_type": "markdown",
   "id": "24",
   "metadata": {},
   "source": [
    "Similar to the example above, dictionaries are good to store data (values) sorted by entries (keys). We use this feature to provide several language on our [world glacier explorer app](https://edu.oggm.org/en/latest/explorer.html). The translation algorithm looks a lot like this simplified code: "
   ]
  },
  {
   "cell_type": "code",
   "execution_count": null,
   "id": "25",
   "metadata": {},
   "outputs": [],
   "source": [
    "s1 = {\n",
    "    'en': 'Hello {}! ',\n",
    "    'fr': 'Bonjour {}! ',\n",
    "    'de': 'Hallo {}! ',\n",
    "}\n",
    "\n",
    "s2 = {\n",
    "    'en': 'How are you?',\n",
    "    'fr': 'Comment ça va?',\n",
    "    'de': 'Wie geht es dir?',\n",
    "}\n",
    "\n",
    "# Pick a language and print the sentence\n",
    "# Note that we are looping over the keys with this simple syntax\n",
    "for lan in s1:\n",
    "    # Print the sentence\n",
    "    print(s1[lan].format('Émilie') + s2[lan])"
   ]
  },
  {
   "cell_type": "markdown",
   "id": "26",
   "metadata": {},
   "source": [
    "[Here](https://github.com/OGGM/world-glacier-explorer/blob/master/international.py) is the translation file for the glacier explorer app if you are interested."
   ]
  },
  {
   "cell_type": "markdown",
   "id": "27",
   "metadata": {},
   "source": [
    "### Dictionary as a set of counters"
   ]
  },
  {
   "cell_type": "markdown",
   "id": "28",
   "metadata": {},
   "source": [
    "Suppose you are given a string and you want to count how many times each letter appears. There are several ways you could do it, but one good way is to use a `dict`:"
   ]
  },
  {
   "cell_type": "code",
   "execution_count": null,
   "id": "29",
   "metadata": {},
   "outputs": [],
   "source": [
    "word = 'brontosaurus'\n",
    "d = dict()\n",
    "for c in word:\n",
    "    if c not in d:\n",
    "        d[c] = 1\n",
    "    else:\n",
    "        d[c] = d[c] + 1\n",
    "d"
   ]
  },
  {
   "cell_type": "markdown",
   "id": "30",
   "metadata": {},
   "source": [
    "We are effectively computing a **histogram**, which is a statistical term for a set of counters (or frequencies).\n",
    "\n",
    "The for loop traverses the string. Each time through the loop, if the character `c` is not in the dictionary, we create a new item with key `c` and the initial value `1` \n",
    "(since we have seen this letter once). If `c` is already in the dictionary we increment `d[c]` by 1."
   ]
  },
  {
   "cell_type": "markdown",
   "id": "31",
   "metadata": {},
   "source": [
    "Dictionaries have a method called `.get()` that takes a key and a default value. If the key appears in the dictionary, get returns the corresponding value; otherwise it returns the default value. For example:"
   ]
  },
  {
   "cell_type": "code",
   "execution_count": null,
   "id": "32",
   "metadata": {},
   "outputs": [],
   "source": [
    "counts = {'chuck': 1, 'annie': 42, 'jan': 100}\n",
    "print(counts.get('jan', 0))\n",
    "print(counts.get('tim', 0))"
   ]
  },
  {
   "cell_type": "markdown",
   "id": "33",
   "metadata": {},
   "source": [
    "We can use `.get()` to write our histogram loop more concisely. Because the get method automatically handles the case where a key is not in a dictionary, we can reduce four lines down to one and eliminate the `if` statement:"
   ]
  },
  {
   "cell_type": "code",
   "execution_count": null,
   "id": "34",
   "metadata": {},
   "outputs": [],
   "source": [
    "word = 'brontosaurus'\n",
    "d = dict()\n",
    "for c in word:\n",
    "    d[c] = d.get(c, 0) + 1\n",
    "d"
   ]
  },
  {
   "cell_type": "markdown",
   "id": "35",
   "metadata": {},
   "source": [
    "The use of the `.get()` method to simplify this counting loop ends up being a very commonly used \"idiom\" (strategy) in Python. So you should take a moment and compare the loop using the if statement and in operator with the loop using the get method. They do exactly the same thing, but one is more succinct."
   ]
  },
  {
   "cell_type": "markdown",
   "id": "36",
   "metadata": {},
   "source": [
    "### Dictionaries as very efficient \"search\" tools"
   ]
  },
  {
   "cell_type": "markdown",
   "id": "37",
   "metadata": {},
   "source": [
    "Lists and dictionaries have a few things in common:\n",
    "- they both contain data (they are \"containers\")\n",
    "- they have a length\n",
    "- they can be indexed\n",
    "- ...\n",
    "\n",
    "Lists are indexed by integer (location), while dicts are indexed by key. This makes the reading and structuring of data much easier (see \"Dictionary as containers\" section below).\n",
    "\n",
    "One of the things that dictionaries excel at is to check whether or not a key is available or not. Check the following examples"
   ]
  },
  {
   "cell_type": "code",
   "execution_count": null,
   "id": "38",
   "metadata": {},
   "outputs": [],
   "source": [
    "l = list(range(1000))"
   ]
  },
  {
   "cell_type": "markdown",
   "id": "39",
   "metadata": {},
   "source": [
    "`l` is a list of 1000 numbers (from 0 to 999). You can check if a value is in the list with:"
   ]
  },
  {
   "cell_type": "code",
   "execution_count": null,
   "id": "40",
   "metadata": {},
   "outputs": [],
   "source": [
    "2 in l"
   ]
  },
  {
   "cell_type": "markdown",
   "id": "41",
   "metadata": {},
   "source": [
    "It turns out that the time needed for this check is much longer if the value is at the end of the list or at the beginning:"
   ]
  },
  {
   "cell_type": "code",
   "execution_count": null,
   "id": "42",
   "metadata": {},
   "outputs": [],
   "source": [
    "%timeit 2 in l"
   ]
  },
  {
   "cell_type": "code",
   "execution_count": null,
   "id": "43",
   "metadata": {},
   "outputs": [],
   "source": [
    "%timeit 998 in l"
   ]
  },
  {
   "cell_type": "markdown",
   "id": "44",
   "metadata": {},
   "source": [
    "So almost a factor 200 slower!!! \n",
    "\n",
    "**Exercise: can you explain why this is the case?**\n",
    "\n",
    "Now lets repeat this exercise with a dict:"
   ]
  },
  {
   "cell_type": "code",
   "execution_count": null,
   "id": "45",
   "metadata": {},
   "outputs": [],
   "source": [
    "d = dict(zip(l, l))  # you can forget about this command for now"
   ]
  },
  {
   "cell_type": "markdown",
   "id": "46",
   "metadata": {},
   "source": [
    "`d` is now a dict with 999 key-value pairs:"
   ]
  },
  {
   "cell_type": "code",
   "execution_count": null,
   "id": "47",
   "metadata": {},
   "outputs": [],
   "source": [
    "print(d[0], d[1], d[999])\n",
    "print(2 in d)"
   ]
  },
  {
   "cell_type": "markdown",
   "id": "48",
   "metadata": {},
   "source": [
    "Let's see the performance of our search:"
   ]
  },
  {
   "cell_type": "code",
   "execution_count": null,
   "id": "49",
   "metadata": {},
   "outputs": [],
   "source": [
    "%timeit 2 in d"
   ]
  },
  {
   "cell_type": "markdown",
   "id": "50",
   "metadata": {},
   "source": [
    "So more or less the performance of a list search when the value is at the beginning. What about the end?"
   ]
  },
  {
   "cell_type": "code",
   "execution_count": null,
   "id": "51",
   "metadata": {},
   "outputs": [],
   "source": [
    "%timeit 998 in d"
   ]
  },
  {
   "cell_type": "markdown",
   "id": "52",
   "metadata": {},
   "source": [
    "So almost the same performance!!! This feature is possible thanks to a very clever algorithm (hash-tables) which is not part of this lecture. \n",
    "\n",
    "OK, so why is this useful? See for example this [list of English words I downloaded from the internet](https://raw.githubusercontent.com/dwyl/english-words/master/words_dictionary.json). If you click on the link you will see that the author decided to store it as a `json` file (a dictionary) with the words as keys and only ones as values. But why? Let's find out:"
   ]
  },
  {
   "cell_type": "code",
   "execution_count": null,
   "id": "53",
   "metadata": {},
   "outputs": [],
   "source": [
    "import json\n",
    "with open('words_dictionary.json') as wf:\n",
    "    words = json.load(wf)"
   ]
  },
  {
   "cell_type": "code",
   "execution_count": null,
   "id": "54",
   "metadata": {},
   "outputs": [],
   "source": [
    "len(words)"
   ]
  },
  {
   "cell_type": "code",
   "execution_count": null,
   "id": "55",
   "metadata": {},
   "outputs": [],
   "source": [
    "words['computer']"
   ]
  },
  {
   "cell_type": "markdown",
   "id": "56",
   "metadata": {},
   "source": [
    "This looks a bit silly (the \"1s\" are truly useless), but with this we can take advantage of the dictionaries efficient hash-table search algorithm. Checking if \"ambivalent\" exists is as fast as checking for \"zoo\":"
   ]
  },
  {
   "cell_type": "code",
   "execution_count": null,
   "id": "57",
   "metadata": {},
   "outputs": [],
   "source": [
    "for w in ['zoo', 'bird', 'spätzle']:\n",
    "    if w in words:\n",
    "        print(f'{w} is an english word')\n",
    "    else:\n",
    "        print(f'{w} is not an english word')"
   ]
  },
  {
   "cell_type": "markdown",
   "id": "58",
   "metadata": {},
   "source": [
    "```{note}\n",
    "Another python datatype ([sets](https://docs.python.org/3/tutorial/datastructures.html#sets)) would be even better than dicts (same speed, no need for \"1s\"), but we won't talk about is today.\n",
    "```"
   ]
  },
  {
   "cell_type": "markdown",
   "id": "59",
   "metadata": {},
   "source": [
    "### Dictionaries as structured containers"
   ]
  },
  {
   "cell_type": "markdown",
   "id": "60",
   "metadata": {},
   "source": [
    "This is probably the main use of dictionaries. They allow to share information in a structured and human readable form. For example, the [ACINN weather data](https://acinn-data.uibk.ac.at/innsbruck/3) shared online comes in the [JSON](https://en.wikipedia.org/wiki/JSON#Syntax) format (which is read as a dictionary in python): the keys are the variable names and the values are the timeseries. \n",
    "\n",
    "The dictionary syntax (`d['key'] = value`) is also used extensively by high-level data structures such as [pandas](https://pandas.pydata.org) dataframes. This will be the topic of our next unit."
   ]
  },
  {
   "cell_type": "markdown",
   "id": "61",
   "metadata": {},
   "source": [
    "## Learning checklist "
   ]
  },
  {
   "cell_type": "markdown",
   "id": "62",
   "metadata": {},
   "source": [
    "<label><input type=\"checkbox\" id=\"week05_01\" class=\"box\"> I understand the differences between a dictionary and a list.</input></label><br>\n",
    "<label><input type=\"checkbox\" id=\"week05_01\" class=\"box\"> I know what a \"key-value pair\" is.</input></label><br>\n",
    "<label><input type=\"checkbox\" id=\"week05_01\" class=\"box\"> I know how to check if a dictionary contains a key, and if not return a default value.</input></label><br>\n",
    "<label><input type=\"checkbox\" id=\"week05_01\" class=\"box\"> I am aware that dictionaries are very fast at searching for keys.</input></label><br>\n",
    "<label><input type=\"checkbox\" id=\"week05_01\" class=\"box\"> I am aware of the potential of dictionaries as structured data containers.</input></label><br>"
   ]
  }
 ],
 "metadata": {
  "kernelspec": {
   "display_name": "Python 3 (ipykernel)",
   "language": "python",
   "name": "python3"
  },
  "language_info": {
   "codemirror_mode": {
    "name": "ipython",
    "version": 3
   },
   "file_extension": ".py",
   "mimetype": "text/x-python",
   "name": "python",
   "nbconvert_exporter": "python",
   "pygments_lexer": "ipython3",
   "version": "3.10.8"
  }
 },
 "nbformat": 4,
 "nbformat_minor": 5
}
