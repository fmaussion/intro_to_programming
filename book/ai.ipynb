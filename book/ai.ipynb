{
 "cells": [
  {
   "cell_type": "markdown",
   "id": "58850227-61ef-4678-9d9c-17f2d516d5d6",
   "metadata": {},
   "source": [
    "# Learning with artificial intelligence\n",
    "\n",
    "The current learning and teaching practices are undergoing a major transformation, rapidly propelled by [generative artificial intelligence](https://en.wikipedia.org/wiki/Generative_artificial_intelligence). Tools like ChatGPT, which are easily accessible and free (for now), have proven to be more efficient in solving simple programming tasks compared to conventional methods such as a web search or relying on our own intellect. Ignoring this transformation would be unwise. In this brief lesson, I will highlight the available tools and advise on cautionary measures to be taken.\n",
    "\n",
    "## Generative AI and programming\n",
    "\n",
    "If you don't know ChatGPT yet, you should google it. In fact, I am now going to demonstrate the power of generative AI by using ChatGPT to write most of the rest of this lesson. I will write ChatGPT's prompts with a different formatting to differentiate it from mine.\n",
    "\n",
    "*Can you explain to a student how you generate code?*\n",
    "\n",
    "ChatGPT3 (free version):\n",
    " > Generative AI can produce code by using a neural network to learn from a large dataset of source code. The network is trained to understand the syntax, structure, and meaning of the code. Once the model has been trained, it can generate new code by taking a prompt or seed code as input and generating a sequence of tokens to complete the code. However, the generated code may not always be optimal or meet specific requirements, so it's important to evaluate and modify it before using it in a real-world application.\n",
    " \n",
    "ChatGPT can be used to solve most of your programming assignments of the past weeks. For example, I asked ChatGPT to solve last weeks assignment:\n",
    "\n",
    "![](img/chat_gpt_1.png)\n",
    "\n",
    "This implementation is correct. Let's try it:"
   ]
  },
  {
   "cell_type": "code",
   "execution_count": 2,
   "id": "c756b798-bd29-475c-af4d-5f37ecf9b643",
   "metadata": {},
   "outputs": [
    {
     "data": {
      "text/plain": [
       "TestResults(failed=0, attempted=6)"
      ]
     },
     "execution_count": 2,
     "metadata": {},
     "output_type": "execute_result"
    }
   ],
   "source": [
    "def filter_list(values, min_value=None, max_value=None):\n",
    "    \"\"\"Filters a list of numbers to keep only the ones between one or two thresholds.\n",
    "\n",
    "    You need to set at least one of min_value or max_value!\n",
    "\n",
    "    Parameters\n",
    "    ----------\n",
    "    values : list\n",
    "        a list of numbers (floats or ints)\n",
    "    min_value : float or int, optional\n",
    "        the minimum threshold to filter the data (inclusive)\n",
    "    max_value : float or int, optional\n",
    "        the maximum threshold to filter the data (inclusive)\n",
    "\n",
    "    Examples\n",
    "    --------\n",
    "    >>> a = [1, 3, 4, 2.2]\n",
    "    >>> filter_list(a, min_value=2)\n",
    "    [3, 4, 2.2]\n",
    "    >>> a  # a is unchanged\n",
    "    [1, 3, 4, 2.2]\n",
    "    >>> filter_list(a, max_value=3)\n",
    "    [1, 3, 2.2]\n",
    "    >>> filter_list(a, min_value=2, max_value=3)\n",
    "    [3, 2.2]\n",
    "    >>> filter_list([1, 2, 3, 4])\n",
    "    Traceback (most recent call last):\n",
    "     ...\n",
    "    ValueError: Need to set at least one of min_value or max_value!\n",
    "    \"\"\"\n",
    "    if min_value is None and max_value is None:\n",
    "        raise ValueError(\"Need to set at least one of min_value or max_value!\")\n",
    "    filtered = []\n",
    "    for value in values:\n",
    "        if (min_value is None or value >= min_value) and (max_value is None or value <= max_value):\n",
    "            filtered.append(value)\n",
    "    return filtered\n",
    "\n",
    "# Testing\n",
    "import doctest\n",
    "doctest.testmod()"
   ]
  },
  {
   "cell_type": "markdown",
   "id": "68b42b6c-4b15-43c8-9594-ea8a04d20ff0",
   "metadata": {},
   "source": [
    "All the tests pass! ChatGPT's solution is shorter than the one I suggested you (but, in my opinion, less readable for beginners).\n",
    "\n",
    "I asked ChatGPT where it got this solution from. Here is what it answered:\n",
    "\n",
    "> The code I provided is a custom implementation of the filter_list function based on the description you provided in your initial question. I wrote the code myself based on that description.\n",
    "> \n",
    "> As an AI language model, I don't have access to external sources by myself. However, the function implements a common data filtering operation and is similar in structure to other filtering functions found in Python's standard library or third-party packages."
   ]
  },
  {
   "cell_type": "markdown",
   "id": "b6c477be-3890-48c1-9bc7-b47594f67197",
   "metadata": {},
   "source": [
    "In summary, **ChatGPT has the capability to generate functional code from scratch**. While there are other tools such as Github Copilot that offer comparable services, the technology is still in its infancy and is rarely available for free. Additionally, the reliability of ChatGPT's free version cannot be guaranteed."
   ]
  },
  {
   "cell_type": "markdown",
   "id": "9e61ee30-2c7d-4802-aff3-36c373188c08",
   "metadata": {},
   "source": [
    "## Potential benefits of AI for learning"
   ]
  },
  {
   "cell_type": "markdown",
   "id": "811a67a4-d369-4f2e-8ffe-6682401ceffc",
   "metadata": {},
   "source": [
    "*I'm writing a lesson to first year university students about the potential advantages and benefits of using generative AI to learn python programming. Can you help me out?*"
   ]
  },
  {
   "cell_type": "markdown",
   "id": "0315e9a2-5df6-4e51-b6e9-9cb007a604ca",
   "metadata": {},
   "source": [
    "> Certainly! Here are some potential advantages and benefits of using generative AI to learn Python programming:\n",
    "> \n",
    "> 1. Faster learning: Generative AI tools can help students quickly generate examples of code and provide immediate feedback, allowing for faster learning and iteration.\n",
    "> 2. Personalized learning: Generative AI models can adapt to each student's learning style and pace, providing personalized feedback and guidance.\n",
    "> 3. Improved problem-solving skills: Generative AI models can help students develop stronger problem-solving skills by providing examples of how to approach and solve programming challenges.\n",
    "> 4. Enhanced creativity: Generative AI models can inspire students to explore new possibilities and generate novel ideas, leading to innovative approaches to programming and problem-solving.\n",
    "> 5. Access to advanced techniques: Generative AI models can help students access advanced techniques and approaches to programming, such as machine learning and data analysis, which may be difficult to implement manually.\n",
    "> 6. Improved collaboration: Generative AI models can facilitate collaboration between students by providing a common language and framework for working with complex programming concepts and data sets.\n",
    "> 7. Increased motivation: Generative AI tools can make learning programming more engaging and fun, leading to increased motivation and interest in the subject.\n",
    "> \n",
    "> Overall, using generative AI in Python programming education has the potential to accelerate learning, improve problem-solving skills, enhance creativity, and provide students with access to advanced techniques and approaches to programming."
   ]
  },
  {
   "cell_type": "markdown",
   "id": "3673a1d2-1ab8-4b8e-8171-1076ee09c1ac",
   "metadata": {},
   "source": [
    "OK so there is some truth in there, but also some exaggeration. It is true that ChatGPT offers explanations: together with its `filter_list` implementation, ChatGPT offered examples:\n",
    "\n",
    "![](img/chat_gpt_2.png)"
   ]
  },
  {
   "cell_type": "markdown",
   "id": "d2ccf03b-e214-443f-b724-a4a14c97f818",
   "metadata": {},
   "source": [
    "However, when asked a bit more in depth about its capabilities regarding code writing, ChatGPT advises more caution:\n",
    "\n",
    "> However, it's important to note that generative AI models may not always produce high-quality or optimal code. The generated code may require further refinement or modification to meet specific requirements or constraints. Additionally, generated code may not always be optimal for a particular task or context, so it's important to carefully evaluate and test the generated code before using it in production.\n",
    "\n",
    "And this is very true."
   ]
  },
  {
   "cell_type": "markdown",
   "id": "00b834f2-7fb5-4d31-8107-a6e21d92bc38",
   "metadata": {},
   "source": [
    "## Potential pitfalls of using generative AI for learning"
   ]
  },
  {
   "cell_type": "markdown",
   "id": "a7c42e7b-53df-4234-9113-340da72fae16",
   "metadata": {},
   "source": [
    "*OK, fine, I believe you. Now tell me about the potential pitfalls of using generative AI for learning python programming.*\n",
    "\n",
    "> Certainly! Here are some potential pitfalls to be aware of when using generative AI for learning Python programming:\n",
    ">\n",
    "> 1. Overreliance on AI-generated code: Students may become too reliant on generative AI tools to provide solutions to programming problems, leading to a lack of understanding and difficulty applying concepts to new problems.\n",
    "> 2. Lack of creativity: While generative AI can provide examples of code, it may not encourage students to explore and generate their own solutions to programming challenges, leading to a lack of creativity and innovation.\n",
    "> 3. Limited scope: Generative AI tools may only be able to generate solutions to a limited range of programming problems, leading to a narrow understanding of Python programming.\n",
    "> 4. Lack of critical thinking: Students may become overly focused on generating correct solutions rather than developing critical thinking and problem-solving skills, leading to a lack of creativity and innovation.\n",
    "> 5. Difficulty with real-world application: AI-generated solutions may not always be applicable in real-world scenarios, leading to difficulties when applying programming concepts to practical problems.\n",
    "> 6. Dependence on technology: Students may become too reliant on generative AI tools and lose the ability to solve programming problems manually, leading to difficulties in situations where technology is not available or applicable.\n",
    "> 7. Ethical concerns: There are ethical concerns surrounding the use of generative AI in education, such as the potential for bias and the impact on employment in the programming field.\n",
    "> \n",
    "> Overall, it's important to approach the use of generative AI for learning Python programming with a critical eye and a balanced perspective. While there are potential benefits, it's also important to be aware of the limitations and potential pitfalls, and to encourage students to develop a well-rounded understanding of programming concepts and problem-solving skills."
   ]
  },
  {
   "cell_type": "markdown",
   "id": "8beb1b52-819e-4cd5-937f-c3e44039ac15",
   "metadata": {},
   "source": [
    "Here again, I agree with most of it. With one exception maybe:\n",
    "\n",
    "*Don't you think that generative AI will increase inequality between students (rich vs poor, gifted vs less talented)?*\n",
    "\n",
    "> There is a possibility that the use of generative AI in Python programming education could increase inequality between students. Students who have access to advanced technology and resources may have an advantage in using generative AI tools compared to those who do not have access. Additionally, students who are naturally talented in programming may be able to more easily understand and apply the concepts learned from generative AI tools, leading to a widening achievement gap.\n",
    ">\n",
    "> However, it's important to note that the use of generative AI can also help level the playing field in some ways. For example, it can provide personalized learning opportunities to students who may not have access to one-on-one tutoring or personalized feedback from an instructor. It can also offer a more engaging and interactive way for students to learn programming, which may increase motivation and interest in the subject.\n",
    "> \n",
    "> Ultimately, it's important to approach the use of generative AI in Python programming education with a focus on equity and inclusion. This could include ensuring that all students have access to the necessary resources and technology, providing additional support and resources to students who may be at a disadvantage, and designing the curriculum in a way that promotes accessibility and inclusivity for all learners.\n",
    "\n",
    "It is worth noting that ChatGPT only raised this issue after being prompted. **During my interactions with ChatGPT, I noticed a recurring pattern where exercising caution and applying critical thinking when evaluating its responses proved to be essential**. Simply accepting ChatGPT's output without proper scrutiny could lead to erroneous conclusions. Always remember: ChatGPT is often \"hallucinating\". \n",
    "\n",
    "*What is \"hallucinating\" in the context of generative AI?* \n",
    "\n",
    "> In the context of generative AI, hallucination refers to the generation of outputs that do not accurately reflect the input or the real world. This can occur when a generative model is trained on incomplete or biased data, or when the model's architecture or training process is flawed in some way.\n",
    "> \n",
    "> For example, a generative model trained on images of dogs may generate images of creatures that resemble dogs, but have additional features or characteristics that do not exist in real dogs. This could be due to the model's inability to accurately capture the true distribution of dog images in the training data, or due to limitations in the model's architecture that prevent it from accurately modeling the complex relationships between the input and output data.\n",
    "> \n",
    "> Similarly, a generative model trained on text may generate text that is grammatically correct and semantically coherent, but does not accurately reflect the nuances or complexities of the real world. This could be due to biases or limitations in the training data, or due to limitations in the model's ability to accurately capture the complex relationships between the input and output data.\n",
    "> \n",
    "> In both cases, it's important to critically evaluate the outputs generated by generative models and to understand their limitations in order to use them effectively and responsibly."
   ]
  },
  {
   "cell_type": "markdown",
   "id": "862907fc-6cb2-4b8f-8d87-def37cd5ec90",
   "metadata": {},
   "source": [
    "## What about the exams? "
   ]
  },
  {
   "cell_type": "markdown",
   "id": "f05e9781-5bfc-486e-9876-d7057e846398",
   "metadata": {},
   "source": [
    "*Should I allow my 1st year university students to use ChatGPT during their programming exam?*\n",
    "\n",
    "> As an AI language model, I am not qualified to make decisions about exams or grading policies. Ultimately, the decision about whether or not to allow students to use ChatGPT or other AI tools during an exam should be based on the learning objectives and assessment criteria for the course, as well as any policies or guidelines set by the instructor or institution.\n",
    "> \n",
    "> However, it's worth considering that allowing students to use generative AI tools like ChatGPT during an exam could potentially undermine the assessment of their programming skills, as it could make it more difficult to differentiate between students who have a deep understanding of programming concepts and those who are simply using the tool to generate code. Additionally, there may be concerns about the reliability and accuracy of the generated code, which could impact the validity and fairness of the exam.\n",
    "> \n",
    "> That being said, there may be cases where the use of AI tools is appropriate and beneficial for learning and assessment purposes, such as in cases where the goal is to assess the student's ability to use AI tools to solve real-world problems or to develop innovative solutions. Ultimately, the decision about whether or not to allow the use of AI tools during an exam should be carefully considered in light of the learning objectives, assessment criteria, and ethical and pedagogical considerations of the course."
   ]
  },
  {
   "cell_type": "markdown",
   "id": "f444547b-7bec-4762-9492-f6fbebadd690",
   "metadata": {},
   "source": [
    "In my opinion, it would be ideal to allow the usage of any tool during programming exams. However, there are some issues to consider:\n",
    "\n",
    "- ChatGPT's reliability is not guaranteed, and it may shut down abruptly if overloaded, unless you pay for it.\n",
    "- Some students may have access to paid versions of ChatGPT or Copilot, while others may not, which is unfair.\n",
    "- My objective is for you to be good programmers *without* AI, and better programmers *with* AI. \n",
    "\n",
    "Therefore, for the time being, it is unlikely that ChatGPT or Copilot will be permitted during the exams. However, the rules may change in the future, and any updates will be communicated in due time before the exam."
   ]
  },
  {
   "cell_type": "markdown",
   "id": "4d5ab0e5-b889-47cf-b512-811a98ef495c",
   "metadata": {},
   "source": [
    "## Final note "
   ]
  },
  {
   "cell_type": "markdown",
   "id": "eeda18a5-664a-4952-8033-4dc812b2e77c",
   "metadata": {},
   "source": [
    "Apart from this particular lesson, I have refrained from utilizing ChatGPT to generate content for this class. Nonetheless, I am contemplating integrating this tool more extensively in my research and teaching endeavors going forward. Ignoring the potential of this technology is not a viable option in today's world."
   ]
  }
 ],
 "metadata": {
  "kernelspec": {
   "display_name": "Python 3 (ipykernel)",
   "language": "python",
   "name": "python3"
  },
  "language_info": {
   "codemirror_mode": {
    "name": "ipython",
    "version": 3
   },
   "file_extension": ".py",
   "mimetype": "text/x-python",
   "name": "python",
   "nbconvert_exporter": "python",
   "pygments_lexer": "ipython3",
   "version": "3.10.8"
  }
 },
 "nbformat": 4,
 "nbformat_minor": 5
}
