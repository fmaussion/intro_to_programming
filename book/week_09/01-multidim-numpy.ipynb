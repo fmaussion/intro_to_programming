{
 "cells": [
  {
   "cell_type": "markdown",
   "id": "0",
   "metadata": {
    "pycharm": {
     "name": "#%% md\n"
    }
   },
   "source": [
    "# Multi-dimensional numpy arrays"
   ]
  },
  {
   "cell_type": "markdown",
   "id": "1",
   "metadata": {},
   "source": [
    "You have now learned how to read and analyze 1-dimensional data with numpy (and with pandas as an additional \"layer\" of tools on top of the core numpy arrays).\n",
    "\n",
    "For the final two weeks of the semester, you will learn to manipulate multi-dimensional arrays ([ndarrays](https://numpy.org/doc/stable/reference/arrays.ndarray.html)) which are very common in meteorology, climatology, and geosciences in general."
   ]
  },
  {
   "cell_type": "code",
   "execution_count": null,
   "id": "2",
   "metadata": {},
   "outputs": [],
   "source": [
    "import numpy as np\n",
    "import matplotlib.pyplot as plt"
   ]
  },
  {
   "cell_type": "markdown",
   "id": "3",
   "metadata": {},
   "source": [
    "## When are multidimensional arrays useful?"
   ]
  },
  {
   "cell_type": "markdown",
   "id": "4",
   "metadata": {},
   "source": [
    "For numpy, all data in any multi-dimensional array is actually stored in memory as a long 1D array (we will get back to this in the master lecture). The number of dimensions and shape of an array is actually only used to structure the data access in a certain way. But why is it useful to store data in multiple dimensions?"
   ]
  },
  {
   "cell_type": "markdown",
   "id": "5",
   "metadata": {},
   "source": [
    "### nD arrays as matrices "
   ]
  },
  {
   "cell_type": "markdown",
   "id": "6",
   "metadata": {},
   "source": [
    "The first time we learned about arrays as matrices was during [week 07](numpy-algebra), when we learned about matrix multiplication and other [linear algebra](https://numpy.org/doc/stable/reference/routines.linalg.html) numpy functions. To use nD arrays as matrices, you have to use matrix specific operators (such as `@`) or functions (such at `np.linalg.inv`):"
   ]
  },
  {
   "cell_type": "code",
   "execution_count": null,
   "id": "7",
   "metadata": {},
   "outputs": [],
   "source": [
    "a = np.array([[1, 2],\n",
    "              [2, 2]])\n",
    "a @ np.linalg.inv(a)"
   ]
  },
  {
   "cell_type": "markdown",
   "id": "8",
   "metadata": {},
   "source": [
    "Linear algebra is a very common use case for nD arrays, yet it is (by far) not the only one. I, for example, use linear algebra only sporadically in my daily work (or it is hidden behind other tools)."
   ]
  },
  {
   "cell_type": "markdown",
   "id": "9",
   "metadata": {},
   "source": [
    "### nD arrays as images"
   ]
  },
  {
   "cell_type": "markdown",
   "id": "10",
   "metadata": {},
   "source": [
    "Another common use case for nD arrays is to store images:"
   ]
  },
  {
   "cell_type": "code",
   "execution_count": null,
   "id": "11",
   "metadata": {},
   "outputs": [],
   "source": [
    "import scipy.misc\n",
    "\n",
    "# Read a sample image from scipy\n",
    "img = scipy.misc.face()\n",
    "\n",
    "# Plot it\n",
    "plt.imshow(img);"
   ]
  },
  {
   "cell_type": "markdown",
   "id": "12",
   "metadata": {},
   "source": [
    "What is `img`? Lets find out:"
   ]
  },
  {
   "cell_type": "code",
   "execution_count": null,
   "id": "13",
   "metadata": {},
   "outputs": [],
   "source": [
    "img.shape, img.dtype, img.min(), img.max()"
   ]
  },
  {
   "cell_type": "markdown",
   "id": "14",
   "metadata": {},
   "source": [
    "Here, `img` is a `N x M x 3` array, with `N` the number of rows and `M` the number of columns. `3` is for Red, Green, Blue (RGB) channels. Here the values are mapped to the`[0, 255]` range, indicating the intensity of each color:"
   ]
  },
  {
   "cell_type": "code",
   "execution_count": null,
   "id": "15",
   "metadata": {},
   "outputs": [],
   "source": [
    "f, (ax1, ax2, ax3) = plt.subplots(1, 3, figsize=(12, 5))\n",
    "ax1.imshow(img[..., 0], cmap='Reds');\n",
    "ax2.imshow(img[..., 1], cmap='Greens');\n",
    "ax3.imshow(img[..., 2], cmap='Blues');"
   ]
  },
  {
   "cell_type": "markdown",
   "id": "16",
   "metadata": {},
   "source": [
    "Matplotlib's [imshow](https://matplotlib.org/stable/api/_as_gen/matplotlib.axes.Axes.imshow.html#matplotlib.axes.Axes.imshow) understands what is meant when given 3D data with the last dimension of size 3. When given a 2D array of any type, it will map the data to a colorscale value:"
   ]
  },
  {
   "cell_type": "code",
   "execution_count": null,
   "id": "17",
   "metadata": {},
   "outputs": [],
   "source": [
    "data = img[..., 0]  # Select the red channel\n",
    "im = plt.imshow(data);\n",
    "plt.colorbar(im, orientation='vertical');"
   ]
  },
  {
   "cell_type": "markdown",
   "id": "18",
   "metadata": {},
   "source": [
    "Some of the things explained above might be a bit overwhelming right now. Don't worry! We will get back to these concepts later in this unit."
   ]
  },
  {
   "cell_type": "markdown",
   "id": "19",
   "metadata": {},
   "source": [
    "### nD arrays as structured data"
   ]
  },
  {
   "cell_type": "markdown",
   "id": "20",
   "metadata": {},
   "source": [
    "Nearly all other use cases for nD arrays fall in this category. Multidimensional arrays allow to store data in the shape which is most meaningful for its analysis, display, and storage. For example:\n",
    "- a map of temperature of shape (Y, X) where Y are the latitudes and X the longitudes\n",
    "- a series of temperature maps of shape (Z, Y, X) where Z are the vertical pressure levels, Y are the latitudes and X the longitudes \n",
    "- a series of series of temperature maps of shape (T, Z, Y, X) where T are the time steps, Z are the vertical pressure levels, Y are the latitudes and X the longitudes\n",
    "\n",
    "That's the most common use case in meteorology, and the one you will have to deal with in this week's homework. But in the course of your studies you will find many more interesting use cases, for example involving model parameters, physical quantities, time / space considerations, and more!"
   ]
  },
  {
   "cell_type": "markdown",
   "id": "21",
   "metadata": {},
   "source": [
    "## Working with nD arrays "
   ]
  },
  {
   "cell_type": "markdown",
   "id": "22",
   "metadata": {},
   "source": [
    "*Copyright notice: parts of these examples are taken from the [numpy tutorial for beginners](https://numpy.org/doc/stable/user/absolute_beginners.html).*"
   ]
  },
  {
   "cell_type": "markdown",
   "id": "23",
   "metadata": {},
   "source": [
    "Multidimensional arrays are not different from 1 dimensional arrays. In fact, it is rather the 1 dimensional array which is a special case of the multidimensional one. All methods which work on 1D arrays also apply to nD arrays.\n",
    "\n",
    "Let's create a 2D array:"
   ]
  },
  {
   "cell_type": "code",
   "execution_count": null,
   "id": "24",
   "metadata": {},
   "outputs": [],
   "source": [
    "data = np.array([[1, 2], [3, 4], [5, 6]])\n",
    "data"
   ]
  },
  {
   "cell_type": "markdown",
   "id": "25",
   "metadata": {},
   "source": [
    "![](https://numpy.org/doc/stable/_images/np_create_matrix.png)"
   ]
  },
  {
   "cell_type": "markdown",
   "id": "26",
   "metadata": {},
   "source": [
    "### Selecting parts of an array with slicing"
   ]
  },
  {
   "cell_type": "markdown",
   "id": "27",
   "metadata": {},
   "source": [
    "**Slicing** operations also work on nD arrays:"
   ]
  },
  {
   "cell_type": "code",
   "execution_count": null,
   "id": "28",
   "metadata": {},
   "outputs": [],
   "source": [
    "data[0, 1]"
   ]
  },
  {
   "cell_type": "code",
   "execution_count": null,
   "id": "29",
   "metadata": {},
   "outputs": [],
   "source": [
    "data[1:3]"
   ]
  },
  {
   "cell_type": "code",
   "execution_count": null,
   "id": "30",
   "metadata": {},
   "outputs": [],
   "source": [
    "data[0:2, 0]"
   ]
  },
  {
   "cell_type": "markdown",
   "id": "31",
   "metadata": {},
   "source": [
    "![](https://numpy.org/doc/stable/_images/np_matrix_indexing.png)"
   ]
  },
  {
   "cell_type": "markdown",
   "id": "32",
   "metadata": {},
   "source": [
    "Let's spend a bit more time on the second indexing example (`data[1:3]`), which I personally find most confusing because it contains an assumption. First, lets note that the two other indexing operations have a comma between the coordinates, explicitly indicating what to do on each dimension of the array.\n",
    "\n",
    "`data[0:2, 0]` can be read as \"take rows 0 to 2 (excluded) and column 0\".\n",
    "\n",
    "`data[1:3]` in turn can be read as  \"take rows 1 to 3 (excluded) and all columns\". The \"all columns\" is implicit (hidden) in the command above, which is why I sometimes prefer the more explicit:"
   ]
  },
  {
   "cell_type": "code",
   "execution_count": null,
   "id": "33",
   "metadata": {},
   "outputs": [],
   "source": [
    "data[1:3, :]  # colon means \"all elements\""
   ]
  },
  {
   "cell_type": "markdown",
   "id": "34",
   "metadata": {},
   "source": [
    "Which does the same but explicitly states \"take all columns\".\n",
    "\n",
    "**Q: what do you think will be the output of data[:, :]?**\n",
    "\n",
    "**Q: based on the example above and maybe a web search, formulate for yourself what is mean by \"slicing\" in numpy.**"
   ]
  },
  {
   "cell_type": "markdown",
   "id": "35",
   "metadata": {},
   "source": [
    "(pos-ind)=\n",
    "### Selecting parts of an array with positional indexing"
   ]
  },
  {
   "cell_type": "markdown",
   "id": "36",
   "metadata": {},
   "source": [
    "**Slicing** is one way to **index** parts of a numpy array. It is useful when the area you want to select is structured, e.g. to select only one point or a range of an array as in the example above. Sometimes however you may want to select parts of an array based on other considerations, such as the location of multiple points or based on a condition. Let's get back to our previous example: "
   ]
  },
  {
   "cell_type": "code",
   "execution_count": null,
   "id": "37",
   "metadata": {},
   "outputs": [],
   "source": [
    "data = np.array([[1, 2], [3, 4], [5, 6]])\n",
    "data"
   ]
  },
  {
   "cell_type": "markdown",
   "id": "38",
   "metadata": {},
   "source": [
    "Let's start with **positional indexing** (or [integer array indexing](https://numpy.org/doc/stable/user/basics.indexing.html#integer-array-indexing)). Integer array indexing allows selection of arbitrary items in the array based on their N-dimensional index. Each integer array represents a number of indices into that dimension:"
   ]
  },
  {
   "cell_type": "code",
   "execution_count": null,
   "id": "39",
   "metadata": {},
   "outputs": [],
   "source": [
    "data[[0, 2], [1, 1]]"
   ]
  },
  {
   "cell_type": "markdown",
   "id": "40",
   "metadata": {},
   "source": [
    "In your head, you might want to read this as: \"we are extracting elements at locations (0, 1) and (2, 1)\". A bit like putting these two together in an array (but faster): "
   ]
  },
  {
   "cell_type": "code",
   "execution_count": null,
   "id": "41",
   "metadata": {},
   "outputs": [],
   "source": [
    "np.array([data[0, 1], data[2, 1]])"
   ]
  },
  {
   "cell_type": "markdown",
   "id": "42",
   "metadata": {},
   "source": [
    "This means that if the length of the two integer arrays do not match, numpy will raise an error: "
   ]
  },
  {
   "cell_type": "code",
   "execution_count": null,
   "id": "43",
   "metadata": {},
   "outputs": [],
   "source": [
    "data[[0, 2], [1, 1, 0]]  # won't work"
   ]
  },
  {
   "cell_type": "markdown",
   "id": "44",
   "metadata": {},
   "source": [
    "Note that it is totally possible so select the same location several times, and also to use negative indexes like for slicing:"
   ]
  },
  {
   "cell_type": "code",
   "execution_count": null,
   "id": "45",
   "metadata": {},
   "outputs": [],
   "source": [
    "data[[0, 0, 2, -1], [1, 1, 1, 0]]"
   ]
  },
  {
   "cell_type": "markdown",
   "id": "46",
   "metadata": {},
   "source": [
    "(bool-ind)=\n",
    "### Selecting parts of an array with boolean indexing"
   ]
  },
  {
   "cell_type": "markdown",
   "id": "47",
   "metadata": {},
   "source": [
    "[Boolean indexing](https://numpy.org/doc/stable/user/basics.indexing.html#boolean-array-indexing) allows to select parts on an array according to a condition of your choice. For example:"
   ]
  },
  {
   "cell_type": "code",
   "execution_count": null,
   "id": "48",
   "metadata": {},
   "outputs": [],
   "source": [
    "data"
   ]
  },
  {
   "cell_type": "code",
   "execution_count": null,
   "id": "49",
   "metadata": {},
   "outputs": [],
   "source": [
    "data[data > 2]"
   ]
  },
  {
   "cell_type": "markdown",
   "id": "50",
   "metadata": {},
   "source": [
    "This is called **boolean indexing** because what actually matters is the type of `data > 2`."
   ]
  },
  {
   "cell_type": "markdown",
   "id": "51",
   "metadata": {},
   "source": [
    "### `np.nonzero` and indexing "
   ]
  },
  {
   "cell_type": "markdown",
   "id": "52",
   "metadata": {},
   "source": [
    "[np.nonzero](https://numpy.org/doc/stable/reference/generated/numpy.nonzero.html) is another way to do indexing based on a condition, but with a slightly different workflow and use cases:"
   ]
  },
  {
   "cell_type": "code",
   "execution_count": null,
   "id": "53",
   "metadata": {},
   "outputs": [],
   "source": [
    "indices = np.nonzero(data > 2)\n",
    "indices"
   ]
  },
  {
   "cell_type": "markdown",
   "id": "54",
   "metadata": {},
   "source": [
    "`np.nonzero` returns a tuple of arrays, one for each dimension of `data`, containing the indices of the non-zero elements in that dimension. These can then be used for statistics, or as positional indexers:"
   ]
  },
  {
   "cell_type": "code",
   "execution_count": null,
   "id": "55",
   "metadata": {},
   "outputs": [],
   "source": [
    "data[indices[0], indices[1]]"
   ]
  },
  {
   "cell_type": "markdown",
   "id": "56",
   "metadata": {},
   "source": [
    "Which is the equivalent of `data[data > 2]`! If you have the choice between the two, boolean indexing (`data[data > 2]`) is faster and better than using `np.nonzero`, but sometimes `np.nonzero` is useful as well (see homework)."
   ]
  },
  {
   "cell_type": "markdown",
   "id": "57",
   "metadata": {},
   "source": [
    "### Replacing data in ndarrays"
   ]
  },
  {
   "cell_type": "markdown",
   "id": "58",
   "metadata": {},
   "source": [
    "To replace elements in a `ndarray`, indexing has to be applied on the left-hand side of the assignment operator. For example:"
   ]
  },
  {
   "cell_type": "code",
   "execution_count": null,
   "id": "59",
   "metadata": {},
   "outputs": [],
   "source": [
    "a = np.array([1, 2, 3])\n",
    "a[1] = 99\n",
    "a"
   ]
  },
  {
   "cell_type": "markdown",
   "id": "60",
   "metadata": {},
   "source": [
    "If indexing on the left-hand side is more complex (slicing, positional or boolean indexing), the values on the right have to be either scalars, or match the shape of the selection. Here are some examples:"
   ]
  },
  {
   "cell_type": "code",
   "execution_count": null,
   "id": "61",
   "metadata": {},
   "outputs": [],
   "source": [
    "data = np.array([[1, 2], [3, 4], [5, 6]])\n",
    "data[1:3] = 99\n",
    "data"
   ]
  },
  {
   "cell_type": "code",
   "execution_count": null,
   "id": "62",
   "metadata": {},
   "outputs": [],
   "source": [
    "data[1:3] = [[96, 97], [98, 99]]\n",
    "data"
   ]
  },
  {
   "cell_type": "code",
   "execution_count": null,
   "id": "63",
   "metadata": {},
   "outputs": [],
   "source": [
    "data[[0, 0], [0, 1]] = 100\n",
    "data"
   ]
  },
  {
   "cell_type": "markdown",
   "id": "64",
   "metadata": {},
   "source": [
    "According to the examples above, and like python lists, `ndarrays` are *mutable* objects. This is very important to remember *always*. For example, the following example should be more or less clear:"
   ]
  },
  {
   "cell_type": "code",
   "execution_count": null,
   "id": "65",
   "metadata": {},
   "outputs": [],
   "source": [
    "a = np.array([1, 2, 3])\n",
    "b = a\n",
    "b[1] = 99\n",
    "a"
   ]
  },
  {
   "cell_type": "markdown",
   "id": "66",
   "metadata": {},
   "source": [
    "**Q: is it clear why `a` was changed as well? If not, ask in class!**\n",
    "\n",
    "Now, with numpy indexing, an additional layer of complexity arises. Some indexing operations (categorized as \"basic indexing\") also return what is called a **view** of an array. See for example:"
   ]
  },
  {
   "cell_type": "code",
   "execution_count": null,
   "id": "67",
   "metadata": {},
   "outputs": [],
   "source": [
    "a = np.array([1, 2, 3])\n",
    "b = a[1:]\n",
    "b[0] = 99\n",
    "a"
   ]
  },
  {
   "cell_type": "markdown",
   "id": "68",
   "metadata": {},
   "source": [
    "Slicing is basic indexing, and it always returns a view. Positional or boolean indexing is \"advanced\" indexing a returns a copy:"
   ]
  },
  {
   "cell_type": "code",
   "execution_count": null,
   "id": "69",
   "metadata": {},
   "outputs": [],
   "source": [
    "a = np.array([1, 2, 3])\n",
    "b = a[[1, 2]]\n",
    "b[0] = 99\n",
    "a"
   ]
  },
  {
   "cell_type": "markdown",
   "id": "70",
   "metadata": {},
   "source": [
    "You will have to learn the details of \"basic\" and  \"advanced\" indexing in more details in the master lecture. For now, remember this pitfall. If you want to make sure to manipulate copies of arrays, you can always make a copy:"
   ]
  },
  {
   "cell_type": "code",
   "execution_count": null,
   "id": "71",
   "metadata": {},
   "outputs": [],
   "source": [
    "a = np.array([1, 2, 3])\n",
    "b = a[1:].copy()  # make a copy of the sliced array\n",
    "b[0] = 99\n",
    "a  # nothing changed in a"
   ]
  },
  {
   "cell_type": "markdown",
   "id": "72",
   "metadata": {},
   "source": [
    "### Array statistics (aggregation) "
   ]
  },
  {
   "cell_type": "markdown",
   "id": "73",
   "metadata": {},
   "source": [
    "You can aggregate nD arrays the same way you aggregated 1D arrays:"
   ]
  },
  {
   "cell_type": "code",
   "execution_count": null,
   "id": "74",
   "metadata": {},
   "outputs": [],
   "source": [
    "data = np.array([[1, 2], [3, 4], [5, 6]])\n",
    "data"
   ]
  },
  {
   "cell_type": "code",
   "execution_count": null,
   "id": "75",
   "metadata": {},
   "outputs": [],
   "source": [
    "data.max()"
   ]
  },
  {
   "cell_type": "code",
   "execution_count": null,
   "id": "76",
   "metadata": {},
   "outputs": [],
   "source": [
    "data.min()"
   ]
  },
  {
   "cell_type": "code",
   "execution_count": null,
   "id": "77",
   "metadata": {},
   "outputs": [],
   "source": [
    "data.sum()"
   ]
  },
  {
   "cell_type": "markdown",
   "id": "78",
   "metadata": {},
   "source": [
    "![](https://numpy.org/doc/stable/_images/np_matrix_aggregation.png)"
   ]
  },
  {
   "cell_type": "markdown",
   "id": "79",
   "metadata": {},
   "source": [
    "You can aggregate all the values in a matrix and you can aggregate them across columns or rows using the `axis` parameter. To illustrate this point, let’s look at a slightly modified dataset:"
   ]
  },
  {
   "cell_type": "code",
   "execution_count": null,
   "id": "80",
   "metadata": {},
   "outputs": [],
   "source": [
    "data = np.array([[1, 2], [5, 3], [4, 6]])\n",
    "data"
   ]
  },
  {
   "cell_type": "code",
   "execution_count": null,
   "id": "81",
   "metadata": {},
   "outputs": [],
   "source": [
    "data.max(axis=0)"
   ]
  },
  {
   "cell_type": "code",
   "execution_count": null,
   "id": "82",
   "metadata": {},
   "outputs": [],
   "source": [
    "data.max(axis=1)"
   ]
  },
  {
   "cell_type": "markdown",
   "id": "83",
   "metadata": {},
   "source": [
    "![](https://numpy.org/doc/stable/_images/np_matrix_aggregation_row.png)"
   ]
  },
  {
   "cell_type": "markdown",
   "id": "84",
   "metadata": {},
   "source": [
    "### `np.meshgrid`"
   ]
  },
  {
   "cell_type": "markdown",
   "id": "85",
   "metadata": {},
   "source": [
    "[np.meshgrid](https://numpy.org/doc/stable/reference/generated/numpy.meshgrid.html) is a very useful numpy function for grids and gridded data which are so common in physics and geosciences. It allows to create coordinate matrices from coordinate vectors:"
   ]
  },
  {
   "cell_type": "code",
   "execution_count": null,
   "id": "86",
   "metadata": {},
   "outputs": [],
   "source": [
    "x = np.array([1, 2, 3, 4])\n",
    "y = np.array([-1, 0, 1])\n",
    "xx, yy = np.meshgrid(x, y)"
   ]
  },
  {
   "cell_type": "code",
   "execution_count": null,
   "id": "87",
   "metadata": {},
   "outputs": [],
   "source": [
    "xx"
   ]
  },
  {
   "cell_type": "code",
   "execution_count": null,
   "id": "88",
   "metadata": {},
   "outputs": [],
   "source": [
    "yy"
   ]
  },
  {
   "cell_type": "markdown",
   "id": "89",
   "metadata": {},
   "source": [
    "This is useful to generate 2D fields, but also for plotting, selection by coordinates, and more."
   ]
  },
  {
   "cell_type": "markdown",
   "id": "90",
   "metadata": {},
   "source": [
    "### How to save and load NumPy objects"
   ]
  },
  {
   "cell_type": "markdown",
   "id": "91",
   "metadata": {},
   "source": [
    "You will learn about several data formats used commonly in the geosciences next week, and especially next semester in the climate lecture. In the meantime, have a look at [this short section](https://numpy.org/doc/stable/user/absolute_beginners.html#how-to-save-and-load-numpy-objects) in the numpy tutorial. You will need to read `.npy` files for your homework. "
   ]
  },
  {
   "cell_type": "markdown",
   "id": "92",
   "metadata": {},
   "source": [
    "## numpy - continued "
   ]
  },
  {
   "cell_type": "markdown",
   "id": "93",
   "metadata": {},
   "source": [
    "I highly recommend to learn the details of numpy at your own pace. The documentation is truly excellent:\n",
    "- The [numpy tutorials for beginners](https://numpy.org/doc/stable/user/absolute_beginners.html) to revisit many of the concepts (and learn a few new ones)\n",
    "- The [numpy fundamentals](https://numpy.org/doc/stable/user/basics.html) are excellent as well. At this stage, I recommend the tutorials \"array creation\" to \"broadcasting\" "
   ]
  },
  {
   "cell_type": "markdown",
   "id": "94",
   "metadata": {},
   "source": [
    "## Plotting 2D arrays "
   ]
  },
  {
   "cell_type": "markdown",
   "id": "95",
   "metadata": {},
   "source": [
    "3D arrays (or more) cannot be plotted on a static flat image easily. 2D data, however, is plotted all the time. Here are a few recipes for you to start with. Plotting with matplotlib offers a very wide range of options and possibilities, sometimes confusing. I can't teach you all of it now: you will learn the details during the course of your studies and practice!\n",
    "\n",
    "I recommend to quickly scroll through the following documentation pages, which will give you an overview of matplotlib's capabilities:\n",
    "- https://matplotlib.org/stable/plot_types/index.html\n",
    "- https://matplotlib.org/stable/gallery/index.html\n",
    "- https://matplotlib.org/stable/tutorials/index.html"
   ]
  },
  {
   "cell_type": "markdown",
   "id": "96",
   "metadata": {},
   "source": [
    "### `imshow`"
   ]
  },
  {
   "cell_type": "markdown",
   "id": "97",
   "metadata": {},
   "source": [
    "`plt.imshow` is the simplest way to display an RGB image or assign a color to a value in a 2D array:"
   ]
  },
  {
   "cell_type": "code",
   "execution_count": null,
   "id": "98",
   "metadata": {},
   "outputs": [],
   "source": [
    "x = np.array([1, 2, 3, 4, 5, 6])\n",
    "y = np.array([-4, -2, 0, 2, 4])\n",
    "xx, yy = np.meshgrid(x, y)\n",
    "data = xx**2 + yy\n",
    "data"
   ]
  },
  {
   "cell_type": "code",
   "execution_count": null,
   "id": "99",
   "metadata": {},
   "outputs": [],
   "source": [
    "f, ax = plt.subplots()\n",
    "im = ax.imshow(data);\n",
    "f.colorbar(im);"
   ]
  },
  {
   "cell_type": "markdown",
   "id": "100",
   "metadata": {},
   "source": [
    "Note the x and y coordinates of the plot. They to not correspond to the one we generated (how could they? `imshow` was not told about them). If you want the coordinates to show up properly, you will have to indicate them:"
   ]
  },
  {
   "cell_type": "code",
   "execution_count": null,
   "id": "101",
   "metadata": {},
   "outputs": [],
   "source": [
    "plt.imshow(data, extent=(x[0], x[-1], y[-1], y[0]));"
   ]
  },
  {
   "cell_type": "markdown",
   "id": "102",
   "metadata": {},
   "source": [
    "Actually, this is still wrong! The correct way is to indicate the corner coordinates, which is a bit more work and implies to know the spatial resolution of the data:"
   ]
  },
  {
   "cell_type": "code",
   "execution_count": null,
   "id": "103",
   "metadata": {},
   "outputs": [],
   "source": [
    "plt.imshow(data, extent=(x[0]-0.5, x[-1]+0.5, y[-1]+1, y[0]-1));"
   ]
  },
  {
   "cell_type": "markdown",
   "id": "104",
   "metadata": {},
   "source": [
    "### `pcolormesh`"
   ]
  },
  {
   "cell_type": "markdown",
   "id": "105",
   "metadata": {},
   "source": [
    "[pcolormesh](https://matplotlib.org/stable/api/_as_gen/matplotlib.axes.Axes.pcolormesh.html#matplotlib.axes.Axes.pcolormesh) is a slower, more flexible solution to the problem of displaying 2D data on screen. Unlike `imshow`, it allows coordinates as input, and these coordinates do not have to be regularly spaced:"
   ]
  },
  {
   "cell_type": "code",
   "execution_count": null,
   "id": "106",
   "metadata": {},
   "outputs": [],
   "source": [
    "x = np.array([1, 2, 3, 4, 5, 6])\n",
    "y = np.array([-4, -3, -1, 2, 5])\n",
    "xx, yy = np.meshgrid(x, y)\n",
    "data = xx**2 + yy\n",
    "data"
   ]
  },
  {
   "cell_type": "code",
   "execution_count": null,
   "id": "107",
   "metadata": {},
   "outputs": [],
   "source": [
    "f, ax = plt.subplots()\n",
    "im = ax.pcolormesh(x, y, data, shading='nearest');\n",
    "f.colorbar(im);"
   ]
  },
  {
   "cell_type": "markdown",
   "id": "108",
   "metadata": {},
   "source": [
    "Note that it also takes decisions on the direction of the y-axis based on the data. This is often a good idea, but can be changed of course:"
   ]
  },
  {
   "cell_type": "code",
   "execution_count": null,
   "id": "109",
   "metadata": {},
   "outputs": [],
   "source": [
    "f, ax = plt.subplots()\n",
    "im = ax.pcolormesh(x, y, data, shading='nearest');\n",
    "ax.invert_yaxis();\n",
    "f.colorbar(im);"
   ]
  },
  {
   "cell_type": "markdown",
   "id": "110",
   "metadata": {},
   "source": [
    "Of course, you can change aspects of the plot such as [the colormap](https://matplotlib.org/3.5.0/tutorials/colors/colormaps.html) to use:"
   ]
  },
  {
   "cell_type": "code",
   "execution_count": null,
   "id": "111",
   "metadata": {},
   "outputs": [],
   "source": [
    "f, ax = plt.subplots()\n",
    "im = ax.pcolormesh(x, y, data, shading='nearest', cmap='Reds');\n",
    "ax.invert_yaxis();\n",
    "f.colorbar(im);"
   ]
  },
  {
   "cell_type": "markdown",
   "id": "112",
   "metadata": {},
   "source": [
    "### `contour` and `contourf` "
   ]
  },
  {
   "cell_type": "markdown",
   "id": "113",
   "metadata": {},
   "source": [
    "Contours are leaving the \"pixel space\" to make smooth contour fields around the data points."
   ]
  },
  {
   "cell_type": "code",
   "execution_count": null,
   "id": "114",
   "metadata": {},
   "outputs": [],
   "source": [
    "f, ax = plt.subplots()\n",
    "cf = ax.contourf(x, y, data, levels=np.arange(0, 40, 2), cmap='inferno', extend='both');\n",
    "f.colorbar(cf);"
   ]
  },
  {
   "cell_type": "markdown",
   "id": "115",
   "metadata": {},
   "source": [
    "`contourf` fills with colors, while `contour` draws lines that can be annotated:"
   ]
  },
  {
   "cell_type": "code",
   "execution_count": null,
   "id": "116",
   "metadata": {},
   "outputs": [],
   "source": [
    "f, ax = plt.subplots()\n",
    "c = ax.contour(x, y, data, levels=np.arange(0, 40, 4), cmap='tab10', extend='both');\n",
    "ax.clabel(c, inline=True, fontsize=16);"
   ]
  },
  {
   "cell_type": "markdown",
   "id": "117",
   "metadata": {},
   "source": [
    "## Learning checklist "
   ]
  },
  {
   "cell_type": "markdown",
   "id": "118",
   "metadata": {},
   "source": [
    "<label><input type=\"checkbox\" id=\"week05_01\" class=\"box\"> I am able to subset multidimensional arrays according to location and according to a condition.</input></label><br>\n",
    "<label><input type=\"checkbox\" id=\"week05_01\" class=\"box\"> I understand the concepts of slicing, positional indexing, and boolean indexing.</input></label><br>\n",
    "<label><input type=\"checkbox\" id=\"week05_01\" class=\"box\"> I am aware of the pitfalls of assigning the same array to two different variable names. I am aware that a similar behavior occurs when slicing arrays.</input></label><br>\n",
    "<label><input type=\"checkbox\" id=\"week05_01\" class=\"box\"> I have a broad overview of the various ways to plot 2D arrays. I will however have to use my web-search and documentation reading sills to do my own plots later on.</input></label><br>"
   ]
  }
 ],
 "metadata": {
  "kernelspec": {
   "display_name": "Python 3 (ipykernel)",
   "language": "python",
   "name": "python3"
  },
  "language_info": {
   "codemirror_mode": {
    "name": "ipython",
    "version": 3
   },
   "file_extension": ".py",
   "mimetype": "text/x-python",
   "name": "python",
   "nbconvert_exporter": "python",
   "pygments_lexer": "ipython3",
   "version": "3.10.8"
  }
 },
 "nbformat": 4,
 "nbformat_minor": 5
}
