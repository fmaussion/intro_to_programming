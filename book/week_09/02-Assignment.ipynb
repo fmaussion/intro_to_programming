{
 "cells": [
  {
   "cell_type": "markdown",
   "id": "989af075",
   "metadata": {},
   "source": [
    "# Assignment 09\n",
    "\n",
    "*Due date: 15.06.2022*\n",
    "\n",
    "This week's assignment has to be returned **in the form a jupyter notebook**. \n",
    "\n",
    "Don't forget the [instructions](../assignments)!"
   ]
  },
  {
   "cell_type": "markdown",
   "id": "c7357904-e2a7-4303-aa77-72a0d8217c32",
   "metadata": {},
   "source": [
    "## 01 - Satellite image"
   ]
  },
  {
   "cell_type": "markdown",
   "id": "3f30043f-5abb-4c2d-87cc-1ff88aca03ac",
   "metadata": {},
   "source": [
    "**Download [this satellite image](https://github.com/fmaussion/intro_to_programming/raw/master/book/week_09/snapshot-2022-06-04.png)**, which is a true color image obtained with the MODIS TERRA satellite on the 04th of June 2022. If you are interested to know more about the data (and download some yourself), visit https://go.nasa.gov/2LH4Wsa.\n",
    "\n",
    "**Install the [imageio](https://imageio.readthedocs.io) library** (remember how? If not, get back to the [installation instructions](../week_05/01-install-packages)).\n",
    "\n",
    "**Read the image as shown below:**"
   ]
  },
  {
   "cell_type": "code",
   "execution_count": 1,
   "id": "9169ce0d-fd30-4c2d-bca9-35811baeb312",
   "metadata": {},
   "outputs": [],
   "source": [
    "import imageio.v3 as iio\n",
    "img = iio.imread('snapshot-2022-06-04.png')"
   ]
  },
  {
   "cell_type": "markdown",
   "id": "d6f9794c-c61d-4a54-b555-e396a5f6c01b",
   "metadata": {},
   "source": [
    "**First, explore the `img` variable (shape, type, etc). Display it on screen with matplotlib.**"
   ]
  },
  {
   "cell_type": "code",
   "execution_count": 1,
   "id": "b61d4ca6-2c07-4e8b-a58b-2029794e2a5b",
   "metadata": {},
   "outputs": [],
   "source": [
    "# Your answer here"
   ]
  },
  {
   "cell_type": "markdown",
   "id": "06ea2995-c836-499e-9a59-202596660eca",
   "metadata": {},
   "source": [
    "**Now, select a small region around Innsbruck which is mostly cloud-free (approximately). Name this subset `zimg` and plot it (it might look more or less like [this plot](https://github.com/fmaussion/intro_to_programming/blob/master/book/week_09/example_modis_zoom.png)).**"
   ]
  },
  {
   "cell_type": "code",
   "execution_count": 2,
   "id": "54e965c1-4f69-476f-a427-3c44b4a63cef",
   "metadata": {},
   "outputs": [],
   "source": [
    "# Your answer here"
   ]
  },
  {
   "cell_type": "markdown",
   "id": "51395e6c-ff03-4fd9-bbe7-a7208e02ae14",
   "metadata": {},
   "source": [
    "The Visible Atmospherically Resistant Index (VARI) index is a simple [vegetation index](https://en.wikipedia.org/wiki/Vegetation_index) easily applicable to RGB images. It is [computed](http://space4water.org/space/visible-atmospherically-resistant-index-vari) as:\n",
    "\n",
    "*VARI = (Green - Red) / (Green + Red - Blue)*\n",
    "\n",
    "With:\n",
    "- Green: pixel values from the green band\n",
    "- Red: pixel values from the red band\n",
    "- Blue: pixel values from the blue band\n",
    "- all three scaled to the [0-1] range\n",
    "\n",
    "**Compute VARI from the zimg image. Plot it in the [0-1] range, with a colorbar added to it ([example](https://github.com/fmaussion/intro_to_programming/blob/master/book/week_09/example_modis_vari.png)). Plot a histogram of the vari with 100 automatically selected bins (don't forget to flatten the data first! When `hist` called on a 2D array it has a very different meaning).**\n",
    "\n",
    "*Optional: if you want to check what values of vari are given to each pixel, you could overplot contours to the image to vizualize them, as in [this example](https://github.com/fmaussion/intro_to_programming/blob/master/book/week_09/example_modis_vari_contours.png).*"
   ]
  },
  {
   "cell_type": "code",
   "execution_count": 3,
   "id": "41e81106-4954-4080-a8a1-78447169b0c5",
   "metadata": {},
   "outputs": [],
   "source": [
    "# Your answer here"
   ]
  },
  {
   "cell_type": "markdown",
   "id": "cddcfacb-ef3f-4f4f-b72e-9054ad440839",
   "metadata": {},
   "source": [
    "**Now think about a simple algorithm that could be used to detect snow and clouds in the image (disentangling between clouds and snow is still an active research field today, and it cannot be done with RGB images only). Once you have found where snow is, mask it red on the image an plot it to obtain an image similar [to this one](https://github.com/fmaussion/intro_to_programming/blob/master/book/week_09/example_modis_snow.png). Count the number of snow/cloud pixels in the image and its percentage coverage of the `zimg` image.** \n",
    "\n",
    "*Tip: my algorithm is super super simple by the way - it involves summing all three color channels and a simple threshold.*"
   ]
  },
  {
   "cell_type": "code",
   "execution_count": 4,
   "id": "70c63fe9-f620-4400-b89e-b71bad971399",
   "metadata": {},
   "outputs": [],
   "source": [
    "# Your answer here"
   ]
  },
  {
   "cell_type": "markdown",
   "id": "f1550f6a-a53b-4b80-91ba-1ef9caa05a0b",
   "metadata": {},
   "source": [
    "## 02 - Global temperature map "
   ]
  },
  {
   "cell_type": "markdown",
   "id": "846833f9-b259-4faa-bea6-cf0e697b21f0",
   "metadata": {},
   "source": [
    "Let me read some data for you:"
   ]
  },
  {
   "cell_type": "code",
   "execution_count": 13,
   "id": "89ef0a16-6b1a-4f91-9e41-b64412930468",
   "metadata": {},
   "outputs": [],
   "source": [
    "from urllib.request import Request, urlopen\n",
    "from io import BytesIO\n",
    "import numpy as np\n",
    "\n",
    "# Parse the given url\n",
    "url = 'https://github.com/fmaussion/scientific_programming/raw/master/data/monthly_temp.npz'\n",
    "req = urlopen(Request(url)).read()\n",
    "with np.load(BytesIO(req)) as data:\n",
    "    temp = data['temp']\n",
    "    lon = data['lon']\n",
    "    lat = data['lat']"
   ]
  },
  {
   "cell_type": "markdown",
   "id": "17b1f934-cd6c-4673-a7c4-a123f6013c77",
   "metadata": {},
   "source": [
    "These data represent the global average temperature obtain from gridded reanalysis data. The `lon` and `lat` variables are the coordinates of the grid.\n",
    "\n",
    "- **What is the spatial resolution of the data (the distance between two grid points - or pixels)?** \n",
    "- **What is the minimum average temperature on the globe? The minimum?** \n",
    "\n",
    "**Plot the data using `plt.pcolormesh` and the correct lon/lat coordinates, with a colorbar in the range [-30°C, +30°C] and the `RdBu` colorscale ([example](https://raw.githubusercontent.com/fmaussion/intro_to_programming/master/book/week_09/example_world_map.png)).**\n",
    "\n",
    "**Now plot the zonal average of temperature as a line plot ([example](https://github.com/fmaussion/intro_to_programming/blob/master/book/week_09/example_zonal_avg.png))** (the zonal average is the average over all longitudes). Repeat with the zonal standard deviation.\n",
    "\n",
    "*Optional: the data is great, but not well processed: the longitudes are ranging from 0 to 360°, thus cutting UK and Africa in half! Reorganize the data and the corresponding coordinate to obtain a plot similar to [this one](https://raw.githubusercontent.com/fmaussion/intro_to_programming/master/book/week_09/example_world_map_corr.png).*"
   ]
  },
  {
   "cell_type": "code",
   "execution_count": 5,
   "id": "ca7d0e1e-1ff5-445c-ad01-afb446078ffc",
   "metadata": {},
   "outputs": [],
   "source": [
    "# Your answer here"
   ]
  },
  {
   "cell_type": "code",
   "execution_count": null,
   "id": "5629537e-5911-4ca0-9b71-e4fcecf5f20e",
   "metadata": {},
   "outputs": [],
   "source": []
  }
 ],
 "metadata": {
  "kernelspec": {
   "display_name": "Python 3 (ipykernel)",
   "language": "python",
   "name": "python3"
  },
  "language_info": {
   "codemirror_mode": {
    "name": "ipython",
    "version": 3
   },
   "file_extension": ".py",
   "mimetype": "text/x-python",
   "name": "python",
   "nbconvert_exporter": "python",
   "pygments_lexer": "ipython3",
   "version": "3.10.8"
  }
 },
 "nbformat": 4,
 "nbformat_minor": 5
}
