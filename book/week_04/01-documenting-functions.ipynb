{
 "cells": [
  {
   "cell_type": "markdown",
   "metadata": {},
   "source": [
    "# Documenting functions and testing their output"
   ]
  },
  {
   "cell_type": "markdown",
   "metadata": {},
   "source": [
    "You've now learned to write functions in programs. With this lesson I would like to illustrate three new concepts which you will find useful for the rest of the class. "
   ]
  },
  {
   "cell_type": "markdown",
   "metadata": {},
   "source": [
    "## Positional and keyword arguments "
   ]
  },
  {
   "cell_type": "markdown",
   "metadata": {},
   "source": [
    "Until now you coded functions with relatively simple [signatures](https://en.wikipedia.org/wiki/Type_signature). Here I would like to illustrate another way to pass arguments to a function. Consider the following example:"
   ]
  },
  {
   "cell_type": "code",
   "execution_count": 9,
   "metadata": {},
   "outputs": [],
   "source": [
    "def say_hi(firstname, lastname, language='en'):\n",
    "    if language == 'en':\n",
    "        output = f'Hello {firstname} {lastname}!'\n",
    "    elif language == 'fr':\n",
    "        output = f'Bonjour {firstname} {lastname}!'\n",
    "    else:\n",
    "        raise ValueError(f'Language not recognized: {language}')\n",
    "    return output"
   ]
  },
  {
   "cell_type": "markdown",
   "metadata": {},
   "source": [
    "The first two arguments (`firstname` and `lastname`) are called **positional arguments** of the function. They are called this way because their position matters (you can't mixed them up), and they are required for the function to run successfully. For example:"
   ]
  },
  {
   "cell_type": "code",
   "execution_count": 10,
   "metadata": {},
   "outputs": [
    {
     "data": {
      "text/plain": [
       "'Hello Smith Will!'"
      ]
     },
     "execution_count": 10,
     "metadata": {},
     "output_type": "execute_result"
    }
   ],
   "source": [
    "# Position matters:\n",
    "say_hi('Smith', 'Will')"
   ]
  },
  {
   "cell_type": "code",
   "execution_count": 11,
   "metadata": {},
   "outputs": [
    {
     "ename": "TypeError",
     "evalue": "say_hi() missing 1 required positional argument: 'lastname'",
     "output_type": "error",
     "traceback": [
      "\u001b[0;31m---------------------------------------------------------------------------\u001b[0m",
      "\u001b[0;31mTypeError\u001b[0m                                 Traceback (most recent call last)",
      "\u001b[0;32m/tmp/ipykernel_113143/1781319118.py\u001b[0m in \u001b[0;36m<cell line: 2>\u001b[0;34m()\u001b[0m\n\u001b[1;32m      1\u001b[0m \u001b[0;31m# All arguments matter:\u001b[0m\u001b[0;34m\u001b[0m\u001b[0;34m\u001b[0m\u001b[0;34m\u001b[0m\u001b[0m\n\u001b[0;32m----> 2\u001b[0;31m \u001b[0msay_hi\u001b[0m\u001b[0;34m(\u001b[0m\u001b[0;34m'Will'\u001b[0m\u001b[0;34m)\u001b[0m\u001b[0;34m\u001b[0m\u001b[0;34m\u001b[0m\u001b[0m\n\u001b[0m",
      "\u001b[0;31mTypeError\u001b[0m: say_hi() missing 1 required positional argument: 'lastname'"
     ]
    }
   ],
   "source": [
    "# All arguments matter:\n",
    "say_hi('Will')"
   ]
  },
  {
   "cell_type": "markdown",
   "metadata": {},
   "source": [
    "Now, what about the third argument in the function? They is called a **keyword argument**, and it is defined as a pair:\n",
    "- the key (here `language`), which is also the name of the variable used in the function scope\n",
    "- the value (here `'en'`), which is assigned to the key if no other value is specified. \n",
    "\n",
    "Therefore:"
   ]
  },
  {
   "cell_type": "code",
   "execution_count": 6,
   "metadata": {},
   "outputs": [
    {
     "name": "stdout",
     "output_type": "stream",
     "text": [
      "Hello Will Smith!\n"
     ]
    }
   ],
   "source": [
    "say_hi('Will', 'Smith')  # here language is set to `'en'` per default"
   ]
  },
  {
   "cell_type": "code",
   "execution_count": 7,
   "metadata": {},
   "outputs": [
    {
     "name": "stdout",
     "output_type": "stream",
     "text": [
      "Bonjour Will Smith!\n"
     ]
    }
   ],
   "source": [
    "say_hi('Will', 'Smith', language='fr')  # here language is set to `'fr'` by the caller"
   ]
  },
  {
   "cell_type": "markdown",
   "metadata": {},
   "source": [
    "Keyword arguments are used to offer more optional behaviors to the function without enforcing the caller to set them. They are very useful, as you will see."
   ]
  },
  {
   "cell_type": "markdown",
   "metadata": {},
   "source": [
    "## Function documentation with docstrings"
   ]
  },
  {
   "cell_type": "markdown",
   "metadata": {},
   "source": [
    "\"Naked\" functions like the one above are not recommended practice in code. Indeed, in order to understand what the function is doing people have to read the code. Imagine if you had to read all of the python codebase to understand how things work!\n",
    "\n",
    "Let's add some \"clothes\" to our function above:"
   ]
  },
  {
   "cell_type": "code",
   "execution_count": 36,
   "metadata": {},
   "outputs": [],
   "source": [
    "def say_hi(firstname, lastname, language='en'):\n",
    "    \"\"\"Prepares a string saying hi in different languages.\n",
    "\n",
    "    The currently supported languages are french and english.\n",
    "\n",
    "    Parameters\n",
    "    ----------\n",
    "    firstname : str\n",
    "        The first name of the person to greet\n",
    "    lastname : str\n",
    "        The last name of the person to greet\n",
    "    language : {'en', 'fr'}, optional\n",
    "        Which language to use.\n",
    "\n",
    "    Returns\n",
    "    -------\n",
    "    out : str\n",
    "        A string with the correct greeting\n",
    "\n",
    "    Examples\n",
    "    --------\n",
    "    >>> say_hi('John', 'Lenon')\n",
    "    Hello John Lenon!\n",
    "    >>> say_hi('Jeanne', \"d'Arc\", language='fr')\n",
    "    Bonjour Jeanne d'Arc!\n",
    "    \"\"\"\n",
    "    if language == 'en':\n",
    "        print(f'Hello {firstname} {lastname}!')\n",
    "    elif language == 'fr':\n",
    "        print(f'Bonjour {firstname} {lastname}!')\n",
    "    else:\n",
    "        raise ValueError(f'Language not recognized: {language}')"
   ]
  },
  {
   "cell_type": "markdown",
   "metadata": {},
   "source": [
    "Function documentation allows users to learn about a function without having to read the code. For example, they are now able to do:"
   ]
  },
  {
   "cell_type": "code",
   "execution_count": 37,
   "metadata": {},
   "outputs": [
    {
     "name": "stdout",
     "output_type": "stream",
     "text": [
      "Help on function say_hi in module __main__:\n",
      "\n",
      "say_hi(firstname, lastname, language='en')\n",
      "    Prepares a string saying hi in different languages.\n",
      "    \n",
      "    The currently supported languages are french and english.\n",
      "    \n",
      "    Parameters\n",
      "    ----------\n",
      "    firstname : str\n",
      "        The first name of the person to greet\n",
      "    lastname : str\n",
      "        The last name of the person to greet\n",
      "    language : {'en', 'fr'}, optional\n",
      "        Which language to use.\n",
      "    \n",
      "    Returns\n",
      "    -------\n",
      "    out : str\n",
      "        A string with the correct greeting\n",
      "    \n",
      "    Examples\n",
      "    --------\n",
      "    >>> say_hi('John', 'Lenon')\n",
      "    Hello John Lenon!\n",
      "    >>> say_hi('Jeanne', \"d'Arc\", language='fr')\n",
      "    Bonjour Jeanne d'Arc!\n",
      "\n"
     ]
    }
   ],
   "source": [
    "help(say_hi)"
   ]
  },
  {
   "cell_type": "markdown",
   "metadata": {},
   "source": [
    "Or, in jupyter notebooks:"
   ]
  },
  {
   "cell_type": "code",
   "execution_count": 38,
   "metadata": {},
   "outputs": [
    {
     "data": {
      "text/plain": [
       "\u001b[0;31mSignature:\u001b[0m \u001b[0msay_hi\u001b[0m\u001b[0;34m(\u001b[0m\u001b[0mfirstname\u001b[0m\u001b[0;34m,\u001b[0m \u001b[0mlastname\u001b[0m\u001b[0;34m,\u001b[0m \u001b[0mlanguage\u001b[0m\u001b[0;34m=\u001b[0m\u001b[0;34m'en'\u001b[0m\u001b[0;34m)\u001b[0m\u001b[0;34m\u001b[0m\u001b[0;34m\u001b[0m\u001b[0m\n",
       "\u001b[0;31mDocstring:\u001b[0m\n",
       "Prepares a string saying hi in different languages.\n",
       "\n",
       "The currently supported languages are french and english.\n",
       "\n",
       "Parameters\n",
       "----------\n",
       "firstname : str\n",
       "    The first name of the person to greet\n",
       "lastname : str\n",
       "    The last name of the person to greet\n",
       "language : {'en', 'fr'}, optional\n",
       "    Which language to use.\n",
       "\n",
       "Returns\n",
       "-------\n",
       "out : str\n",
       "    A string with the correct greeting\n",
       "\n",
       "Examples\n",
       "--------\n",
       ">>> say_hi('John', 'Lenon')\n",
       "Hello John Lenon!\n",
       ">>> say_hi('Jeanne', \"d'Arc\", language='fr')\n",
       "Bonjour Jeanne d'Arc!\n",
       "\u001b[0;31mFile:\u001b[0m      /tmp/ipykernel_113143/2198531688.py\n",
       "\u001b[0;31mType:\u001b[0m      function\n"
      ]
     },
     "metadata": {},
     "output_type": "display_data"
    }
   ],
   "source": [
    "say_hi?"
   ]
  },
  {
   "cell_type": "markdown",
   "metadata": {},
   "source": [
    "You can do this with other functions as well! See for example:"
   ]
  },
  {
   "cell_type": "code",
   "execution_count": 39,
   "metadata": {},
   "outputs": [
    {
     "data": {
      "text/plain": [
       "\u001b[0;31mSignature:\u001b[0m \u001b[0mrandom\u001b[0m\u001b[0;34m.\u001b[0m\u001b[0muniform\u001b[0m\u001b[0;34m(\u001b[0m\u001b[0ma\u001b[0m\u001b[0;34m,\u001b[0m \u001b[0mb\u001b[0m\u001b[0;34m)\u001b[0m\u001b[0;34m\u001b[0m\u001b[0;34m\u001b[0m\u001b[0m\n",
       "\u001b[0;31mDocstring:\u001b[0m Get a random number in the range [a, b) or [a, b] depending on rounding.\n",
       "\u001b[0;31mFile:\u001b[0m      ~/.pyenv/versions/3.8.5/lib/python3.8/random.py\n",
       "\u001b[0;31mType:\u001b[0m      method\n"
      ]
     },
     "metadata": {},
     "output_type": "display_data"
    }
   ],
   "source": [
    "import random\n",
    "random.uniform?"
   ]
  },
  {
   "cell_type": "markdown",
   "metadata": {},
   "source": [
    "You can document functions the way you want. The only rules are that the documentation (called **docstring**) starts and ends with three `\"\"\"`. \n",
    "\n",
    "I recommend to follow some rules though, and the most used is the [numpydoc](https://numpydoc.readthedocs.io/en/latest/format.html#docstring-standard) convention. It's also the one I used above."
   ]
  },
  {
   "cell_type": "markdown",
   "metadata": {},
   "source": [
    "## Testing a function's output with doctest"
   ]
  },
  {
   "cell_type": "markdown",
   "metadata": {},
   "source": [
    "You may have noticed the `Examples` section in the docstring of our function above.\n",
    "\n",
    "This section uses a specific syntax (the `>>>`) to signify that we are documenting python code. This section can actually be run and understood by a tool called doctest.\n",
    "\n",
    "Using it will actually discover a \"bug\" in our documentation:"
   ]
  },
  {
   "cell_type": "code",
   "execution_count": 40,
   "metadata": {},
   "outputs": [
    {
     "data": {
      "text/plain": [
       "TestResults(failed=0, attempted=5)"
      ]
     },
     "execution_count": 40,
     "metadata": {},
     "output_type": "execute_result"
    }
   ],
   "source": [
    "import doctest\n",
    "doctest.testmod()"
   ]
  },
  {
   "cell_type": "markdown",
   "metadata": {},
   "source": [
    "Everything seems fine here. But what if I made a mistake, either in the documentation or the function? Let's try again:"
   ]
  },
  {
   "cell_type": "code",
   "execution_count": 43,
   "metadata": {},
   "outputs": [
    {
     "name": "stdout",
     "output_type": "stream",
     "text": [
      "**********************************************************************\n",
      "File \"__main__\", line 6, in __main__.fahrenheit_to_celsius\n",
      "Failed example:\n",
      "    fahrenheit_to_celsius(68)\n",
      "Expected:\n",
      "    20.0\n",
      "Got:\n",
      "    16.0\n",
      "**********************************************************************\n",
      "1 items had failures:\n",
      "   1 of   1 in __main__.fahrenheit_to_celsius\n",
      "***Test Failed*** 1 failures.\n"
     ]
    },
    {
     "data": {
      "text/plain": [
       "TestResults(failed=1, attempted=6)"
      ]
     },
     "execution_count": 43,
     "metadata": {},
     "output_type": "execute_result"
    }
   ],
   "source": [
    "def fahrenheit_to_celsius(tc):\n",
    "    \"\"\"Converts a temperature in °C to °F.\n",
    "\n",
    "    Examples\n",
    "    --------\n",
    "    >>> fahrenheit_to_celsius(68)\n",
    "    20.0\n",
    "    \"\"\"\n",
    "    r = (tc - 32) * 4 / 9\n",
    "    return r\n",
    "\n",
    "doctest.testmod()"
   ]
  },
  {
   "cell_type": "markdown",
   "metadata": {},
   "source": [
    "Aha! This is actually quite useful! The doctest is pointing me to a problem in my code. Can you find it? Let's try again: "
   ]
  },
  {
   "cell_type": "code",
   "execution_count": 45,
   "metadata": {},
   "outputs": [
    {
     "name": "stdout",
     "output_type": "stream",
     "text": [
      "**********************************************************************\n",
      "File \"__main__\", line 8, in __main__.fahrenheit_to_celsius\n",
      "Failed example:\n",
      "    fahrenheit_to_celsius(100)\n",
      "Expected:\n",
      "    37.7\n",
      "Got:\n",
      "    37.77777777777778\n",
      "**********************************************************************\n",
      "1 items had failures:\n",
      "   1 of   2 in __main__.fahrenheit_to_celsius\n",
      "***Test Failed*** 1 failures.\n"
     ]
    },
    {
     "data": {
      "text/plain": [
       "TestResults(failed=1, attempted=7)"
      ]
     },
     "execution_count": 45,
     "metadata": {},
     "output_type": "execute_result"
    }
   ],
   "source": [
    "def fahrenheit_to_celsius(tc):\n",
    "    \"\"\"Converts a temperature in °C to °F.\n",
    "\n",
    "    Examples\n",
    "    --------\n",
    "    >>> fahrenheit_to_celsius(68)\n",
    "    20.0\n",
    "    >>> fahrenheit_to_celsius(100)\n",
    "    37.7\n",
    "    \"\"\"\n",
    "    r = (tc - 32) * 5 / 9\n",
    "    return r\n",
    "\n",
    "doctest.testmod()"
   ]
  },
  {
   "cell_type": "markdown",
   "metadata": {},
   "source": [
    "Aha! This time the previous test is now corrected, but the new one is not precise enough. Let's try one more time:"
   ]
  },
  {
   "cell_type": "code",
   "execution_count": 46,
   "metadata": {},
   "outputs": [
    {
     "data": {
      "text/plain": [
       "TestResults(failed=0, attempted=7)"
      ]
     },
     "execution_count": 46,
     "metadata": {},
     "output_type": "execute_result"
    }
   ],
   "source": [
    "def fahrenheit_to_celsius(tc):\n",
    "    \"\"\"Converts a temperature in °C to °F.\n",
    "\n",
    "    Examples\n",
    "    --------\n",
    "    >>> fahrenheit_to_celsius(68)\n",
    "    20.0\n",
    "    >>> fahrenheit_to_celsius(100)\n",
    "    37.77777777777778\n",
    "    \"\"\"\n",
    "    r = (tc - 32) * 5 / 9\n",
    "    return r\n",
    "\n",
    "doctest.testmod()"
   ]
  },
  {
   "cell_type": "markdown",
   "metadata": {},
   "source": [
    "Perfect!\n",
    "\n",
    "Doctests are very useful to:\n",
    "- document a function's behavior with examples, which is often the best way to explain\n",
    "- test if the function is working as expected and discover future bugs if the internal code changes\n",
    "- test if the documentation is still correct after internal code changes\n",
    "- communicate exercises with you ;-) I will use this format as often as possible to let you know what I expect your code to do."
   ]
  },
  {
   "cell_type": "markdown",
   "metadata": {},
   "source": [
    "## Learning recap\n",
    "\n",
    "You have learned to:\n",
    "- use **keyword arguments** in functions on top of the **positional arguments**\n",
    "- use **doctrings** to document a function's signature and behavior\n",
    "- use **doctests** to test if a function works properly\n",
    "\n",
    "You are now ready for the rest of the lecture!"
   ]
  }
 ],
 "metadata": {
  "execution": {
   "allow_errors": true
  },
  "hide_input": false,
  "kernelspec": {
   "display_name": "Python 3 (ipykernel)",
   "language": "python",
   "name": "python3"
  },
  "language_info": {
   "codemirror_mode": {
    "name": "ipython",
    "version": 3
   },
   "file_extension": ".py",
   "mimetype": "text/x-python",
   "name": "python",
   "nbconvert_exporter": "python",
   "pygments_lexer": "ipython3",
   "version": "3.8.5"
  },
  "toc": {
   "base_numbering": 1,
   "nav_menu": {},
   "number_sections": false,
   "sideBar": true,
   "skip_h1_title": true,
   "title_cell": "Table of Contents",
   "title_sidebar": "Contents",
   "toc_cell": false,
   "toc_position": {},
   "toc_section_display": true,
   "toc_window_display": false
  }
 },
 "nbformat": 4,
 "nbformat_minor": 4
}
