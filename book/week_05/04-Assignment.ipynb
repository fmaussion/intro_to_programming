{
 "cells": [
  {
   "cell_type": "markdown",
   "id": "0",
   "metadata": {},
   "source": [
    "# Assignment 05\n",
    "\n",
    "*Due date: 03.05.2023*\n",
    "\n",
    "This week's assignment has to be returned **in the form a jupyter notebook**. \n",
    "Use jupyter notebooks for what they excel at: combining text, code, and figures. Use the markdown format to structure your assignments, and write text when asked to.\n",
    "\n",
    "**As explained in the video, I recommend to download this notebook in order to answer the questions directly in it.**\n",
    "\n",
    "Don't forget the [instructions](../assignments)!"
   ]
  },
  {
   "cell_type": "markdown",
   "id": "1",
   "metadata": {},
   "source": [
    "## Introduction: live meteorological data"
   ]
  },
  {
   "cell_type": "markdown",
   "id": "2",
   "metadata": {},
   "source": [
    "```{warning}\n",
    "Online access to ACINN data does not work anymore. For a similar excercise I recommend to have a look at GeoSphere Austria's API. I may update the resources here in the future.\n",
    "```"
   ]
  },
  {
   "cell_type": "markdown",
   "id": "3",
   "metadata": {},
   "source": [
    "The institute website provides raw data from several stations around Innsbruck using a live feed at the following addresses:\n",
    "- https://acinn-data.uibk.ac.at/innsbruck/3 for the three days data\n",
    "- https://acinn-data.uibk.ac.at/innsbruck/7 for the seven days data\n",
    "\n",
    "The datasets for other stations are available, per analogy:\n",
    "- https://acinn-data.uibk.ac.at/obergurgl/3\n",
    "- two other stations are available but we'll have a look at them next time\n",
    "\n",
    "The data is shared by ACINN under a [Creative Commons Attribution-ShareAlike 4.0 International License](https://creativecommons.org/licenses/by-sa/4.0/).\n",
    "\n",
    "<a href=\"https://creativecommons.org/licenses/by-sa/4.0/\" target=\"_blank\">\n",
    "  <img src=\"https://i.creativecommons.org/l/by-sa/4.0/88x31.png\"/>\n",
    "</a>\n",
    "\n",
    "The data is provided in the [json](https://www.json.org/) format, often used for web applications. Fortunately, this is very easy to read in python. To make your life easier, I have prepared a reading function below. \n",
    "\n",
    "It is not important that you understand how it works exactly, but you should understand how to call the function as explained in the examples below."
   ]
  },
  {
   "cell_type": "code",
   "execution_count": null,
   "id": "4",
   "metadata": {},
   "outputs": [],
   "source": [
    "import numpy as np\n",
    "\n",
    "def acinn_meteo_data(station=\"innsbruck\", ndays=3):\n",
    "    \"\"\"Parse live meteorological data from the ACINN servers.\n",
    "\n",
    "    Requires an internet connection!\n",
    "\n",
    "    Parameters\n",
    "    ----------\n",
    "    station : str\n",
    "        one of \"innsbruck\", \"obergurgl\"\n",
    "    ndays : int\n",
    "        either 3 or 7 days\n",
    "\n",
    "    Returns\n",
    "    -------\n",
    "    (time, air_temp, wind_speed, wind_dir) :\n",
    "        the meteorological data (python lists)\n",
    "\n",
    "    Examples\n",
    "    --------\n",
    "    >>> time, air_temp, wind_speed, wind_dir = acinn_meteo_data()\n",
    "    >>> type(time)\n",
    "    <class 'numpy.ndarray'>\n",
    "    >>> len(time) > 0\n",
    "    True\n",
    "    \"\"\"\n",
    "    from urllib.request import Request, urlopen\n",
    "    from datetime import datetime, timedelta\n",
    "    import json\n",
    "\n",
    "    url = f'https://acinn-data.uibk.ac.at/{station}/{ndays}'\n",
    "    req = urlopen(Request(url)).read()\n",
    "    # Read the data\n",
    "    data = json.loads(req.decode('utf-8'))\n",
    "\n",
    "    # Convert the time\n",
    "    time = np.array([datetime(1970, 1, 1) + timedelta(milliseconds=ds) for ds in data['datumsec']])\n",
    "\n",
    "    # Read the data\n",
    "    wind_speed = np.array(data['ff'])\n",
    "    wind_dir = np.array(data['dd'])\n",
    "    air_temp = np.array(data['tl'])\n",
    "    \n",
    "    # This is for missing data filtering - more on this in the next class\n",
    "    air_temp[air_temp < -99] = np.NaN\n",
    "\n",
    "    is_finite = np.isfinite(air_temp) & np.isfinite(wind_speed) & np.isfinite(wind_dir)\n",
    "    if np.any(~is_finite):\n",
    "        time = time[is_finite]\n",
    "        air_temp = air_temp[is_finite]\n",
    "        wind_speed = wind_speed[is_finite]\n",
    "        wind_dir = wind_dir[is_finite]\n",
    "\n",
    "    # Return the data\n",
    "    return time, air_temp, wind_speed, wind_dir\n",
    "\n",
    "# Testing\n",
    "import doctest\n",
    "doctest.testmod()"
   ]
  },
  {
   "cell_type": "markdown",
   "id": "5",
   "metadata": {},
   "source": [
    "The function can be called as follows:"
   ]
  },
  {
   "cell_type": "code",
   "execution_count": null,
   "id": "6",
   "metadata": {},
   "outputs": [],
   "source": [
    "time, air_temp, wind_speed, wind_dir = acinn_meteo_data(station='innsbruck', ndays=7)"
   ]
  },
  {
   "cell_type": "markdown",
   "id": "7",
   "metadata": {},
   "source": [
    "## Exercise 1: data exploration"
   ]
  },
  {
   "cell_type": "markdown",
   "id": "8",
   "metadata": {},
   "source": [
    "Please answer the questions one by one in the cells below. "
   ]
  },
  {
   "cell_type": "markdown",
   "id": "9",
   "metadata": {},
   "source": [
    "**What is the dtype of the data stored in the `air_temp`, `wind_speed`, `wind_dir` arrays? And their size? And their shape?**"
   ]
  },
  {
   "cell_type": "code",
   "execution_count": null,
   "id": "10",
   "metadata": {},
   "outputs": [],
   "source": [
    "# your answer here"
   ]
  },
  {
   "cell_type": "markdown",
   "id": "11",
   "metadata": {},
   "source": [
    "**What is the dtype of the data stored in the time array? Try to ask the following questions:**\n",
    "```python\n",
    "print(time.dtype)\n",
    "print(type(time[0]))\n",
    "```"
   ]
  },
  {
   "cell_type": "code",
   "execution_count": null,
   "id": "12",
   "metadata": {},
   "outputs": [],
   "source": [
    "# your answer here"
   ]
  },
  {
   "cell_type": "markdown",
   "id": "13",
   "metadata": {},
   "source": [
    "**What is the time resolution of the data? To answer this question, you can print the two first elements of the time array.**"
   ]
  },
  {
   "cell_type": "code",
   "execution_count": null,
   "id": "14",
   "metadata": {},
   "outputs": [],
   "source": [
    "# your answer here"
   ]
  },
  {
   "cell_type": "markdown",
   "id": "15",
   "metadata": {},
   "source": [
    "## Exercise 2: plotting"
   ]
  },
  {
   "cell_type": "markdown",
   "id": "16",
   "metadata": {},
   "source": [
    "**Create a graph of the temperature and wind in Innsbruck over the last 3 days**. Start by noticing that matplotlib understands datetime objects very well, and create a graph which looks approximately like this: [example image](https://github.com/fmaussion/intro_to_programming/blob/master/book/week_05/innsbruck_wind_example.png) (note that your plot can be different with respect to dates, colors, etc. But be careful with the axis labels and legends)."
   ]
  },
  {
   "cell_type": "code",
   "execution_count": null,
   "id": "17",
   "metadata": {},
   "outputs": [],
   "source": [
    "# your answer here"
   ]
  },
  {
   "cell_type": "markdown",
   "id": "18",
   "metadata": {},
   "source": [
    "*Note: date formatting on axes is something which is very difficult to do automatically. If you feel like it you can try things like shown on the example below (optional).*\n",
    "\n",
    "\n",
    "```python\n",
    "# Define the date format\n",
    "from matplotlib.dates import DateFormatter, HourLocator\n",
    "ax.xaxis.set_major_locator(HourLocator(byhour=[0, 12]))\n",
    "ax.xaxis.set_minor_locator(HourLocator())\n",
    "ax.xaxis.set_major_formatter(DateFormatter(\"%b %d, %HH\"))\n",
    "fig.autofmt_xdate()\n",
    "```"
   ]
  },
  {
   "cell_type": "markdown",
   "id": "19",
   "metadata": {},
   "source": [
    "**Now create a graph of the temperature at Innsbruck and Obergurgl over the last 7 days**. The graph should look approximately like this: [example image](https://github.com/fmaussion/intro_to_programming/blob/master/book/week_05/temp_example.png) (note that your plot can be different with respect to dates, colors, etc. But be careful with the axis labels and legends)."
   ]
  },
  {
   "cell_type": "code",
   "execution_count": null,
   "id": "20",
   "metadata": {},
   "outputs": [],
   "source": [
    "# your answer here"
   ]
  },
  {
   "cell_type": "markdown",
   "id": "21",
   "metadata": {},
   "source": [
    "## Exercise 3: statistics"
   ]
  },
  {
   "cell_type": "markdown",
   "id": "22",
   "metadata": {},
   "source": [
    "**Compute the average, maximum and minimum temperature in Innsbruck over the past 7 days.**"
   ]
  },
  {
   "cell_type": "code",
   "execution_count": null,
   "id": "23",
   "metadata": {},
   "outputs": [],
   "source": [
    "# your answer here"
   ]
  },
  {
   "cell_type": "markdown",
   "id": "24",
   "metadata": {},
   "source": [
    "**Compute the average, maximum and minimum temperature in Innsbruck over the past 24H. For this, assume that the data has no missing timestamp and that the time resolution is constant (this is sometimes wrong but we don't care here).**"
   ]
  },
  {
   "cell_type": "code",
   "execution_count": null,
   "id": "25",
   "metadata": {},
   "outputs": [],
   "source": [
    "# your answer here"
   ]
  },
  {
   "cell_type": "markdown",
   "id": "26",
   "metadata": {},
   "source": [
    "**Compute the number of times that the 10m wind speed in Innsbruck was above 5 m/s over the past 7 days. Now convert this number to a percentage over the past 7 days.**"
   ]
  },
  {
   "cell_type": "code",
   "execution_count": null,
   "id": "27",
   "metadata": {},
   "outputs": [],
   "source": [
    "# your answer here"
   ]
  },
  {
   "cell_type": "markdown",
   "id": "28",
   "metadata": {},
   "source": [
    "**Compute the number of times that the air temperature in Innsbruck was between 0°C and 10°C over the past 7 days. Now convert this number to a percentage over the past 7 days.**"
   ]
  },
  {
   "cell_type": "code",
   "execution_count": null,
   "id": "29",
   "metadata": {},
   "outputs": [],
   "source": [
    "# your answer here"
   ]
  },
  {
   "cell_type": "markdown",
   "id": "30",
   "metadata": {},
   "source": [
    "## Bonus: average wind direction"
   ]
  },
  {
   "cell_type": "markdown",
   "id": "31",
   "metadata": {},
   "source": [
    "Look at the plot you made about wind direction. Can you think of what problem would occur if you try to compute the average of the wind direction?\n",
    "\n",
    "Next week, we will address this problem together - so if you are bored you can start to think about how to solve it already ;-)"
   ]
  }
 ],
 "metadata": {
  "kernelspec": {
   "display_name": "Python 3 (ipykernel)",
   "language": "python",
   "name": "python3"
  },
  "language_info": {
   "codemirror_mode": {
    "name": "ipython",
    "version": 3
   },
   "file_extension": ".py",
   "mimetype": "text/x-python",
   "name": "python",
   "nbconvert_exporter": "python",
   "pygments_lexer": "ipython3",
   "version": "3.12.4"
  }
 },
 "nbformat": 4,
 "nbformat_minor": 5
}
