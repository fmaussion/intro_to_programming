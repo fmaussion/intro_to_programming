{
 "cells": [
  {
   "cell_type": "markdown",
   "id": "73c75f51-4382-4334-97c6-194d765fd552",
   "metadata": {
    "pycharm": {
     "name": "#%% md\n"
    }
   },
   "source": [
    "# Introduction to scientific python: numpy and matplotlib"
   ]
  },
  {
   "cell_type": "markdown",
   "id": "18fec81d-bbd2-4618-aea5-8e25b5eb6900",
   "metadata": {
    "jupyter": {
     "outputs_hidden": false
    },
    "pycharm": {
     "name": "#%%\n"
    }
   },
   "source": [
    "After a few weeks at learning programming, you may have noticed already that computers are quite good at manipulating numbers. The python language is helping us at it, by providing an interface between us and \"the machine\". However, we are going to see that the language needs a little bit of \"extra help\" to become truly useful for us scientists.\n",
    "\n",
    "This help comes with the scientific python ecosystem: in the front line, [numpy](https://numpy.org) and [matplotlib](https://matplotlib.org/)!\n",
    "\n",
    "**I strongly recommend to download this notebook, run the examples yourself and play with it on your computer as you go through this unit** (see the [explanation video](02-jupyter-dos)).\n",
    "\n",
    "*Copyright note: many parts of this lesson are taken from the excellent [numpy for beginners](https://numpy.org/doc/stable/user/absolute_beginners.html) tutorial.*"
   ]
  },
  {
   "cell_type": "markdown",
   "id": "bfb65109-781a-4352-9122-de91bd2a12b8",
   "metadata": {},
   "source": [
    "##  NumPy"
   ]
  },
  {
   "cell_type": "markdown",
   "id": "1241542e-79fe-4990-93d5-49f9b4fb1ad3",
   "metadata": {},
   "source": [
    "### Why NumPy?\n",
    "\n",
    "NumPy (**Numerical Python**) is an open source Python library that’s used in almost every field of science and engineering. It’s the universal standard for working with numerical data in Python, and it’s at the core of the scientific Python and PyData ecosystems. NumPy users include everyone from beginning coders to experienced researchers doing state-of-the-art scientific and industrial research and development.\n",
    "\n",
    "The NumPy library contains multidimensional array and matrix data structures (you’ll find more information about this in later sections). It provides `ndarray`, a homogeneous n-dimensional array object, with methods to efficiently operate on it.\n",
    "\n",
    "**But why do we need arrays?**"
   ]
  },
  {
   "cell_type": "markdown",
   "id": "efea00c3-de56-423a-88a4-a1e52c22c778",
   "metadata": {},
   "source": [
    "You remember the following behavior from python lists:"
   ]
  },
  {
   "cell_type": "code",
   "execution_count": 4,
   "id": "4155bf90-2773-45d3-ab8f-1b434089f43f",
   "metadata": {},
   "outputs": [
    {
     "data": {
      "text/plain": [
       "[1, 2, 1, 2]"
      ]
     },
     "execution_count": 4,
     "metadata": {},
     "output_type": "execute_result"
    }
   ],
   "source": [
    "[1, 2] + [1, 2]"
   ]
  },
  {
   "cell_type": "markdown",
   "id": "30f826d5-162b-4e82-9297-c36c2502d467",
   "metadata": {},
   "source": [
    "This behavior is useful in certain situations, but most of the time, scientists actually want to realize operations (addition, division, multiplication) **element-wise**, i.e. element per element. In a nutshell, scientists need the following behavior:"
   ]
  },
  {
   "cell_type": "code",
   "execution_count": 6,
   "id": "290fed2d-c5f9-4bb1-8745-7260466f8618",
   "metadata": {},
   "outputs": [
    {
     "data": {
      "text/plain": [
       "[2, 4]"
      ]
     },
     "execution_count": 6,
     "metadata": {},
     "output_type": "execute_result"
    }
   ],
   "source": [
    "def elementwise_addition(left, right):\n",
    "    \"\"\"A pale copy of numpy's addition. Don't do this at home!\"\"\"\n",
    "    output = []\n",
    "    for l, r in zip(left, right):\n",
    "        output.append(l + r)\n",
    "    return output\n",
    "\n",
    "elementwise_addition([1, 2], [1, 2])"
   ]
  },
  {
   "cell_type": "markdown",
   "id": "b753deb6-d409-4331-9a6b-22a69cf2bc46",
   "metadata": {},
   "source": [
    "While it would be possible to use python to redefine all operations on lists in a similar way, it would turn out to be highly inefficient. For reasons which will be explained later, Python is actually quite slow at looping over lists and numbers like this. \n",
    "\n",
    "This is why NumPy was created. **NumPy arrays are faster and more compact than Python lists**. An array consumes less memory and is convenient to use. NumPy uses much less memory to store data and it provides a mechanism of specifying the data types. This allows the code to be optimized even further.\n",
    "NumPy **efficient calculations** with arrays and matrices and it supplies an enormous library of **high-level mathematical functions** that operate on them."
   ]
  },
  {
   "cell_type": "markdown",
   "id": "2fde4c17-4b70-4282-a846-be3167de589d",
   "metadata": {},
   "source": [
    "### Installing NumPy"
   ]
  },
  {
   "cell_type": "markdown",
   "id": "7779d5db-d9b9-4239-814f-8ddb8bd6d932",
   "metadata": {},
   "source": [
    "Make sure you have followed [my instructions](01-install-packages) before going on."
   ]
  },
  {
   "cell_type": "markdown",
   "id": "ca7a14b9-f5cf-42fa-b72f-98a70cb08f6a",
   "metadata": {},
   "source": [
    "### How to import NumPy\n",
    "\n",
    "To access NumPy and its functions import it in your Python code like this:"
   ]
  },
  {
   "cell_type": "code",
   "execution_count": 3,
   "id": "f297efa3-2734-470d-86c1-307b5d752afb",
   "metadata": {},
   "outputs": [],
   "source": [
    "import numpy as np"
   ]
  },
  {
   "cell_type": "markdown",
   "id": "a82d1dd1-2987-49a6-8b8f-9ae1b33ff83a",
   "metadata": {},
   "source": [
    "We shorten the imported name to `np` for better readability of code using NumPy. This is a widely adopted convention that you should follow so that anyone working with your code can easily understand it."
   ]
  },
  {
   "cell_type": "markdown",
   "id": "409b0a94-1bba-45cd-bd7a-75f38bbc2093",
   "metadata": {},
   "source": [
    "### What is an array?\n",
    "\n",
    "An array is a central data structure of the NumPy library. An array is a grid of values: **the elements in an array are all of the same type**, referred to as the array `dtype`.\n",
    "\n",
    "There are many ways to create an array, and one of the simplest is by converting a Python list to a NumPy array:"
   ]
  },
  {
   "cell_type": "code",
   "execution_count": 4,
   "id": "3dd8ea49-dc89-428c-bbc9-f4892cc7226e",
   "metadata": {},
   "outputs": [],
   "source": [
    "a = np.array([1, 2, 3, 4, 5, 6])"
   ]
  },
  {
   "cell_type": "code",
   "execution_count": 5,
   "id": "05f471f6-5561-4228-ad56-5c2e931f37a7",
   "metadata": {},
   "outputs": [
    {
     "data": {
      "text/plain": [
       "array([1, 2, 3, 4, 5, 6])"
      ]
     },
     "execution_count": 5,
     "metadata": {},
     "output_type": "execute_result"
    }
   ],
   "source": [
    "a"
   ]
  },
  {
   "cell_type": "markdown",
   "id": "89c81170-e2f7-4b3d-a94c-984456cfc3f4",
   "metadata": {},
   "source": [
    "An array has **attributes** describing it and helping us to understand its content. Let's explore some of them:"
   ]
  },
  {
   "cell_type": "code",
   "execution_count": 6,
   "id": "be50d7bf-635a-4c85-8333-ee09afe719f3",
   "metadata": {},
   "outputs": [
    {
     "data": {
      "text/plain": [
       "6"
      ]
     },
     "execution_count": 6,
     "metadata": {},
     "output_type": "execute_result"
    }
   ],
   "source": [
    "# How many elements does the array have\n",
    "a.size"
   ]
  },
  {
   "cell_type": "code",
   "execution_count": 7,
   "id": "fd485777-2069-4596-9ab9-4e59a50dd2dd",
   "metadata": {},
   "outputs": [
    {
     "data": {
      "text/plain": [
       "dtype('int64')"
      ]
     },
     "execution_count": 7,
     "metadata": {},
     "output_type": "execute_result"
    }
   ],
   "source": [
    "# What kind of elements does the array have\n",
    "a.dtype"
   ]
  },
  {
   "cell_type": "code",
   "execution_count": 8,
   "id": "9a728d6c-75af-4274-89ff-8a5229f0f1eb",
   "metadata": {},
   "outputs": [
    {
     "data": {
      "text/plain": [
       "1"
      ]
     },
     "execution_count": 8,
     "metadata": {},
     "output_type": "execute_result"
    }
   ],
   "source": [
    "# How many dimensions does the array have\n",
    "a.ndim"
   ]
  },
  {
   "cell_type": "code",
   "execution_count": 9,
   "id": "89cd0c6d-7272-4ff4-a2c1-3f80c8874662",
   "metadata": {},
   "outputs": [
    {
     "data": {
      "text/plain": [
       "(6,)"
      ]
     },
     "execution_count": 9,
     "metadata": {},
     "output_type": "execute_result"
    }
   ],
   "source": [
    "# And what is its shape\n",
    "a.shape"
   ]
  },
  {
   "cell_type": "markdown",
   "id": "9a367ab0-59cb-4d0e-b9b8-ebdb951d44ba",
   "metadata": {},
   "source": [
    "All these attributes may sound a bit obscure still. Let's have a look at another example: "
   ]
  },
  {
   "cell_type": "code",
   "execution_count": 10,
   "id": "53ae3d1b-b9a1-4d2e-b0c7-fdf9ab09b85a",
   "metadata": {},
   "outputs": [
    {
     "data": {
      "text/plain": [
       "array([[ 1.3,  2. ,  3.7,  4. ],\n",
       "       [ 5. ,  6.1,  7. ,  8.5],\n",
       "       [ 9. , 10.9, 11. , 12.8]])"
      ]
     },
     "execution_count": 10,
     "metadata": {},
     "output_type": "execute_result"
    }
   ],
   "source": [
    "a = np.array([[1.3, 2, 3.7, 4], [5, 6.1, 7, 8.5], [9, 10.9, 11, 12.8]])\n",
    "a"
   ]
  },
  {
   "cell_type": "markdown",
   "id": "f6b8d40d-5545-4685-ae45-ee10757d77e9",
   "metadata": {},
   "source": [
    "In this example, `a` is a multidimensional array of two dimensions. Let's have a look at its attributes:"
   ]
  },
  {
   "cell_type": "code",
   "execution_count": 11,
   "id": "dece5bde-e89b-40b1-9ffd-06a8d44d13ba",
   "metadata": {},
   "outputs": [
    {
     "data": {
      "text/plain": [
       "'size: 12; dtype: float64; ndim: 2; shape: (3, 4)'"
      ]
     },
     "execution_count": 11,
     "metadata": {},
     "output_type": "execute_result"
    }
   ],
   "source": [
    "f\"size: {a.size}; dtype: {a.dtype}; ndim: {a.ndim}; shape: {a.shape}\""
   ]
  },
  {
   "cell_type": "markdown",
   "id": "c2754cf6-ba58-4629-be5c-871641efc252",
   "metadata": {},
   "source": [
    "The **size** of this array is 12 (\"3 rows\" times \"4 columns\"), its **dtype** (datatype) is float (the `64` in the name indicates the number of bits - we'll come back to this point later). The array has 2 **dimensions**, and its **shape** is (3, 4), which stands for 3 rows and 4 columns."
   ]
  },
  {
   "cell_type": "markdown",
   "id": "98da734d-dd64-47ec-a398-acdf6eb06b14",
   "metadata": {},
   "source": [
    "You might occasionally hear an array referred to as a \"`ndarray`\" which is shorthand for \"N-dimensional array\". An N-dimensional array is simply an array with any number of dimensions. You might also hear 1-D, or one-dimensional array, 2-D, or two-dimensional array, and so on. The NumPy `ndarray` is used to represent both matrices and vectors. A **vector** is an array with a single dimension (there’s no difference between row and column vectors), while a **matrix** refers to an array with two dimensions. For 3-D or higher dimensional arrays, the term **tensor** is also commonly used.\n",
    "\n",
    "**For this week's class, we will stick with vectors (1-D arrays).**"
   ]
  },
  {
   "cell_type": "markdown",
   "id": "42c606b9-c9b1-4413-8388-bc367200fb3e",
   "metadata": {},
   "source": [
    "### Creating arrays "
   ]
  },
  {
   "cell_type": "markdown",
   "id": "1caf05dd-b354-4d60-9a3c-ffac6d55b4f0",
   "metadata": {},
   "source": [
    "Besides creating an array from a sequence of elements (e.g. with a list as done above), you can easily create an array filled with 0’s:"
   ]
  },
  {
   "cell_type": "code",
   "execution_count": 12,
   "id": "47318603-dc2f-48a4-af66-1e565c78e60f",
   "metadata": {},
   "outputs": [
    {
     "data": {
      "text/plain": [
       "array([0., 0., 0.])"
      ]
     },
     "execution_count": 12,
     "metadata": {},
     "output_type": "execute_result"
    }
   ],
   "source": [
    "np.zeros(3)"
   ]
  },
  {
   "cell_type": "markdown",
   "id": "b584951a-197f-4e6a-a6b8-e190eb12ee6d",
   "metadata": {},
   "source": [
    "Or with ones:"
   ]
  },
  {
   "cell_type": "code",
   "execution_count": 13,
   "id": "94b1d3c8-9a50-4f5f-9542-61e49ce8a57f",
   "metadata": {},
   "outputs": [
    {
     "data": {
      "text/plain": [
       "array([1., 1.])"
      ]
     },
     "execution_count": 13,
     "metadata": {},
     "output_type": "execute_result"
    }
   ],
   "source": [
    "np.ones(2)"
   ]
  },
  {
   "cell_type": "markdown",
   "id": "3ddff17c-c20b-4519-9887-feabc740e0cf",
   "metadata": {},
   "source": [
    "You can create an array with a range of elements:"
   ]
  },
  {
   "cell_type": "code",
   "execution_count": 14,
   "id": "720ff063-44c6-440f-aa3b-d0cd07b6648e",
   "metadata": {},
   "outputs": [
    {
     "data": {
      "text/plain": [
       "array([0, 1, 2, 3])"
      ]
     },
     "execution_count": 14,
     "metadata": {},
     "output_type": "execute_result"
    }
   ],
   "source": [
    "np.arange(4)"
   ]
  },
  {
   "cell_type": "markdown",
   "id": "ed8bdb86-9617-489b-bf03-8eaabeac88ae",
   "metadata": {},
   "source": [
    "And even an array that contains a range of evenly spaced intervals. To do this, you will specify the first number, last number, and the step size:"
   ]
  },
  {
   "cell_type": "code",
   "execution_count": 15,
   "id": "5c77b5a3-dd67-4541-b0f9-ad31442d0f5b",
   "metadata": {},
   "outputs": [
    {
     "data": {
      "text/plain": [
       "array([2, 4, 6, 8])"
      ]
     },
     "execution_count": 15,
     "metadata": {},
     "output_type": "execute_result"
    }
   ],
   "source": [
    "np.arange(2, 9, 2)"
   ]
  },
  {
   "cell_type": "markdown",
   "id": "606dbb9b-6063-45a2-8b3c-50c285445826",
   "metadata": {},
   "source": [
    "You can also use `np.linspace()` to create an array with values that are spaced linearly in a specified interval:"
   ]
  },
  {
   "cell_type": "code",
   "execution_count": 16,
   "id": "2fe07eb3-9374-4344-907e-86026d6e8d7e",
   "metadata": {},
   "outputs": [
    {
     "data": {
      "text/plain": [
       "array([ 0. ,  2.5,  5. ,  7.5, 10. ])"
      ]
     },
     "execution_count": 16,
     "metadata": {},
     "output_type": "execute_result"
    }
   ],
   "source": [
    "np.linspace(0, 10, num=5)"
   ]
  },
  {
   "cell_type": "markdown",
   "id": "9803efce-babb-4885-bf77-5f93f8cbccbf",
   "metadata": {},
   "source": [
    "While the default data type is floating point (`np.float64`), you can explicitly specify which data type you want using the `dtype` keyword:"
   ]
  },
  {
   "cell_type": "code",
   "execution_count": 17,
   "id": "1c948f62-2544-48c7-83c4-944ab0d883e0",
   "metadata": {},
   "outputs": [
    {
     "data": {
      "text/plain": [
       "array([1, 1])"
      ]
     },
     "execution_count": 17,
     "metadata": {},
     "output_type": "execute_result"
    }
   ],
   "source": [
    "np.ones(2, dtype=np.int64)"
   ]
  },
  {
   "cell_type": "markdown",
   "id": "dd7c27b1-20d0-4b71-8220-30c8edec450e",
   "metadata": {},
   "source": [
    "### Indexing and slicing"
   ]
  },
  {
   "cell_type": "markdown",
   "id": "08caec2f-1e89-4f76-8876-2f7de43d4561",
   "metadata": {},
   "source": [
    "You can index and slice NumPy arrays in the same ways you can slice Python lists."
   ]
  },
  {
   "cell_type": "code",
   "execution_count": 18,
   "id": "b3c9d0f1-9839-49eb-8dc3-dcc650bd26d6",
   "metadata": {},
   "outputs": [
    {
     "data": {
      "text/plain": [
       "2"
      ]
     },
     "execution_count": 18,
     "metadata": {},
     "output_type": "execute_result"
    }
   ],
   "source": [
    "data = np.array([1, 2, 3])\n",
    "data[1]"
   ]
  },
  {
   "cell_type": "code",
   "execution_count": 19,
   "id": "f6c08bb6-1b59-4d34-9cfe-636b5ac8f61a",
   "metadata": {},
   "outputs": [
    {
     "data": {
      "text/plain": [
       "array([1, 2])"
      ]
     },
     "execution_count": 19,
     "metadata": {},
     "output_type": "execute_result"
    }
   ],
   "source": [
    "data[0:2]"
   ]
  },
  {
   "cell_type": "code",
   "execution_count": 20,
   "id": "07f8159f-5448-43d2-9671-a69d29531198",
   "metadata": {},
   "outputs": [
    {
     "data": {
      "text/plain": [
       "array([2, 3])"
      ]
     },
     "execution_count": 20,
     "metadata": {},
     "output_type": "execute_result"
    }
   ],
   "source": [
    "data[1:]"
   ]
  },
  {
   "cell_type": "code",
   "execution_count": 21,
   "id": "06552e5f-327d-4bcf-ab2f-36bfba5a166d",
   "metadata": {},
   "outputs": [
    {
     "data": {
      "text/plain": [
       "array([2, 3])"
      ]
     },
     "execution_count": 21,
     "metadata": {},
     "output_type": "execute_result"
    }
   ],
   "source": [
    "data[-2:]"
   ]
  },
  {
   "cell_type": "markdown",
   "id": "cf19ae7b-f628-4ae7-afec-c53fcaef0050",
   "metadata": {},
   "source": [
    "You can visualize it this way:\n",
    "\n",
    "![npimg](https://numpy.org/doc/stable/_images/np_indexing.png)"
   ]
  },
  {
   "cell_type": "markdown",
   "id": "0f69dbd7-ab58-4023-9789-52557dc35767",
   "metadata": {},
   "source": [
    "This is useful to select part of your data to use in further analysis or additional operations (**subset** or **slice**).\n",
    "\n",
    "Slicing is useful when you know the structure of the data well (e.g. take the last X elements of an array). Sometimes, you may want to select data based on a condition (e.g. \"pick data larger than X\"). Fortunately, it's straightforward with NumPy.\n",
    "\n",
    "For example, if you start with this array: "
   ]
  },
  {
   "cell_type": "code",
   "execution_count": 22,
   "id": "5c0953c7-52a6-4c1a-9b8a-841a9b9d354d",
   "metadata": {},
   "outputs": [
    {
     "data": {
      "text/plain": [
       "array([ 4,  3,  9, 12, 11,  8,  2,  7, 10,  1,  5, 13, 14,  6])"
      ]
     },
     "execution_count": 22,
     "metadata": {},
     "output_type": "execute_result"
    }
   ],
   "source": [
    "a = np.arange(1, 15)\n",
    "np.random.shuffle(a)  # Shuffle the elements for more fun\n",
    "a"
   ]
  },
  {
   "cell_type": "markdown",
   "id": "a3ac6df2-a296-4e1a-8ad2-b1178d382187",
   "metadata": {},
   "source": [
    "You can easily select all of the values in the array that are less or equal 5:"
   ]
  },
  {
   "cell_type": "code",
   "execution_count": 23,
   "id": "3be6114a-549f-49af-98a8-05a8e52a468b",
   "metadata": {},
   "outputs": [
    {
     "data": {
      "text/plain": [
       "array([4, 3, 2, 1, 5])"
      ]
     },
     "execution_count": 23,
     "metadata": {},
     "output_type": "execute_result"
    }
   ],
   "source": [
    "b = a[a <= 5]\n",
    "b"
   ]
  },
  {
   "cell_type": "markdown",
   "id": "1ff19ef2-0309-4f65-85ad-d4e139d4202c",
   "metadata": {},
   "source": [
    "What did we just do here? Maybe its useful for you to repeat the order in which operations are realized by the interpreter:\n",
    "- we have an assignment operator (the `=`), so we know that the right hand side is evaluated first.\n",
    "- on the right hand side, the operations within the brackets `[]` are evaluated first - we'll get back to this\n",
    "- the output of the operation `a <= 5` is then used to **index** (access) the elements in `a`\n",
    "- the output of this last step is then assigned to the variable b\n",
    "\n",
    "Is this clear? If not, the following might help a little bit further:"
   ]
  },
  {
   "cell_type": "code",
   "execution_count": 24,
   "id": "3bf12b4e-647b-427b-a8c6-dbaa6c9415a9",
   "metadata": {},
   "outputs": [
    {
     "data": {
      "text/plain": [
       "array([ True,  True, False, False, False, False,  True, False, False,\n",
       "        True,  True, False, False, False])"
      ]
     },
     "execution_count": 24,
     "metadata": {},
     "output_type": "execute_result"
    }
   ],
   "source": [
    "le_five = a <= 5\n",
    "le_five"
   ]
  },
  {
   "cell_type": "markdown",
   "id": "55ed3511-63ff-47e2-b013-34ed80ab4321",
   "metadata": {},
   "source": [
    "**Exercise: what it the size, shape, and dtype of `le_five`? Can you explain why?**\n",
    "\n",
    "`le_five` can then be used to index the array `a`:"
   ]
  },
  {
   "cell_type": "code",
   "execution_count": 25,
   "id": "fade123e-500b-415b-afb3-c219c4435d9d",
   "metadata": {},
   "outputs": [
    {
     "data": {
      "text/plain": [
       "array([4, 3, 2, 1, 5])"
      ]
     },
     "execution_count": 25,
     "metadata": {},
     "output_type": "execute_result"
    }
   ],
   "source": [
    "a[le_five]"
   ]
  },
  {
   "cell_type": "markdown",
   "id": "9c65875f-467a-4e5e-9e12-8dd25e9d5d50",
   "metadata": {},
   "source": [
    "And this is then assigned to the variable b with:"
   ]
  },
  {
   "cell_type": "code",
   "execution_count": 26,
   "id": "382fa4b9-fbf1-4566-a005-550be6bacfb2",
   "metadata": {},
   "outputs": [
    {
     "data": {
      "text/plain": [
       "array([4, 3, 2, 1, 5])"
      ]
     },
     "execution_count": 26,
     "metadata": {},
     "output_type": "execute_result"
    }
   ],
   "source": [
    "b = a[le_five]\n",
    "b"
   ]
  },
  {
   "cell_type": "markdown",
   "id": "dffd1ade-2d98-4527-a555-ec0dfe55e7d7",
   "metadata": {},
   "source": [
    "That's it!"
   ]
  },
  {
   "cell_type": "markdown",
   "id": "41336d1b-33af-44cb-a873-517da5d124b1",
   "metadata": {},
   "source": [
    "Now, what do you think of the following code:"
   ]
  },
  {
   "cell_type": "code",
   "execution_count": 27,
   "id": "de6ba09b-be38-4645-8893-bcea32c4c544",
   "metadata": {},
   "outputs": [
    {
     "data": {
      "text/plain": [
       "array([ 4,  3,  9,  8,  7, 10,  5,  6])"
      ]
     },
     "execution_count": 27,
     "metadata": {},
     "output_type": "execute_result"
    }
   ],
   "source": [
    "c = a[(a > 2) & (a < 11)]\n",
    "c"
   ]
  },
  {
   "cell_type": "markdown",
   "id": "e1485bcb-4a1d-4a91-9140-c6a4b4c57a95",
   "metadata": {},
   "source": [
    "That's great, right?\n",
    "\n",
    "**Important! You can specify multiple conditions with the logical operators `&` (`and`) and `|` (`or`). In numpy however you HAVE to use `&` and `|` although they mean the same as `and` and `or` for python.** Consider the following:"
   ]
  },
  {
   "cell_type": "code",
   "execution_count": 28,
   "id": "f3f11d64-561d-4fa6-a95a-837de7f10e22",
   "metadata": {},
   "outputs": [
    {
     "name": "stdout",
     "output_type": "stream",
     "text": [
      "True True\n"
     ]
    },
    {
     "ename": "ValueError",
     "evalue": "The truth value of an array with more than one element is ambiguous. Use a.any() or a.all()",
     "output_type": "error",
     "traceback": [
      "\u001b[0;31m---------------------------------------------------------------------------\u001b[0m",
      "\u001b[0;31mValueError\u001b[0m                                Traceback (most recent call last)",
      "\u001b[0;32m/tmp/ipykernel_8519/1830006926.py\u001b[0m in \u001b[0;36m<cell line: 2>\u001b[0;34m()\u001b[0m\n\u001b[1;32m      1\u001b[0m \u001b[0mprint\u001b[0m\u001b[0;34m(\u001b[0m\u001b[0;32mTrue\u001b[0m \u001b[0;34m|\u001b[0m \u001b[0;32mFalse\u001b[0m\u001b[0;34m,\u001b[0m \u001b[0;32mTrue\u001b[0m \u001b[0;32mor\u001b[0m \u001b[0;32mFalse\u001b[0m\u001b[0;34m)\u001b[0m  \u001b[0;31m# These two are equivalent with boolean scalars\u001b[0m\u001b[0;34m\u001b[0m\u001b[0;34m\u001b[0m\u001b[0m\n\u001b[0;32m----> 2\u001b[0;31m \u001b[0mprint\u001b[0m\u001b[0;34m(\u001b[0m\u001b[0;34m(\u001b[0m\u001b[0ma\u001b[0m \u001b[0;34m>\u001b[0m \u001b[0;36m2\u001b[0m\u001b[0;34m)\u001b[0m \u001b[0;34m&\u001b[0m \u001b[0;34m(\u001b[0m\u001b[0ma\u001b[0m \u001b[0;34m<\u001b[0m \u001b[0;36m11\u001b[0m\u001b[0;34m)\u001b[0m\u001b[0;34m,\u001b[0m \u001b[0;34m(\u001b[0m\u001b[0ma\u001b[0m \u001b[0;34m>\u001b[0m \u001b[0;36m2\u001b[0m\u001b[0;34m)\u001b[0m \u001b[0;32mand\u001b[0m \u001b[0;34m(\u001b[0m\u001b[0ma\u001b[0m \u001b[0;34m<\u001b[0m \u001b[0;36m11\u001b[0m\u001b[0;34m)\u001b[0m\u001b[0;34m)\u001b[0m  \u001b[0;31m# On numpy arrays, the second one will raise an error\u001b[0m\u001b[0;34m\u001b[0m\u001b[0;34m\u001b[0m\u001b[0m\n\u001b[0m",
      "\u001b[0;31mValueError\u001b[0m: The truth value of an array with more than one element is ambiguous. Use a.any() or a.all()"
     ]
    }
   ],
   "source": [
    "print(True | False, True or False)  # These two are equivalent with boolean scalars\n",
    "print((a > 2) & (a < 11), (a > 2) and (a < 11))  # On numpy arrays, the second one will raise an error"
   ]
  },
  {
   "cell_type": "markdown",
   "id": "4b14f6d3-718a-45f7-b71d-7e84405eb611",
   "metadata": {},
   "source": [
    "### Basic array operations"
   ]
  },
  {
   "cell_type": "markdown",
   "id": "08defe36-4083-4483-8437-96c6c169cefd",
   "metadata": {},
   "source": [
    "NumPy is very good at doing math! \n",
    "\n",
    "For example, you can add two arrays together with the plus sign."
   ]
  },
  {
   "cell_type": "code",
   "execution_count": 29,
   "id": "bc25f943-4da1-4025-bf6c-ee40f645e109",
   "metadata": {},
   "outputs": [
    {
     "data": {
      "text/plain": [
       "array([2, 3])"
      ]
     },
     "execution_count": 29,
     "metadata": {},
     "output_type": "execute_result"
    }
   ],
   "source": [
    "data = np.array([1, 2])\n",
    "ones = np.ones(2, dtype=int)\n",
    "data + ones"
   ]
  },
  {
   "cell_type": "markdown",
   "id": "715adc81-16b1-4491-a88a-a542eaeb8e7d",
   "metadata": {},
   "source": [
    "![img](https://numpy.org/doc/stable/_images/np_data_plus_ones.png)"
   ]
  },
  {
   "cell_type": "markdown",
   "id": "71b19df7-9afc-4f36-9fda-add971382948",
   "metadata": {},
   "source": [
    "You can, of course, do more than just addition!"
   ]
  },
  {
   "cell_type": "code",
   "execution_count": 30,
   "id": "6d93f26f-8968-4a17-ac34-18e404b459ce",
   "metadata": {},
   "outputs": [
    {
     "name": "stdout",
     "output_type": "stream",
     "text": [
      "[0 1]\n",
      "[1 4]\n",
      "[1. 1.]\n",
      "[1 4]\n"
     ]
    }
   ],
   "source": [
    "print(data - ones)\n",
    "print(data * data)\n",
    "print(data / data)\n",
    "print(data ** data)"
   ]
  },
  {
   "cell_type": "markdown",
   "id": "1fcbae64-95b4-44a2-ab4c-9dd92e78f0cc",
   "metadata": {},
   "source": [
    "There are times when you might want to carry out an operation between an array and a single number (also called an operation between a **vector** and a **scalar**) or between arrays of two different sizes. For example, your array (we'll call it \"data\") might contain information about distance in miles but you want to convert the information to kilometers. You can perform this operation with:"
   ]
  },
  {
   "cell_type": "code",
   "execution_count": 31,
   "id": "a027bb75-51b0-4380-abc5-b595995a8d99",
   "metadata": {},
   "outputs": [
    {
     "data": {
      "text/plain": [
       "array([1.6, 3.2])"
      ]
     },
     "execution_count": 31,
     "metadata": {},
     "output_type": "execute_result"
    }
   ],
   "source": [
    "data = np.array([1.0, 2.0])\n",
    "data * 1.6"
   ]
  },
  {
   "cell_type": "markdown",
   "id": "af7aee7a-468f-44db-88ce-775813f623cd",
   "metadata": {},
   "source": [
    "![img](https://numpy.org/doc/stable/_images/np_multiply_broadcasting.png)\n",
    "\n",
    "NumPy understands that the multiplication should happen with each cell. That concept is called broadcasting. Broadcasting is a mechanism that allows NumPy to perform operations on arrays of different shapes (we'll learn about this in a later lecture)."
   ]
  },
  {
   "cell_type": "markdown",
   "id": "2f131a71-13b7-4a40-83a5-202c17f12ffd",
   "metadata": {},
   "source": [
    "### More useful array operations"
   ]
  },
  {
   "cell_type": "markdown",
   "id": "5125e2fb-2066-4fd2-bf48-b5c06c3fb818",
   "metadata": {},
   "source": [
    "NumPy also performs aggregation functions. In addition to `min`, `max`, and `sum`, you can easily run `mean` to get the average, `prod` to get the result of multiplying the elements together, `std` to get the standard deviation, and more:"
   ]
  },
  {
   "cell_type": "code",
   "execution_count": 32,
   "id": "938051aa-7e24-487c-9e36-7f85b2a17d18",
   "metadata": {},
   "outputs": [
    {
     "name": "stdout",
     "output_type": "stream",
     "text": [
      "3.0\n",
      "1.0\n",
      "6.0\n"
     ]
    }
   ],
   "source": [
    "data = np.array([1.0, 2.0, 3.0])\n",
    "print(data.max())\n",
    "print(data.min())\n",
    "print(data.sum())"
   ]
  },
  {
   "cell_type": "markdown",
   "id": "87b81024-aefd-4c7d-8f5e-1ac1e3087c39",
   "metadata": {},
   "source": [
    "![img](https://numpy.org/doc/stable/_images/np_aggregation.png)"
   ]
  },
  {
   "cell_type": "markdown",
   "id": "d490bccd-bedf-42c6-b380-c9fbbf7eee49",
   "metadata": {},
   "source": [
    "### Mathematical operations "
   ]
  },
  {
   "cell_type": "markdown",
   "id": "9011e77f-c1ba-4b6f-beda-2d578971193d",
   "metadata": {},
   "source": [
    "NumPy also comes with a very (very) large amount of [mathematical functions](https://numpy.org/doc/stable/reference/routines.math.html) that operate on arrays. Here are two examples of them:"
   ]
  },
  {
   "cell_type": "code",
   "execution_count": 33,
   "id": "d2d67646-1136-412b-9bfe-1acadd63a9e7",
   "metadata": {},
   "outputs": [
    {
     "data": {
      "text/plain": [
       "array([0.        , 1.57079633])"
      ]
     },
     "execution_count": 33,
     "metadata": {},
     "output_type": "execute_result"
    }
   ],
   "source": [
    "a = np.array([0, np.pi / 2])\n",
    "a"
   ]
  },
  {
   "cell_type": "code",
   "execution_count": 34,
   "id": "c6bfc11a-d2e6-46c1-b21b-d64c00e30e9c",
   "metadata": {},
   "outputs": [
    {
     "data": {
      "text/plain": [
       "array([0., 1.])"
      ]
     },
     "execution_count": 34,
     "metadata": {},
     "output_type": "execute_result"
    }
   ],
   "source": [
    "np.sin(a)"
   ]
  },
  {
   "cell_type": "code",
   "execution_count": 35,
   "id": "6b9e93ae-9625-4bbb-a0ed-3baae3bac1a6",
   "metadata": {},
   "outputs": [
    {
     "data": {
      "text/plain": [
       "array([0., 2.])"
      ]
     },
     "execution_count": 35,
     "metadata": {},
     "output_type": "execute_result"
    }
   ],
   "source": [
    "np.round(a)"
   ]
  },
  {
   "cell_type": "markdown",
   "id": "633db03b-85c1-4d04-a251-5a39f34f0640",
   "metadata": {},
   "source": [
    "NumPy's functions apply to all elements of an array, just like all other operations: **element-wise**."
   ]
  },
  {
   "cell_type": "markdown",
   "id": "e845e41f-63af-4eae-8d37-1d4c39b97118",
   "metadata": {},
   "source": [
    "## Matplotlib"
   ]
  },
  {
   "cell_type": "markdown",
   "id": "6481968d-fd2d-429a-9135-de5fcfcbd82e",
   "metadata": {},
   "source": [
    "### Why matplotlib?\n",
    "\n",
    "Matplotlib is a comprehensive library for creating plots and graphics in python. It is used in combination with NumPy in many (many) scientific applications."
   ]
  },
  {
   "cell_type": "markdown",
   "id": "bbc10c20-14ae-4584-a9ef-1abc050db207",
   "metadata": {},
   "source": [
    "### Installing matplotlib"
   ]
  },
  {
   "cell_type": "markdown",
   "id": "f5ea23bf-4af8-4ff4-8a1a-51f9d0563b0a",
   "metadata": {},
   "source": [
    "Make sure you have followed [my instructions](01-install-packages) before going on."
   ]
  },
  {
   "cell_type": "markdown",
   "id": "c89a9f88-ec98-4e7e-9b73-f296ba66fa15",
   "metadata": {},
   "source": [
    "### How to import matplotlib\n",
    "\n",
    "For now, you will import the matlotlib tools we need like this:"
   ]
  },
  {
   "cell_type": "code",
   "execution_count": 36,
   "id": "cc5207ad-c571-4662-8938-a079bf213bf9",
   "metadata": {},
   "outputs": [],
   "source": [
    "import matplotlib.pyplot as plt"
   ]
  },
  {
   "cell_type": "markdown",
   "id": "fe6616e8-2a3e-49cb-a36a-e45dfea8724e",
   "metadata": {},
   "source": [
    "This command is only importing a subset of all matplotlib functions, but it is the most commonly used (by far).\n",
    "\n",
    "**Matplotlib is best learned by doing**. Today I'll showcase some of the tools you'll need for the assignments, and with time you'll learn to use many more!"
   ]
  },
  {
   "cell_type": "markdown",
   "id": "b2b42cba-4cdd-4bf2-a00e-4d899137651b",
   "metadata": {},
   "source": [
    "### A first plot "
   ]
  },
  {
   "cell_type": "code",
   "execution_count": 77,
   "id": "59fc06ea-7eb6-42d6-ae21-f1535c2cc90b",
   "metadata": {},
   "outputs": [
    {
     "data": {
      "image/png": "[encoded data removed]",
      "text/plain": [
       "<Figure size 432x288 with 1 Axes>"
      ]
     },
     "metadata": {
      "needs_background": "light"
     },
     "output_type": "display_data"
    }
   ],
   "source": [
    "# This you should know by now what it does - if not, check it out above\n",
    "x = np.linspace(0, 2 * np.pi, 5)\n",
    "y = np.sin(x) * 12\n",
    "\n",
    "# This is new\n",
    "fig, ax = plt.subplots()\n",
    "ax.plot(x, y)\n",
    "plt.show()"
   ]
  },
  {
   "cell_type": "markdown",
   "id": "d582a6bd-0bfa-4415-a7f2-734162d28f21",
   "metadata": {},
   "source": [
    "Let's repeat this example, but with inline comments and adding some elements to the plot:"
   ]
  },
  {
   "cell_type": "code",
   "execution_count": 38,
   "id": "ff6fe8c9-a30f-427a-b5ca-d40fc36da740",
   "metadata": {},
   "outputs": [
    {
     "data": {
      "image/png": "[encoded data removed]",
      "text/plain": [
       "<Figure size 432x288 with 1 Axes>"
      ]
     },
     "metadata": {
      "needs_background": "light"
     },
     "output_type": "display_data"
    }
   ],
   "source": [
    "fig, ax = plt.subplots()  # Create a figure containing a single axes.\n",
    "ax.plot(x, y)  # Plot some data on the axes.\n",
    "ax.set_xlabel('Time')  # Add a label to the x-axis\n",
    "ax.set_ylabel('Air temperature (°C)')  # Add a label to the y-axis\n",
    "ax.set_title('A typical day at home')  # Add a title to the plot\n",
    "plt.show()  # show the figure on screen. This is optional in Jupyter Notebooks but mandatory in scripts"
   ]
  },
  {
   "cell_type": "markdown",
   "id": "cd073ad2-f960-44dd-aa41-30b84e5b2eb9",
   "metadata": {},
   "source": [
    "**Exercise: write a simple python script (not a notebook) reproducing the plot above. Run the code with and without `plt.show()` at the end.**"
   ]
  },
  {
   "cell_type": "markdown",
   "id": "83bcdf10-54cf-4a13-abfc-6aa14890ef85",
   "metadata": {},
   "source": [
    "### Line plots "
   ]
  },
  {
   "cell_type": "markdown",
   "id": "36c6216e-4e46-4943-9a60-f3ef39ae8560",
   "metadata": {},
   "source": [
    "Line plots are probably the most common way to represent data."
   ]
  },
  {
   "cell_type": "code",
   "execution_count": 39,
   "id": "78fc3340-5878-4ea1-bed2-e31c472ea96f",
   "metadata": {},
   "outputs": [
    {
     "data": {
      "image/png": "[encoded data removed]",
      "text/plain": [
       "<Figure size 432x288 with 1 Axes>"
      ]
     },
     "metadata": {
      "needs_background": "light"
     },
     "output_type": "display_data"
    }
   ],
   "source": [
    "# Create some data\n",
    "x = np.linspace(0, 2 * np.pi, 100)\n",
    "y1 = np.sin(x) * 12\n",
    "y2 = y1 + 5\n",
    "\n",
    "# Plot it\n",
    "fig, ax = plt.subplots()\n",
    "ax.plot(x, y1, label='Suburbs')\n",
    "ax.plot(x, y2, label='City center')\n",
    "ax.legend()  # Draw the legend from line labels\n",
    "ax.set_xlabel('Time')\n",
    "ax.set_ylabel('Air temperature (°C)')\n",
    "ax.set_title('A typical day at home');"
   ]
  },
  {
   "cell_type": "markdown",
   "id": "ba5b95e6-3a29-44f4-839c-b899812abc4d",
   "metadata": {},
   "source": [
    "### Scatter plots"
   ]
  },
  {
   "cell_type": "markdown",
   "id": "dfacabd4-152e-46e4-b0a6-0988aaceac15",
   "metadata": {},
   "source": [
    "Scatter plots are used when it does not make sense to connect the data points together with lines. This happens when there is no temporal or spatial relationship between the data points, when the data is noisy or has discontinuities (for example wind direction). \n",
    "\n",
    "Scatter plots are often used in statistics, to represent relationships between data. Here for example:"
   ]
  },
  {
   "cell_type": "code",
   "execution_count": 40,
   "id": "21c7df51-9a8e-4ce0-98ad-d92dbf456cc0",
   "metadata": {},
   "outputs": [
    {
     "data": {
      "image/png": "[encoded data removed]",
      "text/plain": [
       "<Figure size 432x288 with 1 Axes>"
      ]
     },
     "metadata": {
      "needs_background": "light"
     },
     "output_type": "display_data"
    }
   ],
   "source": [
    "# Create random data\n",
    "y3 = y2 + np.random.randn(y2.size)\n",
    "\n",
    "# Make a scatter plot\n",
    "fig, ax = plt.subplots()\n",
    "ax.scatter(y2, y3)\n",
    "ax.set_xlabel('Reality')\n",
    "ax.set_ylabel('Measured')\n",
    "ax.set_title('Measured vs reality');"
   ]
  },
  {
   "cell_type": "markdown",
   "id": "78459e51-d9e5-464e-9e19-f1d56e425efd",
   "metadata": {},
   "source": [
    "### Styling plots"
   ]
  },
  {
   "cell_type": "markdown",
   "id": "48b8c417-44a3-4ee6-ab85-ad56a748fdf9",
   "metadata": {},
   "source": [
    "You can change the style of practically *everything* in a plot. For now, we will focus on the most important things: figure size, lines and markers."
   ]
  },
  {
   "cell_type": "code",
   "execution_count": 41,
   "id": "1995d788-046b-473d-9f0a-d066fd3b5497",
   "metadata": {},
   "outputs": [
    {
     "data": {
      "image/png": "[encoded data removed]",
      "text/plain": [
       "<Figure size 1152x648 with 1 Axes>"
      ]
     },
     "metadata": {
      "needs_background": "light"
     },
     "output_type": "display_data"
    }
   ],
   "source": [
    "fig, ax = plt.subplots(figsize=(16, 9))\n",
    "ax.plot(x, y1, color='navy', linestyle='--', label='Suburbs')\n",
    "ax.plot(x, y2, color='crimson', linewidth=3, label='City center')\n",
    "ax.plot(x, y3, marker='o', linestyle='none', color='tomato', alpha=0.5, label='City center (uncertain)')\n",
    "ax.legend()\n",
    "ax.set_ylim(-20, 20)\n",
    "ax.set_xlabel('Time')\n",
    "ax.set_ylabel('Air temperature (°C)')\n",
    "ax.set_title('A typical day at home');"
   ]
  },
  {
   "cell_type": "markdown",
   "id": "f6489a1f-5abc-4022-84fd-76ff14f66ae4",
   "metadata": {},
   "source": [
    "- **Figure size** can be set when the figure is created.\n",
    "- **Lines** can be styled as \"solid\" (or `-`), \"dotted\" (or `..`), \"dashed\" (or `--`), \"dashdot\" (or `-.`). [More options](https://matplotlib.org/stable/gallery/lines_bars_and_markers/linestyles.html) are available for the adventurous. Their width can be changed with the `linewidth` keyword (accepting a float). \n",
    "- **Markers** can be added to line plots (`marker=...`). Their are many different ones ([here](https://matplotlib.org/stable/api/markers_api.html) is a list). In the example above, I also chose to plot only markers, no line (`linestyle='none'`)\n",
    "- **Colors** can be set in many different ways, the most common is to use [named matplotlib colors](https://matplotlib.org/3.5.0/gallery/color/named_colors.html)\n",
    "- **Transparency** can be set with the `alpha=` keyword.\n",
    "- **Axis ranges** can be set with `ax.set_ylim()` (or `ax.set_xlim()` for the x axis)\n",
    "\n",
    "The line and marker styles are then automatically applied to the legend as well.\n",
    "\n",
    "**Exercise: play around with the many options available and make experiments!**"
   ]
  },
  {
   "cell_type": "markdown",
   "id": "357551b4-49d2-4fc9-a110-737eac403f46",
   "metadata": {},
   "source": [
    "### Plotting data of different units "
   ]
  },
  {
   "cell_type": "markdown",
   "id": "4f197f65-9359-45f9-a960-de326a769807",
   "metadata": {},
   "source": [
    "Sometimes, you want to plot data with very different values on the same figure. For example, plotting data of different order of magnitudes or of different units:"
   ]
  },
  {
   "cell_type": "code",
   "execution_count": 78,
   "id": "05b3fca4-76a8-44df-a387-ced726d0880b",
   "metadata": {},
   "outputs": [
    {
     "data": {
      "image/png": "[encoded data removed]",
      "text/plain": [
       "<Figure size 432x288 with 1 Axes>"
      ]
     },
     "metadata": {
      "needs_background": "light"
     },
     "output_type": "display_data"
    }
   ],
   "source": [
    "# Create some data\n",
    "x = np.linspace(0, 2 * np.pi, 200)\n",
    "y1 = np.sin(x) * 12\n",
    "y2 = np.cos(x) * 0.0001  # Very different scale\n",
    "\n",
    "fig, ax = plt.subplots()\n",
    "ax.plot(x, y1)\n",
    "ax.plot(x, y2);"
   ]
  },
  {
   "cell_type": "markdown",
   "id": "2c32f62c-3941-4e70-92fb-e15a0767ab0a",
   "metadata": {},
   "source": [
    "The problem is that the orange line has variations which are not visible in the graph. There are two simple solutions to this problem, explained below."
   ]
  },
  {
   "cell_type": "markdown",
   "id": "a40d2656-a420-48bb-b086-074a4239bf53",
   "metadata": {},
   "source": [
    "#### Two subplots on the same figure "
   ]
  },
  {
   "cell_type": "code",
   "execution_count": 43,
   "id": "042f2def-d988-4c81-b095-28a12b37a98b",
   "metadata": {},
   "outputs": [
    {
     "data": {
      "image/png": "[encoded data removed]",
      "text/plain": [
       "<Figure size 432x576 with 2 Axes>"
      ]
     },
     "metadata": {
      "needs_background": "light"
     },
     "output_type": "display_data"
    }
   ],
   "source": [
    "# Subplots: 2 rows one column, they share the same x-axis\n",
    "fig, (ax1, ax2) = plt.subplots(2, 1, figsize=(6, 8), sharex=True)\n",
    "\n",
    "# Plot on the first axis as usual\n",
    "ax1.plot(x, y1, label='Data 1')\n",
    "\n",
    "# Plot on the second axis\n",
    "ax2.plot(x, y2, color='C1', label='Data 2');\n",
    "\n",
    "# Add the legend for both axis\n",
    "ax1.legend(loc='upper right')\n",
    "ax2.legend(loc='lower right')\n",
    "\n",
    "# Labels and titles\n",
    "ax1.set_ylabel('Data 1 (°C)')\n",
    "ax2.set_xlabel('Time')\n",
    "ax2.set_ylabel('Data 2 (W m$^{-2}$)')\n",
    "ax1.set_title('A fair comparison');"
   ]
  },
  {
   "cell_type": "markdown",
   "id": "500ac087-dc1a-4ee5-8cdd-772e2e28c580",
   "metadata": {},
   "source": [
    "#### Two y-axis on the same plot"
   ]
  },
  {
   "cell_type": "code",
   "execution_count": 44,
   "id": "12cfcee4-a3d8-41e4-99cc-c9455f178fa8",
   "metadata": {},
   "outputs": [
    {
     "data": {
      "image/png": "[encoded data removed]",
      "text/plain": [
       "<Figure size 432x288 with 2 Axes>"
      ]
     },
     "metadata": {
      "needs_background": "light"
     },
     "output_type": "display_data"
    }
   ],
   "source": [
    "fig, ax = plt.subplots()\n",
    "\n",
    "# Plot on the first axis as usual\n",
    "ax.plot(x, y1, label='Data 1')\n",
    "\n",
    "# Add a twin axis to the right and plot on it\n",
    "axr = ax.twinx()\n",
    "axr.plot(x, y2, color='C1', label='Data 2 (right)');\n",
    "\n",
    "# Add the legend for both axis\n",
    "ax.legend(loc='lower left')\n",
    "axr.legend(loc='lower right')\n",
    "\n",
    "# Labels and titles\n",
    "ax.set_xlabel('Time')\n",
    "ax.set_ylabel('Data 1 (°C)')\n",
    "axr.set_ylabel('Data 2 (W m${2}$)')\n",
    "ax.set_title('A fair comparison');"
   ]
  },
  {
   "cell_type": "markdown",
   "id": "060b3ce1-8550-4881-9d3e-4790ae9806c0",
   "metadata": {},
   "source": [
    "### Storing the plot as png or pdf for later"
   ]
  },
  {
   "cell_type": "markdown",
   "id": "635f3de8-19a3-4b95-8463-3c7808245663",
   "metadata": {},
   "source": [
    "If you are happy with a plot and want to store it on your computer for later use (in a report or a manuscript), use `fig.savefig`:"
   ]
  },
  {
   "cell_type": "code",
   "execution_count": 45,
   "id": "7b03e88c-26be-4f7e-a7d2-b3db63514a9d",
   "metadata": {},
   "outputs": [
    {
     "data": {
      "image/png": "[encoded data removed]",
      "text/plain": [
       "<Figure size 432x288 with 2 Axes>"
      ]
     },
     "metadata": {
      "needs_background": "light"
     },
     "output_type": "display_data"
    }
   ],
   "source": [
    "fig, ax = plt.subplots()\n",
    "\n",
    "# Plot on the first axis as usual\n",
    "ax.plot(x, y1, label='Data 1')\n",
    "\n",
    "# Add a twin axis to the right and plot on it\n",
    "axr = ax.twinx()\n",
    "axr.plot(x, y2, color='C1', label='Data 2 (right)');\n",
    "\n",
    "# Add the legend for both axis\n",
    "ax.legend(loc='lower left')\n",
    "axr.legend(loc='lower right')\n",
    "\n",
    "# Labels and titles\n",
    "ax.set_xlabel('Time')\n",
    "ax.set_ylabel('Data 1 (°C)')\n",
    "axr.set_ylabel('Data 2 (W m${2}$)')\n",
    "ax.set_title('A fair comparison');\n",
    "\n",
    "# Save the figure\n",
    "fig.savefig('myfigure.png', dpi=150, bbox_inches='tight')"
   ]
  },
  {
   "cell_type": "markdown",
   "id": "ccc16f39-4525-40ab-b5ea-008d1e4c17c9",
   "metadata": {},
   "source": [
    "[figure.savefig](https://matplotlib.org/3.5.0/api/figure_api.html?highlight=savefig#matplotlib.figure.Figure.savefig) has several options available. The first position argument `fname` indicates the path to the file to write (default is is the current working folder) and its format (e.g. `.png`, `.pdf` or `.eps`). The other two arguments are setting the resolution the final image and whether to have margins around the figure (I often use `bbox_inches='tight'`)."
   ]
  },
  {
   "cell_type": "markdown",
   "id": "c8b53117-fab7-4a75-8727-cb9bec6c0a22",
   "metadata": {},
   "source": [
    "## Learning checklist "
   ]
  },
  {
   "cell_type": "markdown",
   "id": "b6aa99f0-7479-4810-85b8-1a1f16e26172",
   "metadata": {},
   "source": [
    "<label><input type=\"checkbox\" id=\"week05_01\" class=\"box\"> I downloaded this notebook from the website and ran all the examples myself.</input></label><br>\n",
    "<label><input type=\"checkbox\" id=\"week05_01\" class=\"box\"> I understand the main differences between numpy arrays and python lists.</input></label><br>\n",
    "<label><input type=\"checkbox\" id=\"week05_01\" class=\"box\"> I can create numpy arrays and realise basic operations on them (computations, aggregations...).</input></label><br>\n",
    "<label><input type=\"checkbox\" id=\"week05_01\" class=\"box\"> I can generate line plots and scatter plots of data stored in numpy arrays.</input></label><br>\n",
    "<label><input type=\"checkbox\" id=\"week05_01\" class=\"box\"> I can customise my plot by using different colors and line styles and add a legend to it.</input></label><br>\n",
    "<label><input type=\"checkbox\" id=\"week05_01\" class=\"box\"> I can store a plot for later use.</input></label><br>"
   ]
  },
  {
   "cell_type": "markdown",
   "id": "b1993018-70d8-4f83-bb23-91d37dabf669",
   "metadata": {},
   "source": [
    "## To go further"
   ]
  },
  {
   "cell_type": "markdown",
   "id": "d55d2398-23d7-4ea8-8eb9-f4f3471aa464",
   "metadata": {},
   "source": [
    "The [Basic usage](https://matplotlib.org/stable/tutorials/introductory/usage.html) documentation page is a good place to start if you are curious to learn more"
   ]
  }
 ],
 "metadata": {
  "kernelspec": {
   "display_name": "Python 3 (ipykernel)",
   "language": "python",
   "name": "python3"
  },
  "language_info": {
   "codemirror_mode": {
    "name": "ipython",
    "version": 3
   },
   "file_extension": ".py",
   "mimetype": "text/x-python",
   "name": "python",
   "nbconvert_exporter": "python",
   "pygments_lexer": "ipython3",
   "version": "3.10.8"
  }
 },
 "nbformat": 4,
 "nbformat_minor": 5
}
