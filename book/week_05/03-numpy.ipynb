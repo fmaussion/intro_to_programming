{
 "cells": [
  {
   "cell_type": "markdown",
   "id": "0",
   "metadata": {
    "pycharm": {
     "name": "#%% md\n"
    }
   },
   "source": [
    "# Introduction to scientific python: numpy and matplotlib"
   ]
  },
  {
   "cell_type": "markdown",
   "id": "1",
   "metadata": {
    "jupyter": {
     "outputs_hidden": false
    },
    "pycharm": {
     "name": "#%%\n"
    }
   },
   "source": [
    "After a few weeks at learning programming, you may have noticed already that computers are quite good at manipulating numbers. The python language is helping us at it, by providing an interface between us and \"the machine\". However, we are going to see that the language needs a little bit of \"extra help\" to become truly useful for us scientists.\n",
    "\n",
    "This help comes with the scientific python ecosystem: in the front line, [numpy](https://numpy.org) and [matplotlib](https://matplotlib.org/)!\n",
    "\n",
    "**I strongly recommend to download this notebook, run the examples yourself and play with it on your computer as you go through this unit** (see the [explanation video](02-jupyter-dos)).\n",
    "\n",
    "*Copyright note: many parts of this lesson are taken from the excellent [numpy for beginners](https://numpy.org/doc/stable/user/absolute_beginners.html) tutorial.*"
   ]
  },
  {
   "cell_type": "markdown",
   "id": "2",
   "metadata": {},
   "source": [
    "##  NumPy"
   ]
  },
  {
   "cell_type": "markdown",
   "id": "3",
   "metadata": {},
   "source": [
    "### Why NumPy?\n",
    "\n",
    "NumPy (**Numerical Python**) is an open source Python library that’s used in almost every field of science and engineering. It’s the universal standard for working with numerical data in Python, and it’s at the core of the scientific Python and PyData ecosystems. NumPy users include everyone from beginning coders to experienced researchers doing state-of-the-art scientific and industrial research and development.\n",
    "\n",
    "The NumPy library contains multidimensional array and matrix data structures (you’ll find more information about this in later sections). It provides `ndarray`, a homogeneous n-dimensional array object, with methods to efficiently operate on it.\n",
    "\n",
    "**But why do we need arrays?**"
   ]
  },
  {
   "cell_type": "markdown",
   "id": "4",
   "metadata": {},
   "source": [
    "You remember the following behavior from python lists:"
   ]
  },
  {
   "cell_type": "code",
   "execution_count": null,
   "id": "5",
   "metadata": {},
   "outputs": [],
   "source": [
    "[1, 2] + [1, 2]"
   ]
  },
  {
   "cell_type": "markdown",
   "id": "6",
   "metadata": {},
   "source": [
    "This behavior is useful in certain situations, but most of the time, scientists actually want to realize operations (addition, division, multiplication) **element-wise**, i.e. element per element. In a nutshell, scientists need the following behavior:"
   ]
  },
  {
   "cell_type": "code",
   "execution_count": null,
   "id": "7",
   "metadata": {},
   "outputs": [],
   "source": [
    "def elementwise_addition(left, right):\n",
    "    \"\"\"A pale copy of numpy's addition. Don't do this at home!\"\"\"\n",
    "    output = []\n",
    "    for l, r in zip(left, right):\n",
    "        output.append(l + r)\n",
    "    return output\n",
    "\n",
    "elementwise_addition([1, 2], [1, 2])"
   ]
  },
  {
   "cell_type": "markdown",
   "id": "8",
   "metadata": {},
   "source": [
    "While it would be possible to use python to redefine all operations on lists in a similar way, it would turn out to be highly inefficient. For reasons which will be explained later, Python is actually quite slow at looping over lists and numbers like this. \n",
    "\n",
    "This is why NumPy was created. **NumPy arrays are faster and more compact than Python lists**. An array consumes less memory and is convenient to use. NumPy uses much less memory to store data and it provides a mechanism of specifying the data types. This allows the code to be optimized even further.\n",
    "NumPy **efficient calculations** with arrays and matrices and it supplies an enormous library of **high-level mathematical functions** that operate on them."
   ]
  },
  {
   "cell_type": "markdown",
   "id": "9",
   "metadata": {},
   "source": [
    "### Installing NumPy"
   ]
  },
  {
   "cell_type": "markdown",
   "id": "10",
   "metadata": {},
   "source": [
    "Make sure you have followed [my instructions](01-install-packages) before going on."
   ]
  },
  {
   "cell_type": "markdown",
   "id": "11",
   "metadata": {},
   "source": [
    "### How to import NumPy\n",
    "\n",
    "To access NumPy and its functions import it in your Python code like this:"
   ]
  },
  {
   "cell_type": "code",
   "execution_count": null,
   "id": "12",
   "metadata": {},
   "outputs": [],
   "source": [
    "import numpy as np"
   ]
  },
  {
   "cell_type": "markdown",
   "id": "13",
   "metadata": {},
   "source": [
    "We shorten the imported name to `np` for better readability of code using NumPy. This is a widely adopted convention that you should follow so that anyone working with your code can easily understand it."
   ]
  },
  {
   "cell_type": "markdown",
   "id": "14",
   "metadata": {},
   "source": [
    "### What is an array?\n",
    "\n",
    "An array is a central data structure of the NumPy library. An array is a grid of values: **the elements in an array are all of the same type**, referred to as the array `dtype`.\n",
    "\n",
    "There are many ways to create an array, and one of the simplest is by converting a Python list to a NumPy array:"
   ]
  },
  {
   "cell_type": "code",
   "execution_count": null,
   "id": "15",
   "metadata": {},
   "outputs": [],
   "source": [
    "a = np.array([1, 2, 3, 4, 5, 6])"
   ]
  },
  {
   "cell_type": "code",
   "execution_count": null,
   "id": "16",
   "metadata": {},
   "outputs": [],
   "source": [
    "a"
   ]
  },
  {
   "cell_type": "markdown",
   "id": "17",
   "metadata": {},
   "source": [
    "An array has **attributes** describing it and helping us to understand its content. Let's explore some of them:"
   ]
  },
  {
   "cell_type": "code",
   "execution_count": null,
   "id": "18",
   "metadata": {},
   "outputs": [],
   "source": [
    "# How many elements does the array have\n",
    "a.size"
   ]
  },
  {
   "cell_type": "code",
   "execution_count": null,
   "id": "19",
   "metadata": {},
   "outputs": [],
   "source": [
    "# What kind of elements does the array have\n",
    "a.dtype"
   ]
  },
  {
   "cell_type": "code",
   "execution_count": null,
   "id": "20",
   "metadata": {},
   "outputs": [],
   "source": [
    "# How many dimensions does the array have\n",
    "a.ndim"
   ]
  },
  {
   "cell_type": "code",
   "execution_count": null,
   "id": "21",
   "metadata": {},
   "outputs": [],
   "source": [
    "# And what is its shape\n",
    "a.shape"
   ]
  },
  {
   "cell_type": "markdown",
   "id": "22",
   "metadata": {},
   "source": [
    "All these attributes may sound a bit obscure still. Let's have a look at another example: "
   ]
  },
  {
   "cell_type": "code",
   "execution_count": null,
   "id": "23",
   "metadata": {},
   "outputs": [],
   "source": [
    "a = np.array([[1.3, 2, 3.7, 4], [5, 6.1, 7, 8.5], [9, 10.9, 11, 12.8]])\n",
    "a"
   ]
  },
  {
   "cell_type": "markdown",
   "id": "24",
   "metadata": {},
   "source": [
    "In this example, `a` is a multidimensional array of two dimensions. Let's have a look at its attributes:"
   ]
  },
  {
   "cell_type": "code",
   "execution_count": null,
   "id": "25",
   "metadata": {},
   "outputs": [],
   "source": [
    "f\"size: {a.size}; dtype: {a.dtype}; ndim: {a.ndim}; shape: {a.shape}\""
   ]
  },
  {
   "cell_type": "markdown",
   "id": "26",
   "metadata": {},
   "source": [
    "The **size** of this array is 12 (\"3 rows\" times \"4 columns\"), its **dtype** (datatype) is float (the `64` in the name indicates the number of bits - we'll come back to this point later). The array has 2 **dimensions**, and its **shape** is (3, 4), which stands for 3 rows and 4 columns."
   ]
  },
  {
   "cell_type": "markdown",
   "id": "27",
   "metadata": {},
   "source": [
    "You might occasionally hear an array referred to as a \"`ndarray`\" which is shorthand for \"N-dimensional array\". An N-dimensional array is simply an array with any number of dimensions. You might also hear 1-D, or one-dimensional array, 2-D, or two-dimensional array, and so on. The NumPy `ndarray` is used to represent both matrices and vectors. A **vector** is an array with a single dimension (there’s no difference between row and column vectors), while a **matrix** refers to an array with two dimensions. For 3-D or higher dimensional arrays, the term **tensor** is also commonly used.\n",
    "\n",
    "**For this week's class, we will stick with vectors (1-D arrays).**"
   ]
  },
  {
   "cell_type": "markdown",
   "id": "28",
   "metadata": {},
   "source": [
    "### Creating arrays "
   ]
  },
  {
   "cell_type": "markdown",
   "id": "29",
   "metadata": {},
   "source": [
    "Besides creating an array from a sequence of elements (e.g. with a list as done above), you can easily create an array filled with 0’s:"
   ]
  },
  {
   "cell_type": "code",
   "execution_count": null,
   "id": "30",
   "metadata": {},
   "outputs": [],
   "source": [
    "np.zeros(3)"
   ]
  },
  {
   "cell_type": "markdown",
   "id": "31",
   "metadata": {},
   "source": [
    "Or with ones:"
   ]
  },
  {
   "cell_type": "code",
   "execution_count": null,
   "id": "32",
   "metadata": {},
   "outputs": [],
   "source": [
    "np.ones(2)"
   ]
  },
  {
   "cell_type": "markdown",
   "id": "33",
   "metadata": {},
   "source": [
    "You can create an array with a range of elements:"
   ]
  },
  {
   "cell_type": "code",
   "execution_count": null,
   "id": "34",
   "metadata": {},
   "outputs": [],
   "source": [
    "np.arange(4)"
   ]
  },
  {
   "cell_type": "markdown",
   "id": "35",
   "metadata": {},
   "source": [
    "And even an array that contains a range of evenly spaced intervals. To do this, you will specify the first number, last number, and the step size:"
   ]
  },
  {
   "cell_type": "code",
   "execution_count": null,
   "id": "36",
   "metadata": {},
   "outputs": [],
   "source": [
    "np.arange(2, 9, 2)"
   ]
  },
  {
   "cell_type": "markdown",
   "id": "37",
   "metadata": {},
   "source": [
    "You can also use `np.linspace()` to create an array with values that are spaced linearly in a specified interval:"
   ]
  },
  {
   "cell_type": "code",
   "execution_count": null,
   "id": "38",
   "metadata": {},
   "outputs": [],
   "source": [
    "np.linspace(0, 10, num=5)"
   ]
  },
  {
   "cell_type": "markdown",
   "id": "39",
   "metadata": {},
   "source": [
    "While the default data type is floating point (`np.float64`), you can explicitly specify which data type you want using the `dtype` keyword:"
   ]
  },
  {
   "cell_type": "code",
   "execution_count": null,
   "id": "40",
   "metadata": {},
   "outputs": [],
   "source": [
    "np.ones(2, dtype=np.int64)"
   ]
  },
  {
   "cell_type": "markdown",
   "id": "41",
   "metadata": {},
   "source": [
    "### Indexing and slicing"
   ]
  },
  {
   "cell_type": "markdown",
   "id": "42",
   "metadata": {},
   "source": [
    "You can index and slice NumPy arrays in the same ways you can slice Python lists."
   ]
  },
  {
   "cell_type": "code",
   "execution_count": null,
   "id": "43",
   "metadata": {},
   "outputs": [],
   "source": [
    "data = np.array([1, 2, 3])\n",
    "data[1]"
   ]
  },
  {
   "cell_type": "code",
   "execution_count": null,
   "id": "44",
   "metadata": {},
   "outputs": [],
   "source": [
    "data[0:2]"
   ]
  },
  {
   "cell_type": "code",
   "execution_count": null,
   "id": "45",
   "metadata": {},
   "outputs": [],
   "source": [
    "data[1:]"
   ]
  },
  {
   "cell_type": "code",
   "execution_count": null,
   "id": "46",
   "metadata": {},
   "outputs": [],
   "source": [
    "data[-2:]"
   ]
  },
  {
   "cell_type": "markdown",
   "id": "47",
   "metadata": {},
   "source": [
    "You can visualize it this way:\n",
    "\n",
    "![npimg](https://numpy.org/doc/stable/_images/np_indexing.png)"
   ]
  },
  {
   "cell_type": "markdown",
   "id": "48",
   "metadata": {},
   "source": [
    "This is useful to select part of your data to use in further analysis or additional operations (**subset** or **slice**).\n",
    "\n",
    "Slicing is useful when you know the structure of the data well (e.g. take the last X elements of an array). Sometimes, you may want to select data based on a condition (e.g. \"pick data larger than X\"). Fortunately, it's straightforward with NumPy.\n",
    "\n",
    "For example, if you start with this array: "
   ]
  },
  {
   "cell_type": "code",
   "execution_count": null,
   "id": "49",
   "metadata": {},
   "outputs": [],
   "source": [
    "a = np.arange(1, 15)\n",
    "np.random.shuffle(a)  # Shuffle the elements for more fun\n",
    "a"
   ]
  },
  {
   "cell_type": "markdown",
   "id": "50",
   "metadata": {},
   "source": [
    "You can easily select all of the values in the array that are less or equal 5:"
   ]
  },
  {
   "cell_type": "code",
   "execution_count": null,
   "id": "51",
   "metadata": {},
   "outputs": [],
   "source": [
    "b = a[a <= 5]\n",
    "b"
   ]
  },
  {
   "cell_type": "markdown",
   "id": "52",
   "metadata": {},
   "source": [
    "What did we just do here? Maybe its useful for you to repeat the order in which operations are realized by the interpreter:\n",
    "- we have an assignment operator (the `=`), so we know that the right hand side is evaluated first.\n",
    "- on the right hand side, the operations within the brackets `[]` are evaluated first - we'll get back to this\n",
    "- the output of the operation `a <= 5` is then used to **index** (access) the elements in `a`\n",
    "- the output of this last step is then assigned to the variable b\n",
    "\n",
    "Is this clear? If not, the following might help a little bit further:"
   ]
  },
  {
   "cell_type": "code",
   "execution_count": null,
   "id": "53",
   "metadata": {},
   "outputs": [],
   "source": [
    "le_five = a <= 5\n",
    "le_five"
   ]
  },
  {
   "cell_type": "markdown",
   "id": "54",
   "metadata": {},
   "source": [
    "**Exercise: what it the size, shape, and dtype of `le_five`? Can you explain why?**\n",
    "\n",
    "`le_five` can then be used to index the array `a`:"
   ]
  },
  {
   "cell_type": "code",
   "execution_count": null,
   "id": "55",
   "metadata": {},
   "outputs": [],
   "source": [
    "a[le_five]"
   ]
  },
  {
   "cell_type": "markdown",
   "id": "56",
   "metadata": {},
   "source": [
    "And this is then assigned to the variable b with:"
   ]
  },
  {
   "cell_type": "code",
   "execution_count": null,
   "id": "57",
   "metadata": {},
   "outputs": [],
   "source": [
    "b = a[le_five]\n",
    "b"
   ]
  },
  {
   "cell_type": "markdown",
   "id": "58",
   "metadata": {},
   "source": [
    "That's it!"
   ]
  },
  {
   "cell_type": "markdown",
   "id": "59",
   "metadata": {},
   "source": [
    "Now, what do you think of the following code:"
   ]
  },
  {
   "cell_type": "code",
   "execution_count": null,
   "id": "60",
   "metadata": {},
   "outputs": [],
   "source": [
    "c = a[(a > 2) & (a < 11)]\n",
    "c"
   ]
  },
  {
   "cell_type": "markdown",
   "id": "61",
   "metadata": {},
   "source": [
    "That's great, right?\n",
    "\n",
    "**Important! You can specify multiple conditions with the logical operators `&` (`and`) and `|` (`or`). In numpy however you HAVE to use `&` and `|` although they mean the same as `and` and `or` for python.** Consider the following:"
   ]
  },
  {
   "cell_type": "code",
   "execution_count": null,
   "id": "62",
   "metadata": {},
   "outputs": [],
   "source": [
    "print(True | False, True or False)  # These two are equivalent with boolean scalars\n",
    "print((a > 2) & (a < 11), (a > 2) and (a < 11))  # On numpy arrays, the second one will raise an error"
   ]
  },
  {
   "cell_type": "markdown",
   "id": "63",
   "metadata": {},
   "source": [
    "### Basic array operations"
   ]
  },
  {
   "cell_type": "markdown",
   "id": "64",
   "metadata": {},
   "source": [
    "NumPy is very good at doing math! \n",
    "\n",
    "For example, you can add two arrays together with the plus sign."
   ]
  },
  {
   "cell_type": "code",
   "execution_count": null,
   "id": "65",
   "metadata": {},
   "outputs": [],
   "source": [
    "data = np.array([1, 2])\n",
    "ones = np.ones(2, dtype=int)\n",
    "data + ones"
   ]
  },
  {
   "cell_type": "markdown",
   "id": "66",
   "metadata": {},
   "source": [
    "![img](https://numpy.org/doc/stable/_images/np_data_plus_ones.png)"
   ]
  },
  {
   "cell_type": "markdown",
   "id": "67",
   "metadata": {},
   "source": [
    "You can, of course, do more than just addition!"
   ]
  },
  {
   "cell_type": "code",
   "execution_count": null,
   "id": "68",
   "metadata": {},
   "outputs": [],
   "source": [
    "print(data - ones)\n",
    "print(data * data)\n",
    "print(data / data)\n",
    "print(data ** data)"
   ]
  },
  {
   "cell_type": "markdown",
   "id": "69",
   "metadata": {},
   "source": [
    "There are times when you might want to carry out an operation between an array and a single number (also called an operation between a **vector** and a **scalar**) or between arrays of two different sizes. For example, your array (we'll call it \"data\") might contain information about distance in miles but you want to convert the information to kilometers. You can perform this operation with:"
   ]
  },
  {
   "cell_type": "code",
   "execution_count": null,
   "id": "70",
   "metadata": {},
   "outputs": [],
   "source": [
    "data = np.array([1.0, 2.0])\n",
    "data * 1.6"
   ]
  },
  {
   "cell_type": "markdown",
   "id": "71",
   "metadata": {},
   "source": [
    "![img](https://numpy.org/doc/stable/_images/np_multiply_broadcasting.png)\n",
    "\n",
    "NumPy understands that the multiplication should happen with each cell. That concept is called broadcasting. Broadcasting is a mechanism that allows NumPy to perform operations on arrays of different shapes (we'll learn about this in a later lecture)."
   ]
  },
  {
   "cell_type": "markdown",
   "id": "72",
   "metadata": {},
   "source": [
    "### More useful array operations"
   ]
  },
  {
   "cell_type": "markdown",
   "id": "73",
   "metadata": {},
   "source": [
    "NumPy also performs aggregation functions. In addition to `min`, `max`, and `sum`, you can easily run `mean` to get the average, `prod` to get the result of multiplying the elements together, `std` to get the standard deviation, and more:"
   ]
  },
  {
   "cell_type": "code",
   "execution_count": null,
   "id": "74",
   "metadata": {},
   "outputs": [],
   "source": [
    "data = np.array([1.0, 2.0, 3.0])\n",
    "print(data.max())\n",
    "print(data.min())\n",
    "print(data.sum())"
   ]
  },
  {
   "cell_type": "markdown",
   "id": "75",
   "metadata": {},
   "source": [
    "![img](https://numpy.org/doc/stable/_images/np_aggregation.png)"
   ]
  },
  {
   "cell_type": "markdown",
   "id": "76",
   "metadata": {},
   "source": [
    "### Mathematical operations "
   ]
  },
  {
   "cell_type": "markdown",
   "id": "77",
   "metadata": {},
   "source": [
    "NumPy also comes with a very (very) large amount of [mathematical functions](https://numpy.org/doc/stable/reference/routines.math.html) that operate on arrays. Here are two examples of them:"
   ]
  },
  {
   "cell_type": "code",
   "execution_count": null,
   "id": "78",
   "metadata": {},
   "outputs": [],
   "source": [
    "a = np.array([0, np.pi / 2])\n",
    "a"
   ]
  },
  {
   "cell_type": "code",
   "execution_count": null,
   "id": "79",
   "metadata": {},
   "outputs": [],
   "source": [
    "np.sin(a)"
   ]
  },
  {
   "cell_type": "code",
   "execution_count": null,
   "id": "80",
   "metadata": {},
   "outputs": [],
   "source": [
    "np.round(a)"
   ]
  },
  {
   "cell_type": "markdown",
   "id": "81",
   "metadata": {},
   "source": [
    "NumPy's functions apply to all elements of an array, just like all other operations: **element-wise**."
   ]
  },
  {
   "cell_type": "markdown",
   "id": "82",
   "metadata": {},
   "source": [
    "## Matplotlib"
   ]
  },
  {
   "cell_type": "markdown",
   "id": "83",
   "metadata": {},
   "source": [
    "### Why matplotlib?\n",
    "\n",
    "Matplotlib is a comprehensive library for creating plots and graphics in python. It is used in combination with NumPy in many (many) scientific applications."
   ]
  },
  {
   "cell_type": "markdown",
   "id": "84",
   "metadata": {},
   "source": [
    "### Installing matplotlib"
   ]
  },
  {
   "cell_type": "markdown",
   "id": "85",
   "metadata": {},
   "source": [
    "Make sure you have followed [my instructions](01-install-packages) before going on."
   ]
  },
  {
   "cell_type": "markdown",
   "id": "86",
   "metadata": {},
   "source": [
    "### How to import matplotlib\n",
    "\n",
    "For now, you will import the matlotlib tools we need like this:"
   ]
  },
  {
   "cell_type": "code",
   "execution_count": null,
   "id": "87",
   "metadata": {},
   "outputs": [],
   "source": [
    "import matplotlib.pyplot as plt"
   ]
  },
  {
   "cell_type": "markdown",
   "id": "88",
   "metadata": {},
   "source": [
    "This command is only importing a subset of all matplotlib functions, but it is the most commonly used (by far).\n",
    "\n",
    "**Matplotlib is best learned by doing**. Today I'll showcase some of the tools you'll need for the assignments, and with time you'll learn to use many more!"
   ]
  },
  {
   "cell_type": "markdown",
   "id": "89",
   "metadata": {},
   "source": [
    "### A first plot "
   ]
  },
  {
   "cell_type": "code",
   "execution_count": null,
   "id": "90",
   "metadata": {},
   "outputs": [],
   "source": [
    "# This you should know by now what it does - if not, check it out above\n",
    "x = np.linspace(0, 2 * np.pi, 5)\n",
    "y = np.sin(x) * 12\n",
    "\n",
    "# This is new\n",
    "fig, ax = plt.subplots()\n",
    "ax.plot(x, y)\n",
    "plt.show()"
   ]
  },
  {
   "cell_type": "markdown",
   "id": "91",
   "metadata": {},
   "source": [
    "Let's repeat this example, but with inline comments and adding some elements to the plot:"
   ]
  },
  {
   "cell_type": "code",
   "execution_count": null,
   "id": "92",
   "metadata": {},
   "outputs": [],
   "source": [
    "fig, ax = plt.subplots()  # Create a figure containing a single axes.\n",
    "ax.plot(x, y)  # Plot some data on the axes.\n",
    "ax.set_xlabel('Time')  # Add a label to the x-axis\n",
    "ax.set_ylabel('Air temperature (°C)')  # Add a label to the y-axis\n",
    "ax.set_title('A typical day at home')  # Add a title to the plot\n",
    "plt.show()  # show the figure on screen. This is optional in Jupyter Notebooks but mandatory in scripts"
   ]
  },
  {
   "cell_type": "markdown",
   "id": "93",
   "metadata": {},
   "source": [
    "**Exercise: write a simple python script (not a notebook) reproducing the plot above. Run the code with and without `plt.show()` at the end.**"
   ]
  },
  {
   "cell_type": "markdown",
   "id": "94",
   "metadata": {},
   "source": [
    "### Line plots "
   ]
  },
  {
   "cell_type": "markdown",
   "id": "95",
   "metadata": {},
   "source": [
    "Line plots are probably the most common way to represent data."
   ]
  },
  {
   "cell_type": "code",
   "execution_count": null,
   "id": "96",
   "metadata": {},
   "outputs": [],
   "source": [
    "# Create some data\n",
    "x = np.linspace(0, 2 * np.pi, 100)\n",
    "y1 = np.sin(x) * 12\n",
    "y2 = y1 + 5\n",
    "\n",
    "# Plot it\n",
    "fig, ax = plt.subplots()\n",
    "ax.plot(x, y1, label='Suburbs')\n",
    "ax.plot(x, y2, label='City center')\n",
    "ax.legend()  # Draw the legend from line labels\n",
    "ax.set_xlabel('Time')\n",
    "ax.set_ylabel('Air temperature (°C)')\n",
    "ax.set_title('A typical day at home');"
   ]
  },
  {
   "cell_type": "markdown",
   "id": "97",
   "metadata": {},
   "source": [
    "### Scatter plots"
   ]
  },
  {
   "cell_type": "markdown",
   "id": "98",
   "metadata": {},
   "source": [
    "Scatter plots are used when it does not make sense to connect the data points together with lines. This happens when there is no temporal or spatial relationship between the data points, when the data is noisy or has discontinuities (for example wind direction). \n",
    "\n",
    "Scatter plots are often used in statistics, to represent relationships between data. Here for example:"
   ]
  },
  {
   "cell_type": "code",
   "execution_count": null,
   "id": "99",
   "metadata": {},
   "outputs": [],
   "source": [
    "# Create random data\n",
    "y3 = y2 + np.random.randn(y2.size)\n",
    "\n",
    "# Make a scatter plot\n",
    "fig, ax = plt.subplots()\n",
    "ax.scatter(y2, y3)\n",
    "ax.set_xlabel('Reality')\n",
    "ax.set_ylabel('Measured')\n",
    "ax.set_title('Measured vs reality');"
   ]
  },
  {
   "cell_type": "markdown",
   "id": "100",
   "metadata": {},
   "source": [
    "### Styling plots"
   ]
  },
  {
   "cell_type": "markdown",
   "id": "101",
   "metadata": {},
   "source": [
    "You can change the style of practically *everything* in a plot. For now, we will focus on the most important things: figure size, lines and markers."
   ]
  },
  {
   "cell_type": "code",
   "execution_count": null,
   "id": "102",
   "metadata": {},
   "outputs": [],
   "source": [
    "fig, ax = plt.subplots(figsize=(16, 9))\n",
    "ax.plot(x, y1, color='navy', linestyle='--', label='Suburbs')\n",
    "ax.plot(x, y2, color='crimson', linewidth=3, label='City center')\n",
    "ax.plot(x, y3, marker='o', linestyle='none', color='tomato', alpha=0.5, label='City center (uncertain)')\n",
    "ax.legend()\n",
    "ax.set_ylim(-20, 20)\n",
    "ax.set_xlabel('Time')\n",
    "ax.set_ylabel('Air temperature (°C)')\n",
    "ax.set_title('A typical day at home');"
   ]
  },
  {
   "cell_type": "markdown",
   "id": "103",
   "metadata": {},
   "source": [
    "- **Figure size** can be set when the figure is created.\n",
    "- **Lines** can be styled as \"solid\" (or `-`), \"dotted\" (or `..`), \"dashed\" (or `--`), \"dashdot\" (or `-.`). [More options](https://matplotlib.org/stable/gallery/lines_bars_and_markers/linestyles.html) are available for the adventurous. Their width can be changed with the `linewidth` keyword (accepting a float). \n",
    "- **Markers** can be added to line plots (`marker=...`). Their are many different ones ([here](https://matplotlib.org/stable/api/markers_api.html) is a list). In the example above, I also chose to plot only markers, no line (`linestyle='none'`)\n",
    "- **Colors** can be set in many different ways, the most common is to use [named matplotlib colors](https://matplotlib.org/3.5.0/gallery/color/named_colors.html)\n",
    "- **Transparency** can be set with the `alpha=` keyword.\n",
    "- **Axis ranges** can be set with `ax.set_ylim()` (or `ax.set_xlim()` for the x axis)\n",
    "\n",
    "The line and marker styles are then automatically applied to the legend as well.\n",
    "\n",
    "**Exercise: play around with the many options available and make experiments!**"
   ]
  },
  {
   "cell_type": "markdown",
   "id": "104",
   "metadata": {},
   "source": [
    "### Plotting data of different units "
   ]
  },
  {
   "cell_type": "markdown",
   "id": "105",
   "metadata": {},
   "source": [
    "Sometimes, you want to plot data with very different values on the same figure. For example, plotting data of different order of magnitudes or of different units:"
   ]
  },
  {
   "cell_type": "code",
   "execution_count": null,
   "id": "106",
   "metadata": {},
   "outputs": [],
   "source": [
    "# Create some data\n",
    "x = np.linspace(0, 2 * np.pi, 200)\n",
    "y1 = np.sin(x) * 12\n",
    "y2 = np.cos(x) * 0.0001  # Very different scale\n",
    "\n",
    "fig, ax = plt.subplots()\n",
    "ax.plot(x, y1)\n",
    "ax.plot(x, y2);"
   ]
  },
  {
   "cell_type": "markdown",
   "id": "107",
   "metadata": {},
   "source": [
    "The problem is that the orange line has variations which are not visible in the graph. There are two simple solutions to this problem, explained below."
   ]
  },
  {
   "cell_type": "markdown",
   "id": "108",
   "metadata": {},
   "source": [
    "#### Two subplots on the same figure "
   ]
  },
  {
   "cell_type": "code",
   "execution_count": null,
   "id": "109",
   "metadata": {},
   "outputs": [],
   "source": [
    "# Subplots: 2 rows one column, they share the same x-axis\n",
    "fig, (ax1, ax2) = plt.subplots(2, 1, figsize=(6, 8), sharex=True)\n",
    "\n",
    "# Plot on the first axis as usual\n",
    "ax1.plot(x, y1, label='Data 1')\n",
    "\n",
    "# Plot on the second axis\n",
    "ax2.plot(x, y2, color='C1', label='Data 2');\n",
    "\n",
    "# Add the legend for both axis\n",
    "ax1.legend(loc='upper right')\n",
    "ax2.legend(loc='lower right')\n",
    "\n",
    "# Labels and titles\n",
    "ax1.set_ylabel('Data 1 (°C)')\n",
    "ax2.set_xlabel('Time')\n",
    "ax2.set_ylabel('Data 2 (W m$^{-2}$)')\n",
    "ax1.set_title('A fair comparison');"
   ]
  },
  {
   "cell_type": "markdown",
   "id": "110",
   "metadata": {},
   "source": [
    "#### Two y-axis on the same plot"
   ]
  },
  {
   "cell_type": "code",
   "execution_count": null,
   "id": "111",
   "metadata": {},
   "outputs": [],
   "source": [
    "fig, ax = plt.subplots()\n",
    "\n",
    "# Plot on the first axis as usual\n",
    "ax.plot(x, y1, label='Data 1')\n",
    "\n",
    "# Add a twin axis to the right and plot on it\n",
    "axr = ax.twinx()\n",
    "axr.plot(x, y2, color='C1', label='Data 2 (right)');\n",
    "\n",
    "# Add the legend for both axis\n",
    "ax.legend(loc='lower left')\n",
    "axr.legend(loc='lower right')\n",
    "\n",
    "# Labels and titles\n",
    "ax.set_xlabel('Time')\n",
    "ax.set_ylabel('Data 1 (°C)')\n",
    "axr.set_ylabel('Data 2 (W m${2}$)')\n",
    "ax.set_title('A fair comparison');"
   ]
  },
  {
   "cell_type": "markdown",
   "id": "112",
   "metadata": {},
   "source": [
    "### Storing the plot as png or pdf for later"
   ]
  },
  {
   "cell_type": "markdown",
   "id": "113",
   "metadata": {},
   "source": [
    "If you are happy with a plot and want to store it on your computer for later use (in a report or a manuscript), use `fig.savefig`:"
   ]
  },
  {
   "cell_type": "code",
   "execution_count": null,
   "id": "114",
   "metadata": {},
   "outputs": [],
   "source": [
    "fig, ax = plt.subplots()\n",
    "\n",
    "# Plot on the first axis as usual\n",
    "ax.plot(x, y1, label='Data 1')\n",
    "\n",
    "# Add a twin axis to the right and plot on it\n",
    "axr = ax.twinx()\n",
    "axr.plot(x, y2, color='C1', label='Data 2 (right)');\n",
    "\n",
    "# Add the legend for both axis\n",
    "ax.legend(loc='lower left')\n",
    "axr.legend(loc='lower right')\n",
    "\n",
    "# Labels and titles\n",
    "ax.set_xlabel('Time')\n",
    "ax.set_ylabel('Data 1 (°C)')\n",
    "axr.set_ylabel('Data 2 (W m${2}$)')\n",
    "ax.set_title('A fair comparison');\n",
    "\n",
    "# Save the figure\n",
    "fig.savefig('myfigure.png', dpi=150, bbox_inches='tight')"
   ]
  },
  {
   "cell_type": "markdown",
   "id": "115",
   "metadata": {},
   "source": [
    "[figure.savefig](https://matplotlib.org/3.5.0/api/figure_api.html?highlight=savefig#matplotlib.figure.Figure.savefig) has several options available. The first position argument `fname` indicates the path to the file to write (default is is the current working folder) and its format (e.g. `.png`, `.pdf` or `.eps`). The other two arguments are setting the resolution the final image and whether to have margins around the figure (I often use `bbox_inches='tight'`)."
   ]
  },
  {
   "cell_type": "markdown",
   "id": "116",
   "metadata": {},
   "source": [
    "## Learning checklist "
   ]
  },
  {
   "cell_type": "markdown",
   "id": "117",
   "metadata": {},
   "source": [
    "<label><input type=\"checkbox\" id=\"week05_01\" class=\"box\"> I downloaded this notebook from the website and ran all the examples myself.</input></label><br>\n",
    "<label><input type=\"checkbox\" id=\"week05_01\" class=\"box\"> I understand the main differences between numpy arrays and python lists.</input></label><br>\n",
    "<label><input type=\"checkbox\" id=\"week05_01\" class=\"box\"> I can create numpy arrays and realise basic operations on them (computations, aggregations...).</input></label><br>\n",
    "<label><input type=\"checkbox\" id=\"week05_01\" class=\"box\"> I can generate line plots and scatter plots of data stored in numpy arrays.</input></label><br>\n",
    "<label><input type=\"checkbox\" id=\"week05_01\" class=\"box\"> I can customise my plot by using different colors and line styles and add a legend to it.</input></label><br>\n",
    "<label><input type=\"checkbox\" id=\"week05_01\" class=\"box\"> I can store a plot for later use.</input></label><br>"
   ]
  },
  {
   "cell_type": "markdown",
   "id": "118",
   "metadata": {},
   "source": [
    "## To go further"
   ]
  },
  {
   "cell_type": "markdown",
   "id": "119",
   "metadata": {},
   "source": [
    "The [Basic usage](https://matplotlib.org/stable/tutorials/introductory/usage.html) documentation page is a good place to start if you are curious to learn more"
   ]
  }
 ],
 "metadata": {
  "kernelspec": {
   "display_name": "Python 3 (ipykernel)",
   "language": "python",
   "name": "python3"
  },
  "language_info": {
   "codemirror_mode": {
    "name": "ipython",
    "version": 3
   },
   "file_extension": ".py",
   "mimetype": "text/x-python",
   "name": "python",
   "nbconvert_exporter": "python",
   "pygments_lexer": "ipython3",
   "version": "3.10.8"
  }
 },
 "nbformat": 4,
 "nbformat_minor": 5
}
