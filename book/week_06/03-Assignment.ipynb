{
 "cells": [
  {
   "cell_type": "markdown",
   "id": "0",
   "metadata": {},
   "source": [
    "# Assignment 06\n",
    "\n",
    "*Due date: 10.05.2023*\n",
    "\n",
    "This week's assignment has to be returned **in the form a jupyter notebook**. \n",
    "\n",
    "Don't forget the [instructions](../assignments)!"
   ]
  },
  {
   "cell_type": "markdown",
   "id": "1",
   "metadata": {},
   "source": [
    "## 01 - Linear regression function"
   ]
  },
  {
   "cell_type": "markdown",
   "id": "2",
   "metadata": {},
   "source": [
    "**Write a function that computes the parameters $a$ und $b$ from the [simple linear regression](https://en.wikipedia.org/wiki/Simple_linear_regression) $\\hat{y} = a + bx$**, where $x$ is the explanatory variable and $y$ the variable to approximate: \n",
    "\n",
    "$$\n",
    "\\begin{eqnarray}\n",
    "  b & = & \\frac{n\\sum_{i=1}^n x_iy_i - \\sum_{i=1}^n x_i \\sum_{i=1}^ny_i}\n",
    "               {n\\sum_{i=1}^n (x_i)^2 - (\\sum_{i=1}^n x_i)^2} \\\\\n",
    "  a & = & \\overline{y} - b\\overline{x}\n",
    "\\end{eqnarray}\n",
    "$$\n",
    "\n",
    "In the equation above, $x_i$ is the i-th element of the vector $x$, $n$ is the length (size) of the vectors $x$ and $y$, and $\\overline{x}$ is the average of $x$.\n",
    "\n",
    "The signature of the function you have to write is given below:\n",
    "\n",
    "```python\n",
    "def linear_regression(x, y):\n",
    "    \"\"\"Calculate a linear least-squares regression for two sets of measurements.\n",
    "\n",
    "    Parameters\n",
    "    ----------\n",
    "    x, y: ndarray-like\n",
    "        Two sets of measurements. Both arrays should be 1-dimensional \n",
    "        and have the same length. They should not contain any missing data!\n",
    "\n",
    "    Returns\n",
    "    -------\n",
    "    (a, b): floats\n",
    "       Parameters a and b of the linear approximation y^ = a + b x\n",
    "\n",
    "    Examples\n",
    "    --------\n",
    "    >>> x = np.array([1, 2, 3, 4, 5])\n",
    "    >>> y = np.array([-5.3, -2.6,  0.1,  2.8,  5.5])\n",
    "    >>> a, b = linear_regression(x, y)\n",
    "    >>> np.isclose(a, -8)\n",
    "    True\n",
    "    >>> np.isclose(b, 2.7)\n",
    "    True\n",
    "    \"\"\"\n",
    "    # Make sure we manipulate ndarrays\n",
    "    x = np.asarray(x)\n",
    "    y = np.asarray(y)\n",
    "\n",
    "    # Least squares equations\n",
    "    < your code here >\n",
    "    return a, b\n",
    "```\n"
   ]
  },
  {
   "cell_type": "code",
   "execution_count": null,
   "id": "3",
   "metadata": {},
   "outputs": [],
   "source": [
    "# Your answer here"
   ]
  },
  {
   "cell_type": "markdown",
   "id": "4",
   "metadata": {},
   "source": [
    "If you have written the function correctly, the tests should pass with `TestResults(failed=0, attempted=5)`:"
   ]
  },
  {
   "cell_type": "code",
   "execution_count": null,
   "id": "5",
   "metadata": {},
   "outputs": [],
   "source": [
    "# Testing\n",
    "import doctest\n",
    "doctest.testmod()"
   ]
  },
  {
   "cell_type": "markdown",
   "id": "6",
   "metadata": {},
   "source": [
    "## 02 - Instrument calibration "
   ]
  },
  {
   "cell_type": "markdown",
   "id": "7",
   "metadata": {},
   "source": [
    "A temperature sensor was calibrated in a precise temperature chamber. The instrument provides an analog output signal of varying voltage in Volts (V) on a single pin that can be measured. The temperature in the chamber T is increased from -20°C to 40°C  in 2°C increments, and the sensor voltage is measured after the temperature in the chamber is stabilized.\n",
    "\n",
    "The data is stored in a comma-separated file [calibration.csv](https://raw.githubusercontent.com/fmaussion/intro_to_programming/master/book/week_06/calibration.csv). Download the data file (right click + \"Save as...\") and put the file in the same folder as this notebook. **Explore the csv file by opening it in JupyterLab**."
   ]
  },
  {
   "cell_type": "markdown",
   "id": "8",
   "metadata": {},
   "source": [
    "A few weeks ago, you wrote your own text file reader. This time, let me read the data for you using numpy:"
   ]
  },
  {
   "cell_type": "code",
   "execution_count": null,
   "id": "9",
   "metadata": {},
   "outputs": [],
   "source": [
    "import numpy as np\n",
    "t, v = np.genfromtxt('calibration.csv', delimiter=',', skip_header=1, unpack=True)"
   ]
  },
  {
   "cell_type": "markdown",
   "id": "10",
   "metadata": {},
   "source": [
    "**Something happened during the experiment, and unfortunately some of the values are invalid with the missing value indicator -999. Filter the data series so that both `t` and `v` are of the same length and still represent the correct value pairs, without missing data.** "
   ]
  },
  {
   "cell_type": "code",
   "execution_count": null,
   "id": "11",
   "metadata": {},
   "outputs": [],
   "source": [
    "# Your answer here"
   ]
  },
  {
   "cell_type": "markdown",
   "id": "12",
   "metadata": {},
   "source": [
    "**Plot the voltage values `v` as a function of the temparature chamber `t` on a scatter plot. Label the x and y axis accordingly.**"
   ]
  },
  {
   "cell_type": "code",
   "execution_count": null,
   "id": "13",
   "metadata": {},
   "outputs": [],
   "source": [
    "# Your answer here"
   ]
  },
  {
   "cell_type": "markdown",
   "id": "14",
   "metadata": {},
   "source": [
    "**Using your linear regression function, find the sensor calibration parameters a and b, so that the temperature t can be reconstructed from the voltage measurements with $\\hat{t} = a + b v$.**"
   ]
  },
  {
   "cell_type": "code",
   "execution_count": null,
   "id": "15",
   "metadata": {},
   "outputs": [],
   "source": [
    "# Your answer here"
   ]
  },
  {
   "cell_type": "markdown",
   "id": "16",
   "metadata": {},
   "source": [
    "**The sensor and associated voltmeter are designed to output a voltage going from 0V to 12V. Based on your calibration values, what is the sensor's valid temperature range?**"
   ]
  },
  {
   "cell_type": "code",
   "execution_count": null,
   "id": "17",
   "metadata": {},
   "outputs": [],
   "source": [
    "# Your answer here"
   ]
  },
  {
   "cell_type": "markdown",
   "id": "18",
   "metadata": {},
   "source": [
    "**Compute the reconstructed temperature `tr`** (volts converted to temperature)."
   ]
  },
  {
   "cell_type": "code",
   "execution_count": null,
   "id": "19",
   "metadata": {},
   "outputs": [],
   "source": [
    "# Your answer here"
   ]
  },
  {
   "cell_type": "markdown",
   "id": "20",
   "metadata": {},
   "source": [
    "**Plot the chamber temperature, the reconstructed temperature (volts converted to temperature) and the valid range in one plot.** The plot should look somewhat similar to [this example](https://raw.githubusercontent.com/fmaussion/intro_to_programming/master/book/week_06/temp_calib_example.png)."
   ]
  },
  {
   "cell_type": "code",
   "execution_count": null,
   "id": "21",
   "metadata": {},
   "outputs": [],
   "source": [
    "# Your answer here"
   ]
  },
  {
   "cell_type": "markdown",
   "id": "22",
   "metadata": {},
   "source": [
    "**Compute the accuracy of the sensor assuming that the chamber temperature is truly exact. To evaluate the accuracy, compute the [root mean square deviation](https://en.wikipedia.org/wiki/Root-mean-square_deviation) as:**\n",
    "\n",
    "$$\n",
    "RMSD = \\sqrt{\\overline{(\\hat{t} - t)^2}}\n",
    "$$\n",
    "\n",
    "Where $\\hat{t}$ is the reconstructed temperature, and the overline represents the average (mean) of the squared deviation $(\\hat{t} - t)^2$."
   ]
  },
  {
   "cell_type": "code",
   "execution_count": null,
   "id": "23",
   "metadata": {},
   "outputs": [],
   "source": [
    "# Your answer here"
   ]
  }
 ],
 "metadata": {
  "kernelspec": {
   "display_name": "Python 3 (ipykernel)",
   "language": "python",
   "name": "python3"
  },
  "language_info": {
   "codemirror_mode": {
    "name": "ipython",
    "version": 3
   },
   "file_extension": ".py",
   "mimetype": "text/x-python",
   "name": "python",
   "nbconvert_exporter": "python",
   "pygments_lexer": "ipython3",
   "version": "3.10.8"
  }
 },
 "nbformat": 4,
 "nbformat_minor": 5
}
