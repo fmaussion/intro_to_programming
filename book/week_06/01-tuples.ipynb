{
 "cells": [
  {
   "cell_type": "markdown",
   "id": "73c75f51-4382-4334-97c6-194d765fd552",
   "metadata": {
    "pycharm": {
     "name": "#%% md\n"
    }
   },
   "source": [
    "# Python tuples"
   ]
  },
  {
   "cell_type": "markdown",
   "id": "826b6b43-fa72-437e-8be9-e400196f555f",
   "metadata": {},
   "source": [
    "Before we continue with numpy, let's briefly talk about the `tuple` data type in python.\n",
    "\n",
    "*Copyright notice: large parts of this lecture are copied from the [py4e lecture on tuples](https://www.py4e.com/html3/10-tuples) (CC-BY - Charles R. Severance).*"
   ]
  },
  {
   "cell_type": "markdown",
   "id": "4ed29687-b774-4f2a-b70d-a602060530f3",
   "metadata": {},
   "source": [
    "## What is a tuple? "
   ]
  },
  {
   "cell_type": "markdown",
   "id": "3fa66e69-c7d9-4ea7-ab12-1e9a17ed94a2",
   "metadata": {},
   "source": [
    "A `tuple` is a sequence of values much like a `list`: the values stored in a tuple can be any type, and they are indexed by integers. Syntactically, a tuple is a comma-separated list of values:"
   ]
  },
  {
   "cell_type": "code",
   "execution_count": 1,
   "id": "407ff29d-f780-4b6f-83ea-26c80645647a",
   "metadata": {},
   "outputs": [],
   "source": [
    "t = 'a', 'b', 'c', 'd', 'e'"
   ]
  },
  {
   "cell_type": "markdown",
   "id": "0367c9bc-4e25-4e3a-b469-5fcbb85fa50a",
   "metadata": {},
   "source": [
    "Although it is not necessary, it is common to enclose tuples in parentheses to help us quickly identify tuples when we look at Python code:"
   ]
  },
  {
   "cell_type": "code",
   "execution_count": 2,
   "id": "9377d254-0804-4b3d-8473-542fabc07496",
   "metadata": {},
   "outputs": [],
   "source": [
    "t = ('a', 'b', 'c', 'd', 'e')"
   ]
  },
  {
   "cell_type": "markdown",
   "id": "3de0e944-498b-4fd5-8772-a22278dea791",
   "metadata": {},
   "source": [
    "To create a tuple with a single element, you have to include the final comma:"
   ]
  },
  {
   "cell_type": "code",
   "execution_count": 3,
   "id": "ff1e1ada-e7ea-45e5-a3d3-2d8054873f8c",
   "metadata": {},
   "outputs": [
    {
     "data": {
      "text/plain": [
       "tuple"
      ]
     },
     "execution_count": 3,
     "metadata": {},
     "output_type": "execute_result"
    }
   ],
   "source": [
    "t1 = ('a',)\n",
    "type(t1)"
   ]
  },
  {
   "cell_type": "markdown",
   "id": "62f8bab1-2859-44a8-bdc4-849214ec0469",
   "metadata": {},
   "source": [
    "Another way to construct a tuple is the built-in function tuple. With no argument, it creates an empty tuple:"
   ]
  },
  {
   "cell_type": "code",
   "execution_count": 4,
   "id": "acaea5c0-03be-45ae-ae9c-d360fcfac5f4",
   "metadata": {},
   "outputs": [
    {
     "data": {
      "text/plain": [
       "()"
      ]
     },
     "execution_count": 4,
     "metadata": {},
     "output_type": "execute_result"
    }
   ],
   "source": [
    "t = tuple()\n",
    "t"
   ]
  },
  {
   "cell_type": "markdown",
   "id": "e61a6140-87ec-451e-8c40-9998a12b98ac",
   "metadata": {},
   "source": [
    "*\"Fun\" fact: the word \"tuple\" comes from the names given to sequences of numbers of varying lengths: single, double, triple, quadruple, quintuple, sextuple, septuple, etc. It is therefore also pronounced like these words.*"
   ]
  },
  {
   "cell_type": "markdown",
   "id": "3bcea664-2bb5-46a5-b5e5-0ad024e834b8",
   "metadata": {},
   "source": [
    "## How are tuples different than lists?"
   ]
  },
  {
   "cell_type": "markdown",
   "id": "c4818191-3b2b-45e6-9d2d-ff994503eb5a",
   "metadata": {},
   "source": [
    "Tuples behave like lists in many ways:"
   ]
  },
  {
   "cell_type": "code",
   "execution_count": 5,
   "id": "7f719a80-3c80-4a99-a811-f081b8d08972",
   "metadata": {},
   "outputs": [
    {
     "data": {
      "text/plain": [
       "(('s', 'e', 'q', 'u', 'e', 'n', 'c', 'e'),\n",
       " ['s', 'e', 'q', 'u', 'e', 'n', 'c', 'e'])"
      ]
     },
     "execution_count": 5,
     "metadata": {},
     "output_type": "execute_result"
    }
   ],
   "source": [
    "t = tuple('sequence')\n",
    "l = list('sequence')\n",
    "t, l"
   ]
  },
  {
   "cell_type": "code",
   "execution_count": 6,
   "id": "cb515044-b81f-4d9f-94c5-8897345a08ab",
   "metadata": {},
   "outputs": [
    {
     "data": {
      "text/plain": [
       "('e', 'e')"
      ]
     },
     "execution_count": 6,
     "metadata": {},
     "output_type": "execute_result"
    }
   ],
   "source": [
    "t[1], l[1]"
   ]
  },
  {
   "cell_type": "code",
   "execution_count": 7,
   "id": "5664abc4-e3d0-42ae-9266-95cd1e08a45f",
   "metadata": {},
   "outputs": [
    {
     "name": "stdout",
     "output_type": "stream",
     "text": [
      "s\n",
      "e\n",
      "q\n",
      "u\n",
      "e\n",
      "n\n",
      "c\n",
      "e\n"
     ]
    }
   ],
   "source": [
    "for element in t:\n",
    "    print(element)"
   ]
  },
  {
   "cell_type": "markdown",
   "id": "25484087-a1f1-4b3d-a095-fd0e2fda48fd",
   "metadata": {},
   "source": [
    "The important difference is that **tuples are immutable**. This means that, like strings, they can't be changed after being created:"
   ]
  },
  {
   "cell_type": "code",
   "execution_count": 8,
   "id": "19cd8987-2bce-422f-b1fc-f04c137dd25d",
   "metadata": {},
   "outputs": [
    {
     "data": {
      "text/plain": [
       "['s', 'iiiii', 'q', 'u', 'e', 'n', 'c', 'e']"
      ]
     },
     "execution_count": 8,
     "metadata": {},
     "output_type": "execute_result"
    }
   ],
   "source": [
    "# No problem here\n",
    "l[1] = 'iiiii'\n",
    "l"
   ]
  },
  {
   "cell_type": "code",
   "execution_count": 9,
   "id": "0cbf7e86-7b24-437a-b9bc-eec528ba8e90",
   "metadata": {},
   "outputs": [
    {
     "ename": "TypeError",
     "evalue": "'tuple' object does not support item assignment",
     "output_type": "error",
     "traceback": [
      "\u001b[0;31m---------------------------------------------------------------------------\u001b[0m",
      "\u001b[0;31mTypeError\u001b[0m                                 Traceback (most recent call last)",
      "\u001b[0;32m/tmp/ipykernel_59163/3630582785.py\u001b[0m in \u001b[0;36m<cell line: 2>\u001b[0;34m()\u001b[0m\n\u001b[1;32m      1\u001b[0m \u001b[0;31m# This wont work\u001b[0m\u001b[0;34m\u001b[0m\u001b[0;34m\u001b[0m\u001b[0;34m\u001b[0m\u001b[0m\n\u001b[0;32m----> 2\u001b[0;31m \u001b[0mt\u001b[0m\u001b[0;34m[\u001b[0m\u001b[0;36m1\u001b[0m\u001b[0;34m]\u001b[0m \u001b[0;34m=\u001b[0m \u001b[0;34m'iiiii'\u001b[0m\u001b[0;34m\u001b[0m\u001b[0;34m\u001b[0m\u001b[0m\n\u001b[0m",
      "\u001b[0;31mTypeError\u001b[0m: 'tuple' object does not support item assignment"
     ]
    }
   ],
   "source": [
    "# This wont work\n",
    "t[1] = 'iiiii'"
   ]
  },
  {
   "cell_type": "markdown",
   "id": "0aa480c8-a0ec-46e2-ae9f-0efff70e0d4e",
   "metadata": {},
   "source": [
    "This property makes them useful in certain situations, as we will see when we will learn about dictionaries. "
   ]
  },
  {
   "cell_type": "markdown",
   "id": "851000ce-4b41-43d6-9d0d-2c1bdc3ebdee",
   "metadata": {},
   "source": [
    "## Tuple assignment "
   ]
  },
  {
   "cell_type": "markdown",
   "id": "65676f2d-8ca5-4a02-9050-f04d5faa5254",
   "metadata": {},
   "source": [
    "One of the unique syntactic features of the Python language is the ability to have a tuple on the left side of an assignment statement. This allows you to assign more than one variable at a time when the left side is a sequence.\n",
    "\n",
    "In this example we have a two-element list (which is a sequence) and assign the first and second elements of the sequence to the variables x and y in a single statement:"
   ]
  },
  {
   "cell_type": "code",
   "execution_count": null,
   "id": "0e1c07f0-d199-4ddd-a090-4db222e2b3a3",
   "metadata": {},
   "outputs": [],
   "source": [
    "m = ['have', 'fun']\n",
    "x, y = m\n",
    "print(x)\n",
    "print(y)"
   ]
  },
  {
   "cell_type": "markdown",
   "id": "b7c7b564-7c78-4dc6-8841-5b6a11b8c585",
   "metadata": {},
   "source": [
    "This is called \"unpacking\", and it is quite useful. It is not magic, Python *roughly* translates the tuple assignment syntax to be the following:"
   ]
  },
  {
   "cell_type": "code",
   "execution_count": null,
   "id": "5d74634e-7166-495a-bf56-aca1fa95d3a6",
   "metadata": {},
   "outputs": [],
   "source": [
    "m = ['have', 'fun']\n",
    "x = m[0]\n",
    "y = m[1]"
   ]
  },
  {
   "cell_type": "markdown",
   "id": "5bbe65cc-c073-4fed-8d47-18147f58dfb3",
   "metadata": {},
   "source": [
    "Stylistically when we use a tuple on the left side of the assignment statement, we omit the parentheses, but the following is an equally valid syntax:"
   ]
  },
  {
   "cell_type": "code",
   "execution_count": null,
   "id": "536c4b54-1fe9-4a03-afde-b2240e6d6c6b",
   "metadata": {},
   "outputs": [],
   "source": [
    "(x, y) = m"
   ]
  },
  {
   "cell_type": "markdown",
   "id": "d10f7faf-d47e-49fe-a7d0-9e4f3a283d68",
   "metadata": {},
   "source": [
    "A particularly clever application of tuple assignment allows us to swap the values of two variables in a single statement:"
   ]
  },
  {
   "cell_type": "code",
   "execution_count": null,
   "id": "e231499d-5d38-48ac-97e1-470bbbb945af",
   "metadata": {},
   "outputs": [],
   "source": [
    "(y, x) = (x, y)\n",
    "print(x)\n",
    "print(y)"
   ]
  },
  {
   "cell_type": "markdown",
   "id": "a2191d47-7c60-49ea-ae6a-3793accde491",
   "metadata": {},
   "source": [
    "The number of variables on the left and the number of values on the right must be the same:"
   ]
  },
  {
   "cell_type": "code",
   "execution_count": null,
   "id": "b1fad0a3-2f6c-4459-b934-cfbac9a3e5b6",
   "metadata": {},
   "outputs": [],
   "source": [
    "# This will fail\n",
    "a, b = 1, 2, 3"
   ]
  },
  {
   "cell_type": "markdown",
   "id": "05e0b7d2-a64d-4e98-b491-423ed01f6d12",
   "metadata": {},
   "source": [
    "## Tuples and functions with multiple outputs"
   ]
  },
  {
   "cell_type": "markdown",
   "id": "17fdb514-5846-4a3c-820a-702de08ef45b",
   "metadata": {},
   "source": [
    "Tuples are used to return more than one variable from a function. For example: "
   ]
  },
  {
   "cell_type": "code",
   "execution_count": null,
   "id": "86e06f23-ce1a-4bbe-a403-ae67de3b5709",
   "metadata": {},
   "outputs": [],
   "source": [
    "def split_email_address(email):\n",
    "    \"\"\"Splits an email address in username and domain.\n",
    "\n",
    "    Parameters\n",
    "    ----------\n",
    "    email : str\n",
    "        the email string\n",
    "\n",
    "    Returns\n",
    "    -------\n",
    "    (username, domain): tuple of strings\n",
    "    \"\"\"\n",
    "    return tuple(email.split('@'))\n",
    "\n",
    "split_email_address('john.doe@uibk.ac.at')"
   ]
  },
  {
   "cell_type": "markdown",
   "id": "4b13db70-6411-4a12-bc3c-3bd0e8380bd6",
   "metadata": {},
   "source": [
    "## Bonus: sequence comprehension"
   ]
  },
  {
   "cell_type": "markdown",
   "id": "cb193d31-a6de-4fa0-ba2d-bf0dfc43ec12",
   "metadata": {},
   "source": [
    "In your searches, you may already have encountered the following syntax:"
   ]
  },
  {
   "cell_type": "code",
   "execution_count": null,
   "id": "f8283ff9-3b39-4d92-9a26-269c6888ab0d",
   "metadata": {},
   "outputs": [],
   "source": [
    "l = [i for i in range(10) if i % 2 == 1]\n",
    "l"
   ]
  },
  {
   "cell_type": "markdown",
   "id": "1732ea28-78b7-4e2e-be6b-255592321672",
   "metadata": {},
   "source": [
    "This is the \"one-liner\" equivalent of: "
   ]
  },
  {
   "cell_type": "code",
   "execution_count": null,
   "id": "3e3a4b12-e924-4b2a-97c2-e1cc4ec9c254",
   "metadata": {},
   "outputs": [],
   "source": [
    "l = []\n",
    "for i in range(10):\n",
    "    if i % 2 == 1:\n",
    "        l.append(i)\n",
    "l"
   ]
  },
  {
   "cell_type": "markdown",
   "id": "fc2b83dd-13d8-47d4-a993-b843b81da0c3",
   "metadata": {},
   "source": [
    "This is called a \"list comprehension\" and also works with tuples:"
   ]
  },
  {
   "cell_type": "code",
   "execution_count": null,
   "id": "21aa91a9-82b5-4a75-b336-13a9bf2fdef3",
   "metadata": {},
   "outputs": [],
   "source": [
    "tuple(i for i in range(10) if i % 2 == 1)"
   ]
  },
  {
   "cell_type": "markdown",
   "id": "c8b53117-fab7-4a75-8727-cb9bec6c0a22",
   "metadata": {},
   "source": [
    "## Learning checklist "
   ]
  },
  {
   "cell_type": "markdown",
   "id": "b6aa99f0-7479-4810-85b8-1a1f16e26172",
   "metadata": {},
   "source": [
    "<label><input type=\"checkbox\" id=\"week05_01\" class=\"box\"> I understand the difference between a tuple and a list.</input></label><br>\n",
    "<label><input type=\"checkbox\" id=\"week05_01\" class=\"box\"> I know how to unpack values out of a sequence.</input></label><br>\n",
    "<label><input type=\"checkbox\" id=\"week05_01\" class=\"box\"> I know how to return multiple output values from a function.</input></label><br>\n",
    "<label><input type=\"checkbox\" id=\"week05_01\" class=\"box\"> I am aware of the \"list comprehension\" syntax.</input></label><br>"
   ]
  }
 ],
 "metadata": {
  "kernelspec": {
   "display_name": "Python 3 (ipykernel)",
   "language": "python",
   "name": "python3"
  },
  "language_info": {
   "codemirror_mode": {
    "name": "ipython",
    "version": 3
   },
   "file_extension": ".py",
   "mimetype": "text/x-python",
   "name": "python",
   "nbconvert_exporter": "python",
   "pygments_lexer": "ipython3",
   "version": "3.10.8"
  }
 },
 "nbformat": 4,
 "nbformat_minor": 5
}
