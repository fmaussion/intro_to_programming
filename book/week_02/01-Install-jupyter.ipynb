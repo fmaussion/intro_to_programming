{
 "cells": [
  {
   "cell_type": "markdown",
   "metadata": {},
   "source": [
    "# Installing Jupyter"
   ]
  },
  {
   "cell_type": "markdown",
   "metadata": {},
   "source": [
    "This chapter contains some instructions about how to install additional useful tools which will enhance your python installation a great deal!"
   ]
  },
  {
   "cell_type": "markdown",
   "metadata": {},
   "source": [
    "## Prerequisites "
   ]
  },
  {
   "cell_type": "markdown",
   "metadata": {},
   "source": [
    " I'll assume that the [python installation instructions from last week](../week_01/01-Installation.ipynb) have worked for you, and that you:\n",
    "- are able to start a miniforge prompt\n",
    "- can type `mamba list` successfully \n",
    "- can type `python` and open an interpreter.\n",
    "\n",
    "```{admonition} You already have anaconda installed but not mamba or conda-forge\n",
    ":class: warning, dropdown\n",
    "\n",
    "If you already have jupyterlab installed, you can use it for now. If not, please ask me in class what to do!\n",
    "```"
   ]
  },
  {
   "cell_type": "markdown",
   "metadata": {},
   "source": [
    "## Install ipython and jupyterlab "
   ]
  },
  {
   "cell_type": "markdown",
   "metadata": {},
   "source": [
    "[ipython](https://ipython.org) and [jupyter](https://jupyter.org) are fundamental tools of a scientific python installation. We will use them a LOT during the semester and your studies. I will make a demonstration in class, but first you have to install it! From the miniforge prompt, type: \n",
    "\n",
    "\n",
    "```none\n",
    "$ mamba install jupyterlab\n",
    "```\n",
    "\n",
    "This will install both jupyter-lab and ipython at the same time. To check if it worked, type:\n",
    "\n",
    "```none\n",
    "$ ipython\n",
    "```\n",
    "\n",
    "Which should display something like:\n",
    "\n",
    "```none\n",
    "Python 3.9.7 | packaged by conda-forge | (default, Sep 29 2021, 19:15:42) [MSC v.1916 64 bit (AMD64)]\n",
    "Type 'copyright', 'credits' or 'license' for more information\n",
    "IPython 8.1.1 -- An enhanced Interactive Python. Type '?' for help.\n",
    "\n",
    "In [1]:\n",
    "```\n",
    "\n",
    "Exit `ipython` (remember how? Use `CTRL+D` or `exit()`), and then type:\n",
    "\n",
    "```none\n",
    "$ jupyter-lab\n",
    "```\n",
    "\n",
    "This should open a new window in your default web browser!"
   ]
  },
  {
   "cell_type": "markdown",
   "metadata": {},
   "source": [
    "## Learning summary"
   ]
  },
  {
   "cell_type": "markdown",
   "metadata": {},
   "source": [
    "- you know how to install jupyter on your computer and start ipython and jupyter-lab"
   ]
  }
 ],
 "metadata": {
  "hide_input": false,
  "kernelspec": {
   "display_name": "Python 3 (ipykernel)",
   "language": "python",
   "name": "python3"
  },
  "language_info": {
   "codemirror_mode": {
    "name": "ipython",
    "version": 3
   },
   "file_extension": ".py",
   "mimetype": "text/x-python",
   "name": "python",
   "nbconvert_exporter": "python",
   "pygments_lexer": "ipython3",
   "version": "3.8.5"
  },
  "toc": {
   "base_numbering": 2,
   "nav_menu": {},
   "number_sections": true,
   "sideBar": true,
   "skip_h1_title": false,
   "title_cell": "Table of Contents",
   "title_sidebar": "Contents",
   "toc_cell": true,
   "toc_position": {},
   "toc_section_display": "block",
   "toc_window_display": true
  }
 },
 "nbformat": 4,
 "nbformat_minor": 4
}
