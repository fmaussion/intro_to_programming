{
 "cells": [
  {
   "cell_type": "markdown",
   "id": "0",
   "metadata": {
    "pycharm": {
     "name": "#%% md\n"
    }
   },
   "source": [
    "# Scientific python"
   ]
  },
  {
   "cell_type": "markdown",
   "id": "1",
   "metadata": {},
   "source": [
    "You have learned so many things in this lecture, I hope that you are proud of yourself! Starting with no programming experience at all, you are now able to use a python interpreter to open various text files, analyze data, and make plots. **This is great, and gives you enough background to tackle more difficult problems**.\n",
    "\n",
    "In the course of your studies, you will meet other new challenges frequently. I hope that the elements you've learned in this class so far will help you to overcome the first obstacles, but I'm also certain that you will need a fair amount of googling and learning to get things done.\n",
    "\n",
    "Therefore, **this final lesson is not really a \"lesson\", it's a collection of links and suggestions for some very common tasks in the geosciences.** You might come back to it later in your studies."
   ]
  },
  {
   "cell_type": "markdown",
   "id": "2",
   "metadata": {},
   "source": [
    "## The scientific python stack"
   ]
  },
  {
   "cell_type": "markdown",
   "id": "3",
   "metadata": {},
   "source": [
    "Unlike Matlab, **the set of Python tools used by scientists does not come from one single source**. It is the result of a non-coordinated, chaotic but creative development process originating from a community of volunteers and professionals.\n",
    "\n",
    "The set of python scientific packages is sometimes referred to as the \"scientific python ecosystem\". I didn't find an official explanation for this name, but I guess that it has something to do with the fact that many packages rely on the others to build new features on top of them, like a natural ecosystem.\n",
    "\n",
    "Jake Vanderplas made a great graphic in a [2015 presentation](https://speakerdeck.com/jakevdp/the-state-of-the-stack-scipy-2015-keynote) (the video of the presentation is also [available here](https://www.youtube.com/watch?v=5GlNDD7qbP4) if you are interested), and I took the liberty to adapt it a little bit:"
   ]
  },
  {
   "cell_type": "markdown",
   "id": "4",
   "metadata": {},
   "source": [
    "![img](https://fabienmaussion.info/acinn_python_workshop/figures/scipy_ecosystem.png)"
   ]
  },
  {
   "cell_type": "markdown",
   "id": "5",
   "metadata": {},
   "source": [
    "## The core packages "
   ]
  },
  {
   "cell_type": "markdown",
   "id": "6",
   "metadata": {},
   "source": [
    "You already know the most important ones:\n",
    "\n",
    "- **ipython** and **jupyter** add interactivity (and much more) to the python interpreter.\n",
    "- **numpy** provides the N-dimensional arrays necessary to do fast computations.\n",
    "- **scipy** is the scientist's toolbox. It is a very large package and covers many aspects of the scientific workflow, organized in submodules, all dedicated to a specific aspect of data processing. For example: [scipy.integrate](https://docs.scipy.org/doc/scipy/reference/integrate.html), [scipy.optimize](https://docs.scipy.org/doc/scipy/reference/optimize.html), or [scipy.linalg](https://docs.scipy.org/doc/scipy/reference/linalg.html).\n",
    "- **matplotlib** is the traditional package to make graphics in python,"
   ]
  },
  {
   "cell_type": "markdown",
   "id": "7",
   "metadata": {},
   "source": [
    "## Essential numpy \"extensions\""
   ]
  },
  {
   "cell_type": "markdown",
   "id": "8",
   "metadata": {},
   "source": [
    "There are two packages which I consider essential when it comes to data processing. "
   ]
  },
  {
   "cell_type": "markdown",
   "id": "9",
   "metadata": {},
   "source": [
    "### pandas"
   ]
  },
  {
   "cell_type": "markdown",
   "id": "10",
   "metadata": {},
   "source": [
    "**pandas** provides data structures designed to make working with labeled data both easy and intuitive ([documentation](http://pandas.pydata.org/pandas-docs/stable/), [code repository](https://github.com/pandas-dev/pandas)). You already learned the basics of it in this class. **I recommend to use pandas whenever you are analyzing tabular (column) data**.\n",
    "\n",
    "When *not* to use pandas though? In a few cases:\n",
    "- when the data is not columnar, but multi-dimensional. For this, use **xarray** (see below).\n",
    "- when performance matters (e.g. numerical simulations). In this case, stay with numpy arrays and use pandas only after the computations are done."
   ]
  },
  {
   "cell_type": "markdown",
   "id": "11",
   "metadata": {},
   "source": [
    "### xarray "
   ]
  },
  {
   "cell_type": "markdown",
   "id": "12",
   "metadata": {},
   "source": [
    "**xarray** is very similar to pandas, but for N-dimensional arrays ([documentation](https://docs.xarray.dev), [code repository](https://github.com/pydata/xarray)).\n",
    "\n",
    "xarray is a fundamental tool in geosciences, and you will learn about it in the climate lectures. It will be your tool of choice when opening netcdf files and plot maps in combination with cartopy. More about this soon in the climate lectures. But in the meantime, you can visit the [xarray recipe](../cookbook/reading_netcdf_files) in the lecture notes."
   ]
  },
  {
   "cell_type": "markdown",
   "id": "13",
   "metadata": {},
   "source": [
    "## Domain specific packages "
   ]
  },
  {
   "cell_type": "markdown",
   "id": "14",
   "metadata": {},
   "source": [
    "There are so many of them! I can't list them all, but here are a few that you will probably come across in your studies or career:\n",
    "\n",
    "**Geosciences/Meteorology**:\n",
    "- [MetPy](https://unidata.github.io/MetPy/latest/index.html): the meteorology toolbox\n",
    "- [Cartopy](https://scitools.org.uk/cartopy): maps and map projections\n",
    "- [xESMF](https://xesmf.readthedocs.io/en/latest/): Universal Regridder for Geospatial Data\n",
    "- [xgcm](https://xgcm.readthedocs.io/en/latest/): General Circulation Model Postprocessing with xarray\n",
    "- [GeoPandas](http://geopandas.org/): Pandas for vector data\n",
    "- [Rasterio](https://rasterio.readthedocs.io/en/latest/): geospatial raster data I/O\n",
    "\n",
    "**Statistics/Machine Learning**:\n",
    "- [Statsmodels](https://www.statsmodels.org/stable/index.html): statistic toolbox for models and tests\n",
    "- [Seaborn](https://seaborn.pydata.org/index.html): statistical data visualization\n",
    "- [Scikit-learn](http://scikit-learn.org/): machine learning tools\n",
    "- [TensorFlow](https://www.tensorflow.org/): Google's brain\n",
    "- [PyTorch](https://pytorch.org/): Facebook's brain\n",
    "\n",
    "**Miscellaneous**:\n",
    "- [imageio](https://imageio.readthedocs.io): read image files\n",
    "- [Scikit-image](https://scikit-image.org/): image processing\n",
    "- [Bokeh](https://bokeh.pydata.org/en/latest/): interactive plots\n",
    "- [Dask](http://docs.dask.org/en/latest/): parallel computing\n",
    "- ..."
   ]
  },
  {
   "cell_type": "markdown",
   "id": "15",
   "metadata": {},
   "source": [
    "## Learning checklist "
   ]
  },
  {
   "cell_type": "markdown",
   "id": "16",
   "metadata": {},
   "source": [
    "<label><input type=\"checkbox\" id=\"week05_01\" class=\"box\"> I am aware of the existence of all the packages described in this page. I can come back to it when needed.</input></label><br>"
   ]
  }
 ],
 "metadata": {
  "kernelspec": {
   "display_name": "Python 3 (ipykernel)",
   "language": "python",
   "name": "python3"
  },
  "language_info": {
   "codemirror_mode": {
    "name": "ipython",
    "version": 3
   },
   "file_extension": ".py",
   "mimetype": "text/x-python",
   "name": "python",
   "nbconvert_exporter": "python",
   "pygments_lexer": "ipython3",
   "version": "3.10.8"
  }
 },
 "nbformat": 4,
 "nbformat_minor": 5
}
