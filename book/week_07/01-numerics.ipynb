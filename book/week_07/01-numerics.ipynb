{
 "cells": [
  {
   "cell_type": "markdown",
   "id": "0",
   "metadata": {
    "pycharm": {
     "name": "#%% md\n"
    }
   },
   "source": [
    "# Numpy as numerical solver"
   ]
  },
  {
   "cell_type": "markdown",
   "id": "1",
   "metadata": {},
   "source": [
    "This week, we will continue to work with `numpy`. This week, we will learn about new tools to solve problems and equations!"
   ]
  },
  {
   "cell_type": "code",
   "execution_count": null,
   "id": "2",
   "metadata": {},
   "outputs": [],
   "source": [
    "import numpy as np\n",
    "import matplotlib.pyplot as plt"
   ]
  },
  {
   "cell_type": "markdown",
   "id": "3",
   "metadata": {},
   "source": [
    "## Number representation in computers"
   ]
  },
  {
   "cell_type": "markdown",
   "id": "4",
   "metadata": {},
   "source": [
    "Numbers are represented in memory as a series of bits (0s and 1s). Therefore, **given a fixed number of bits, only a finite count of possible numbers can be stored in memory.** With 8 bits (a byte), for example, only $2^8$ different combinations are possible: therefore, 8-bits can store only 256 different numbers. With 32 bits, $2^{32}$ combinations are possible: that's a much larger number (4294967296), but still - it is a finite number. \n",
    "\n",
    "Clever strategies have been developed to deal with this limitation. If you want to know more, visit the [master lecture](https://fabienmaussion.info/scientific_programming/week_04/02-Numbers.html) on the topic. For now, let me convey the most important messages to remember."
   ]
  },
  {
   "cell_type": "markdown",
   "id": "5",
   "metadata": {},
   "source": [
    "**⯈ Integer datatypes in numpy have a validity range:**"
   ]
  },
  {
   "cell_type": "code",
   "execution_count": null,
   "id": "6",
   "metadata": {},
   "outputs": [],
   "source": [
    "np.iinfo(np.int32)"
   ]
  },
  {
   "cell_type": "markdown",
   "id": "7",
   "metadata": {},
   "source": [
    "The range of validity is easy to understand. Indeed, the first bit is used to store the sign information(\"1\" for \"+\", \"0\" for \"-\"), which leaves us with $2^{31} = 2147483648$ possibilities.\n",
    "\n",
    "Concretely, this means that the following can happen:"
   ]
  },
  {
   "cell_type": "code",
   "execution_count": null,
   "id": "8",
   "metadata": {},
   "outputs": [],
   "source": [
    "n = np.array([2147483647], dtype=np.int32)\n",
    "n + 1"
   ]
  },
  {
   "cell_type": "markdown",
   "id": "9",
   "metadata": {},
   "source": [
    "This is called an **overflow**."
   ]
  },
  {
   "cell_type": "markdown",
   "id": "10",
   "metadata": {},
   "source": [
    "**⯈ Integer datatypes are always exact** (when they don't overflow)"
   ]
  },
  {
   "cell_type": "markdown",
   "id": "11",
   "metadata": {},
   "source": [
    "Unlike floats, when entering a number as integer in numpy, you can be sure that the number is exact:"
   ]
  },
  {
   "cell_type": "code",
   "execution_count": null,
   "id": "12",
   "metadata": {},
   "outputs": [],
   "source": [
    "12 - 24 // 2"
   ]
  },
  {
   "cell_type": "markdown",
   "id": "13",
   "metadata": {},
   "source": [
    "This is *really* a 0 of type integer (and not an approximation of it)."
   ]
  },
  {
   "cell_type": "markdown",
   "id": "14",
   "metadata": {},
   "source": [
    "**⯈ Float datatypes are almost always inexact**"
   ]
  },
  {
   "cell_type": "markdown",
   "id": "15",
   "metadata": {},
   "source": [
    "Numbers in the real coordinate space are infinite, and yet in computers we have to represent them in a finite space. Therefore, numpy (and the vast majority of scientific software) use a standard called [IEEE 754](https://en.wikipedia.org/wiki/IEEE_754) for floating-point arithmetic.\n",
    "\n",
    "With the floating-point standard, \"real\" numbers are thereby converted to the closest possible \"floating point\" number. Most of the time we don't see it, unless we ask very insistingly: "
   ]
  },
  {
   "cell_type": "code",
   "execution_count": null,
   "id": "16",
   "metadata": {},
   "outputs": [],
   "source": [
    "a = 0.1\n",
    "print(f'{a}')  # print a\n",
    "print(f'{a:.9f}')  # print a with 9 decimal places\n",
    "print(f'{a:.18f}')  # print a with 18 decimal places"
   ]
  },
  {
   "cell_type": "markdown",
   "id": "17",
   "metadata": {},
   "source": [
    "Sometimes, we don't even have to ask politely to see it:"
   ]
  },
  {
   "cell_type": "code",
   "execution_count": null,
   "id": "18",
   "metadata": {},
   "outputs": [],
   "source": [
    "1 / 10 * 3"
   ]
  },
  {
   "cell_type": "markdown",
   "id": "19",
   "metadata": {},
   "source": [
    "**⯈ Float datatypes have a relative precision model**"
   ]
  },
  {
   "cell_type": "markdown",
   "id": "20",
   "metadata": {},
   "source": [
    "This is one of the most clever idea of the IEEE 754 standard: in absolute values, small number are more precise than large numbers. This can lead to the following confusing behavior:"
   ]
  },
  {
   "cell_type": "code",
   "execution_count": null,
   "id": "21",
   "metadata": {},
   "outputs": [],
   "source": [
    ".99 == .98"
   ]
  },
  {
   "cell_type": "markdown",
   "id": "22",
   "metadata": {},
   "source": [
    "This is expected: `0.99` is not the same number as `0.98`. But what about these two:"
   ]
  },
  {
   "cell_type": "code",
   "execution_count": null,
   "id": "23",
   "metadata": {},
   "outputs": [],
   "source": [
    "999999999999999.99 == 999999999999999.98"
   ]
  },
  {
   "cell_type": "markdown",
   "id": "24",
   "metadata": {},
   "source": [
    "Also **not** the same numbers, yet the computer thinks they are! This is because `0.01` is below the accuracy of large floating point numbers."
   ]
  },
  {
   "cell_type": "markdown",
   "id": "25",
   "metadata": {},
   "source": [
    "**⯈ There are ways to deal with this problem**"
   ]
  },
  {
   "cell_type": "markdown",
   "id": "26",
   "metadata": {},
   "source": [
    "Let's say you would like to compare numbers:"
   ]
  },
  {
   "cell_type": "code",
   "execution_count": null,
   "id": "27",
   "metadata": {},
   "outputs": [],
   "source": [
    "a = np.ones(3)\n",
    "a = a / 10 * [1, 2, 3]\n",
    "a"
   ]
  },
  {
   "cell_type": "code",
   "execution_count": null,
   "id": "28",
   "metadata": {},
   "outputs": [],
   "source": [
    "b = np.array([0.1, 0.2, 0.3])\n",
    "b"
   ]
  },
  {
   "cell_type": "code",
   "execution_count": null,
   "id": "29",
   "metadata": {},
   "outputs": [],
   "source": [
    "a == b"
   ]
  },
  {
   "cell_type": "markdown",
   "id": "30",
   "metadata": {},
   "source": [
    "That's bad, right? Instead, use:"
   ]
  },
  {
   "cell_type": "code",
   "execution_count": null,
   "id": "31",
   "metadata": {},
   "outputs": [],
   "source": [
    "np.isclose(a, b)"
   ]
  },
  {
   "cell_type": "markdown",
   "id": "32",
   "metadata": {},
   "source": [
    "There are many other things to learn about floating point numbers, but we will get back to this in the master lecture. You can have a [look at it](https://fabienmaussion.info/scientific_programming/week_04/02-Numbers.html#number-representation-in-computers) if you are interested!\n",
    "\n",
    "**For now, remember about these pitfalls when you want to compare numbers between each other.**"
   ]
  },
  {
   "cell_type": "markdown",
   "id": "33",
   "metadata": {},
   "source": [
    "## Discretization "
   ]
  },
  {
   "cell_type": "markdown",
   "id": "34",
   "metadata": {},
   "source": [
    "Because of the limitations explained above, computers cannot represent continuous functions. Instead, we have to rely on **discrete domains** which have a finite number of elements.  See the following example:"
   ]
  },
  {
   "cell_type": "code",
   "execution_count": null,
   "id": "35",
   "metadata": {},
   "outputs": [],
   "source": [
    "x1 = np.linspace(0, 2 * np.pi, 51)\n",
    "x2 = np.linspace(0, 2 * np.pi, 5)\n",
    "x3 = np.linspace(0, 2 * np.pi, 2)\n",
    "plt.plot(x1, np.sin(x1), '-o', label='Domain size: 51');\n",
    "plt.plot(x2, np.sin(x2), '-o', label='Domain size: 5');\n",
    "plt.plot(x3, np.sin(x3), '-o', label='Domain size: 2');\n",
    "plt.legend();"
   ]
  },
  {
   "cell_type": "markdown",
   "id": "36",
   "metadata": {},
   "source": [
    "Same mathematical function (`sin`), different discretizations. When solving math or physics problems, its the task of the programmer to decide the correct coordinates depending on the question to address or other considerations (e.g. performance). Numpy has two main functions to create discrete coordinates:\n",
    "\n",
    "- [np.arange](https://numpy.org/doc/stable/reference/generated/numpy.arange.html) when you know the start, end, and step size but not the domain size\n",
    "- [np.linspace](https://numpy.org/doc/stable/reference/generated/numpy.linspace.html) when you know the start, end, and domain size but not the step size"
   ]
  },
  {
   "cell_type": "markdown",
   "id": "37",
   "metadata": {},
   "source": [
    "````{warning}\n",
    "The default integer type on Windows machines is `np.int32` ([link](https://github.com/numpy/numpy/issues/9464)). This means that the default `dtype` for arrays created with `np.arange` or `np.array` with integers as input will be `np.int32`!\n",
    "\n",
    "i.e., on Windows, the following behavior is very likely to occur:\n",
    "\n",
    "```python\n",
    ">>> a = np.arange(212, 219, step=2)\n",
    ">>> a\n",
    "array([212, 214, 216, 218], dtype=int32)\n",
    ">>> a ** 4\n",
    "array([ 2019963136,  2097273616, -2118184960, -2036436720], dtype=int32)\n",
    "```\n",
    "\n",
    "**A silent overflow**!!! Always remember this when using `np.arange` on Windows, and prefer to explicitly set the dtype to `int64` or `float64`.\n",
    "````"
   ]
  },
  {
   "cell_type": "markdown",
   "id": "38",
   "metadata": {},
   "source": [
    "## Find occurences of values in numpy arrays "
   ]
  },
  {
   "cell_type": "markdown",
   "id": "39",
   "metadata": {},
   "source": [
    "Let's stick with our sinus function example:"
   ]
  },
  {
   "cell_type": "code",
   "execution_count": null,
   "id": "40",
   "metadata": {},
   "outputs": [],
   "source": [
    "x = np.linspace(0, 2 * np.pi, 101)\n",
    "y = np.sin(x)\n",
    "y"
   ]
  },
  {
   "cell_type": "markdown",
   "id": "41",
   "metadata": {},
   "source": [
    "Let's say we would like to know the maximum value of our data. We do this with:"
   ]
  },
  {
   "cell_type": "code",
   "execution_count": null,
   "id": "42",
   "metadata": {},
   "outputs": [],
   "source": [
    "np.max(y)"
   ]
  },
  {
   "cell_type": "markdown",
   "id": "43",
   "metadata": {},
   "source": [
    "Now, we would like to know *where* this happens, i.e. the associated coordinate where this happens. There are several ways to achieve this (can you think of one?), but the best is to use [np.argmax()](https://numpy.org/doc/stable/reference/generated/numpy.argmax.html):"
   ]
  },
  {
   "cell_type": "code",
   "execution_count": null,
   "id": "44",
   "metadata": {},
   "outputs": [],
   "source": [
    "np.argmax(y)"
   ]
  },
  {
   "cell_type": "markdown",
   "id": "45",
   "metadata": {},
   "source": [
    "What is this number? This is the index at which the maximum is reached - you can verify this easily with:"
   ]
  },
  {
   "cell_type": "code",
   "execution_count": null,
   "id": "46",
   "metadata": {},
   "outputs": [],
   "source": [
    "am = np.argmax(y)\n",
    "print(y[am], x[am])"
   ]
  },
  {
   "cell_type": "markdown",
   "id": "47",
   "metadata": {},
   "source": [
    "Similarly, there are the functions [nanargmax](https://numpy.org/doc/stable/reference/generated/numpy.nanargmax.html), [argmin](https://numpy.org/doc/stable/reference/generated/numpy.argmin.html), etc.\n",
    "\n",
    "Now, let's say we would like to know where (at which indices) the values of `y` are below a certain threshold (e.g. 0). You already know how to fetch them:"
   ]
  },
  {
   "cell_type": "code",
   "execution_count": null,
   "id": "48",
   "metadata": {},
   "outputs": [],
   "source": [
    "below_zero = y < 0\n",
    "print(below_zero)\n",
    "plt.plot(x[below_zero], y[below_zero]);"
   ]
  },
  {
   "cell_type": "markdown",
   "id": "49",
   "metadata": {},
   "source": [
    "But this does not really answer the question of *at which indices* this occurs. For this, we have to use the function [np.nonzero()](https://numpy.org/doc/stable/reference/generated/numpy.nonzero.html):"
   ]
  },
  {
   "cell_type": "code",
   "execution_count": null,
   "id": "50",
   "metadata": {},
   "outputs": [],
   "source": [
    "ok = np.nonzero(below_zero)\n",
    "type(ok), len(ok), len(ok[0])"
   ]
  },
  {
   "cell_type": "markdown",
   "id": "51",
   "metadata": {},
   "source": [
    "`np.nonzero` always returns a tuple of size `ndim` (here 1), and the n-th element of the tuple returns a list of the indices in the array where the condition is true (non zero):"
   ]
  },
  {
   "cell_type": "code",
   "execution_count": null,
   "id": "52",
   "metadata": {},
   "outputs": [],
   "source": [
    "ok[0]"
   ]
  },
  {
   "cell_type": "markdown",
   "id": "53",
   "metadata": {},
   "source": [
    "Therefore, this here is equivalent to the plot above (albeit a bit slower):"
   ]
  },
  {
   "cell_type": "code",
   "execution_count": null,
   "id": "54",
   "metadata": {},
   "outputs": [],
   "source": [
    "plt.plot(x[ok], y[ok]);"
   ]
  },
  {
   "cell_type": "markdown",
   "id": "55",
   "metadata": {},
   "source": [
    "This information can be useful in certain situations, for example when you want to know when a value is reached for the first time:"
   ]
  },
  {
   "cell_type": "code",
   "execution_count": null,
   "id": "56",
   "metadata": {},
   "outputs": [],
   "source": [
    "print(f'The first time at which y becomes negative occurs at x = {x[ok[0][0]]}')"
   ]
  },
  {
   "cell_type": "markdown",
   "id": "57",
   "metadata": {},
   "source": [
    "## Difference equations"
   ]
  },
  {
   "cell_type": "markdown",
   "id": "58",
   "metadata": {},
   "source": [
    "Difference equations are equations involving the differences between successive values of a function of a discrete variable. \n",
    "\n",
    "Let's start with a trivial example (source: [Joakim Sundnes](https://sundnes.github.io/solving_odes_in_python/ode_book.pdf)). \n",
    "\n",
    "Consider the problem of computing how an invested sum of money grows over time. In its simplest form, this problem can be written as putting\n",
    "$x_0$ money in a bank at year 0, with interest rate $p$ percent per year. What is then the value after n years? \n",
    "\n",
    "You may recall from high school mathematics that the solution to this problem is given by the formula $x_n = x_0 (1 + p / 100)^n$ so there is really no need to formulate and solve the problem as a difference equation. However, very simple generalizations, such as a non-constant interest rate, makes this formula difficult to apply, while a formulation based on a difference equation will still be applicable. \n",
    "\n",
    "To formulate the problem as a difference equation, we use the fact that the amount $x_n$ at year $n$ is simply the amount at year $n - 1$ plus the interest for year $n - 1$. This gives the following relation between $x_n$ and $x_{n-1}$:\n",
    "\n",
    "$$x_n = x_{n-1} + \\frac{p}{100} x_{n-1}$$\n",
    "\n",
    "Let's solve this problem numerically:"
   ]
  },
  {
   "cell_type": "code",
   "execution_count": null,
   "id": "59",
   "metadata": {},
   "outputs": [],
   "source": [
    "x0 = 100  # initial amount\n",
    "p = 5  # interest rate\n",
    "n = 20  # number of years\n",
    "\n",
    "# Data containter\n",
    "x = np.zeros(n + 1)\n",
    "\n",
    "# Initial state\n",
    "x[0] = x0\n",
    "\n",
    "# Iterative solving\n",
    "for n in range(1, n + 1):\n",
    "    x[n] = x[n - 1] + (p / 100) * x[n - 1]\n",
    "\n",
    "plt.plot(x, '-o')\n",
    "plt.xlabel('years'); plt.ylabel('amount');"
   ]
  },
  {
   "cell_type": "markdown",
   "id": "60",
   "metadata": {},
   "source": [
    "This is a simple example. But **iterative solving** (where a future state depends on past states) **is at the core of a wide range of modern numerical models** (including weather forecasting and climate models).\n",
    "\n",
    "To continue the illustration, let's take an other example: logistic growth. Logistic growth often happens in ecology when a population grows exponentially until a limiting factor is reached: for example limited resources, that can only support a finite number $R$ of individuals. Initially, when resources are abundant, the growth is exponential. According to the difference equation introduced above:\n",
    "\n",
    "$$x_n = x_{n-1} + \\frac{r}{100} x_{n-1}$$\n",
    "\n",
    "With $r$ the growth rate per year in %. To enforce the growth limit as $x_n \\rightarrow R$, $r$ must decay to zero as $x_n$ approaches $R$. The simplest variation of $r(n)$ is linear:\n",
    "\n",
    "$$r(n) = \\rho \\left(1 - \\frac{x_n}{R} \\right)$$\n",
    "\n",
    "Where $\\rho$ is the initial growth rate and $R$ the limit of individuals. This formulation translates into the following difference equation:\n",
    "\n",
    "$$x_n = x_{n-1} + \\frac{\\rho}{100} x_{n-1} \\left(1 - \\frac{x_{n-1}}{R} \\right)$$\n",
    "\n",
    "Let's convert this to code:"
   ]
  },
  {
   "cell_type": "code",
   "execution_count": null,
   "id": "61",
   "metadata": {},
   "outputs": [],
   "source": [
    "x0 = 1  # initial population\n",
    "rho = 5  # growth rate in %\n",
    "r = 500  # max population (carrying capacity)\n",
    "n = 400  # number of years\n",
    "\n",
    "# Data container\n",
    "time = np.arange(n + 1)\n",
    "x = np.zeros(n + 1)\n",
    "\n",
    "# Initial state\n",
    "x[0] = x0\n",
    "\n",
    "# Iterative solving\n",
    "for n in time[1:]:\n",
    "    x[n] = x[n - 1] + (rho / 100) * x[n - 1] * (1 - x[n - 1] / r)\n",
    "\n",
    "plt.plot(time, x)\n",
    "plt.xlabel('years'); plt.ylabel('amount');"
   ]
  },
  {
   "cell_type": "markdown",
   "id": "62",
   "metadata": {},
   "source": [
    "Nice! Now, sometimes, one wants to stop the simulation when it has *converged*, i.e. when the data does not change much with anymore. In this case, the number of years that the simulation will take is unknown since we cannot predict when this will happen. We have to use other strategies:"
   ]
  },
  {
   "cell_type": "code",
   "execution_count": null,
   "id": "63",
   "metadata": {},
   "outputs": [],
   "source": [
    "x0 = 1  # initial population\n",
    "rho = 5  # growth rate in %\n",
    "r = 500  # max population (carrying capacity)\n",
    "threshold_growth_rate = 0.01  # stop the simulation when growth rate is below 0.01%\n",
    "max_years = 500  # safegard: stop the simulation anyways at this date\n",
    "\n",
    "# Data ontainers - size will grow with time\n",
    "time = [0]\n",
    "x = [x0]\n",
    "\n",
    "growth_rate = rho  # initial growth rate (will be updated)\n",
    "n = 0  # counter (will be updated)\n",
    "\n",
    "# Iterative solving\n",
    "while growth_rate > threshold_growth_rate and n <= max_years:\n",
    "    n += 1\n",
    "    x = np.append(x, x[n - 1] + (rho / 100) * x[n - 1] * (1 - x[n - 1] / r))\n",
    "    time = np.append(time, n)\n",
    "\n",
    "    # Compute actual growth rate from data to see if we have to stop\n",
    "    growth_rate = (x[n] - x[n - 1]) / x[n - 1] * 100\n",
    "\n",
    "plt.plot(time, x)\n",
    "plt.xlabel('years'); plt.ylabel('amount');"
   ]
  },
  {
   "cell_type": "markdown",
   "id": "64",
   "metadata": {},
   "source": [
    "We made use of three main strategies:\n",
    "- instead of a `for` loop, we use a `while` loop and stop the simulation when a threshold is reached\n",
    "- in order to avoid infinite loops, we make sure we have an iteration limit we won't exceed\n",
    "- instead of generating data container of predefined length that we fill up, we use `np.append` to extend the array as time advances\n",
    "\n",
    "**Exercise: note that you can achieve the same result with a for loop and a `break` statement - would you like to try coding it?**"
   ]
  },
  {
   "cell_type": "markdown",
   "id": "65",
   "metadata": {},
   "source": [
    "(numpy-algebra)=\n",
    "## Linear algebra with numpy "
   ]
  },
  {
   "cell_type": "markdown",
   "id": "66",
   "metadata": {},
   "source": [
    "You already know that you can create `ndarrays` of any dimensions in numpy. For example, an `ndarray` of dimensions 2: "
   ]
  },
  {
   "cell_type": "code",
   "execution_count": null,
   "id": "67",
   "metadata": {},
   "outputs": [],
   "source": [
    "a = np.array([[1, 2, 3], [4, 5, 6]])\n",
    "a"
   ]
  },
  {
   "cell_type": "markdown",
   "id": "68",
   "metadata": {},
   "source": [
    "Like for vectors, arithmetic operations are occurring element-wise:"
   ]
  },
  {
   "cell_type": "code",
   "execution_count": null,
   "id": "69",
   "metadata": {},
   "outputs": [],
   "source": [
    "a + 1"
   ]
  },
  {
   "cell_type": "markdown",
   "id": "70",
   "metadata": {},
   "source": [
    "When doing arithmetics on two arrays the rules of [broadcasting](https://numpy.org/doc/stable/user/basics.broadcasting.html) apply. For now, you need to remember that if the arrays are of the same dimension, operations will also be applies element-wise: "
   ]
  },
  {
   "cell_type": "code",
   "execution_count": null,
   "id": "71",
   "metadata": {},
   "outputs": [],
   "source": [
    "(a + 1) * a"
   ]
  },
  {
   "cell_type": "markdown",
   "id": "72",
   "metadata": {},
   "source": [
    "Therefore, `ndarrays` aren't really \"vectors\" or \"matrices\" in the sense you have learned in math class. In my work for example I almost never think in terms of matrices, but I think of `ndarrays` much more in terms of \"data containers\" or \"images\" (for example when I plot meteorological data on a map). \n",
    "\n",
    "This doesn't mean that numpy cannot be used for linear algebra. In fact, [an entire module](https://numpy.org/doc/stable/reference/routines.linalg.html) of numpy deals with linear algebra. In this class we will learn only the very basics of it.\n",
    "\n",
    "To compute [matrix multiplications](https://en.wikipedia.org/wiki/Matrix_multiplication) in numpy (as opposed to element-wise multiplication), we can use the `@` (matmul) operator:"
   ]
  },
  {
   "cell_type": "code",
   "execution_count": null,
   "id": "73",
   "metadata": {},
   "outputs": [],
   "source": [
    "a @ np.array([1, 2, 3])  # matrix multiplication"
   ]
  },
  {
   "cell_type": "markdown",
   "id": "74",
   "metadata": {},
   "source": [
    "**Exercise: on a sheet of paper, verify that the result is correct.**\n",
    "\n",
    "With matrix multiplication, the dimensions matter. For example:"
   ]
  },
  {
   "cell_type": "code",
   "execution_count": null,
   "id": "75",
   "metadata": {},
   "outputs": [],
   "source": [
    "a = np.array([1, 2, 3]).reshape(1, 3)  # 1 rows, 3 columns\n",
    "b = np.array([1, 2, 3]).reshape(3, 1)  # 3 rows, 1 column\n",
    "print(a)\n",
    "print('@')\n",
    "print(b)\n",
    "print('=')\n",
    "print(a @ b)  # 1 row, 1 column"
   ]
  },
  {
   "cell_type": "code",
   "execution_count": null,
   "id": "76",
   "metadata": {},
   "outputs": [],
   "source": [
    "a = np.array([1, 2, 3]).reshape(3, 1)  # 3 rows, 1 column\n",
    "b = np.array([1, 2, 3]).reshape(1, 3)  # 1 row, 3 columns\n",
    "print(a)\n",
    "print('@')\n",
    "print(b)\n",
    "print('=')\n",
    "print(a @ b)  # 3 rows, 3 columns"
   ]
  },
  {
   "cell_type": "markdown",
   "id": "77",
   "metadata": {},
   "source": [
    "Matrices can be transposed with the `.T` attribute:"
   ]
  },
  {
   "cell_type": "code",
   "execution_count": null,
   "id": "78",
   "metadata": {},
   "outputs": [],
   "source": [
    "a = np.array([[1, 2], [3, 4]])\n",
    "a.T"
   ]
  },
  {
   "cell_type": "markdown",
   "id": "79",
   "metadata": {},
   "source": [
    "**Exercise: with two arbitrary quadratic matrices `a` and `b` of the same size, verify that $(A B)^T = B^T A^T$**"
   ]
  },
  {
   "cell_type": "markdown",
   "id": "80",
   "metadata": {},
   "source": [
    "If a matrix is invertible, you can compute its inverse with:"
   ]
  },
  {
   "cell_type": "code",
   "execution_count": null,
   "id": "81",
   "metadata": {},
   "outputs": [],
   "source": [
    "a_inv = np.linalg.inv(a)\n",
    "a_inv"
   ]
  },
  {
   "cell_type": "markdown",
   "id": "82",
   "metadata": {},
   "source": [
    "**Exercise: with the help of a python interpreter or a piece of paper, verify that `a_inv` is indeed the inverse of `a`.**"
   ]
  },
  {
   "cell_type": "markdown",
   "id": "83",
   "metadata": {},
   "source": [
    "## Learning checklist "
   ]
  },
  {
   "cell_type": "markdown",
   "id": "84",
   "metadata": {},
   "source": [
    "<label><input type=\"checkbox\" id=\"week05_01\" class=\"box\"> I understand that floating point numbers in computers are almost always inexact. I know that their accuracy depends on their type and the numbers themselves.</input></label><br>\n",
    "<label><input type=\"checkbox\" id=\"week05_01\" class=\"box\"> I am aware of the function `np.isclose()` to help me deal with floating point accuracy.</input></label><br>\n",
    "<label><input type=\"checkbox\" id=\"week05_01\" class=\"box\"> I can solve simple iterative problems with numpy: either we containers of predefined size or with containers growing with time.</input></label><br>\n",
    "<label><input type=\"checkbox\" id=\"week05_01\" class=\"box\"> I know how to compute simple linear algebra operations on matrices with numpy: matrix multiplication, transpose, inversion.</input></label><br>"
   ]
  }
 ],
 "metadata": {
  "kernelspec": {
   "display_name": "Python 3 (ipykernel)",
   "language": "python",
   "name": "python3"
  },
  "language_info": {
   "codemirror_mode": {
    "name": "ipython",
    "version": 3
   },
   "file_extension": ".py",
   "mimetype": "text/x-python",
   "name": "python",
   "nbconvert_exporter": "python",
   "pygments_lexer": "ipython3",
   "version": "3.10.8"
  }
 },
 "nbformat": 4,
 "nbformat_minor": 5
}
