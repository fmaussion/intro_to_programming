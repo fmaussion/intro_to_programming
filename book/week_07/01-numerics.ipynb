{
 "cells": [
  {
   "cell_type": "markdown",
   "id": "73c75f51-4382-4334-97c6-194d765fd552",
   "metadata": {
    "pycharm": {
     "name": "#%% md\n"
    }
   },
   "source": [
    "# Numpy as numerical solver"
   ]
  },
  {
   "cell_type": "markdown",
   "id": "3fe95d40-e7da-494f-a384-9e0836c1520e",
   "metadata": {},
   "source": [
    "This week, we will continue to work with `numpy`. This week, we will learn about new tools to solve problems and equations!"
   ]
  },
  {
   "cell_type": "code",
   "execution_count": 1,
   "id": "a94607fc-012e-4a3b-bc8e-31a55440ead0",
   "metadata": {},
   "outputs": [],
   "source": [
    "import numpy as np\n",
    "import matplotlib.pyplot as plt"
   ]
  },
  {
   "cell_type": "markdown",
   "id": "1835db9a-e2e1-42c8-beb6-b87633be2fba",
   "metadata": {},
   "source": [
    "## Number representation in computers"
   ]
  },
  {
   "cell_type": "markdown",
   "id": "53729d95-a195-449a-8411-02b24baacd2f",
   "metadata": {},
   "source": [
    "Numbers are represented in memory as a series of bits (0s and 1s). Therefore, **given a fixed number of bits, only a finite count of possible numbers can be stored in memory.** With 8 bits (a byte), for example, only $2^8$ different combinations are possible: therefore, 8-bits can store only 256 different numbers. With 32 bits, $2^{32}$ combinations are possible: that's a much larger number (4294967296), but still - it is a finite number. \n",
    "\n",
    "Clever strategies have been developed to deal with this limitation. If you want to know more, visit the [master lecture](https://fabienmaussion.info/scientific_programming/week_04/02-Numbers.html) on the topic. For now, let me convey the most important messages to remember."
   ]
  },
  {
   "cell_type": "markdown",
   "id": "e6ee7a17-137f-4801-a839-7f6537f38d67",
   "metadata": {},
   "source": [
    "**⯈ Integer datatypes in numpy have a validity range:**"
   ]
  },
  {
   "cell_type": "code",
   "execution_count": 2,
   "id": "95fde841-5997-4240-b755-f992bf3e2475",
   "metadata": {},
   "outputs": [
    {
     "data": {
      "text/plain": [
       "iinfo(min=-2147483648, max=2147483647, dtype=int32)"
      ]
     },
     "execution_count": 2,
     "metadata": {},
     "output_type": "execute_result"
    }
   ],
   "source": [
    "np.iinfo(np.int32)"
   ]
  },
  {
   "cell_type": "markdown",
   "id": "487b73c8-8ae3-4a56-b5ff-5e80842f2be9",
   "metadata": {},
   "source": [
    "The range of validity is easy to understand. Indeed, the first bit is used to store the sign information(\"1\" for \"+\", \"0\" for \"-\"), which leaves us with $2^{31} = 2147483648$ possibilities.\n",
    "\n",
    "Concretely, this means that the following can happen:"
   ]
  },
  {
   "cell_type": "code",
   "execution_count": 3,
   "id": "7f8d3374-7185-4644-b219-52a3f39a7b07",
   "metadata": {},
   "outputs": [
    {
     "data": {
      "text/plain": [
       "array([-2147483648], dtype=int32)"
      ]
     },
     "execution_count": 3,
     "metadata": {},
     "output_type": "execute_result"
    }
   ],
   "source": [
    "n = np.array([2147483647], dtype=np.int32)\n",
    "n + 1"
   ]
  },
  {
   "cell_type": "markdown",
   "id": "aae2a415-0e06-4756-b322-cf3e0a687837",
   "metadata": {},
   "source": [
    "This is called an **overflow**."
   ]
  },
  {
   "cell_type": "markdown",
   "id": "ad7b051b-48f3-4ec0-a1b2-7348d000ed16",
   "metadata": {},
   "source": [
    "**⯈ Integer datatypes are always exact** (when they don't overflow)"
   ]
  },
  {
   "cell_type": "markdown",
   "id": "79a5a487-717f-4ce4-a0e7-655677a018a9",
   "metadata": {},
   "source": [
    "Unlike floats, when entering a number as integer in numpy, you can be sure that the number is exact:"
   ]
  },
  {
   "cell_type": "code",
   "execution_count": 4,
   "id": "a942b337-b81c-4706-95cb-5d19ca56e5fa",
   "metadata": {},
   "outputs": [
    {
     "data": {
      "text/plain": [
       "0"
      ]
     },
     "execution_count": 4,
     "metadata": {},
     "output_type": "execute_result"
    }
   ],
   "source": [
    "12 - 24 // 2"
   ]
  },
  {
   "cell_type": "markdown",
   "id": "85fc5a8b-1f46-4cca-8434-bd20f6156d0b",
   "metadata": {},
   "source": [
    "This is *really* a 0 of type integer (and not an approximation of it)."
   ]
  },
  {
   "cell_type": "markdown",
   "id": "40293072-4f70-42d9-8764-84ec473f1742",
   "metadata": {},
   "source": [
    "**⯈ Float datatypes are almost always inexact**"
   ]
  },
  {
   "cell_type": "markdown",
   "id": "5de4d984-7462-4e7a-9b1b-3e627a3159e3",
   "metadata": {},
   "source": [
    "Numbers in the real coordinate space are infinite, and yet in computers we have to represent them in a finite space. Therefore, numpy (and the vast majority of scientific software) use a standard called [IEEE 754](https://en.wikipedia.org/wiki/IEEE_754) for floating-point arithmetic.\n",
    "\n",
    "With the floating-point standard, \"real\" numbers are thereby converted to the closest possible \"floating point\" number. Most of the time we don't see it, unless we ask very insistingly: "
   ]
  },
  {
   "cell_type": "code",
   "execution_count": 5,
   "id": "3f9013e1-13be-4484-a7d4-8adfaa4ce118",
   "metadata": {},
   "outputs": [
    {
     "name": "stdout",
     "output_type": "stream",
     "text": [
      "0.1\n",
      "0.100000000\n",
      "0.100000000000000006\n"
     ]
    }
   ],
   "source": [
    "a = 0.1\n",
    "print(f'{a}')  # print a\n",
    "print(f'{a:.9f}')  # print a with 9 decimal places\n",
    "print(f'{a:.18f}')  # print a with 18 decimal places"
   ]
  },
  {
   "cell_type": "markdown",
   "id": "2aada4ee-e4d4-4fad-b140-3c8be03fb0c6",
   "metadata": {},
   "source": [
    "Sometimes, we don't even have to ask politely to see it:"
   ]
  },
  {
   "cell_type": "code",
   "execution_count": 6,
   "id": "c8ef0bd4-5028-44d3-a7a8-eb251c236a06",
   "metadata": {},
   "outputs": [
    {
     "data": {
      "text/plain": [
       "0.30000000000000004"
      ]
     },
     "execution_count": 6,
     "metadata": {},
     "output_type": "execute_result"
    }
   ],
   "source": [
    "1 / 10 * 3"
   ]
  },
  {
   "cell_type": "markdown",
   "id": "53ec4806-19e3-481b-b6d9-916de5f5c16f",
   "metadata": {},
   "source": [
    "**⯈ Float datatypes have a relative precision model**"
   ]
  },
  {
   "cell_type": "markdown",
   "id": "867dc667-5071-4d51-a8a8-eb8cbc40c221",
   "metadata": {},
   "source": [
    "This is one of the most clever idea of the IEEE 754 standard: in absolute values, small number are more precise than large numbers. This can lead to the following confusing behavior:"
   ]
  },
  {
   "cell_type": "code",
   "execution_count": 7,
   "id": "61ab6cf9-fcce-421a-a6af-e018ab55b561",
   "metadata": {},
   "outputs": [
    {
     "data": {
      "text/plain": [
       "False"
      ]
     },
     "execution_count": 7,
     "metadata": {},
     "output_type": "execute_result"
    }
   ],
   "source": [
    ".99 == .98"
   ]
  },
  {
   "cell_type": "markdown",
   "id": "5eda38ad-9cea-4601-8030-977389c09692",
   "metadata": {},
   "source": [
    "This is expected: `0.99` is not the same number as `0.98`. But what about these two:"
   ]
  },
  {
   "cell_type": "code",
   "execution_count": 8,
   "id": "5563fe67-fe49-4b3b-8287-faf238fcd890",
   "metadata": {},
   "outputs": [
    {
     "data": {
      "text/plain": [
       "True"
      ]
     },
     "execution_count": 8,
     "metadata": {},
     "output_type": "execute_result"
    }
   ],
   "source": [
    "999999999999999.99 == 999999999999999.98"
   ]
  },
  {
   "cell_type": "markdown",
   "id": "ba656cc4-5437-47a0-af2b-76132b7ce097",
   "metadata": {},
   "source": [
    "Also **not** the same numbers, yet the computer thinks they are! This is because `0.01` is below the accuracy of large floating point numbers."
   ]
  },
  {
   "cell_type": "markdown",
   "id": "a3d9f00a-c2c9-4c4a-ad28-8b90bb299443",
   "metadata": {},
   "source": [
    "**⯈ There are ways to deal with this problem**"
   ]
  },
  {
   "cell_type": "markdown",
   "id": "584422ab-f3a7-4377-a641-b63b7258912a",
   "metadata": {},
   "source": [
    "Let's say you would like to compare numbers:"
   ]
  },
  {
   "cell_type": "code",
   "execution_count": 9,
   "id": "a15f7114-32e5-443a-89ee-2758694dbe7d",
   "metadata": {},
   "outputs": [
    {
     "data": {
      "text/plain": [
       "array([0.1, 0.2, 0.3])"
      ]
     },
     "execution_count": 9,
     "metadata": {},
     "output_type": "execute_result"
    }
   ],
   "source": [
    "a = np.ones(3)\n",
    "a = a / 10 * [1, 2, 3]\n",
    "a"
   ]
  },
  {
   "cell_type": "code",
   "execution_count": 10,
   "id": "cbbf0ba5-9c19-440c-a976-2bb828ec92a3",
   "metadata": {},
   "outputs": [
    {
     "data": {
      "text/plain": [
       "array([0.1, 0.2, 0.3])"
      ]
     },
     "execution_count": 10,
     "metadata": {},
     "output_type": "execute_result"
    }
   ],
   "source": [
    "b = np.array([0.1, 0.2, 0.3])\n",
    "b"
   ]
  },
  {
   "cell_type": "code",
   "execution_count": 11,
   "id": "d3ac02be-c426-4354-b936-4120f758afeb",
   "metadata": {},
   "outputs": [
    {
     "data": {
      "text/plain": [
       "array([ True,  True, False])"
      ]
     },
     "execution_count": 11,
     "metadata": {},
     "output_type": "execute_result"
    }
   ],
   "source": [
    "a == b"
   ]
  },
  {
   "cell_type": "markdown",
   "id": "0e4637fb-64e5-49e8-809b-86a042ea63d1",
   "metadata": {},
   "source": [
    "That's bad, right? Instead, use:"
   ]
  },
  {
   "cell_type": "code",
   "execution_count": 12,
   "id": "180eee50-e431-408f-96b6-2cc3cdf503dd",
   "metadata": {},
   "outputs": [
    {
     "data": {
      "text/plain": [
       "array([ True,  True,  True])"
      ]
     },
     "execution_count": 12,
     "metadata": {},
     "output_type": "execute_result"
    }
   ],
   "source": [
    "np.isclose(a, b)"
   ]
  },
  {
   "cell_type": "markdown",
   "id": "62751464-0671-4278-8d32-f17c3fe41876",
   "metadata": {},
   "source": [
    "There are many other things to learn about floating point numbers, but we will get back to this in the master lecture. You can have a [look at it](https://fabienmaussion.info/scientific_programming/week_04/02-Numbers.html#number-representation-in-computers) if you are interested!\n",
    "\n",
    "**For now, remember about these pitfalls when you want to compare numbers between each other.**"
   ]
  },
  {
   "cell_type": "markdown",
   "id": "0ecfec1b-2fae-4b10-afcb-f2a638ceebba",
   "metadata": {},
   "source": [
    "## Discretization "
   ]
  },
  {
   "cell_type": "markdown",
   "id": "0f89ce8b-cf28-4d39-8724-303934f25e3b",
   "metadata": {},
   "source": [
    "Because of the limitations explained above, computers cannot represent continuous functions. Instead, we have to rely on **discrete domains** which have a finite number of elements.  See the following example:"
   ]
  },
  {
   "cell_type": "code",
   "execution_count": 13,
   "id": "9903432f-c4c1-4086-be71-0bf0b4d67577",
   "metadata": {},
   "outputs": [
    {
     "data": {
      "image/png": "[encoded data removed]",
      "text/plain": [
       "<Figure size 432x288 with 1 Axes>"
      ]
     },
     "metadata": {
      "needs_background": "light"
     },
     "output_type": "display_data"
    }
   ],
   "source": [
    "x1 = np.linspace(0, 2 * np.pi, 51)\n",
    "x2 = np.linspace(0, 2 * np.pi, 5)\n",
    "x3 = np.linspace(0, 2 * np.pi, 2)\n",
    "plt.plot(x1, np.sin(x1), '-o', label='Domain size: 51');\n",
    "plt.plot(x2, np.sin(x2), '-o', label='Domain size: 5');\n",
    "plt.plot(x3, np.sin(x3), '-o', label='Domain size: 2');\n",
    "plt.legend();"
   ]
  },
  {
   "cell_type": "markdown",
   "id": "7d71cf4d-fd9e-4f45-b4e6-9dcb87678d09",
   "metadata": {},
   "source": [
    "Same mathematical function (`sin`), different discretizations. When solving math or physics problems, its the task of the programmer to decide the correct coordinates depending on the question to address or other considerations (e.g. performance). Numpy has two main functions to create discrete coordinates:\n",
    "\n",
    "- [np.arange](https://numpy.org/doc/stable/reference/generated/numpy.arange.html) when you know the start, end, and step size but not the domain size\n",
    "- [np.linspace](https://numpy.org/doc/stable/reference/generated/numpy.linspace.html) when you know the start, end, and domain size but not the step size"
   ]
  },
  {
   "cell_type": "markdown",
   "id": "edab1a94-1a5c-4635-a9ad-2f7433dfa4a7",
   "metadata": {},
   "source": [
    "````{warning}\n",
    "The default integer type on Windows machines is `np.int32` ([link](https://github.com/numpy/numpy/issues/9464)). This means that the default `dtype` for arrays created with `np.arange` or `np.array` with integers as input will be `np.int32`!\n",
    "\n",
    "i.e., on Windows, the following behavior is very likely to occur:\n",
    "\n",
    "```python\n",
    ">>> a = np.arange(212, 219, step=2)\n",
    ">>> a\n",
    "array([212, 214, 216, 218], dtype=int32)\n",
    ">>> a ** 4\n",
    "array([ 2019963136,  2097273616, -2118184960, -2036436720], dtype=int32)\n",
    "```\n",
    "\n",
    "**A silent overflow**!!! Always remember this when using `np.arange` on Windows, and prefer to explicitly set the dtype to `int64` or `float64`.\n",
    "````"
   ]
  },
  {
   "cell_type": "markdown",
   "id": "b5a97864-f8c2-46d0-8f0b-7f612b2a3676",
   "metadata": {},
   "source": [
    "## Find occurences of values in numpy arrays "
   ]
  },
  {
   "cell_type": "markdown",
   "id": "b17e6c2b-c177-4462-9a72-336dfef4d266",
   "metadata": {},
   "source": [
    "Let's stick with our sinus function example:"
   ]
  },
  {
   "cell_type": "code",
   "execution_count": 206,
   "id": "a6d9ae48-7c08-454a-b420-58c681337eff",
   "metadata": {},
   "outputs": [
    {
     "data": {
      "text/plain": [
       "array([ 0.00000000e+00,  6.27905195e-02,  1.25333234e-01,  1.87381315e-01,\n",
       "        2.48689887e-01,  3.09016994e-01,  3.68124553e-01,  4.25779292e-01,\n",
       "        4.81753674e-01,  5.35826795e-01,  5.87785252e-01,  6.37423990e-01,\n",
       "        6.84547106e-01,  7.28968627e-01,  7.70513243e-01,  8.09016994e-01,\n",
       "        8.44327926e-01,  8.76306680e-01,  9.04827052e-01,  9.29776486e-01,\n",
       "        9.51056516e-01,  9.68583161e-01,  9.82287251e-01,  9.92114701e-01,\n",
       "        9.98026728e-01,  1.00000000e+00,  9.98026728e-01,  9.92114701e-01,\n",
       "        9.82287251e-01,  9.68583161e-01,  9.51056516e-01,  9.29776486e-01,\n",
       "        9.04827052e-01,  8.76306680e-01,  8.44327926e-01,  8.09016994e-01,\n",
       "        7.70513243e-01,  7.28968627e-01,  6.84547106e-01,  6.37423990e-01,\n",
       "        5.87785252e-01,  5.35826795e-01,  4.81753674e-01,  4.25779292e-01,\n",
       "        3.68124553e-01,  3.09016994e-01,  2.48689887e-01,  1.87381315e-01,\n",
       "        1.25333234e-01,  6.27905195e-02, -3.21624530e-16, -6.27905195e-02,\n",
       "       -1.25333234e-01, -1.87381315e-01, -2.48689887e-01, -3.09016994e-01,\n",
       "       -3.68124553e-01, -4.25779292e-01, -4.81753674e-01, -5.35826795e-01,\n",
       "       -5.87785252e-01, -6.37423990e-01, -6.84547106e-01, -7.28968627e-01,\n",
       "       -7.70513243e-01, -8.09016994e-01, -8.44327926e-01, -8.76306680e-01,\n",
       "       -9.04827052e-01, -9.29776486e-01, -9.51056516e-01, -9.68583161e-01,\n",
       "       -9.82287251e-01, -9.92114701e-01, -9.98026728e-01, -1.00000000e+00,\n",
       "       -9.98026728e-01, -9.92114701e-01, -9.82287251e-01, -9.68583161e-01,\n",
       "       -9.51056516e-01, -9.29776486e-01, -9.04827052e-01, -8.76306680e-01,\n",
       "       -8.44327926e-01, -8.09016994e-01, -7.70513243e-01, -7.28968627e-01,\n",
       "       -6.84547106e-01, -6.37423990e-01, -5.87785252e-01, -5.35826795e-01,\n",
       "       -4.81753674e-01, -4.25779292e-01, -3.68124553e-01, -3.09016994e-01,\n",
       "       -2.48689887e-01, -1.87381315e-01, -1.25333234e-01, -6.27905195e-02,\n",
       "       -2.44929360e-16])"
      ]
     },
     "execution_count": 206,
     "metadata": {},
     "output_type": "execute_result"
    }
   ],
   "source": [
    "x = np.linspace(0, 2 * np.pi, 101)\n",
    "y = np.sin(x)\n",
    "y"
   ]
  },
  {
   "cell_type": "markdown",
   "id": "2b272fd0-8a67-449c-90e5-fe709839f22b",
   "metadata": {},
   "source": [
    "Let's say we would like to know the maximum value of our data. We do this with:"
   ]
  },
  {
   "cell_type": "code",
   "execution_count": 207,
   "id": "15728e6e-5279-4010-adce-66d504aa1564",
   "metadata": {},
   "outputs": [
    {
     "data": {
      "text/plain": [
       "1.0"
      ]
     },
     "execution_count": 207,
     "metadata": {},
     "output_type": "execute_result"
    }
   ],
   "source": [
    "np.max(y)"
   ]
  },
  {
   "cell_type": "markdown",
   "id": "ff9e9616-6366-40c4-b2b1-ab6db84ca900",
   "metadata": {},
   "source": [
    "Now, we would like to know *where* this happens, i.e. the associated coordinate where this happens. There are several ways to achieve this (can you think of one?), but the best is to use [np.argmax()](https://numpy.org/doc/stable/reference/generated/numpy.argmax.html):"
   ]
  },
  {
   "cell_type": "code",
   "execution_count": 208,
   "id": "e115c345-0228-4397-8b1a-35e541e8f330",
   "metadata": {},
   "outputs": [
    {
     "data": {
      "text/plain": [
       "25"
      ]
     },
     "execution_count": 208,
     "metadata": {},
     "output_type": "execute_result"
    }
   ],
   "source": [
    "np.argmax(y)"
   ]
  },
  {
   "cell_type": "markdown",
   "id": "c35103c5-d39f-4405-9ae8-83843437d78b",
   "metadata": {},
   "source": [
    "What is this number? This is the index at which the maximum is reached - you can verify this easily with:"
   ]
  },
  {
   "cell_type": "code",
   "execution_count": 209,
   "id": "da31fb5b-d931-4805-a99e-abb624776cff",
   "metadata": {},
   "outputs": [
    {
     "name": "stdout",
     "output_type": "stream",
     "text": [
      "1.0 1.5707963267948968\n"
     ]
    }
   ],
   "source": [
    "am = np.argmax(y)\n",
    "print(y[am], x[am])"
   ]
  },
  {
   "cell_type": "markdown",
   "id": "bf811e4e-33ab-4914-8383-44c36689737f",
   "metadata": {},
   "source": [
    "Similarly, there are the functions [nanargmax](https://numpy.org/doc/stable/reference/generated/numpy.nanargmax.html), [argmin](https://numpy.org/doc/stable/reference/generated/numpy.argmin.html), etc.\n",
    "\n",
    "Now, let's say we would like to know where (at which indices) the values of `y` are below a certain threshold (e.g. 0). You already know how to fetch them:"
   ]
  },
  {
   "cell_type": "code",
   "execution_count": 212,
   "id": "78b7e9f2-4c45-4e8b-a2ad-7f38512aeff1",
   "metadata": {},
   "outputs": [
    {
     "name": "stdout",
     "output_type": "stream",
     "text": [
      "[False False False False False False False False False False False False\n",
      " False False False False False False False False False False False False\n",
      " False False False False False False False False False False False False\n",
      " False False False False False False False False False False False False\n",
      " False False  True  True  True  True  True  True  True  True  True  True\n",
      "  True  True  True  True  True  True  True  True  True  True  True  True\n",
      "  True  True  True  True  True  True  True  True  True  True  True  True\n",
      "  True  True  True  True  True  True  True  True  True  True  True  True\n",
      "  True  True  True  True  True]\n"
     ]
    },
    {
     "data": {
      "image/png": "[encoded data removed]",
      "text/plain": [
       "<Figure size 432x288 with 1 Axes>"
      ]
     },
     "metadata": {
      "needs_background": "light"
     },
     "output_type": "display_data"
    }
   ],
   "source": [
    "below_zero = y < 0\n",
    "print(below_zero)\n",
    "plt.plot(x[below_zero], y[below_zero]);"
   ]
  },
  {
   "cell_type": "markdown",
   "id": "1d71622a-dd98-4dbc-b872-b21aefa0625a",
   "metadata": {},
   "source": [
    "But this does not really answer the question of *at which indices* this occurs. For this, we have to use the function [np.nonzero()](https://numpy.org/doc/stable/reference/generated/numpy.nonzero.html):"
   ]
  },
  {
   "cell_type": "code",
   "execution_count": 215,
   "id": "f3cef11a-da52-4feb-9f72-cdf17f7f5a15",
   "metadata": {},
   "outputs": [
    {
     "data": {
      "text/plain": [
       "(tuple, 1, 51)"
      ]
     },
     "execution_count": 215,
     "metadata": {},
     "output_type": "execute_result"
    }
   ],
   "source": [
    "ok = np.nonzero(below_zero)\n",
    "type(ok), len(ok), len(ok[0])"
   ]
  },
  {
   "cell_type": "markdown",
   "id": "5c0d8c87-15b0-4fa5-89cd-5a02bfc1691d",
   "metadata": {},
   "source": [
    "`np.nonzero` always returns a tuple of size `ndim` (here 1), and the n-th element of the tuple returns a list of the indices in the array where the condition is true (non zero):"
   ]
  },
  {
   "cell_type": "code",
   "execution_count": 221,
   "id": "08db2787-1cc2-4a3d-ad1e-05e869e73972",
   "metadata": {},
   "outputs": [
    {
     "data": {
      "text/plain": [
       "array([ 50,  51,  52,  53,  54,  55,  56,  57,  58,  59,  60,  61,  62,\n",
       "        63,  64,  65,  66,  67,  68,  69,  70,  71,  72,  73,  74,  75,\n",
       "        76,  77,  78,  79,  80,  81,  82,  83,  84,  85,  86,  87,  88,\n",
       "        89,  90,  91,  92,  93,  94,  95,  96,  97,  98,  99, 100])"
      ]
     },
     "execution_count": 221,
     "metadata": {},
     "output_type": "execute_result"
    }
   ],
   "source": [
    "ok[0]"
   ]
  },
  {
   "cell_type": "markdown",
   "id": "c82c99ee-6c0b-4dea-89f2-cad1b55cb2ad",
   "metadata": {},
   "source": [
    "Therefore, this here is equivalent to the plot above (albeit a bit slower):"
   ]
  },
  {
   "cell_type": "code",
   "execution_count": 226,
   "id": "4dc07aab-b869-4b93-b2ad-f4a25e2105aa",
   "metadata": {},
   "outputs": [
    {
     "data": {
      "image/png": "[encoded data removed]",
      "text/plain": [
       "<Figure size 432x288 with 1 Axes>"
      ]
     },
     "metadata": {
      "needs_background": "light"
     },
     "output_type": "display_data"
    }
   ],
   "source": [
    "plt.plot(x[ok], y[ok]);"
   ]
  },
  {
   "cell_type": "markdown",
   "id": "6a85cb66-0390-4d69-8076-8934fc09b227",
   "metadata": {},
   "source": [
    "This information can be useful in certain situations, for example when you want to know when a value is reached for the first time:"
   ]
  },
  {
   "cell_type": "code",
   "execution_count": 227,
   "id": "fe00d98d-e274-4b50-b63e-70e3a971e7bf",
   "metadata": {},
   "outputs": [
    {
     "name": "stdout",
     "output_type": "stream",
     "text": [
      "The first time at which y becomes negative occurs at x = 3.1415926535897936\n"
     ]
    }
   ],
   "source": [
    "print(f'The first time at which y becomes negative occurs at x = {x[ok[0][0]]}')"
   ]
  },
  {
   "cell_type": "markdown",
   "id": "e000a170-f601-4359-a1d1-189830367ddb",
   "metadata": {},
   "source": [
    "## Difference equations"
   ]
  },
  {
   "cell_type": "markdown",
   "id": "774c63bc-d045-407e-8cc8-891d8b59ffd7",
   "metadata": {},
   "source": [
    "Difference equations are equations involving the differences between successive values of a function of a discrete variable. \n",
    "\n",
    "Let's start with a trivial example (source: [Joakim Sundnes](https://sundnes.github.io/solving_odes_in_python/ode_book.pdf)). \n",
    "\n",
    "Consider the problem of computing how an invested sum of money grows over time. In its simplest form, this problem can be written as putting\n",
    "$x_0$ money in a bank at year 0, with interest rate $p$ percent per year. What is then the value after n years? \n",
    "\n",
    "You may recall from high school mathematics that the solution to this problem is given by the formula $x_n = x_0 (1 + p / 100)^n$ so there is really no need to formulate and solve the problem as a difference equation. However, very simple generalizations, such as a non-constant interest rate, makes this formula difficult to apply, while a formulation based on a difference equation will still be applicable. \n",
    "\n",
    "To formulate the problem as a difference equation, we use the fact that the amount $x_n$ at year $n$ is simply the amount at year $n - 1$ plus the interest for year $n - 1$. This gives the following relation between $x_n$ and $x_{n-1}$:\n",
    "\n",
    "$$x_n = x_{n-1} + \\frac{p}{100} x_{n-1}$$\n",
    "\n",
    "Let's solve this problem numerically:"
   ]
  },
  {
   "cell_type": "code",
   "execution_count": 190,
   "id": "d74f39a8-4519-41d3-998c-be1b15a4ca07",
   "metadata": {},
   "outputs": [
    {
     "data": {
      "image/png": "[encoded data removed]",
      "text/plain": [
       "<Figure size 432x288 with 1 Axes>"
      ]
     },
     "metadata": {
      "needs_background": "light"
     },
     "output_type": "display_data"
    }
   ],
   "source": [
    "x0 = 100  # initial amount\n",
    "p = 5  # interest rate\n",
    "n = 20  # number of years\n",
    "\n",
    "# Data containter\n",
    "x = np.zeros(n + 1)\n",
    "\n",
    "# Initial state\n",
    "x[0] = x0\n",
    "\n",
    "# Iterative solving\n",
    "for n in range(1, n + 1):\n",
    "    x[n] = x[n - 1] + (p / 100) * x[n - 1]\n",
    "\n",
    "plt.plot(x, '-o')\n",
    "plt.xlabel('years'); plt.ylabel('amount');"
   ]
  },
  {
   "cell_type": "markdown",
   "id": "0e431c0a-c64c-49ac-a218-fbb7e72f3979",
   "metadata": {},
   "source": [
    "This is a simple example. But **iterative solving** (where a future state depends on past states) **is at the core of a wide range of modern numerical models** (including weather forecasting and climate models).\n",
    "\n",
    "To continue the illustration, let's take an other example: logistic growth. Logistic growth often happens in ecology when a population grows exponentially until a limiting factor is reached: for example limited resources, that can only support a finite number $R$ of individuals. Initially, when resources are abundant, the growth is exponential. According to the difference equation introduced above:\n",
    "\n",
    "$$x_n = x_{n-1} + \\frac{r}{100} x_{n-1}$$\n",
    "\n",
    "With $r$ the growth rate per year in %. To enforce the growth limit as $x_n \\rightarrow R$, $r$ must decay to zero as $x_n$ approaches $R$. The simplest variation of $r(n)$ is linear:\n",
    "\n",
    "$$r(n) = \\rho \\left(1 - \\frac{x_n}{R} \\right)$$\n",
    "\n",
    "Where $\\rho$ is the initial growth rate and $R$ the limit of individuals. This formulation translates into the following difference equation:\n",
    "\n",
    "$$x_n = x_{n-1} + \\frac{\\rho}{100} x_{n-1} \\left(1 - \\frac{x_{n-1}}{R} \\right)$$\n",
    "\n",
    "Let's convert this to code:"
   ]
  },
  {
   "cell_type": "code",
   "execution_count": 86,
   "id": "e370838b-832d-47e8-8e68-b39ba34a8b81",
   "metadata": {},
   "outputs": [
    {
     "data": {
      "image/png": "[encoded data removed]",
      "text/plain": [
       "<Figure size 432x288 with 1 Axes>"
      ]
     },
     "metadata": {
      "needs_background": "light"
     },
     "output_type": "display_data"
    }
   ],
   "source": [
    "x0 = 1  # initial population\n",
    "rho = 5  # growth rate in %\n",
    "r = 500  # max population (carrying capacity)\n",
    "n = 400  # number of years\n",
    "\n",
    "# Data container\n",
    "time = np.arange(n + 1)\n",
    "x = np.zeros(n + 1)\n",
    "\n",
    "# Initial state\n",
    "x[0] = x0\n",
    "\n",
    "# Iterative solving\n",
    "for n in time[1:]:\n",
    "    x[n] = x[n - 1] + (rho / 100) * x[n - 1] * (1 - x[n - 1] / r)\n",
    "\n",
    "plt.plot(time, x)\n",
    "plt.xlabel('years'); plt.ylabel('amount');"
   ]
  },
  {
   "cell_type": "markdown",
   "id": "d14ecb57-3162-45c6-a6ed-5d1934e76e8f",
   "metadata": {},
   "source": [
    "Nice! Now, sometimes, one wants to stop the simulation when it has *converged*, i.e. when the data does not change much with anymore. In this case, the number of years that the simulation will take is unknown since we cannot predict when this will happen. We have to use other strategies:"
   ]
  },
  {
   "cell_type": "code",
   "execution_count": 191,
   "id": "1e9efb14-f814-4db8-857a-1eb3bb2f9733",
   "metadata": {},
   "outputs": [
    {
     "data": {
      "image/png": "[encoded data removed]",
      "text/plain": [
       "<Figure size 432x288 with 1 Axes>"
      ]
     },
     "metadata": {
      "needs_background": "light"
     },
     "output_type": "display_data"
    }
   ],
   "source": [
    "x0 = 1  # initial population\n",
    "rho = 5  # growth rate in %\n",
    "r = 500  # max population (carrying capacity)\n",
    "threshold_growth_rate = 0.01  # stop the simulation when growth rate is below 0.01%\n",
    "max_years = 500  # safegard: stop the simulation anyways at this date\n",
    "\n",
    "# Data ontainers - size will grow with time\n",
    "time = [0]\n",
    "x = [x0]\n",
    "\n",
    "growth_rate = rho  # initial growth rate (will be updated)\n",
    "n = 0  # counter (will be updated)\n",
    "\n",
    "# Iterative solving\n",
    "while growth_rate > threshold_growth_rate and n <= max_years:\n",
    "    n += 1\n",
    "    x = np.append(x, x[n - 1] + (rho / 100) * x[n - 1] * (1 - x[n - 1] / r))\n",
    "    time = np.append(time, n)\n",
    "\n",
    "    # Compute actual growth rate from data to see if we have to stop\n",
    "    growth_rate = (x[n] - x[n - 1]) / x[n - 1] * 100\n",
    "\n",
    "plt.plot(time, x)\n",
    "plt.xlabel('years'); plt.ylabel('amount');"
   ]
  },
  {
   "cell_type": "markdown",
   "id": "70a52c86-7086-41c4-8d65-ac456f808438",
   "metadata": {},
   "source": [
    "We made use of three main strategies:\n",
    "- instead of a `for` loop, we use a `while` loop and stop the simulation when a threshold is reached\n",
    "- in order to avoid infinite loops, we make sure we have an iteration limit we won't exceed\n",
    "- instead of generating data container of predefined length that we fill up, we use `np.append` to extend the array as time advances\n",
    "\n",
    "**Exercise: note that you can achieve the same result with a for loop and a `break` statement - would you like to try coding it?**"
   ]
  },
  {
   "cell_type": "markdown",
   "id": "6195e22c-b34f-4e05-9534-ec92c59fe6d9",
   "metadata": {},
   "source": [
    "## Linear algebra with numpy "
   ]
  },
  {
   "cell_type": "markdown",
   "id": "6e8ea031-dfb7-4a31-9d52-58f4a0a131ff",
   "metadata": {},
   "source": [
    "You already know that you can create `ndarrays` of any dimensions in numpy. For example, an `ndarray` of dimensions 2: "
   ]
  },
  {
   "cell_type": "code",
   "execution_count": 192,
   "id": "a26454ec-b58e-4abe-8ae3-a9b0460df868",
   "metadata": {},
   "outputs": [
    {
     "data": {
      "text/plain": [
       "array([[1, 2, 3],\n",
       "       [4, 5, 6]])"
      ]
     },
     "execution_count": 192,
     "metadata": {},
     "output_type": "execute_result"
    }
   ],
   "source": [
    "a = np.array([[1, 2, 3], [4, 5, 6]])\n",
    "a"
   ]
  },
  {
   "cell_type": "markdown",
   "id": "d70694e0-0a45-411e-aedb-d77712fbc608",
   "metadata": {},
   "source": [
    "Like for vectors, arithmetic operations are occurring element-wise:"
   ]
  },
  {
   "cell_type": "code",
   "execution_count": 193,
   "id": "67a38ed8-3b96-4955-91bc-4fd9410eeda2",
   "metadata": {},
   "outputs": [
    {
     "data": {
      "text/plain": [
       "array([[2, 3, 4],\n",
       "       [5, 6, 7]])"
      ]
     },
     "execution_count": 193,
     "metadata": {},
     "output_type": "execute_result"
    }
   ],
   "source": [
    "a + 1"
   ]
  },
  {
   "cell_type": "markdown",
   "id": "f5c7fec0-4393-4d9e-b27d-e47c7e7109e8",
   "metadata": {},
   "source": [
    "When doing arithmetics on two arrays the rules of [broadcasting](https://numpy.org/doc/stable/user/basics.broadcasting.html) apply. For now, you need to remember that if the arrays are of the same dimension, operations will also be applies element-wise: "
   ]
  },
  {
   "cell_type": "code",
   "execution_count": 194,
   "id": "b05c22a8-1069-4999-8851-48e093639ec9",
   "metadata": {},
   "outputs": [
    {
     "data": {
      "text/plain": [
       "array([[ 2,  6, 12],\n",
       "       [20, 30, 42]])"
      ]
     },
     "execution_count": 194,
     "metadata": {},
     "output_type": "execute_result"
    }
   ],
   "source": [
    "(a + 1) * a"
   ]
  },
  {
   "cell_type": "markdown",
   "id": "fa96f5cc-ec96-4dd1-8d95-1c239f6b4176",
   "metadata": {},
   "source": [
    "Therefore, `ndarrays` aren't really \"vectors\" or \"matrices\" in the sense you have learned in math class. In my work for example I almost never think in terms of matrices, but I think of `ndarrays` much more in terms of \"data containers\" or \"images\" (for example when I plot meteorological data on a map). \n",
    "\n",
    "This doesn't mean that numpy cannot be used for linear algebra. In fact, [an entire module](https://numpy.org/doc/stable/reference/routines.linalg.html) of numpy deals with linear algebra. In this class we will learn only the very basics of it.\n",
    "\n",
    "To compute [matrix multiplications](https://en.wikipedia.org/wiki/Matrix_multiplication) in numpy (as opposed to element-wise multiplication), we can use the `@` (matmul) operator:"
   ]
  },
  {
   "cell_type": "code",
   "execution_count": 195,
   "id": "e22a96f4-807d-478f-9153-b23ffe5103c1",
   "metadata": {},
   "outputs": [
    {
     "data": {
      "text/plain": [
       "array([14, 32])"
      ]
     },
     "execution_count": 195,
     "metadata": {},
     "output_type": "execute_result"
    }
   ],
   "source": [
    "a @ np.array([1, 2, 3])  # matrix multiplication"
   ]
  },
  {
   "cell_type": "markdown",
   "id": "c38231c9-0973-43d0-b7a5-7d22f11954dd",
   "metadata": {},
   "source": [
    "**Exercise: on a sheet of paper, verify that the result is correct.**\n",
    "\n",
    "With matrix multiplication, the dimensions matter. For example:"
   ]
  },
  {
   "cell_type": "code",
   "execution_count": 196,
   "id": "6f2aeaca-05ee-4836-b68c-d854d5a04ba1",
   "metadata": {},
   "outputs": [
    {
     "name": "stdout",
     "output_type": "stream",
     "text": [
      "[[1 2 3]]\n",
      "@\n",
      "[[1]\n",
      " [2]\n",
      " [3]]\n",
      "=\n",
      "[[14]]\n"
     ]
    }
   ],
   "source": [
    "a = np.array([1, 2, 3]).reshape(1, 3)  # 1 rows, 3 columns\n",
    "b = np.array([1, 2, 3]).reshape(3, 1)  # 3 rows, 1 column\n",
    "print(a)\n",
    "print('@')\n",
    "print(b)\n",
    "print('=')\n",
    "print(a @ b)  # 1 row, 1 column"
   ]
  },
  {
   "cell_type": "code",
   "execution_count": 197,
   "id": "cf8e689d-06e0-431d-a4cb-c5cfb4b9993f",
   "metadata": {},
   "outputs": [
    {
     "name": "stdout",
     "output_type": "stream",
     "text": [
      "[[1]\n",
      " [2]\n",
      " [3]]\n",
      "@\n",
      "[[1 2 3]]\n",
      "=\n",
      "[[1 2 3]\n",
      " [2 4 6]\n",
      " [3 6 9]]\n"
     ]
    }
   ],
   "source": [
    "a = np.array([1, 2, 3]).reshape(3, 1)  # 3 rows, 1 column\n",
    "b = np.array([1, 2, 3]).reshape(1, 3)  # 1 row, 3 columns\n",
    "print(a)\n",
    "print('@')\n",
    "print(b)\n",
    "print('=')\n",
    "print(a @ b)  # 3 rows, 3 columns"
   ]
  },
  {
   "cell_type": "markdown",
   "id": "8cb328b2-91a0-419b-8338-ff21d36e78fc",
   "metadata": {},
   "source": [
    "Matrices can be transposed with the `.T` attribute:"
   ]
  },
  {
   "cell_type": "code",
   "execution_count": 198,
   "id": "bbabcd81-8c4a-48ef-afd3-16a079bb889e",
   "metadata": {},
   "outputs": [
    {
     "data": {
      "text/plain": [
       "array([[1, 3],\n",
       "       [2, 4]])"
      ]
     },
     "execution_count": 198,
     "metadata": {},
     "output_type": "execute_result"
    }
   ],
   "source": [
    "a = np.array([[1, 2], [3, 4]])\n",
    "a.T"
   ]
  },
  {
   "cell_type": "markdown",
   "id": "1de6d05f-464b-4b00-8193-63721be02b63",
   "metadata": {},
   "source": [
    "**Exercise: with two arbitrary quadratic matrices `a` and `b` of the same size, verify that $(A B)^T = B^T A^T$**"
   ]
  },
  {
   "cell_type": "markdown",
   "id": "ac97bc82-8303-42b4-a4d3-c4193fe849c0",
   "metadata": {},
   "source": [
    "If a matrix is invertible, you can compute its inverse with:"
   ]
  },
  {
   "cell_type": "code",
   "execution_count": 200,
   "id": "4dffcc4e-698c-4f42-bd56-eee23e6c5411",
   "metadata": {},
   "outputs": [
    {
     "data": {
      "text/plain": [
       "array([[-2. ,  1. ],\n",
       "       [ 1.5, -0.5]])"
      ]
     },
     "execution_count": 200,
     "metadata": {},
     "output_type": "execute_result"
    }
   ],
   "source": [
    "a_inv = np.linalg.inv(a)\n",
    "a_inv"
   ]
  },
  {
   "cell_type": "markdown",
   "id": "758f6767-4739-49f8-9612-06ec92bfc500",
   "metadata": {},
   "source": [
    "**Exercise: with the help of a python interpreter or a piece of paper, verify that `a_inv` is indeed the inverse of `a`.**"
   ]
  },
  {
   "cell_type": "markdown",
   "id": "c8b53117-fab7-4a75-8727-cb9bec6c0a22",
   "metadata": {},
   "source": [
    "## Learning checklist "
   ]
  },
  {
   "cell_type": "markdown",
   "id": "b6aa99f0-7479-4810-85b8-1a1f16e26172",
   "metadata": {},
   "source": [
    "<label><input type=\"checkbox\" id=\"week05_01\" class=\"box\"> I understand that floating point numbers in computers are almost always inexact. I know that their accuracy depends on their type and the numbers themselves.</input></label><br>\n",
    "<label><input type=\"checkbox\" id=\"week05_01\" class=\"box\"> I am aware of the function `np.isclose()` to help me deal with floating point accuracy.</input></label><br>\n",
    "<label><input type=\"checkbox\" id=\"week05_01\" class=\"box\"> I can solve simple iterative problems with numpy: either we containers of predefined size or with containers growing with time.</input></label><br>\n",
    "<label><input type=\"checkbox\" id=\"week05_01\" class=\"box\"> I know how to compute simple linear algebra operations on matrices with numpy: matrix multiplication, transpose, inversion.</input></label><br>"
   ]
  }
 ],
 "metadata": {
  "kernelspec": {
   "display_name": "Python 3 (ipykernel)",
   "language": "python",
   "name": "python3"
  },
  "language_info": {
   "codemirror_mode": {
    "name": "ipython",
    "version": 3
   },
   "file_extension": ".py",
   "mimetype": "text/x-python",
   "name": "python",
   "nbconvert_exporter": "python",
   "pygments_lexer": "ipython3",
   "version": "3.8.5"
  }
 },
 "nbformat": 4,
 "nbformat_minor": 5
}
