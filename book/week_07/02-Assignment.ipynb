{
 "cells": [
  {
   "cell_type": "markdown",
   "id": "eda1b8f9-4d37-480c-8a3e-fb620fbd4759",
   "metadata": {},
   "source": [
    "# Assignment 07\n",
    "\n",
    "*Due date: 11.05.2022*\n",
    "\n",
    "This week's assignment has to be returned **in the form a jupyter notebook**. \n",
    "\n",
    "Don't forget the [instructions](../assignments)!"
   ]
  },
  {
   "cell_type": "markdown",
   "id": "f9c7fb7c-f482-48a7-83d9-8c756936b0a5",
   "metadata": {},
   "source": [
    "## 01 - Linear equations "
   ]
  },
  {
   "cell_type": "markdown",
   "id": "41fe3e1f-0a5e-4db0-bd18-ac7c9863215d",
   "metadata": {},
   "source": [
    "Using numpy alone, solve the following system of linear equations:\n",
    "\n",
    "$$\n",
    "\\begin{aligned}\n",
    "3 x + 2 y - z &= 10 \\\\\n",
    "- x + 3 y + 2 z &= 5 \\\\\n",
    "x - y - z &= -1\n",
    "\\end{aligned}\n",
    "$$\n",
    "\n",
    "To solve it, remember that in matrix notation, $A x = y$ can be refactored to $x = A^{-1} y$, if $A$ is an invertible matrix, and $x$ and $y$ are vectors. Use `numpy` to invert the matrix $A$ and solve for $x$. "
   ]
  },
  {
   "cell_type": "code",
   "execution_count": 1,
   "id": "b3e9ada7-48ff-4bd8-afb5-24b73a99ea9b",
   "metadata": {},
   "outputs": [],
   "source": [
    "# Your answer here"
   ]
  },
  {
   "cell_type": "markdown",
   "id": "49ea7fce-19ef-4f8a-b0a1-4b8bf3262cdc",
   "metadata": {},
   "source": [
    "## 02 - A simple Earth Energy Balance model"
   ]
  },
  {
   "cell_type": "markdown",
   "id": "ff562858-ba42-44f4-add5-d97b834a8774",
   "metadata": {},
   "source": [
    "Let's imagine a simple 1-layer model of our planetary climate system. We will try to compute its energy balance.\n",
    "\n",
    "In space, the only source of incoming energy is that of the sun. The sun energy per unit area ($W m^{-2}$) reaching earth is the solar constant $S_0$: its value is approximately 1362 $W m^{-2}$. This energy is distributed from a circle to the sphere (cf. climate lecture), which implies that only a quarter of it is available on average over the globe. Part of this energy is reflected directly to space (mostly by clouds and ice) according to the planetary albedo $\\alpha = 0.32$.\n",
    "\n",
    "Therefore, the total energy entering the climate system (the Absorbed Shortwave Radiation or ASR) is:\n",
    "\n",
    "$$\n",
    "ASR = (1 - \\alpha) \\frac{S_0}{4}\n",
    "$$\n",
    "\n",
    "At human time scales, $S_0$ is a constant, while $\\alpha$ may change with time. \n",
    "\n",
    "**Define a function `asr` which takes one optional keyword argument `alpha` (which defaults to 0.3) and returns the ASR ($W m^{-2}$)**:\n",
    "\n",
    "\n",
    "```python\n",
    "def asr(alpha=0.3):\n",
    "    \"\"\"Absorbed Solar Radiation (W m-2).\n",
    "\n",
    "    Parameters\n",
    "    ----------\n",
    "    alpha : float, optional\n",
    "        the planetary albedo\n",
    "\n",
    "    Returns\n",
    "    -------\n",
    "    the asr (float)\n",
    "\n",
    "    Examples\n",
    "    --------\n",
    "    >>> asr()\n",
    "    238.35\n",
    "    >>> asr(alpha=0.32)\n",
    "    231.54\n",
    "    \"\"\"\n",
    "    < your code here >\n",
    "```"
   ]
  },
  {
   "cell_type": "code",
   "execution_count": 2,
   "id": "dde143ac-dab8-4e6a-9538-fc4e6d2baeb5",
   "metadata": {},
   "outputs": [
    {
     "data": {
      "text/plain": [
       "TestResults(failed=0, attempted=0)"
      ]
     },
     "execution_count": 2,
     "metadata": {},
     "output_type": "execute_result"
    }
   ],
   "source": [
    "# Testing\n",
    "import doctest\n",
    "doctest.testmod()"
   ]
  },
  {
   "cell_type": "markdown",
   "id": "8e17bedb-a22b-41e3-b413-e75d947ccb73",
   "metadata": {},
   "source": [
    "**Plot the ASR as a function of albedo, for the range [0.2, 0.7]:**"
   ]
  },
  {
   "cell_type": "code",
   "execution_count": 3,
   "id": "bb6f10b0-d8ce-4889-a50c-ab2078fa2525",
   "metadata": {},
   "outputs": [],
   "source": [
    "# Your answer here"
   ]
  },
  {
   "cell_type": "markdown",
   "id": "b37dbee3-2a8b-4c64-909c-2dc287179427",
   "metadata": {},
   "source": [
    "This incoming solar energy is warming up the climate system which, in turn, emits longwave radiation. Using Stefan Boltzmann's law, the Outgoing Longwave Radiation (OLR) is therefore:\n",
    "\n",
    "$$\n",
    "OLR = \\tau \\sigma T^4\n",
    "$$\n",
    "\n",
    "with $T$ the atmosphere temperature in Kelvin, $\\sigma$ the Stefan Boltzmann constant ($5.67 \\times 10^{-8}$) and $\\tau$ the transmissivity of the atmosphere (let's say it is 0.611 - a value I tuned to match the observed OLR).\n",
    "\n",
    "**Define a function `olr` which takes one positional argument `t` and one optional keyword argument `tau` (which defaults to 0.611) and which returns the OLR ($W m^{-2}$)**:\n",
    "\n",
    "```python\n",
    "def olr(t, tau=0.611):\n",
    "    \"\"\"Outgoing Longwave Radiation (W m-2).\n",
    "\n",
    "    Parameters\n",
    "    ----------\n",
    "    t : float\n",
    "        the atmosphere temperature (K)\n",
    "    tau : float, optional\n",
    "        the atmosphere transmissivity (-)\n",
    "\n",
    "    Returns\n",
    "    -------\n",
    "    the olr (float)\n",
    "\n",
    "    Examples\n",
    "    --------\n",
    "    >>> olr(288)\n",
    "    238.3385101074432\n",
    "    >>> olr(288, tau=0.63)\n",
    "    245.750018605056\n",
    "    \"\"\"\n",
    "    < your code here >\n",
    "```"
   ]
  },
  {
   "cell_type": "code",
   "execution_count": 4,
   "id": "357aae0f-2f05-442c-a3f6-84e73889b68a",
   "metadata": {},
   "outputs": [
    {
     "data": {
      "text/plain": [
       "TestResults(failed=0, attempted=0)"
      ]
     },
     "execution_count": 4,
     "metadata": {},
     "output_type": "execute_result"
    }
   ],
   "source": [
    "# Testing\n",
    "import doctest\n",
    "doctest.testmod()"
   ]
  },
  {
   "cell_type": "markdown",
   "id": "1b5ec495-600d-4f0b-998b-29eff198dbb1",
   "metadata": {},
   "source": [
    "**Plot the OLR as a function of temperature, for the range [270 300]. Repeat with tau=0.5 and tau=0.7 (three lines on the same plot, with a legend).**"
   ]
  },
  {
   "cell_type": "code",
   "execution_count": 5,
   "id": "4f85bd2d-7a27-41bc-9fb2-262a7396af07",
   "metadata": {},
   "outputs": [],
   "source": [
    "# Your answer here"
   ]
  },
  {
   "cell_type": "markdown",
   "id": "f704b5b2-e8e6-4437-a8ee-187f0f29fcdc",
   "metadata": {},
   "source": [
    "**Verify that with the default parameters and an atmosphere temperature of 288K, the climate system is approximately in energy balance (ASR == OLR, $\\pm 0.01 W m^{-2}$).**"
   ]
  },
  {
   "cell_type": "code",
   "execution_count": 7,
   "id": "8487751c-e679-4ca9-b10d-83ef43275028",
   "metadata": {},
   "outputs": [],
   "source": [
    "# Your answer here"
   ]
  },
  {
   "cell_type": "markdown",
   "id": "e1cf1600-9d99-467a-a52f-c122319bc34a",
   "metadata": {},
   "source": [
    "Humans started to emit greenhouse gases to the atmosphere. Since greenhouse gases are trapping heat, this has the consequence to *reduce* the transmissivity of the atmosphere.\n",
    "\n",
    "**Compute the energy imbalance of the climate system ($\\Delta E = ASR -OLR$) if $\\tau$ is reduced to 0.59 but the temperature stays constant at 288.**"
   ]
  },
  {
   "cell_type": "code",
   "execution_count": 6,
   "id": "5fd980ae-f7c9-4167-b66b-a7c7d9b395fa",
   "metadata": {},
   "outputs": [],
   "source": [
    "# Your answer here"
   ]
  },
  {
   "cell_type": "markdown",
   "id": "88ac8973-5d71-482a-a861-e88b8286e0b9",
   "metadata": {},
   "source": [
    "Written mathematically:\n",
    "\n",
    "$$\n",
    "\\frac{dE}{dt} = ASR - OLR\n",
    "$$\n",
    "\n",
    "The change of energy over time is equal to the energy imbalance. If ASR is equal to OLR the rate of change is zero. With our emissions however we have an energy excess, which will warm um the atmosphere. The rate at which temperature increases depends on the energy imbalance and the thermal capacity of the climate system. If we suppose that:\n",
    "\n",
    "$$\n",
    "E = C T\n",
    "$$\n",
    "\n",
    "With E the total energy of the climate system, T the temperature and C the effective heat capacity of the climate system (earth + land + ocean, assumed to be constant). \n",
    "\n",
    "We can now write:\n",
    "\n",
    "$$\n",
    "C \\frac{dT}{dt} = ASR - OLR(T)\n",
    "$$\n",
    "\n",
    "which is a ordinary differential equation (ODE). Let's use [forward finite differences](https://en.wikipedia.org/wiki/Finite_difference) to approximate our equation numerically:\n",
    "\n",
    "$$\n",
    "C \\frac{\\Delta T}{\\Delta t} = C \\frac{T_{i+1} - T_{i}}{\\Delta t} = ASR - OLR(T_i)\n",
    "$$\n",
    "\n",
    "Which we can rearrange to to solve for future temperature ($T_{i+1}$ at time $t + \\Delta t$) knowing present-day temperature ($T_{i}$ ad time t):\n",
    "\n",
    "\n",
    "$$\n",
    "T_{i+1} = T_{i}  + \\frac{\\Delta t}{C} (ASR - OLR(T_i))\n",
    "$$"
   ]
  },
  {
   "cell_type": "markdown",
   "id": "9da1c108-5e21-4652-b314-94e99557a6ab",
   "metadata": {},
   "source": [
    "Assuming that $C = 4 \\times 10^8 J m^2 K^{-1}$ and taking a time step of $\\Delta t = 31536000 s$ (1 year), **compute $T_1$ if $T_0$ = 288K:**"
   ]
  },
  {
   "cell_type": "code",
   "execution_count": 49,
   "id": "32bdec6b-4145-4df6-8eef-0be7d90fd86c",
   "metadata": {},
   "outputs": [],
   "source": [
    "C = 4.0e+08\n",
    "t_0 = 288\n",
    "dt = 60 * 60 * 24 * 365"
   ]
  },
  {
   "cell_type": "code",
   "execution_count": 8,
   "id": "fd6215f9-3fa4-4cff-a50f-fa38ce00810c",
   "metadata": {},
   "outputs": [],
   "source": [
    "# Your answer here"
   ]
  },
  {
   "cell_type": "markdown",
   "id": "c2a4359f-3cfe-47e5-b561-7dd8804fefd6",
   "metadata": {},
   "source": [
    "**Now, use the strategies you learned in the lecture to write a function which computes the temperature change over time:**\n",
    "\n",
    "```python\n",
    "def temperature_change(t0, n_years, tau=0.611, alpha=0.3):\n",
    "    \"\"\"Temperature change scenario after change of transmissivity.\n",
    "\n",
    "    Parameters\n",
    "    ----------\n",
    "    t0 : float\n",
    "        the starting temperature (K)\n",
    "    n_years : int\n",
    "        the number of simulation years\n",
    "    tau : float, optional\n",
    "        the atmosphere transmissivity (-)\n",
    "    alpha : float, optional\n",
    "        the planetary albedo\n",
    "\n",
    "    Returns\n",
    "    -------\n",
    "    (time, temperature) : ndarrays of size n_years + 1\n",
    "\n",
    "    Examples\n",
    "    --------\n",
    "    >>> y, t = temperature_change(288, 2, tau=0.59)\n",
    "    >>> y\n",
    "    array([0, 1, 2])\n",
    "    >>> t\n",
    "    array([288.        , 288.64673691, 289.12993932])\n",
    "    \"\"\"\n",
    "    < your code here >\n",
    "```"
   ]
  },
  {
   "cell_type": "code",
   "execution_count": 1,
   "id": "14a5e10c-ddad-4c7a-8d49-318039f52efc",
   "metadata": {},
   "outputs": [
    {
     "data": {
      "text/plain": [
       "TestResults(failed=0, attempted=0)"
      ]
     },
     "execution_count": 1,
     "metadata": {},
     "output_type": "execute_result"
    }
   ],
   "source": [
    "# Testing\n",
    "import doctest\n",
    "doctest.testmod()"
   ]
  },
  {
   "cell_type": "markdown",
   "id": "3bdbc7d4-7715-4f56-81ff-4142ceee9442",
   "metadata": {},
   "source": [
    "**Plot the temperature change scenarios with $\\tau$ values of 0.6, 0.59, 0.58. The result should look something like [this plot](https://raw.githubusercontent.com/fmaussion/intro_to_programming/master/book/week_07/example_temp_change.png).**"
   ]
  },
  {
   "cell_type": "code",
   "execution_count": 9,
   "id": "5a8fd1cd-7aad-4502-a70f-28cf5d8e48e3",
   "metadata": {},
   "outputs": [],
   "source": [
    "# Your answer here"
   ]
  },
  {
   "cell_type": "markdown",
   "id": "17b27556-b766-4323-868c-540be2bbe707",
   "metadata": {},
   "source": [
    "**Now plot the temperature change scenarios with $\\tau$ = 0.6 and starting temperatures of [288, 293].**"
   ]
  },
  {
   "cell_type": "code",
   "execution_count": 10,
   "id": "ee60738e-bcf0-4abd-927d-9b10cf52b35d",
   "metadata": {},
   "outputs": [],
   "source": [
    "# Your answer here"
   ]
  },
  {
   "cell_type": "markdown",
   "id": "8ec09c59-3e11-44ff-b483-ffef5f267276",
   "metadata": {},
   "source": [
    "**Compute the e-folding response time (in years) of this simple climate model for the scenario T=288K, $\\tau$=0.6** (the e-folding response time is the time it takes for the system to reach 1 - 1 / e $\\approx$ 63% of the final $\\Delta T$)."
   ]
  },
  {
   "cell_type": "code",
   "execution_count": 11,
   "id": "ad6f529f-10e5-4520-ab52-7c0334f55451",
   "metadata": {},
   "outputs": [],
   "source": [
    "# Your answer here"
   ]
  }
 ],
 "metadata": {
  "kernelspec": {
   "display_name": "Python 3 (ipykernel)",
   "language": "python",
   "name": "python3"
  },
  "language_info": {
   "codemirror_mode": {
    "name": "ipython",
    "version": 3
   },
   "file_extension": ".py",
   "mimetype": "text/x-python",
   "name": "python",
   "nbconvert_exporter": "python",
   "pygments_lexer": "ipython3",
   "version": "3.8.5"
  }
 },
 "nbformat": 4,
 "nbformat_minor": 5
}
