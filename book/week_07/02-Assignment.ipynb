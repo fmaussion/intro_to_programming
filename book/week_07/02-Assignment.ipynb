{
 "cells": [
  {
   "cell_type": "markdown",
   "id": "0",
   "metadata": {},
   "source": [
    "# Assignment 07\n",
    "\n",
    "*Due date: 17.05.2023*\n",
    "\n",
    "This week's assignment has to be returned **in the form a jupyter notebook**. \n",
    "\n",
    "Don't forget the [instructions](../assignments)!"
   ]
  },
  {
   "cell_type": "markdown",
   "id": "1",
   "metadata": {},
   "source": [
    "## 01 - Linear equations "
   ]
  },
  {
   "cell_type": "markdown",
   "id": "2",
   "metadata": {},
   "source": [
    "Using numpy alone, solve the following system of linear equations:\n",
    "\n",
    "$$\n",
    "\\begin{aligned}\n",
    "3 x + 2 y - z &= 10 \\\\\n",
    "- x + 3 y + 2 z &= 5 \\\\\n",
    "x - y - z &= -1\n",
    "\\end{aligned}\n",
    "$$\n",
    "\n",
    "To solve it, remember that in matrix notation, $A x = y$ can be refactored to $x = A^{-1} y$, if $A$ is an invertible matrix, and $x$ and $y$ are vectors. Use `numpy` to invert the matrix $A$ and solve for $x$. "
   ]
  },
  {
   "cell_type": "code",
   "execution_count": null,
   "id": "3",
   "metadata": {},
   "outputs": [],
   "source": [
    "# Your answer here"
   ]
  },
  {
   "cell_type": "markdown",
   "id": "4",
   "metadata": {},
   "source": [
    "## 02 - A simple Earth Energy Balance model"
   ]
  },
  {
   "cell_type": "markdown",
   "id": "5",
   "metadata": {},
   "source": [
    "Let's imagine a simple 1-layer model of our planetary climate system. We will try to compute its energy balance.\n",
    "\n",
    "In space, the only source of incoming energy is that of the sun. The sun energy per unit area ($W m^{-2}$) reaching earth is the solar constant $S_0$: its value is approximately 1362 $W m^{-2}$. This energy is distributed from a circle to the sphere (cf. climate lecture), which implies that only a quarter of it is available on average over the globe. Part of this energy is reflected directly to space (mostly by clouds and ice) according to the planetary albedo $\\alpha = 0.32$.\n",
    "\n",
    "Therefore, the total energy entering the climate system (the Absorbed Shortwave Radiation or ASR) is:\n",
    "\n",
    "$$\n",
    "ASR = (1 - \\alpha) \\frac{S_0}{4}\n",
    "$$\n",
    "\n",
    "At human time scales, $S_0$ is a constant, while $\\alpha$ may change with time. \n",
    "\n",
    "**Define a function `asr` which takes one optional keyword argument `alpha` (which defaults to 0.3) and returns the ASR ($W m^{-2}$)**:\n",
    "\n",
    "\n",
    "```python\n",
    "def asr(alpha=0.3):\n",
    "    \"\"\"Absorbed Solar Radiation (W m-2).\n",
    "\n",
    "    Parameters\n",
    "    ----------\n",
    "    alpha : float, optional\n",
    "        the planetary albedo\n",
    "\n",
    "    Returns\n",
    "    -------\n",
    "    the asr (float)\n",
    "\n",
    "    Examples\n",
    "    --------\n",
    "    >>> print(f'{asr():.2f}')\n",
    "    238.35\n",
    "    >>> print(f'{asr(alpha=0.32):.2f}')\n",
    "    231.54\n",
    "    \"\"\"\n",
    "    < your code here >\n",
    "```"
   ]
  },
  {
   "cell_type": "code",
   "execution_count": null,
   "id": "6",
   "metadata": {},
   "outputs": [],
   "source": [
    "# Testing\n",
    "import doctest\n",
    "doctest.testmod()"
   ]
  },
  {
   "cell_type": "markdown",
   "id": "7",
   "metadata": {},
   "source": [
    "**Plot the ASR as a function of albedo, for the range [0.2, 0.7]:**"
   ]
  },
  {
   "cell_type": "code",
   "execution_count": null,
   "id": "8",
   "metadata": {},
   "outputs": [],
   "source": [
    "# Your answer here"
   ]
  },
  {
   "cell_type": "markdown",
   "id": "9",
   "metadata": {},
   "source": [
    "This incoming solar energy is warming up the climate system which, in turn, emits longwave radiation. Using Stefan Boltzmann's law, the Outgoing Longwave Radiation (OLR) is therefore:\n",
    "\n",
    "$$\n",
    "OLR = \\tau \\sigma T^4\n",
    "$$\n",
    "\n",
    "with $T$ the atmosphere temperature in Kelvin, $\\sigma$ the Stefan Boltzmann constant ($5.67 \\times 10^{-8}$) and $\\tau$ the transmissivity of the atmosphere (let's say it is 0.611 - a value I tuned to match the observed OLR).\n",
    "\n",
    "**Define a function `olr` which takes one positional argument `t` and one optional keyword argument `tau` (which defaults to 0.611) and which returns the OLR ($W m^{-2}$)**:\n",
    "\n",
    "```python\n",
    "def olr(t, tau=0.611):\n",
    "    \"\"\"Outgoing Longwave Radiation (W m-2).\n",
    "\n",
    "    Parameters\n",
    "    ----------\n",
    "    t : float\n",
    "        the atmosphere temperature (K)\n",
    "    tau : float, optional\n",
    "        the atmosphere transmissivity (-)\n",
    "\n",
    "    Returns\n",
    "    -------\n",
    "    the olr (float)\n",
    "\n",
    "    Examples\n",
    "    --------\n",
    "    >>> print(f'{olr(288):.2f}')\n",
    "    238.34\n",
    "    >>> print(f'{olr(288, tau=0.63):.2f}')\n",
    "    245.75\n",
    "    \"\"\"\n",
    "    < your code here >\n",
    "```"
   ]
  },
  {
   "cell_type": "code",
   "execution_count": null,
   "id": "10",
   "metadata": {},
   "outputs": [],
   "source": [
    "# Testing\n",
    "import doctest\n",
    "doctest.testmod()"
   ]
  },
  {
   "cell_type": "markdown",
   "id": "11",
   "metadata": {},
   "source": [
    "**Plot the OLR as a function of temperature, for the range [270 300]. Repeat with tau=0.5 and tau=0.7 (three lines on the same plot, with a legend).**"
   ]
  },
  {
   "cell_type": "code",
   "execution_count": null,
   "id": "12",
   "metadata": {},
   "outputs": [],
   "source": [
    "# Your answer here"
   ]
  },
  {
   "cell_type": "markdown",
   "id": "13",
   "metadata": {},
   "source": [
    "**Verify that with the default parameters and an atmosphere temperature of 288K, the climate system is approximately in energy balance (ASR == OLR, $\\pm 0.02 W m^{-2}$).**"
   ]
  },
  {
   "cell_type": "code",
   "execution_count": null,
   "id": "14",
   "metadata": {},
   "outputs": [],
   "source": [
    "# Your answer here"
   ]
  },
  {
   "cell_type": "markdown",
   "id": "15",
   "metadata": {},
   "source": [
    "Humans started to emit greenhouse gases to the atmosphere. Since greenhouse gases are trapping heat, this has the consequence to *reduce* the transmissivity of the atmosphere.\n",
    "\n",
    "**Compute the energy imbalance of the climate system ($\\Delta E = ASR -OLR$) if $\\tau$ is reduced to 0.59 but the temperature stays constant at 288.**"
   ]
  },
  {
   "cell_type": "code",
   "execution_count": null,
   "id": "16",
   "metadata": {},
   "outputs": [],
   "source": [
    "# Your answer here"
   ]
  },
  {
   "cell_type": "markdown",
   "id": "17",
   "metadata": {},
   "source": [
    "Written mathematically:\n",
    "\n",
    "$$\n",
    "\\frac{dE}{dt} = ASR - OLR\n",
    "$$\n",
    "\n",
    "The change of energy over time is equal to the energy imbalance. If ASR is equal to OLR the rate of change is zero. With our emissions however we have an energy excess, which will warm um the atmosphere. The rate at which temperature increases depends on the energy imbalance and the thermal capacity of the climate system. If we suppose that:\n",
    "\n",
    "$$\n",
    "E = C T\n",
    "$$\n",
    "\n",
    "With E the total energy of the climate system, T the temperature and C the effective heat capacity of the climate system (earth + land + ocean, assumed to be constant). \n",
    "\n",
    "We can now write:\n",
    "\n",
    "$$\n",
    "C \\frac{dT}{dt} = ASR - OLR(T)\n",
    "$$\n",
    "\n",
    "which is a ordinary differential equation (ODE). Let's use [forward finite differences](https://en.wikipedia.org/wiki/Finite_difference) to approximate our equation numerically:\n",
    "\n",
    "$$\n",
    "C \\frac{\\Delta T}{\\Delta t} = C \\frac{T_{i+1} - T_{i}}{\\Delta t} = ASR - OLR(T_i)\n",
    "$$\n",
    "\n",
    "Which we can rearrange to to solve for future temperature ($T_{i+1}$ at time $t + \\Delta t$) knowing present-day temperature ($T_{i}$ ad time t):\n",
    "\n",
    "\n",
    "$$\n",
    "T_{i+1} = T_{i}  + \\frac{\\Delta t}{C} (ASR - OLR(T_i))\n",
    "$$"
   ]
  },
  {
   "cell_type": "markdown",
   "id": "18",
   "metadata": {},
   "source": [
    "Assuming that $C = 4 \\times 10^8 J m^2 K^{-1}$ and taking a time step of $\\Delta t = 31536000 s$ (1 year), **compute $T_1$ if $T_0$ = 288K and the transmissivity $\\tau$ is 0.59:**"
   ]
  },
  {
   "cell_type": "code",
   "execution_count": null,
   "id": "19",
   "metadata": {},
   "outputs": [],
   "source": [
    "C = 4.0e+08\n",
    "t_0 = 288\n",
    "dt = 60 * 60 * 24 * 365"
   ]
  },
  {
   "cell_type": "code",
   "execution_count": null,
   "id": "20",
   "metadata": {},
   "outputs": [],
   "source": [
    "# Your answer here"
   ]
  },
  {
   "cell_type": "markdown",
   "id": "21",
   "metadata": {},
   "source": [
    "**Now, use the strategies you learned in the lecture to write a function which computes the temperature change over time:**\n",
    "\n",
    "```python\n",
    "def temperature_change(t0, n_years, tau=0.611, alpha=0.3):\n",
    "    \"\"\"Temperature change scenario after change of transmissivity.\n",
    "\n",
    "    Parameters\n",
    "    ----------\n",
    "    t0 : float\n",
    "        the starting temperature (K)\n",
    "    n_years : int\n",
    "        the number of simulation years\n",
    "    tau : float, optional\n",
    "        the atmosphere transmissivity (-)\n",
    "    alpha : float, optional\n",
    "        the planetary albedo\n",
    "\n",
    "    Returns\n",
    "    -------\n",
    "    (time, temperature) : ndarrays of size n_years + 1\n",
    "\n",
    "    Examples\n",
    "    --------\n",
    "    >>> y, t = temperature_change(288, 2, tau=0.59)\n",
    "    >>> y\n",
    "    array([0, 1, 2])\n",
    "    >>> print(f'{t[0]:.2f}')\n",
    "    288.00\n",
    "    >>> print(f'{t[1]:.2f}')\n",
    "    288.65\n",
    "    >>> print(f'{t[2]:.2f}')\n",
    "    289.13\n",
    "    \"\"\"\n",
    "    < your code here >\n",
    "```"
   ]
  },
  {
   "cell_type": "code",
   "execution_count": null,
   "id": "22",
   "metadata": {},
   "outputs": [],
   "source": [
    "# Testing\n",
    "import doctest\n",
    "doctest.testmod()"
   ]
  },
  {
   "cell_type": "markdown",
   "id": "23",
   "metadata": {},
   "source": [
    "**Plot the temperature change scenarios with $\\tau$ values of 0.6, 0.59, 0.58. The result should look something like [this plot](https://raw.githubusercontent.com/fmaussion/intro_to_programming/master/book/week_07/example_temp_change.png).**"
   ]
  },
  {
   "cell_type": "code",
   "execution_count": null,
   "id": "24",
   "metadata": {},
   "outputs": [],
   "source": [
    "# Your answer here"
   ]
  },
  {
   "cell_type": "markdown",
   "id": "25",
   "metadata": {},
   "source": [
    "**Now plot the temperature change scenarios with $\\tau$ = 0.6 and starting temperatures of [288, 293].**"
   ]
  },
  {
   "cell_type": "code",
   "execution_count": null,
   "id": "26",
   "metadata": {},
   "outputs": [],
   "source": [
    "# Your answer here"
   ]
  },
  {
   "cell_type": "markdown",
   "id": "27",
   "metadata": {},
   "source": [
    "**Compute the e-folding response time (in years) of this simple climate model for the scenario T=288K, $\\tau$=0.6** (the e-folding response time is the time it takes for the system to reach 1 - 1 / e $\\approx$ 63% of the final $\\Delta T$)."
   ]
  },
  {
   "cell_type": "code",
   "execution_count": null,
   "id": "28",
   "metadata": {},
   "outputs": [],
   "source": [
    "# Your answer here"
   ]
  }
 ],
 "metadata": {
  "kernelspec": {
   "display_name": "Python 3 (ipykernel)",
   "language": "python",
   "name": "python3"
  },
  "language_info": {
   "codemirror_mode": {
    "name": "ipython",
    "version": 3
   },
   "file_extension": ".py",
   "mimetype": "text/x-python",
   "name": "python",
   "nbconvert_exporter": "python",
   "pygments_lexer": "ipython3",
   "version": "3.10.8"
  }
 },
 "nbformat": 4,
 "nbformat_minor": 5
}
