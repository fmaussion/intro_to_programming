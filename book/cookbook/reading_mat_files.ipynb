{
 "cells": [
  {
   "cell_type": "markdown",
   "id": "0",
   "metadata": {},
   "source": [
    "# Reading MATLAB `.mat` files"
   ]
  },
  {
   "cell_type": "markdown",
   "id": "1",
   "metadata": {},
   "source": [
    "In one of the radiation lecture, you are asked to read files in the MATLAB `.mat` files (one file per day with vectors of `I` measured at\n",
    "the surface at 450 nm, along with the sun elevation angle for each measurement `SNH`). There seem to be no time attached to these measurements. Here is an example of how to read one of the file into a pandas dataframe with help of the [scipy](https://docs.scipy.org) library:"
   ]
  },
  {
   "cell_type": "markdown",
   "id": "2",
   "metadata": {},
   "source": [
    "## Reading mat files "
   ]
  },
  {
   "cell_type": "code",
   "execution_count": null,
   "id": "3",
   "metadata": {},
   "outputs": [],
   "source": [
    "from scipy.io import loadmat  # this is the SciPy module that loads mat-files\n",
    "import pandas as pd\n",
    "import matplotlib.pyplot as plt\n",
    "\n",
    "mat = loadmat('I_and_SNH_20111003.mat')\n",
    "\n",
    "# Put all columns which are not weird MATLAB ones into a dataframe\n",
    "df = pd.DataFrame()\n",
    "for k in mat:\n",
    "    if '__' in k:\n",
    "        continue\n",
    "    df[k] = mat[k].flatten()\n",
    "\n",
    "# Name it \"day1\" for clarity\n",
    "df_day1 = df\n",
    "df_day1"
   ]
  },
  {
   "cell_type": "markdown",
   "id": "4",
   "metadata": {},
   "source": [
    "## Plots "
   ]
  },
  {
   "cell_type": "code",
   "execution_count": null,
   "id": "5",
   "metadata": {},
   "outputs": [],
   "source": [
    "df_day1.plot();"
   ]
  },
  {
   "cell_type": "code",
   "execution_count": null,
   "id": "6",
   "metadata": {},
   "outputs": [],
   "source": [
    "df_day1.plot(x='SNH', y='I_450');"
   ]
  },
  {
   "cell_type": "code",
   "execution_count": null,
   "id": "7",
   "metadata": {},
   "outputs": [],
   "source": [
    "df_day1_morning = df_day1.loc[:df_day1['SNH'].argmax()]\n",
    "df_day1_afternoon = df_day1.loc[df_day1['SNH'].argmax()+1:]\n",
    "\n",
    "f, ax = plt.subplots()\n",
    "df_day1_morning.plot(x='SNH', y='I_450', ax=ax, label='Morning');\n",
    "df_day1_afternoon.plot(x='SNH', y='I_450', ax=ax, label='Afternoon');"
   ]
  },
  {
   "cell_type": "markdown",
   "id": "8",
   "metadata": {},
   "source": [
    "## Merge several days into one dataframe "
   ]
  },
  {
   "cell_type": "code",
   "execution_count": null,
   "id": "9",
   "metadata": {},
   "outputs": [],
   "source": [
    "import glob\n",
    "\n",
    "all_df = []\n",
    "for f in sorted(glob.glob('*.mat')):\n",
    "\n",
    "    mat = loadmat(f)\n",
    "\n",
    "    # Put all columns which are not weird MATLAB ones into a dataframe\n",
    "    df = pd.DataFrame()\n",
    "    for k in mat:\n",
    "        if '__' in k:\n",
    "            continue\n",
    "        df[k] = mat[k].flatten()\n",
    "    df['date'] = f.split('_')[-1].split('.')[0]\n",
    "\n",
    "    all_df.append(df)\n",
    "\n",
    "all_df = pd.concat(all_df, ignore_index=True)\n",
    "all_df"
   ]
  },
  {
   "cell_type": "code",
   "execution_count": null,
   "id": "10",
   "metadata": {},
   "outputs": [],
   "source": [
    "all_df.plot(x='SNH', y='I_450', style='.');"
   ]
  },
  {
   "cell_type": "code",
   "execution_count": null,
   "id": "11",
   "metadata": {},
   "outputs": [],
   "source": []
  }
 ],
 "metadata": {
  "kernelspec": {
   "display_name": "Python 3 (ipykernel)",
   "language": "python",
   "name": "python3"
  },
  "language_info": {
   "codemirror_mode": {
    "name": "ipython",
    "version": 3
   },
   "file_extension": ".py",
   "mimetype": "text/x-python",
   "name": "python",
   "nbconvert_exporter": "python",
   "pygments_lexer": "ipython3",
   "version": "3.8.5"
  }
 },
 "nbformat": 4,
 "nbformat_minor": 5
}
