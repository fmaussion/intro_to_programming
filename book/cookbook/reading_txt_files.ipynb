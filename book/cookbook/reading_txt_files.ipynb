{
 "cells": [
  {
   "cell_type": "markdown",
   "id": "0",
   "metadata": {},
   "source": [
    "# Reading space-separated files"
   ]
  },
  {
   "cell_type": "markdown",
   "id": "1",
   "metadata": {},
   "source": [
    "In one of the radiation lecture, you are asked to read files in `.txt` format in which the header contains metadata, followed by the data in columns, separated by spaces. The file looks like [this](https://github.com/fmaussion/intro_to_programming/blob/master/book/cookbook/SCIA_GSFC_NO2.txt).\n",
    "\n",
    "Let's read it with pandas."
   ]
  },
  {
   "cell_type": "markdown",
   "id": "2",
   "metadata": {},
   "source": [
    "## Read the metadata"
   ]
  },
  {
   "cell_type": "markdown",
   "id": "3",
   "metadata": {},
   "source": [
    "This has to be done in pure python, line by line: "
   ]
  },
  {
   "cell_type": "code",
   "execution_count": null,
   "id": "4",
   "metadata": {},
   "outputs": [],
   "source": [
    "df_meta = {}\n",
    "with open('SCIA_GSFC_NO2.txt') as file:\n",
    "    for i, line in enumerate(file):\n",
    "        line = line.rstrip()\n",
    "        print(line)\n",
    "        if line.startswith('Column'):\n",
    "            k, v = line.split(':')\n",
    "            df_meta[k.strip()] = v.strip()\n",
    "        # Stop after 30 lines\n",
    "        if i > 30:\n",
    "            break"
   ]
  },
  {
   "cell_type": "code",
   "execution_count": null,
   "id": "5",
   "metadata": {},
   "outputs": [],
   "source": [
    "df_meta"
   ]
  },
  {
   "cell_type": "markdown",
   "id": "6",
   "metadata": {},
   "source": [
    "I think that at this point it would be best to rename the columns to better variable names. Also, the exact line at which the data starts could also be inferred programmatically. This exercise is left to the reader."
   ]
  },
  {
   "cell_type": "markdown",
   "id": "7",
   "metadata": {},
   "source": [
    "## Read the data"
   ]
  },
  {
   "cell_type": "code",
   "execution_count": null,
   "id": "8",
   "metadata": {},
   "outputs": [],
   "source": [
    "import pandas as pd"
   ]
  },
  {
   "cell_type": "code",
   "execution_count": null,
   "id": "9",
   "metadata": {},
   "outputs": [],
   "source": [
    "df = pd.read_csv('SCIA_GSFC_NO2.txt',\n",
    "                 header=None,  # There is no proper header in the file\n",
    "                 sep=' ',  # The separator is spaces\n",
    "                 skiprows=25,  # The first rows are not organized (25 could be fetched automatically)\n",
    "                 index_col=0,  # The first column is the time index\n",
    "                 parse_dates=True,  # Parse the time automatically\n",
    "                )"
   ]
  },
  {
   "cell_type": "code",
   "execution_count": null,
   "id": "10",
   "metadata": {},
   "outputs": [],
   "source": [
    "# Give \"nicer\" names to columns\n",
    "df.index.name = 'Time (UTC)'\n",
    "df.columns = list(df_meta.keys())[1:]"
   ]
  },
  {
   "cell_type": "code",
   "execution_count": null,
   "id": "11",
   "metadata": {},
   "outputs": [],
   "source": [
    "df"
   ]
  },
  {
   "cell_type": "code",
   "execution_count": null,
   "id": "12",
   "metadata": {},
   "outputs": [],
   "source": [
    "df['Column 2'].plot();"
   ]
  },
  {
   "cell_type": "code",
   "execution_count": null,
   "id": "13",
   "metadata": {},
   "outputs": [],
   "source": []
  }
 ],
 "metadata": {
  "kernelspec": {
   "display_name": "Python 3 (ipykernel)",
   "language": "python",
   "name": "python3"
  },
  "language_info": {
   "codemirror_mode": {
    "name": "ipython",
    "version": 3
   },
   "file_extension": ".py",
   "mimetype": "text/x-python",
   "name": "python",
   "nbconvert_exporter": "python",
   "pygments_lexer": "ipython3",
   "version": "3.9.7"
  }
 },
 "nbformat": 4,
 "nbformat_minor": 5
}
