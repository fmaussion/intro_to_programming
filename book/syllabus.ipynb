{
 "cells": [
  {
   "cell_type": "markdown",
   "id": "25239ae9-fdef-4420-ac70-4f0ac4fb3601",
   "metadata": {},
   "source": [
    "# Syllabus"
   ]
  },
  {
   "cell_type": "markdown",
   "id": "06f6120b-4768-4060-8019-4f0e1932ce11",
   "metadata": {},
   "source": [
    "German: *Lehrveranstaltungskonzept*. Please read it carefully at the beginning of the class, and return to it as often as necessary.\n",
    "\n",
    "```{warning}\n",
    "It is the first time I'm giving this class. The syllabus is likely change in the course of the semester, but each change will be communicated in class. \n",
    "```"
   ]
  },
  {
   "cell_type": "markdown",
   "id": "b0c72129-fdd3-4faa-8a9e-4e14399a3025",
   "metadata": {},
   "source": [
    "## Learning outcomes"
   ]
  },
  {
   "cell_type": "markdown",
   "id": "cde26cb0-a69e-4e19-a760-b5e171592b65",
   "metadata": {},
   "source": [
    "After successful completion of the course, you will:\n",
    "- be able to read and write programs in the Python programming language.\n",
    "- understand how to use basic programming control flows (branches and loops) and data structures (numbers and collections).\n",
    "- know how to write and structure programs of several dozens of lines of code, including scripts and functions.\n",
    "- be able to read commonly used data formats in atmospheric sciences (csv, NetCDF), process the data for simple analyses (averages, quality filter), and plot the results of your analyses.\n",
    "- have a basic knowledge of formal code testing (doctest, asserts).\n",
    "- know how to install a programming environment with appropriate additional packages on your own computer, and use it to solve common programming tasks of the atmospheric sciences. \n",
    "\n",
    "Most importantly: **you will be able to expand and deepen your programming skills independently**!"
   ]
  },
  {
   "cell_type": "markdown",
   "id": "f2a7579e-da7a-44b8-8131-e6005b1f1f5d",
   "metadata": {},
   "source": [
    "## Prerequisites\n",
    "\n",
    "The targeted audience for this lecture are **students at the bachelor level without previous experience in programming**. I assume a background in atmospheric sciences (introduction lecture), with some knowledge of math and physics, and some interest for scientific analysis and number crunching!"
   ]
  },
  {
   "cell_type": "markdown",
   "id": "16f819ab-ce6d-4d6b-b5bb-36eaf47c17c8",
   "metadata": {},
   "source": [
    "## Organisation of the class"
   ]
  },
  {
   "cell_type": "markdown",
   "id": "9696660f-304d-4139-aa8c-f8de4ad924ed",
   "metadata": {},
   "source": [
    "The class is taught in English. It is okay to ask questions in German!\n",
    "\n",
    "This class follows the [flipped classroom](https://en.wikipedia.org/wiki/Flipped_classroom) model. You will acquire new knowledge at home by reading online materials (and watching videos when appropriate). We will then use the time together in class to discuss the materials and write code.\n",
    "\n",
    "The semester is 15 weeks long. **Each week will always be organised as such**:\n",
    "- On Wednesdays (after the class), you will receive instructions for the week to come (which materials to read/watch, and one homework assignment). You study them at home during the week.\n",
    "- On Tuesdays (08h15-10h00), we meet in the computer room. We will start the hour with a short, individual online assessment, for you to check if you understood the materials correctly. Based on your own assessment, you pick the topics and questions you would like to discuss in class. We work on the assignments together.\n",
    "- On Wednesdays (08h15-09h00), we meet in the computer room to discuss the assignment solutions (assignments are mandatory but not graded, see \"Grading\" below)\n",
    "- New week: start again!\n",
    "\n",
    "\n",
    "```{important}\n",
    "The class grants you 5 ECTS if successfully passed: in theory, this represents 8 to 10 hours work per week (not including holidays). For this course, it means that you will spend at least twice as much time doing homework than sitting in class.\n",
    "\n",
    "I strongly recommend to work regularly for the class. Programming is quite different to other disciplines, and \"doing nothing for a few months\" cannot be replaced by a \"no-sleep-48-hours-push\" at the end of semester. Programming is a bit like learning how to ski or climb: it is best learned by doing, and you will notice that regular practice will make you better each week.\n",
    "```"
   ]
  },
  {
   "cell_type": "markdown",
   "id": "61321f9f-a26c-4eb5-8d42-df64441c377f",
   "metadata": {},
   "source": [
    "## Grading "
   ]
  },
  {
   "cell_type": "markdown",
   "id": "6ab69cd9-41b8-4f93-9f10-d3f51c4b6a0e",
   "metadata": {},
   "source": [
    "The lecture will be graded based on three elements:\n",
    "1. **participation to the weekly assignments**\n",
    "2. **a programming project at the end of the semester: 40%**\n",
    "3. **an oral examination at the end of the semester: 60%**\n",
    "\n",
    "A positive evaluation of each of these elements is mandatory to pass the class!\n",
    "\n",
    "**Weekly assignments**\n",
    "\n",
    "Each Wednesday, we will discuss the weekly assignment solutions together. Before the class, each student will have to upload their solution to OLAT (deadline 08h15). I will then select one or two solutions (at random) as a basis for the class discussion. This assignment is **not** graded, and it's okay (or even expected!) to make mistakes. However, it is mandatory to upload your solution each week (you have two \"jokers\" that you may use at your wish during the semester). You can also decide to stay anonymous if you prefer your named not to be attached to your solution during discussion.\n",
    "\n",
    "**Programming project**\n",
    "\n",
    "At the end of the semester, you will be given a programming project to realize over several weeks. Ideally, it will be a project that raises your interest: plotting climate or (live) weather data, etc. This project will be sent to me before the oral exam.\n",
    "\n",
    "**Oral exam**\n",
    "\n",
    "The oral exam (~30') will take place at the end of the semester. We will start by discussing your programming project, and then discuss the content of the lecture more generally.\n",
    "\n",
    "**Bonus points**\n",
    "\n",
    "There will be bonus points for anyone pointing me to typos / mistakes / broken links / incomprehensible or difficult passages in the lecture notes. [Send me an email](https://fabienmaussion.infointro) or [open an issue](https://github.com/fmaussion/intro_to_programming/issues) on GitHub!"
   ]
  },
  {
   "cell_type": "markdown",
   "id": "0c8583eb-e006-451c-b77d-8a70861376f2",
   "metadata": {},
   "source": [
    "## Weekly lesson plan "
   ]
  },
  {
   "cell_type": "markdown",
   "id": "07dddb03-55dc-4976-98fc-371e51c31f41",
   "metadata": {},
   "source": [
    "The first half of the class will be heavily based on the \"[Python for Everybody (PY4E)](https://www.py4e.com)\" online textbook, which will teach us most of the fundamentals. Towards the second half of the semester, we will shift our focus towards **scientific python**, which can be seen as a special \"branch\" of the language.\n",
    "\n",
    "You will notice that there are 12 weekly units for a 15 weeks long semester: this is expected since (i) some weeks contain holidays, and (ii) I expect some changes to the schedule as we all learn to adapt to this new class and curriculum."
   ]
  },
  {
   "cell_type": "markdown",
   "id": "33adcfc1-4c71-4cb9-9d9b-fc76148922dd",
   "metadata": {},
   "source": [
    "**Fundamentals**\n",
    "- Week 01\n",
    "    - Welcome and motivation\n",
    "    - Syllabus\n",
    "    - Installing Python\n",
    "    - [PY4E: Why program](https://www.py4e.com/lessons/intro)\n",
    "- Week 02\n",
    "    - [PY4E: Variables, expressions and statements](https://www.py4e.com/lessons/memory)\n",
    "    - [PY4E: Conditional Execution](https://www.py4e.com/lessons/logic)\n",
    "    - Using ipython, using Spyder\n",
    "- Week 03\n",
    "    - [PY4E: Functions](https://www.py4e.com/lessons/functions)\n",
    "    - [PY4E: Loops and Iterations](https://www.py4e.com/lessons/loops)\n",
    "    - Using the debugger\n",
    "- Week 04\n",
    "    - [PY4E: Strings](https://www.py4e.com/lessons/strings)\n",
    "    - [PY4E: Lists](https://www.py4e.com/lessons/lists)\n",
    "    - [PY4E: Tuples](https://www.py4e.com/lessons/tuples)\n",
    "- Week 05\n",
    "    - [PY4E: Dictionaries](https://www.py4e.com/lessons/dictionary)\n",
    "    - Formal testing: dosctrings, asserts, pytest\n",
    "    \n",
    "**Scientific python**\n",
    "- Week 06\n",
    "    - Here comes numpy\n",
    "    - numpy array: vectorization of `for` operations on lists\n",
    "    - numpy data types\n",
    "- Week 07\n",
    "    - More on datatypes (date formats)\n",
    "    - reading CSV files\n",
    "    - plotting lines and scatter with matplotlib\n",
    "- Week 08\n",
    "    - reading netcdf files\n",
    "    - numpy array dimensions and array operations (indexing, broadcasting)\n",
    "    - plotting gridded data as images and contours with matplotlib\n",
    "    - **Project start**\n",
    "- Week 09\n",
    "    - the powerhouse for tabular data: Pandas\n",
    "- Week 10\n",
    "    - the powerhouse for gridded data: Xarray\n",
    "- Week 11\n",
    "    - plotting georeferenced data\n",
    "    - reading geotiff files\n",
    "- Week 12\n",
    "    - useful software and libraries: Jupyter, SciPy, MetPy ...\n",
    "\n",
    "**Exam**"
   ]
  }
 ],
 "metadata": {
  "kernelspec": {
   "display_name": "Python 3 (ipykernel)",
   "language": "python",
   "name": "python3"
  },
  "language_info": {
   "codemirror_mode": {
    "name": "ipython",
    "version": 3
   },
   "file_extension": ".py",
   "mimetype": "text/x-python",
   "name": "python",
   "nbconvert_exporter": "python",
   "pygments_lexer": "ipython3",
   "version": "3.8.5"
  }
 },
 "nbformat": 4,
 "nbformat_minor": 5
}
